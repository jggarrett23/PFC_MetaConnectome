{
 "cells": [
  {
   "cell_type": "code",
   "execution_count": null,
   "metadata": {
    "collapsed": true,
    "deletable": true,
    "editable": true
   },
   "outputs": [],
   "source": [
    "import pickle\n",
    "import numpy as np\n",
    "import networkx as nx\n",
    "import pandas as pd\n",
    "import brainmaptools as brainmap\n",
    "import matplotlib.pyplot as plt\n",
    "import community\n",
    "import brainx.modularity as mod\n",
    "import operator\n",
    "%matplotlib inline\n",
    "import csv\n",
    "import scipy as scipy\n",
    "import scipy.io as io\n",
    "import scipy.stats as stats\n",
    "from scipy.cluster.hierarchy import dendrogram, linkage\n",
    "from scipy.cluster.hierarchy import cophenet\n",
    "from scipy.spatial.distance import pdist\n",
    "import math as math\n",
    "import pylab as pl\n",
    "import My_functions as myfunctions\n",
    "import progressbar as pb\n",
    "import time\n",
    "from collections import Counter\n",
    "import random\n",
    "import os\n",
    "%load_ext Cython\n",
    "import bct\n",
    "from numba import jit"
   ]
  },
  {
   "cell_type": "code",
   "execution_count": null,
   "metadata": {
    "collapsed": true,
    "deletable": true,
    "editable": true
   },
   "outputs": [],
   "source": [
    "domains= ['Memory', 'Working Memory', 'Emotion', 'Attention', 'Language', 'Vision', 'Audition', 'Base', 'Rest']"
   ]
  },
  {
   "cell_type": "code",
   "execution_count": null,
   "metadata": {
    "collapsed": true,
    "deletable": true,
    "editable": true
   },
   "outputs": [],
   "source": [
    "relabel_dict_file='/Users/owner/Functional_Connectivity/Scripts/Label_dict.pck'\n",
    "relabel_dict=pickle.load(open(relabel_dict_file,\"rb\"))"
   ]
  },
  {
   "cell_type": "code",
   "execution_count": null,
   "metadata": {
    "collapsed": true,
    "deletable": true,
    "editable": true
   },
   "outputs": [],
   "source": [
    "G_nothresh={}\n",
    "for x in domains:\n",
    "    filename='G_nothresh_jaccard_'+x+'_.pck'\n",
    "    workdir='/Users/owner/Functional_Connectivity/Results/G_jaccard_graphs/Unthresholded_G_jaccard/'\n",
    "    output=workdir+filename\n",
    "    G_nothresh[x]=pickle.load(open (output, 'rb'))"
   ]
  },
  {
   "cell_type": "markdown",
   "metadata": {
    "deletable": true,
    "editable": true
   },
   "source": [
    "# Random Null Graph Modularity"
   ]
  },
  {
   "cell_type": "code",
   "execution_count": null,
   "metadata": {
    "collapsed": true,
    "deletable": true,
    "editable": true
   },
   "outputs": [],
   "source": [
    "%%cython\n",
    "cpdef random_graphs(G, list domain_list):\n",
    "    from __main__ import nx\n",
    "    from __main__ import time\n",
    "    cdef int iterations = 1000\n",
    "    cdef int nodes= G.number_of_nodes()\n",
    "    cdef int edges = G.number_of_edges()\n",
    "    cdef int n\n",
    "    cdef dict rand_graph_dict={}\n",
    "    for n in range(iterations):\n",
    "        rand_graph_dict[n]=nx.gnm_random_graph(nodes, edges)\n",
    "\n",
    "    return rand_graph_dict"
   ]
  },
  {
   "cell_type": "code",
   "execution_count": null,
   "metadata": {
    "collapsed": true,
    "deletable": true,
    "editable": true
   },
   "outputs": [],
   "source": [
    "for i in pb.progressbar(range(1000)):\n",
    "    G_random={x: random_graphs(G_nothresh[x], domains) for x in domains}"
   ]
  },
  {
   "cell_type": "markdown",
   "metadata": {
    "deletable": true,
    "editable": true
   },
   "source": [
    "# BCTPY Newman"
   ]
  },
  {
   "cell_type": "code",
   "execution_count": null,
   "metadata": {
    "collapsed": true,
    "deletable": true,
    "editable": true
   },
   "outputs": [],
   "source": [
    "%%cython\n",
    "cpdef bct_mod_dict(G, list domain_list):\n",
    "    from __main__ import nx\n",
    "    from __main__ import bct\n",
    "    from __main__ import np\n",
    "    cdef dict bct_rand={}\n",
    "    cdef int n\n",
    "    cdef str x\n",
    "    bct_rand={x: {n: bct.modularity_und(np.squeeze(np.asarray(nx.to_numpy_matrix(G[x][n])))) for n in range(len(G[x]))} for x in domain_list}\n",
    "    \n",
    "    return bct_rand"
   ]
  },
  {
   "cell_type": "code",
   "execution_count": null,
   "metadata": {
    "collapsed": true,
    "deletable": true,
    "editable": true
   },
   "outputs": [],
   "source": [
    "for i in pb.progressbar(range(1000)):\n",
    "    bct_rand_mod=bct_mod_dict(G_random, domains)"
   ]
  },
  {
   "cell_type": "code",
   "execution_count": null,
   "metadata": {
    "collapsed": true,
    "deletable": true,
    "editable": true
   },
   "outputs": [],
   "source": [
    "@jit\n",
    "def bct_mod_list(mod_dict, domain_list):\n",
    "    bct_list={}\n",
    "    for x in domain_list:\n",
    "        bct_list[x]=[mod_dict[x][n][1] for n in range(len(mod_dict[x]))]\n",
    "    return bct_list"
   ]
  },
  {
   "cell_type": "code",
   "execution_count": null,
   "metadata": {
    "collapsed": true,
    "deletable": true,
    "editable": true
   },
   "outputs": [],
   "source": [
    "bct_rand_mod_list=bct_mod_list(bct_rand_mod, domains)"
   ]
  },
  {
   "cell_type": "code",
   "execution_count": null,
   "metadata": {
    "collapsed": true,
    "deletable": true,
    "editable": true
   },
   "outputs": [],
   "source": [
    "pickle.dump(bct_rand_mod_list, open('bct_rand_mod_list.pck', 'wb'))"
   ]
  },
  {
   "cell_type": "markdown",
   "metadata": {
    "deletable": true,
    "editable": true
   },
   "source": [
    "# Louvain"
   ]
  },
  {
   "cell_type": "code",
   "execution_count": null,
   "metadata": {
    "collapsed": true,
    "deletable": true,
    "editable": true
   },
   "outputs": [],
   "source": [
    "%%cython\n",
    "from __main__ import community\n",
    "from __main__ import nx\n",
    "from __main__ import G_random\n",
    "from __main__ import domains\n",
    "cpdef lou_mod_dict(G, list domain_list):\n",
    "    cdef str x\n",
    "    cdef int n\n",
    "    lou_rand={x: {n: community.best_partition(G[x][n]) for n in range(len(G[x]))} for x in domain_list}\n",
    "    return lou_rand"
   ]
  },
  {
   "cell_type": "code",
   "execution_count": null,
   "metadata": {
    "collapsed": true,
    "deletable": true,
    "editable": true
   },
   "outputs": [],
   "source": [
    "for i in pb.progressbar(range(1000)):\n",
    "    rand_part=lou_mod_dict(G_random, domains)"
   ]
  },
  {
   "cell_type": "code",
   "execution_count": null,
   "metadata": {
    "collapsed": true,
    "deletable": true,
    "editable": true
   },
   "outputs": [],
   "source": [
    "@jit\n",
    "def lou_rand_list(G, lou_dict, domain_list):\n",
    "    lou_list={}\n",
    "    for x in domain_list:\n",
    "        lou_list[x]=[community.modularity(lou_dict[x][n], G[x][n]) for n in range(len(G[x]))]\n",
    "    return lou_list"
   ]
  },
  {
   "cell_type": "code",
   "execution_count": null,
   "metadata": {
    "collapsed": true,
    "deletable": true,
    "editable": true
   },
   "outputs": [],
   "source": [
    "lou_rand_mod_list=lou_rand_list(G_random, rand_part, domains)"
   ]
  },
  {
   "cell_type": "code",
   "execution_count": null,
   "metadata": {
    "collapsed": true,
    "deletable": true,
    "editable": true
   },
   "outputs": [],
   "source": [
    "pickle.dump(lou_rand_mod_list, open('lou_rand_mod_list.pck', 'wb'))"
   ]
  },
  {
   "cell_type": "markdown",
   "metadata": {
    "deletable": true,
    "editable": true
   },
   "source": [
    "# Consensus"
   ]
  },
  {
   "cell_type": "code",
   "execution_count": null,
   "metadata": {
    "collapsed": true,
    "deletable": true,
    "editable": true
   },
   "outputs": [],
   "source": [
    "%%cython\n",
    "from __main__ import nx\n",
    "from __main__ import brainmap\n",
    "cpdef bct_rand_g_partition(G, dict bct_dict, list domain_list):\n",
    "    cdef dict bct_rand_part\n",
    "    cdef str x\n",
    "    cdef int n\n",
    "    bct_rand_part={x: {n: dict(zip(G[x][n].nodes(), bct_dict[x][n][0])) for n in range(len(G[x]))} for x in domain_list}\n",
    "    bct_rand_partition={x: {n: brainmap.make_brainx_style_partition (bct_rand_part[x][n]) for n in range(len(bct_rand_part[x]))} for x in domain_list}\n",
    "    return bct_rand_partition"
   ]
  },
  {
   "cell_type": "code",
   "execution_count": null,
   "metadata": {
    "collapsed": true,
    "deletable": true,
    "editable": true
   },
   "outputs": [],
   "source": [
    "rand_bct_part=bct_rand_g_partition(G_random, bct_rand_mod, domains)"
   ]
  },
  {
   "cell_type": "code",
   "execution_count": null,
   "metadata": {
    "collapsed": true,
    "deletable": true,
    "editable": true
   },
   "outputs": [],
   "source": [
    "%%cython\n",
    "from __main__ import nx\n",
    "from __main__ import np\n",
    "cpdef consen_rand_array(G, lou_part, bct_part, list domain_list):\n",
    "    cdef dict random_matrixs\n",
    "    cdef dict sum_matrix\n",
    "    cdef dict avg_rand_matrix\n",
    "    cdef str x\n",
    "    cdef int n\n",
    "    cdef int r\n",
    "    cdef int d\n",
    "    cdef int k\n",
    "    cdef int b\n",
    "    cdef int v\n",
    "    random_matrixs={x: {n: np.zeros([G[x][n].number_of_nodes(),G[x][n].number_of_nodes()]) for n in range(len(G[x]))} for x in domain_list}\n",
    "    sum_matrix={x: {n: np.zeros([G[x][n].number_of_nodes(),G[x][n].number_of_nodes()]) for n in range(len(G[x]))} for x in domain_list}\n",
    "    for x in domain_list:\n",
    "        for n in range(len(G[x])):\n",
    "            for r,k in enumerate (G[x][n].nodes()):\n",
    "                for d,b in enumerate (G[x][n].nodes()):\n",
    "                    if k != b:\n",
    "                        if lou_part[x][n][k] == lou_part[x][n][b]:\n",
    "                            random_matrixs[x][n][r][d] += 1\n",
    "                        for v in range (len(bct_part[x][n])):\n",
    "                            if k in bct_part[x][n][v]:\n",
    "                                if b in bct_part[x][n][v]:\n",
    "                                    random_matrixs[x][n][r][d] += 1\n",
    "    sum_matrix={x: {n: random_matrixs[x][n]+sum_matrix[x][n] for n in range(len(G[x]))} for x in domain_list}\n",
    "    avg_rand_matrix={x: {n: sum_matrix[x][n]/2 for n in range(len(G[x]))} for x in domain_list}\n",
    "    return avg_rand_matrix"
   ]
  },
  {
   "cell_type": "code",
   "execution_count": null,
   "metadata": {
    "collapsed": true,
    "deletable": true,
    "editable": true
   },
   "outputs": [],
   "source": [
    "for i in pb.progressbar(range(1000)):\n",
    "    rand_consensus_array=consen_rand_array(G_random, rand_part, rand_bct_part, domains)"
   ]
  },
  {
   "cell_type": "code",
   "execution_count": null,
   "metadata": {
    "collapsed": true,
    "deletable": true,
    "editable": true
   },
   "outputs": [],
   "source": [
    "%%cython\n",
    "from __main__ import np\n",
    "from __main__ import nx\n",
    "cpdef random_consensus_G (G, dict rand_con_array, list domain_list):\n",
    "    cdef str x\n",
    "    cdef int n\n",
    "    cdef dict n_nodes = {}\n",
    "    cdef dict nodes = {}\n",
    "    cdef dict con_G = {}\n",
    "    for x in domain_list:\n",
    "        n_nodes[x]={n: len(range(nx.number_of_nodes(G[x][n]))) for n in range(len(G[x]))}\n",
    "        nodes[x]={n: dict(zip(range(n_nodes[x][n]), G[x][n].nodes())) for n in range(len(G[x]))}\n",
    "        con_G[x]={n: nx.from_numpy_matrix(rand_con_array[x][n]) for n in range(len(G[x]))}\n",
    "        con_G[x]={n: nx.relabel_nodes(con_G[x][n], nodes[x][n]) for n in range(len(G[x]))}"
   ]
  },
  {
   "cell_type": "code",
   "execution_count": null,
   "metadata": {
    "collapsed": true,
    "deletable": true,
    "editable": true
   },
   "outputs": [],
   "source": [
    "random_con_G_dict=random_consensus_G(G_random, rand_consensus_array, domains)"
   ]
  },
  {
   "cell_type": "code",
   "execution_count": null,
   "metadata": {
    "collapsed": true,
    "deletable": true,
    "editable": true
   },
   "outputs": [],
   "source": [
    "@jit\n",
    "def com_rand_list(G, random_dict, domain_list):\n",
    "    com_mod_list={}\n",
    "    for x in domains:\n",
    "        com_mod_list[x]=[community.modularity(random_dict[x][n], G[x][n]) for n in range(len(G[x]))]\n",
    "    return com_mod_list"
   ]
  },
  {
   "cell_type": "code",
   "execution_count": null,
   "metadata": {
    "collapsed": true,
    "deletable": true,
    "editable": true
   },
   "outputs": [],
   "source": [
    "rand_com_lou=com_rand_list(G_random, rand_consensus_array, domains)"
   ]
  },
  {
   "cell_type": "code",
   "execution_count": null,
   "metadata": {
    "collapsed": true,
    "deletable": true,
    "editable": true
   },
   "outputs": [],
   "source": [
    "pickle.dump(rand_com_lou, open('rand_com_lou.pck', 'wb'))"
   ]
  }
 ],
 "metadata": {
  "kernelspec": {
   "display_name": "Python 2",
   "language": "python",
   "name": "python2"
  },
  "language_info": {
   "codemirror_mode": {
    "name": "ipython",
    "version": 2
   },
   "file_extension": ".py",
   "mimetype": "text/x-python",
   "name": "python",
   "nbconvert_exporter": "python",
   "pygments_lexer": "ipython2",
   "version": "2.7.11"
  }
 },
 "nbformat": 4,
 "nbformat_minor": 2
}
