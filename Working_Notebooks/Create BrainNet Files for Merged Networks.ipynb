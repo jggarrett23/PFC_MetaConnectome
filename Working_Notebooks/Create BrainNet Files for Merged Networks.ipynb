{
 "cells": [
  {
   "cell_type": "code",
   "execution_count": null,
   "metadata": {
    "collapsed": false,
    "deletable": true,
    "editable": true
   },
   "outputs": [],
   "source": [
    "import pickle\n",
    "import numpy as np\n",
    "import networkx as nx\n",
    "import pandas as pd\n",
    "import brainmaptools as brainmap\n",
    "import matplotlib.pyplot as plt\n",
    "import community\n",
    "import brainx.modularity as mod\n",
    "import operator\n",
    "%matplotlib inline\n",
    "import csv\n",
    "import scipy as scipy\n",
    "import scipy.io as io\n",
    "import scipy.stats as stats\n",
    "from scipy.cluster.hierarchy import dendrogram, linkage\n",
    "from scipy.cluster.hierarchy import cophenet\n",
    "from scipy.spatial.distance import pdist\n",
    "import math as math\n",
    "import pylab as pl\n",
    "import My_functions as myfunctions\n",
    "from tqdm import tqdm\n",
    "import time\n",
    "import bct"
   ]
  },
  {
   "cell_type": "code",
   "execution_count": null,
   "metadata": {
    "collapsed": true,
    "deletable": true,
    "editable": true
   },
   "outputs": [],
   "source": [
    "modularity_dir ='/Users/owner/Functional_Connectivity/Results/Modularity_nothresh/Merged/'"
   ]
  },
  {
   "cell_type": "code",
   "execution_count": 3,
   "metadata": {
    "collapsed": true,
    "deletable": true,
    "editable": true
   },
   "outputs": [],
   "source": [
    "domains= ['Memory', 'Working Memory', 'Emotion', 'Attention', 'Language', 'Vision', 'Audition', 'Base', 'Rest']"
   ]
  },
  {
   "cell_type": "code",
   "execution_count": 4,
   "metadata": {
    "collapsed": true,
    "deletable": true,
    "editable": true
   },
   "outputs": [],
   "source": [
    "G_merge = {}\n",
    "for x in domains:\n",
    "    filename = 'G_merged_'+x+'_.pck'\n",
    "    workdir = '/Users/owner/Functional_Connectivity/Results/G_jaccard_graphs/Unthresholded_G_jaccard/Merged_Graphs/'\n",
    "    output = workdir + filename\n",
    "    G_merge[x] = pickle.load(open (output, 'rb'))"
   ]
  },
  {
   "cell_type": "code",
   "execution_count": 5,
   "metadata": {
    "collapsed": true,
    "deletable": true,
    "editable": true
   },
   "outputs": [],
   "source": [
    "basic_metrics_merge = pickle.load(open('/Users/owner/Functional_Connectivity/Results/G_jaccard_graphs/Unthresholded_G_jaccard/Merged_Graphs/Merge_metrics.pck','rb'))"
   ]
  },
  {
   "cell_type": "code",
   "execution_count": 10,
   "metadata": {
    "collapsed": false,
    "deletable": true,
    "editable": true
   },
   "outputs": [],
   "source": [
    "Con_part={x: pickle.load(open(modularity_dir+'Con_Lou_part_'+x+'.pck','rb')) for x in domains}\n",
    "Newman_part={x: pickle.load(open(modularity_dir+'Newman_part_'+x+'.pck', 'rb')) for x in domains}\n",
    "G_part={x: pickle.load(open(modularity_dir+'Louvain_part_'+x+'_merge.pck','rb')) for x in domains}"
   ]
  },
  {
   "cell_type": "code",
   "execution_count": 12,
   "metadata": {
    "collapsed": false,
    "deletable": true,
    "editable": true
   },
   "outputs": [],
   "source": [
    "csv_path='/Users/owner/Documents/MATLAB/Add-Ons/BrainNetViewer_20171031/Data/NodeFiles/CSV/Merge_Labels.csv'\n",
    "for x in domains:\n",
    "    myfunctions.node_file(G_part[x], y=basic_metrics_merge[x]['between_cent'], filename='Merge_Lou_'+x+'_node.csv', path=csv_path)\n",
    "    myfunctions.node_file(Newman_part[x], y=basic_metrics_merge[x]['between_cent'], filename='Merge_New_'+x+'_node.csv',path=csv_path)\n",
    "    myfunctions.node_file(Con_part[x], y=basic_metrics_merge[x]['between_cent'], filename='Merge_Con_'+x+'_node.csv',path=csv_path)"
   ]
  },
  {
   "cell_type": "code",
   "execution_count": 13,
   "metadata": {
    "collapsed": false,
    "deletable": true,
    "editable": true
   },
   "outputs": [],
   "source": [
    "for x in domains:    \n",
    "    csv_file = '/Users/owner/Documents/MATLAB/Add-Ons/BrainNetViewer_20171031/Data/NodeFiles/CSV/Merge_Lou_'+x+'_node.csv'\n",
    "    txt_file = '/Users/owner/Documents/MATLAB/Add-Ons/BrainNetViewer_20171031/Data/NodeFiles/Merged/Louvain/Merged__Lou_'+x+'_node.node'\n",
    "    with open(txt_file, \"w\") as my_output_file:\n",
    "        with open(csv_file, \"r\") as my_input_file:\n",
    "            [ my_output_file.write(\" \".join(row)+'\\n') for row in csv.reader(my_input_file)]\n",
    "        my_output_file.close()"
   ]
  },
  {
   "cell_type": "code",
   "execution_count": 14,
   "metadata": {
    "collapsed": true,
    "deletable": true,
    "editable": true
   },
   "outputs": [],
   "source": [
    "for x in domains:    \n",
    "    csv_file = '/Users/owner/Documents/MATLAB/Add-Ons/BrainNetViewer_20171031/Data/NodeFiles/CSV/Merge_New_'+x+'_node.csv'\n",
    "    txt_file = '/Users/owner/Documents/MATLAB/Add-Ons/BrainNetViewer_20171031/Data/NodeFiles/Merged/Newman/Merged__New_'+x+'_node.node'\n",
    "    with open(txt_file, \"w\") as my_output_file:\n",
    "        with open(csv_file, \"r\") as my_input_file:\n",
    "            [ my_output_file.write(\" \".join(row)+'\\n') for row in csv.reader(my_input_file)]\n",
    "        my_output_file.close()"
   ]
  },
  {
   "cell_type": "code",
   "execution_count": 15,
   "metadata": {
    "collapsed": true,
    "deletable": true,
    "editable": true
   },
   "outputs": [],
   "source": [
    "for x in domains:    \n",
    "    csv_file = '/Users/owner/Documents/MATLAB/Add-Ons/BrainNetViewer_20171031/Data/NodeFiles/CSV/Merge_Con_'+x+'_node.csv'\n",
    "    txt_file = '/Users/owner/Documents/MATLAB/Add-Ons/BrainNetViewer_20171031/Data/NodeFiles/Merged/Consensus/Merged__Con_'+x+'_node.node'\n",
    "    with open(txt_file, \"w\") as my_output_file:\n",
    "        with open(csv_file, \"r\") as my_input_file:\n",
    "            [ my_output_file.write(\" \".join(row)+'\\n') for row in csv.reader(my_input_file)]\n",
    "        my_output_file.close()"
   ]
  },
  {
   "cell_type": "code",
   "execution_count": 16,
   "metadata": {
    "collapsed": false,
    "deletable": true,
    "editable": true
   },
   "outputs": [],
   "source": [
    "edge={}\n",
    "for x in domains:\n",
    "    edge[x]=pd.DataFrame(nx.to_numpy_matrix(G_merge[x]))\n",
    "    edge[x].to_csv('/Users/owner/Documents/MATLAB/Add-Ons/BrainNetViewer_20171031/Data/NodeFiles/CSV/Merge_'+x+'_edge.csv', header=False, index=False, index_label=False)"
   ]
  },
  {
   "cell_type": "code",
   "execution_count": 17,
   "metadata": {
    "collapsed": true,
    "deletable": true,
    "editable": true
   },
   "outputs": [],
   "source": [
    "for x in domains:\n",
    "    csv_file = '/Users/owner/Documents/MATLAB/Add-Ons/BrainNetViewer_20171031/Data/NodeFiles/CSV/Merge_'+x+'_edge.csv'\n",
    "    txt_file = '/Users/owner/Documents/MATLAB/Add-Ons/BrainNetViewer_20171031/Data/EdgeFiles/Merged/'+x+'_edge.edge'\n",
    "    with open(txt_file, \"w\") as my_output_file:\n",
    "        with open(csv_file, \"r\") as my_input_file:\n",
    "            [ my_output_file.write(\" \".join(row)+'\\n') for row in csv.reader(my_input_file)]\n",
    "        my_output_file.close()"
   ]
  },
  {
   "cell_type": "code",
   "execution_count": null,
   "metadata": {
    "collapsed": true
   },
   "outputs": [],
   "source": []
  }
 ],
 "metadata": {
  "kernelspec": {
   "display_name": "Python 2",
   "language": "python",
   "name": "python2"
  },
  "language_info": {
   "codemirror_mode": {
    "name": "ipython",
    "version": 2
   },
   "file_extension": ".py",
   "mimetype": "text/x-python",
   "name": "python",
   "nbconvert_exporter": "python",
   "pygments_lexer": "ipython2",
   "version": "2.7.11"
  }
 },
 "nbformat": 4,
 "nbformat_minor": 2
}
