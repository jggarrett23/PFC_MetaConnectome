{
 "cells": [
  {
   "cell_type": "code",
   "execution_count": 1,
   "metadata": {
    "collapsed": false,
    "deletable": true,
    "editable": true
   },
   "outputs": [
    {
     "name": "stderr",
     "output_type": "stream",
     "text": [
      "/Users/owner/Library/Enthought/Canopy_64bit/User/lib/python2.7/site-packages/brainx/__init__.py:30: UserWarning: Monkeypatching NetworkX's Watts-Strogatz routine\n",
      "  warnings.warn(\"Monkeypatching NetworkX's Watts-Strogatz routine\")\n"
     ]
    }
   ],
   "source": [
    "import pickle\n",
    "import numpy as np\n",
    "import networkx as nx\n",
    "import pandas as pd\n",
    "import brainmaptools as brainmap\n",
    "import matplotlib.pyplot as plt\n",
    "import community\n",
    "import brainx.modularity as mod\n",
    "import operator\n",
    "%matplotlib inline\n",
    "import csv\n",
    "import scipy as scipy\n",
    "import scipy.io as io\n",
    "import My_functions as myfunctions\n",
    "import progressbar as pb\n",
    "import time\n",
    "import os\n",
    "%load_ext Cython\n",
    "import bct\n",
    "from numba import jit"
   ]
  },
  {
   "cell_type": "code",
   "execution_count": 2,
   "metadata": {
    "collapsed": true,
    "deletable": true,
    "editable": true
   },
   "outputs": [],
   "source": [
    "domains= ['Memory', 'Working Memory', 'Emotion', 'Attention', 'Language', 'Vision', 'Audition', 'Base', 'Rest']"
   ]
  },
  {
   "cell_type": "code",
   "execution_count": 3,
   "metadata": {
    "collapsed": true,
    "deletable": true,
    "editable": true
   },
   "outputs": [],
   "source": [
    "relabel_dict_file='/Users/owner/Functional_Connectivity/Scripts/Label_dict.pck'\n",
    "relabel_dict=pickle.load(open(relabel_dict_file,\"rb\"))"
   ]
  },
  {
   "cell_type": "code",
   "execution_count": 4,
   "metadata": {
    "collapsed": true,
    "deletable": true,
    "editable": true
   },
   "outputs": [],
   "source": [
    "G_nothresh={}\n",
    "for x in domains:\n",
    "    filename='G_nothresh_jaccard_'+x+'_.pck'\n",
    "    workdir='/Users/owner/Functional_Connectivity/Results/G_jaccard_graphs/Unthresholded_G_jaccard/'\n",
    "    output=workdir+filename\n",
    "    G_nothresh[x]=pickle.load(open (output, 'rb'))"
   ]
  },
  {
   "cell_type": "markdown",
   "metadata": {
    "deletable": true,
    "editable": true
   },
   "source": [
    "# BCTPY Newman"
   ]
  },
  {
   "cell_type": "code",
   "execution_count": 5,
   "metadata": {
    "collapsed": true,
    "deletable": true,
    "editable": true
   },
   "outputs": [],
   "source": [
    "bct_mod={}\n",
    "bct_part={}\n",
    "bct_partition={}\n",
    "for x in domains:\n",
    "    bct_mod[x]=bct.modularity_und(np.squeeze(np.asarray(nx.to_numpy_matrix(G_nothresh[x]))))\n",
    "    bct_part[x]=dict(zip(G_nothresh[x].nodes(), bct_mod[x][0]))\n",
    "    bct_partition[x]=brainmap.make_brainx_style_partition(bct_part[x])"
   ]
  },
  {
   "cell_type": "code",
   "execution_count": 6,
   "metadata": {
    "collapsed": false,
    "deletable": true,
    "editable": true
   },
   "outputs": [
    {
     "name": "stdout",
     "output_type": "stream",
     "text": [
      "Memory | 0.175464615461\n",
      "Working Memory | 0.222097379566\n",
      "Emotion | 0.162290264322\n",
      "Attention | 0.189318595584\n",
      "Language | 0.248974168101\n",
      "Vision | 0.302636385616\n",
      "Audition | 0.436937697958\n",
      "Base | 0.165184025669\n",
      "Rest | 0.519053198028\n"
     ]
    }
   ],
   "source": [
    "for x in domains:\n",
    "    print x, '|', bct_mod[x][1]"
   ]
  },
  {
   "cell_type": "markdown",
   "metadata": {
    "deletable": true,
    "editable": true
   },
   "source": [
    "Mutual Information Matrix"
   ]
  },
  {
   "cell_type": "code",
   "execution_count": 7,
   "metadata": {
    "collapsed": false,
    "deletable": true,
    "editable": true
   },
   "outputs": [
    {
     "name": "stderr",
     "output_type": "stream",
     "text": [
      "/Users/owner/Library/Enthought/Canopy_64bit/User/lib/python2.7/site-packages/brainx/modularity.py:1004: RuntimeWarning: divide by zero encountered in log\n",
      "  num = nansum(N*log(N*nn/(nsum_row*nsum_col)))\n",
      "/Users/owner/Library/Enthought/Canopy_64bit/User/lib/python2.7/site-packages/brainx/modularity.py:1004: RuntimeWarning: invalid value encountered in multiply\n",
      "  num = nansum(N*log(N*nn/(nsum_row*nsum_col)))\n",
      "/Users/owner/Library/Enthought/Canopy_64bit/User/lib/python2.7/site-packages/brainx/modularity.py:1004: RuntimeWarning: invalid value encountered in divide\n",
      "  num = nansum(N*log(N*nn/(nsum_row*nsum_col)))\n",
      "/Users/owner/Library/Enthought/Canopy_64bit/User/lib/python2.7/site-packages/brainx/modularity.py:1005: RuntimeWarning: divide by zero encountered in log\n",
      "  den = nansum(nsum_row*log(nsum_row/nn)) + nansum(nsum_col*log(nsum_col/nn))\n",
      "/Users/owner/Library/Enthought/Canopy_64bit/User/lib/python2.7/site-packages/brainx/modularity.py:1005: RuntimeWarning: invalid value encountered in multiply\n",
      "  den = nansum(nsum_row*log(nsum_row/nn)) + nansum(nsum_col*log(nsum_col/nn))\n"
     ]
    },
    {
     "data": {
      "text/plain": [
       "<matplotlib.colorbar.Colorbar at 0x117cbf7d0>"
      ]
     },
     "execution_count": 7,
     "metadata": {},
     "output_type": "execute_result"
    },
    {
     "data": {
      "image/png": "[encoded data removed]",
      "text/plain": [
       "<matplotlib.figure.Figure at 0x116a5ad90>"
      ]
     },
     "metadata": {},
     "output_type": "display_data"
    }
   ],
   "source": [
    "mutual_matrix_bct_new=np.zeros([len(domains),len(domains)])\n",
    "for x,y in enumerate(domains):\n",
    "    for a,b in enumerate(domains):\n",
    "        mutual_matrix_bct_new[x][a]=mod.mutual_information(bct_partition[y],bct_partition[b])\n",
    "np.fill_diagonal(mutual_matrix_bct_new,0)\n",
    "plt.matshow(mutual_matrix_bct_new)        \n",
    "plt.xticks(range(len(domains)), domains, rotation='90')\n",
    "plt.yticks(range(len(domains)), domains)\n",
    "plt.colorbar()\n"
   ]
  },
  {
   "cell_type": "markdown",
   "metadata": {
    "deletable": true,
    "editable": true
   },
   "source": [
    "Statistical Significance"
   ]
  },
  {
   "cell_type": "code",
   "execution_count": null,
   "metadata": {
    "collapsed": true,
    "deletable": true,
    "editable": true
   },
   "outputs": [],
   "source": [
    "bct_rand_mod_list=pickle.load(open('/Users/owner/Functional_Connectivity/Scripts/bct_rand_mod_list.pck', 'rb'))"
   ]
  },
  {
   "cell_type": "code",
   "execution_count": null,
   "metadata": {
    "collapsed": true,
    "deletable": true,
    "editable": true
   },
   "outputs": [],
   "source": [
    "mean={}\n",
    "std={}\n",
    "z={}\n",
    "for x in domains:\n",
    "    mean[x]=np.mean(bct_rand_mod_list[x])\n",
    "    std[x]=np.std(bct_rand_mod_list[x])\n",
    "    z[x]=((bct_mod[x][1]-mean[x])/std[x])\n",
    "    if z[x] > 1.96:\n",
    "        print x, '| Q =', bct_mod[x][1], '| Z =', z[x], '| M =', mean[x]"
   ]
  },
  {
   "cell_type": "markdown",
   "metadata": {
    "deletable": true,
    "editable": true
   },
   "source": [
    "Save Partition as BrainNet File"
   ]
  },
  {
   "cell_type": "code",
   "execution_count": null,
   "metadata": {
    "collapsed": true,
    "deletable": true,
    "editable": true
   },
   "outputs": [],
   "source": [
    "for x in domains:\n",
    "    myfunctions.node_file(bct_part[x], y=basic_metrics[x]['between_cent'], filename='bct_nothresh_'+x+'_node.csv')\n",
    "    csv_file = '/Users/owner/Desktop/BrainImagingViewer/BrainNetViewer_20171031/Data/NodeFiles/bct_nothresh_'+x+'_node.csv'\n",
    "    txt_file = '/Users/owner/Desktop/BrainImagingViewer/BrainNetViewer_20171031/Data/NodeFiles/Nothresh/bct_nothresh_'+x+'_node.node'\n",
    "    with open(txt_file, \"w\") as my_output_file:\n",
    "        with open(csv_file, \"r\") as my_input_file:\n",
    "            [ my_output_file.write(\" \".join(row)+'\\n') for row in csv.reader(my_input_file)]\n",
    "        my_output_file.close()"
   ]
  },
  {
   "cell_type": "markdown",
   "metadata": {
    "deletable": true,
    "editable": true
   },
   "source": [
    "# Louvain"
   ]
  },
  {
   "cell_type": "markdown",
   "metadata": {
    "deletable": true,
    "editable": true
   },
   "source": [
    "Remove Weight Attribute"
   ]
  },
  {
   "cell_type": "code",
   "execution_count": null,
   "metadata": {
    "collapsed": true,
    "deletable": true,
    "editable": true
   },
   "outputs": [],
   "source": [
    "G_noweight={x: brainmap.remove_weight_edge_attribute(G_nothresh[x]) for x in domains }"
   ]
  },
  {
   "cell_type": "code",
   "execution_count": null,
   "metadata": {
    "collapsed": true,
    "deletable": true,
    "editable": true
   },
   "outputs": [],
   "source": [
    "Louvain_part={}\n",
    "Dendogram={}\n",
    "G_part={}\n",
    "for x in domains:\n",
    "    #G_part[x]=community.best_partition(G_nothresh[x])\n",
    "    #Dendogram[x]=community.generate_dendrogram(G_nothresh[x])\n",
    "    workdir='/Users/owner/Functional_Connectivity/Results/Modularity_nothresh/Louvain/'\n",
    "    filename='Louvain_part_'+x+'_nothresh.pck'\n",
    "    output=workdir+filename\n",
    "    #pickle.dump (G_part[x], open(output, 'wb'))\n",
    "    G_part[x]=pickle.load(open(output, 'rb'))\n",
    "    Louvain_part[x]=brainmap.make_brainx_style_partition(G_part[x])\n",
    "    print \"Louvain Modularity: \", x, '|', community.modularity(G_part[x], G_nothresh[x]),':', len(Louvain_part[x])"
   ]
  },
  {
   "cell_type": "markdown",
   "metadata": {
    "deletable": true,
    "editable": true
   },
   "source": [
    "Mutual Information Matrix"
   ]
  },
  {
   "cell_type": "code",
   "execution_count": null,
   "metadata": {
    "collapsed": true,
    "deletable": true,
    "editable": true
   },
   "outputs": [],
   "source": [
    "mutual_matrix_lou=np.zeros([len(domains),len(domains)])\n",
    "for x,y in enumerate(domains):\n",
    "    for a,b in enumerate(domains):\n",
    "        mutual_matrix_lou[x][a]=mod.mutual_information(Louvain_part[y],Louvain_part[b])\n",
    "np.fill_diagonal(mutual_matrix_lou,0)\n",
    "plt.matshow(mutual_matrix_lou)        \n",
    "plt.xticks(range(len(domains)), domains, rotation='90')\n",
    "plt.yticks(range(len(domains)), domains)\n",
    "plt.colorbar()"
   ]
  },
  {
   "cell_type": "code",
   "execution_count": null,
   "metadata": {
    "collapsed": true,
    "deletable": true,
    "editable": true
   },
   "outputs": [],
   "source": [
    "lou_rand_mod_list=pickle.load(open ('/Users/owner/Functional_Connectivity/Scripts/lou_rand_mod_list.pck', 'rb'))"
   ]
  },
  {
   "cell_type": "markdown",
   "metadata": {
    "deletable": true,
    "editable": true
   },
   "source": [
    "Statistical Significance"
   ]
  },
  {
   "cell_type": "code",
   "execution_count": null,
   "metadata": {
    "collapsed": true,
    "deletable": true,
    "editable": true
   },
   "outputs": [],
   "source": [
    "mean={}\n",
    "std={}\n",
    "z={}\n",
    "for x in domains:\n",
    "    mean[x]=np.mean(lou_rand_mod_list[x])\n",
    "    std[x]=np.std(lou_rand_mod_list[x])\n",
    "    z[x]=((community.modularity(G_part[x], G_nothresh[x]))-mean[x])/std[x]\n",
    "    if z[x] > 1.96:\n",
    "        print x, '| Q =', community.modularity(G_part[x], G_nothresh[x]), '| Z =', z[x], '| M =', mean[x]"
   ]
  },
  {
   "cell_type": "markdown",
   "metadata": {
    "deletable": true,
    "editable": true
   },
   "source": [
    "Modular Frequency"
   ]
  },
  {
   "cell_type": "code",
   "execution_count": null,
   "metadata": {
    "collapsed": true,
    "deletable": true,
    "editable": true
   },
   "outputs": [],
   "source": [
    "nodes=['Cingulum_Ant_R_1','Cingulum_Ant_L_1','Cingulum_Ant_L_2','Cingulum_Ant_L_3','Cingulum_Ant_L_4','Cingulum_Ant_L_5','Cingulum_Ant_L_6','Cingulum_Ant_R_2','Cingulum_Ant_R_3','Cingulum_Ant_R_4','Cingulum_Ant_R_5','Frontal_Inf_Oper_L_1','Frontal_Inf_Oper_L_2','Frontal_Inf_Oper_L_3','Frontal_Inf_Oper_L_4','Frontal_Inf_Oper_R_1','Frontal_Inf_Oper_R_2','Frontal_Inf_Oper_R_3','Frontal_Inf_Oper_R_4','Frontal_Inf_Oper_R_5','Frontal_Inf_Oper_R_6','Frontal_Inf_Orb_L_1','Frontal_Inf_Orb_L_2','Frontal_Inf_Orb_L_3','Frontal_Inf_Orb_L_4','Frontal_Inf_Orb_L_5','Frontal_Inf_Orb_L_6','Frontal_Inf_Orb_L_7','Frontal_Inf_Orb_R_1','Frontal_Inf_Orb_R_2','Frontal_Inf_Orb_R_3','Frontal_Inf_Orb_R_4','Frontal_Inf_Orb_R_5','Frontal_Inf_Orb_R_6','Frontal_Inf_Orb_R_7','Frontal_Inf_Tri_L_1','Frontal_Inf_Tri_L_10','Frontal_Inf_Tri_L_2','Frontal_Inf_Tri_L_3','Frontal_Inf_Tri_L_4','Frontal_Inf_Tri_L_5','Frontal_Inf_Tri_L_6','Frontal_Inf_Tri_L_7','Frontal_Inf_Tri_L_8','Frontal_Inf_Tri_L_9','Frontal_Inf_Tri_R_1','Frontal_Inf_Tri_R_2','Frontal_Inf_Tri_R_3','Frontal_Inf_Tri_R_4','Frontal_Inf_Tri_R_5','Frontal_Inf_Tri_R_6','Frontal_Inf_Tri_R_7','Frontal_Inf_Tri_R_8','Frontal_Inf_Tri_R_9','Frontal_Mid_L_1','Frontal_Mid_L_10','Frontal_Mid_L_11','Frontal_Mid_L_12','Frontal_Mid_L_13','Frontal_Mid_L_14','Frontal_Mid_L_15','Frontal_Mid_L_16','Frontal_Mid_L_17','Frontal_Mid_L_18','Frontal_Mid_L_19','Frontal_Mid_L_2','Frontal_Mid_L_3','Frontal_Mid_L_4','Frontal_Mid_L_5','Frontal_Mid_L_6','Frontal_Mid_L_7','Frontal_Mid_L_8','Frontal_Mid_L_9','Frontal_Mid_Orb_L_1','Frontal_Mid_Orb_L_2','Frontal_Mid_Orb_L_3','Frontal_Mid_Orb_R_1','Frontal_Mid_Orb_R_2','Frontal_Mid_Orb_R_3','Frontal_Mid_Orbb_L_1','Frontal_Mid_Orbb_L_2','Frontal_Mid_Orbb_L_3','Frontal_Mid_Orbb_L_4','Frontal_Mid_Orbb_R_1','Frontal_Mid_Orbb_R_2','Frontal_Mid_Orbb_R_3','Frontal_Mid_Orbb_R_4','Frontal_Mid_R_1','Frontal_Mid_R_10','Frontal_Mid_R_11','Frontal_Mid_R_12','Frontal_Mid_R_13','Frontal_Mid_R_14','Frontal_Mid_R_15','Frontal_Mid_R_16','Frontal_Mid_R_17','Frontal_Mid_R_18','Frontal_Mid_R_19','Frontal_Mid_R_2','Frontal_Mid_R_20','Frontal_Mid_R_3','Frontal_Mid_R_4','Frontal_Mid_R_5','Frontal_Mid_R_6','Frontal_Mid_R_7','Frontal_Mid_R_8','Frontal_Mid_R_9','Frontal_Sup_L_1','Frontal_Sup_L_10','Frontal_Sup_L_11','Frontal_Sup_L_12','Frontal_Sup_L_13','Frontal_Sup_L_14','Frontal_Sup_L_2','Frontal_Sup_L_3','Frontal_Sup_L_4','Frontal_Sup_L_5','Frontal_Sup_L_6','Frontal_Sup_L_7','Frontal_Sup_L_8','Frontal_Sup_L_9','Frontal_Sup_Medial_L_1','Frontal_Sup_Medial_L_10','Frontal_Sup_Medial_L_11','Frontal_Sup_Medial_L_12','Frontal_Sup_Medial_L_2','Frontal_Sup_Medial_L_3','Frontal_Sup_Medial_L_4','Frontal_Sup_Medial_L_5','Frontal_Sup_Medial_L_6','Frontal_Sup_Medial_L_7','Frontal_Sup_Medial_L_8','Frontal_Sup_Medial_L_9','Frontal_Sup_Medial_R_1','Frontal_Sup_Medial_R_2','Frontal_Sup_Medial_R_3','Frontal_Sup_Medial_R_4','Frontal_Sup_Medial_R_5','Frontal_Sup_Medial_R_6','Frontal_Sup_Medial_R_7','Frontal_Sup_Medial_R_8','Frontal_Sup_Medial_R_9','Frontal_Sup_Orb_L_1','Frontal_Sup_Orb_L_2','Frontal_Sup_Orb_L_3','Frontal_Sup_Orb_L_4','Frontal_Sup_Orb_R_1','Frontal_Sup_Orb_R_2','Frontal_Sup_Orb_R_3','Frontal_Sup_Orb_R_4','Frontal_Sup_R_1','Frontal_Sup_R_10','Frontal_Sup_R_11','Frontal_Sup_R_12','Frontal_Sup_R_13','Frontal_Sup_R_14','Frontal_Sup_R_15','Frontal_Sup_R_16','Frontal_Sup_R_2','Frontal_Sup_R_3','Frontal_Sup_R_4','Frontal_Sup_R_5','Frontal_Sup_R_6','Frontal_Sup_R_7','Frontal_Sup_R_8','Frontal_Sup_R_9','Precentral_L_1','Precentral_L_10','Precentral_L_11','Precentral_L_12','Precentral_L_13','Precentral_L_14','Precentral_L_2','Precentral_L_3','Precentral_L_4','Precentral_L_5','Precentral_L_6','Precentral_L_7','Precentral_L_8','Precentral_L_9','Precentral_R_1','Precentral_R_10','Precentral_R_11','Precentral_R_12','Precentral_R_13','Precentral_R_14','Precentral_R_2','Precentral_R_3','Precentral_R_4','Precentral_R_5','Precentral_R_6','Precentral_R_7','Precentral_R_8','Precentral_R_9','Rectus_L_1','Rectus_L_2','Rectus_L_3','Rectus_R_1','Rectus_R_2','Rectus_R_3','Rolandic_Oper_L_3','Rolandic_Oper_L_4','Rolandic_Oper_R_3','Rolandic_Oper_R_4','Rolandic_Oper_R_5','Supp_Motor_Area_L_1','Supp_Motor_Area_L_2','Supp_Motor_Area_L_3','Supp_Motor_Area_L_4','Supp_Motor_Area_L_5','Supp_Motor_Area_L_6','Supp_Motor_Area_L_7','Supp_Motor_Area_L_8','Supp_Motor_Area_L_9','Supp_Motor_Area_R_1','Supp_Motor_Area_R_2','Supp_Motor_Area_R_3','Supp_Motor_Area_R_4','Supp_Motor_Area_R_5','Supp_Motor_Area_R_6','Supp_Motor_Area_R_7','Supp_Motor_Area_R_8','Supp_Motor_Area_R_9']"
   ]
  },
  {
   "cell_type": "code",
   "execution_count": null,
   "metadata": {
    "collapsed": true,
    "deletable": true,
    "editable": true
   },
   "outputs": [],
   "source": [
    "modular_freq=np.zeros([223,223])\n",
    "for x in domains:\n",
    "        for h,n in enumerate(nodes):\n",
    "            if n in G_part[x].keys():\n",
    "                for f,m in enumerate(nodes):\n",
    "                    if m in G_part[x].keys():\n",
    "                        if n != m:\n",
    "                            if G_part[x][n]==G_part[x][m]:\n",
    "                                modular_freq[h][f]=modular_freq[h][f]+1\n",
    "                            if modular_freq[h][f]==9:\n",
    "                                print n, m, modular_freq[h][f]"
   ]
  },
  {
   "cell_type": "code",
   "execution_count": null,
   "metadata": {
    "collapsed": true,
    "deletable": true,
    "editable": true
   },
   "outputs": [],
   "source": [
    "figu=plt.figure(dpi=100)\n",
    "plt.imshow(modular_freq, interpolation='nearest')\n",
    "plt.colorbar()"
   ]
  },
  {
   "cell_type": "markdown",
   "metadata": {
    "deletable": true,
    "editable": true
   },
   "source": [
    "# Consensus"
   ]
  },
  {
   "cell_type": "code",
   "execution_count": null,
   "metadata": {
    "collapsed": true,
    "deletable": true,
    "editable": true
   },
   "outputs": [],
   "source": [
    "random_array={x: myfunctions.random_modular_matrix(G_nothresh[x], iterations=10) for x in domains}"
   ]
  },
  {
   "cell_type": "code",
   "execution_count": null,
   "metadata": {
    "collapsed": true,
    "deletable": true,
    "editable": true
   },
   "outputs": [],
   "source": [
    "for x in domains:\n",
    "    pickle.dump(random_array[x], open ('/Users/owner/Functional_Connectivity/Results/Modularity_nothresh/Random_matrix/Random_'+x+'_modular_matrix_nothresh.pck','wb'))"
   ]
  },
  {
   "cell_type": "code",
   "execution_count": null,
   "metadata": {
    "collapsed": true,
    "deletable": true,
    "editable": true
   },
   "outputs": [],
   "source": [
    "random_array={x: pickle.load(open ('/Users/owner/Functional_Connectivity/Results/Modularity_nothresh/Random_matrix/Random_'+x+'_modular_matrix_nothresh.pck','rb')) for x in domains}\n",
    "consensus_array={x: myfunctions.consensus_modular_matrix(G_nothresh[x], G_part[x], bct_partition[x], random_array[x][1]) for x in domains}\n",
    "n_nodes={x: len(range(nx.number_of_nodes(G_nothresh[x]))) for x in domains}\n",
    "nodes={x: dict(zip(range(n_nodes[x]), G_nothresh[x].nodes())) for x in domains}\n",
    "con_G={x: nx.from_numpy_matrix(consensus_array[x]) for x in domains}\n",
    "con_G={x: nx.relabel_nodes(con_G[x], nodes[x]) for x in domains}\n",
    "con_lou={x: community.best_partition(con_G[x]) for x in domains}\n",
    "con_lou_G={x: brainmap.make_brainx_style_partition(con_lou[x]) for x in domains}\n",
    "for x in domains:\n",
    "    print \"Louvain Modularity: \", x, '|', community.modularity(con_lou[x], con_G[x]),':', len(con_lou_G[x])"
   ]
  },
  {
   "cell_type": "markdown",
   "metadata": {
    "deletable": true,
    "editable": true
   },
   "source": [
    "Mutual Information"
   ]
  },
  {
   "cell_type": "code",
   "execution_count": null,
   "metadata": {
    "collapsed": true,
    "deletable": true,
    "editable": true
   },
   "outputs": [],
   "source": [
    "mutual_matrix_con=np.zeros([len(domains),len(domains)])\n",
    "for x,y in enumerate(domains):\n",
    "    for a,b in enumerate(domains):\n",
    "        mutual_matrix_con[x][a]=mod.mutual_information(con_lou_G[y],con_lou_G[b])\n",
    "np.fill_diagonal(mutual_matrix_con,0)\n",
    "plt.matshow(mutual_matrix_con)        \n",
    "plt.xticks(range(len(domains)), domains, rotation='90')\n",
    "plt.yticks(range(len(domains)), domains)\n",
    "plt.colorbar()"
   ]
  },
  {
   "cell_type": "markdown",
   "metadata": {
    "deletable": true,
    "editable": true
   },
   "source": [
    "Statistical Significance"
   ]
  },
  {
   "cell_type": "code",
   "execution_count": null,
   "metadata": {
    "collapsed": true,
    "deletable": true,
    "editable": true
   },
   "outputs": [],
   "source": []
  },
  {
   "cell_type": "code",
   "execution_count": null,
   "metadata": {
    "collapsed": true,
    "deletable": true,
    "editable": true
   },
   "outputs": [],
   "source": []
  },
  {
   "cell_type": "markdown",
   "metadata": {
    "deletable": true,
    "editable": true
   },
   "source": [
    "BrainNet Partition File"
   ]
  },
  {
   "cell_type": "code",
   "execution_count": null,
   "metadata": {
    "collapsed": true,
    "deletable": true,
    "editable": true
   },
   "outputs": [],
   "source": [
    "for x in domains:\n",
    "    myfunctions.node_file(con_lou[x], y=basic_metrics[x]['between_cent'], filename='Consensus_nothresh_nosim_'+x+'.csv' )\n",
    "    csv_file = '/Users/owner/Desktop/BrainImagingViewer/BrainNetViewer_20171031/Data/NodeFiles/Consensus_nothresh_nosim_'+x+'.csv' \n",
    "    txt_file = '/Users/owner/Desktop/BrainImagingViewer/BrainNetViewer_20171031/Data/NodeFiles/Consensus/Consensus_nothresh_nosim_'+x+'.node'\n",
    "    with open(txt_file, \"w\") as my_output_file:\n",
    "        with open(csv_file, \"r\") as my_input_file:\n",
    "            [ my_output_file.write(\" \".join(row)+'\\n') for row in csv.reader(my_input_file)]\n",
    "        my_output_file.close()"
   ]
  }
 ],
 "metadata": {
  "kernelspec": {
   "display_name": "Python 2",
   "language": "python",
   "name": "python2"
  },
  "language_info": {
   "codemirror_mode": {
    "name": "ipython",
    "version": 2
   },
   "file_extension": ".py",
   "mimetype": "text/x-python",
   "name": "python",
   "nbconvert_exporter": "python",
   "pygments_lexer": "ipython2",
   "version": "2.7.11"
  }
 },
 "nbformat": 4,
 "nbformat_minor": 2
}
