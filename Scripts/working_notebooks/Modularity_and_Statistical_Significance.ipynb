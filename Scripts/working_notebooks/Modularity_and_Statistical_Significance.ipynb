{
 "cells": [
  {
   "cell_type": "code",
   "execution_count": 1,
   "metadata": {
    "collapsed": false,
    "deletable": true,
    "editable": true
   },
   "outputs": [
    {
     "name": "stderr",
     "output_type": "stream",
     "text": [
      "/Users/owner/Library/Enthought/Canopy_64bit/User/lib/python2.7/site-packages/brainx/__init__.py:30: UserWarning: Monkeypatching NetworkX's Watts-Strogatz routine\n",
      "  warnings.warn(\"Monkeypatching NetworkX's Watts-Strogatz routine\")\n"
     ]
    }
   ],
   "source": [
    "import pickle\n",
    "import numpy as np\n",
    "import networkx as nx\n",
    "import pandas as pd\n",
    "import brainmaptools as brainmap\n",
    "import matplotlib.pyplot as plt\n",
    "import community\n",
    "import brainx.modularity as mod\n",
    "import operator\n",
    "%matplotlib inline\n",
    "import csv\n",
    "import scipy as scipy\n",
    "import scipy.io as io\n",
    "import My_functions as myfunctions\n",
    "import progressbar as pb\n",
    "import time\n",
    "import os\n",
    "%load_ext Cython\n",
    "import bct\n",
    "from numba import jit\n",
    "from tqdm import tqdm"
   ]
  },
  {
   "cell_type": "code",
   "execution_count": 2,
   "metadata": {
    "collapsed": true,
    "deletable": true,
    "editable": true
   },
   "outputs": [],
   "source": [
    "path = '/Users/owner/Documents/MATLAB/Add_Ons/BrainNetViewer_20171031/Data/NodeFiles/CSV/Label_coordinates.csv'\n",
    "outdir='/Users/owner/Documents/MATLAB/Add_Ons/BrainNetViewer_20171031/Data/NodeFiles/CSV/'"
   ]
  },
  {
   "cell_type": "code",
   "execution_count": 3,
   "metadata": {
    "collapsed": true,
    "deletable": true,
    "editable": true
   },
   "outputs": [],
   "source": [
    "domains= ['Memory', 'Working Memory', 'Attention', 'Language', 'Emotion','Vision', 'Audition', 'Base']"
   ]
  },
  {
   "cell_type": "code",
   "execution_count": 4,
   "metadata": {
    "collapsed": false,
    "deletable": true,
    "editable": true
   },
   "outputs": [],
   "source": [
    "relabel_dict_file='/Users/owner/PFC_MetaConnectome/Scripts/Label_dict.pck'\n",
    "relabel_dict=pickle.load(open(relabel_dict_file,\"rb\"))"
   ]
  },
  {
   "cell_type": "code",
   "execution_count": 5,
   "metadata": {
    "collapsed": false,
    "deletable": true,
    "editable": true
   },
   "outputs": [],
   "source": [
    "G_nothresh={}\n",
    "for x in domains:\n",
    "    filename='G_nothresh_jaccard_'+x+'_.pck'\n",
    "    workdir='/Users/owner/PFC_MetaConnectome/Results/G_jaccard_graphs/Unthresholded_G_jaccard/'\n",
    "    output=workdir+filename\n",
    "    G_nothresh[x]=pickle.load(open (output, 'rb'))"
   ]
  },
  {
   "cell_type": "markdown",
   "metadata": {
    "deletable": true,
    "editable": true
   },
   "source": [
    "# BCTPY Newman"
   ]
  },
  {
   "cell_type": "code",
   "execution_count": 6,
   "metadata": {
    "collapsed": true,
    "deletable": true,
    "editable": true
   },
   "outputs": [],
   "source": [
    "bct_mod={}\n",
    "bct_part={}\n",
    "bct_partition={}\n",
    "for x in domains:\n",
    "    bct_mod[x]=bct.modularity_und(np.squeeze(np.asarray(nx.to_numpy_matrix(G_nothresh[x]))))\n",
    "    bct_part[x]=dict(zip(G_nothresh[x].nodes(), bct_mod[x][0]))\n",
    "    bct_partition[x]=brainmap.make_brainx_style_partition(bct_part[x])"
   ]
  },
  {
   "cell_type": "code",
   "execution_count": 7,
   "metadata": {
    "collapsed": false,
    "deletable": true,
    "editable": true
   },
   "outputs": [
    {
     "name": "stdout",
     "output_type": "stream",
     "text": [
      "Memory | 0.175464615461\n",
      "Working Memory | 0.222097379566\n",
      "Attention | 0.189318595584\n",
      "Language | 0.248974168101\n",
      "Emotion | 0.162290264322\n",
      "Vision | 0.302636385616\n",
      "Audition | 0.436937697958\n",
      "Base | 0.165184025669\n"
     ]
    }
   ],
   "source": [
    "for x in domains:\n",
    "    print x, '|', bct_mod[x][1]"
   ]
  },
  {
   "cell_type": "markdown",
   "metadata": {
    "deletable": true,
    "editable": true
   },
   "source": [
    "Mutual Information Matrix"
   ]
  },
  {
   "cell_type": "code",
   "execution_count": 8,
   "metadata": {
    "collapsed": false,
    "deletable": true,
    "editable": true
   },
   "outputs": [
    {
     "name": "stderr",
     "output_type": "stream",
     "text": [
      "/Users/owner/Library/Enthought/Canopy_64bit/User/lib/python2.7/site-packages/brainx/modularity.py:1004: RuntimeWarning: divide by zero encountered in log\n",
      "  num = nansum(N*log(N*nn/(nsum_row*nsum_col)))\n",
      "/Users/owner/Library/Enthought/Canopy_64bit/User/lib/python2.7/site-packages/brainx/modularity.py:1004: RuntimeWarning: invalid value encountered in multiply\n",
      "  num = nansum(N*log(N*nn/(nsum_row*nsum_col)))\n"
     ]
    },
    {
     "data": {
      "text/plain": [
       "<matplotlib.colorbar.Colorbar at 0x11c15ee10>"
      ]
     },
     "execution_count": 8,
     "metadata": {},
     "output_type": "execute_result"
    },
    {
     "data": {
      "image/png": "[encoded data removed]",
      "text/plain": [
       "<matplotlib.figure.Figure at 0x104271d50>"
      ]
     },
     "metadata": {},
     "output_type": "display_data"
    }
   ],
   "source": [
    "mutual_matrix_bct_new=np.zeros([len(domains),len(domains)])\n",
    "for x,y in enumerate(domains):\n",
    "    for a,b in enumerate(domains):\n",
    "        mutual_matrix_bct_new[x][a]=mod.mutual_information(bct_partition[y],bct_partition[b])\n",
    "np.fill_diagonal(mutual_matrix_bct_new,0)\n",
    "plt.matshow(mutual_matrix_bct_new)        \n",
    "plt.xticks(range(len(domains)), domains, rotation='90')\n",
    "plt.yticks(range(len(domains)), domains)\n",
    "plt.colorbar()\n"
   ]
  },
  {
   "cell_type": "markdown",
   "metadata": {
    "deletable": true,
    "editable": true
   },
   "source": [
    "Statistical Significance"
   ]
  },
  {
   "cell_type": "code",
   "execution_count": 11,
   "metadata": {
    "collapsed": false,
    "deletable": true,
    "editable": true
   },
   "outputs": [
    {
     "ename": "IOError",
     "evalue": "[Errno 2] No such file or directory: '/Users/owner/PFC_MetaConnectome/Scripts/bct_rand_mod_list.pck'",
     "output_type": "error",
     "traceback": [
      "\u001b[0;31m---------------------------------------------------------------------------\u001b[0m",
      "\u001b[0;31mIOError\u001b[0m                                   Traceback (most recent call last)",
      "\u001b[0;32m<ipython-input-11-573479629970>\u001b[0m in \u001b[0;36m<module>\u001b[0;34m()\u001b[0m\n\u001b[0;32m----> 1\u001b[0;31m \u001b[0mbct_rand_mod_list\u001b[0m\u001b[0;34m=\u001b[0m\u001b[0mpickle\u001b[0m\u001b[0;34m.\u001b[0m\u001b[0mload\u001b[0m\u001b[0;34m(\u001b[0m\u001b[0mopen\u001b[0m\u001b[0;34m(\u001b[0m\u001b[0;34m'/Users/owner/PFC_MetaConnectome/Scripts/bct_rand_mod_list.pck'\u001b[0m\u001b[0;34m,\u001b[0m \u001b[0;34m'rb'\u001b[0m\u001b[0;34m)\u001b[0m\u001b[0;34m)\u001b[0m\u001b[0;34m\u001b[0m\u001b[0m\n\u001b[0m",
      "\u001b[0;31mIOError\u001b[0m: [Errno 2] No such file or directory: '/Users/owner/PFC_MetaConnectome/Scripts/bct_rand_mod_list.pck'"
     ]
    }
   ],
   "source": [
    "bct_rand_mod_list=pickle.load(open('/Users/owner/PFC_MetaConnectome/Scripts/bct_rand_mod_list.pck', 'rb'))"
   ]
  },
  {
   "cell_type": "code",
   "execution_count": 9,
   "metadata": {
    "collapsed": false,
    "deletable": true,
    "editable": true
   },
   "outputs": [
    {
     "ename": "NameError",
     "evalue": "name 'bct_rand_mod_list' is not defined",
     "output_type": "error",
     "traceback": [
      "\u001b[0;31m---------------------------------------------------------------------------\u001b[0m",
      "\u001b[0;31mNameError\u001b[0m                                 Traceback (most recent call last)",
      "\u001b[0;32m<ipython-input-9-bc14d3337e90>\u001b[0m in \u001b[0;36m<module>\u001b[0;34m()\u001b[0m\n\u001b[1;32m      3\u001b[0m \u001b[0mz\u001b[0m\u001b[0;34m=\u001b[0m\u001b[0;34m{\u001b[0m\u001b[0;34m}\u001b[0m\u001b[0;34m\u001b[0m\u001b[0m\n\u001b[1;32m      4\u001b[0m \u001b[0;32mfor\u001b[0m \u001b[0mx\u001b[0m \u001b[0;32min\u001b[0m \u001b[0mdomains\u001b[0m\u001b[0;34m:\u001b[0m\u001b[0;34m\u001b[0m\u001b[0m\n\u001b[0;32m----> 5\u001b[0;31m     \u001b[0mmean\u001b[0m\u001b[0;34m[\u001b[0m\u001b[0mx\u001b[0m\u001b[0;34m]\u001b[0m\u001b[0;34m=\u001b[0m\u001b[0mnp\u001b[0m\u001b[0;34m.\u001b[0m\u001b[0mmean\u001b[0m\u001b[0;34m(\u001b[0m\u001b[0mbct_rand_mod_list\u001b[0m\u001b[0;34m[\u001b[0m\u001b[0mx\u001b[0m\u001b[0;34m]\u001b[0m\u001b[0;34m)\u001b[0m\u001b[0;34m\u001b[0m\u001b[0m\n\u001b[0m\u001b[1;32m      6\u001b[0m     \u001b[0mstd\u001b[0m\u001b[0;34m[\u001b[0m\u001b[0mx\u001b[0m\u001b[0;34m]\u001b[0m\u001b[0;34m=\u001b[0m\u001b[0mnp\u001b[0m\u001b[0;34m.\u001b[0m\u001b[0mstd\u001b[0m\u001b[0;34m(\u001b[0m\u001b[0mbct_rand_mod_list\u001b[0m\u001b[0;34m[\u001b[0m\u001b[0mx\u001b[0m\u001b[0;34m]\u001b[0m\u001b[0;34m)\u001b[0m\u001b[0;34m\u001b[0m\u001b[0m\n\u001b[1;32m      7\u001b[0m     \u001b[0mz\u001b[0m\u001b[0;34m[\u001b[0m\u001b[0mx\u001b[0m\u001b[0;34m]\u001b[0m\u001b[0;34m=\u001b[0m\u001b[0;34m(\u001b[0m\u001b[0;34m(\u001b[0m\u001b[0mbct_mod\u001b[0m\u001b[0;34m[\u001b[0m\u001b[0mx\u001b[0m\u001b[0;34m]\u001b[0m\u001b[0;34m[\u001b[0m\u001b[0;36m1\u001b[0m\u001b[0;34m]\u001b[0m\u001b[0;34m-\u001b[0m\u001b[0mmean\u001b[0m\u001b[0;34m[\u001b[0m\u001b[0mx\u001b[0m\u001b[0;34m]\u001b[0m\u001b[0;34m)\u001b[0m\u001b[0;34m/\u001b[0m\u001b[0mstd\u001b[0m\u001b[0;34m[\u001b[0m\u001b[0mx\u001b[0m\u001b[0;34m]\u001b[0m\u001b[0;34m)\u001b[0m\u001b[0;34m\u001b[0m\u001b[0m\n",
      "\u001b[0;31mNameError\u001b[0m: name 'bct_rand_mod_list' is not defined"
     ]
    }
   ],
   "source": [
    "mean={}\n",
    "std={}\n",
    "z={}\n",
    "for x in domains:\n",
    "    mean[x]=np.mean(bct_rand_mod_list[x])\n",
    "    std[x]=np.std(bct_rand_mod_list[x])\n",
    "    z[x]=((bct_mod[x][1]-mean[x])/std[x])\n",
    "    if z[x] > 1.96:\n",
    "        print x, '| Q =', bct_mod[x][1], '| Z =', z[x], '| M =', mean[x]"
   ]
  },
  {
   "cell_type": "markdown",
   "metadata": {
    "deletable": true,
    "editable": true
   },
   "source": [
    "Save Partition as BrainNet File"
   ]
  },
  {
   "cell_type": "code",
   "execution_count": null,
   "metadata": {
    "collapsed": true,
    "deletable": true,
    "editable": true
   },
   "outputs": [],
   "source": [
    "for x in domains:\n",
    "    myfunctions.node_file(bct_part[x], y=basic_metrics[x]['between_cent'], filename='bct_nothresh_'+x+'_node.csv')\n",
    "    csv_file = '/Users/owner/Desktop/BrainImagingViewer/BrainNetViewer_20171031/Data/NodeFiles/bct_nothresh_'+x+'_node.csv'\n",
    "    txt_file = '/Users/owner/Desktop/BrainImagingViewer/BrainNetViewer_20171031/Data/NodeFiles/Nothresh/bct_nothresh_'+x+'_node.node'\n",
    "    with open(txt_file, \"w\") as my_output_file:\n",
    "        with open(csv_file, \"r\") as my_input_file:\n",
    "            [ my_output_file.write(\" \".join(row)+'\\n') for row in csv.reader(my_input_file)]\n",
    "        my_output_file.close()"
   ]
  },
  {
   "cell_type": "markdown",
   "metadata": {
    "deletable": true,
    "editable": true
   },
   "source": [
    "# Louvain"
   ]
  },
  {
   "cell_type": "markdown",
   "metadata": {
    "deletable": true,
    "editable": true
   },
   "source": [
    "Remove Weight Attribute"
   ]
  },
  {
   "cell_type": "code",
   "execution_count": 9,
   "metadata": {
    "collapsed": true,
    "deletable": true,
    "editable": true
   },
   "outputs": [],
   "source": [
    "G_noweight={x: brainmap.remove_weight_edge_attribute(G_nothresh[x]) for x in domains }"
   ]
  },
  {
   "cell_type": "code",
   "execution_count": 10,
   "metadata": {
    "collapsed": false,
    "deletable": true,
    "editable": true
   },
   "outputs": [
    {
     "name": "stdout",
     "output_type": "stream",
     "text": [
      "Louvain Modularity:  Memory | 0.191723025044 : 5\n",
      "Louvain Modularity:  Working Memory | 0.255494678067 : 9\n",
      "Louvain Modularity:  Attention | 0.231477208761 : 6\n",
      "Louvain Modularity:  Language | 0.288068236851 : 6\n",
      "Louvain Modularity:  Emotion | 0.202194555414 : 7\n",
      "Louvain Modularity:  Vision | 0.348872960647 : 8\n",
      "Louvain Modularity:  Audition | 0.486049183231 : 13\n",
      "Louvain Modularity:  Base | 0.181669234392 : 3\n"
     ]
    }
   ],
   "source": [
    "Louvain_part={}\n",
    "Dendogram={}\n",
    "G_part={}\n",
    "for x in domains:\n",
    "    #G_part[x]=community.best_partition(G_nothresh[x])\n",
    "    #Dendogram[x]=community.generate_dendrogram(G_nothresh[x])\n",
    "    workdir='/Users/owner/PFC_MetaConnectome/Results/Modularity_nothresh/Louvain/'\n",
    "    filename='Louvain_part_'+x+'_nothresh.pck'\n",
    "    output=workdir+filename\n",
    "    #pickle.dump (G_part[x], open(output, 'wb'))\n",
    "    G_part[x]=pickle.load(open(output, 'rb'))\n",
    "    Louvain_part[x]=brainmap.make_brainx_style_partition(G_part[x])\n",
    "    print \"Louvain Modularity: \", x, '|', community.modularity(G_part[x], G_nothresh[x]),':', len(Louvain_part[x])"
   ]
  },
  {
   "cell_type": "markdown",
   "metadata": {
    "deletable": true,
    "editable": true
   },
   "source": [
    "Mutual Information Matrix"
   ]
  },
  {
   "cell_type": "code",
   "execution_count": 11,
   "metadata": {
    "collapsed": false,
    "deletable": true,
    "editable": true
   },
   "outputs": [
    {
     "data": {
      "text/plain": [
       "<matplotlib.colorbar.Colorbar at 0x1206eced0>"
      ]
     },
     "execution_count": 11,
     "metadata": {},
     "output_type": "execute_result"
    },
    {
     "data": {
      "image/png": "[encoded data removed]",
      "text/plain": [
       "<matplotlib.figure.Figure at 0x1237ba310>"
      ]
     },
     "metadata": {},
     "output_type": "display_data"
    }
   ],
   "source": [
    "mutual_matrix_lou=np.zeros([len(domains),len(domains)])\n",
    "for x,y in enumerate(domains):\n",
    "    for a,b in enumerate(domains):\n",
    "        mutual_matrix_lou[x][a]=mod.mutual_information(Louvain_part[y],Louvain_part[b])\n",
    "np.fill_diagonal(mutual_matrix_lou,0)\n",
    "plt.matshow(mutual_matrix_lou)        \n",
    "plt.xticks(range(len(domains)), domains, rotation='90')\n",
    "plt.yticks(range(len(domains)), domains)\n",
    "plt.colorbar()"
   ]
  },
  {
   "cell_type": "code",
   "execution_count": 13,
   "metadata": {
    "collapsed": false,
    "deletable": true,
    "editable": true
   },
   "outputs": [
    {
     "ename": "IOError",
     "evalue": "[Errno 2] No such file or directory: '/Users/owner/Functional_Connectivity/Scripts/lou_rand_mod_list.pck'",
     "output_type": "error",
     "traceback": [
      "\u001b[0;31m---------------------------------------------------------------------------\u001b[0m",
      "\u001b[0;31mIOError\u001b[0m                                   Traceback (most recent call last)",
      "\u001b[0;32m<ipython-input-13-648ae743ab3b>\u001b[0m in \u001b[0;36m<module>\u001b[0;34m()\u001b[0m\n\u001b[0;32m----> 1\u001b[0;31m \u001b[0mlou_rand_mod_list\u001b[0m\u001b[0;34m=\u001b[0m\u001b[0mpickle\u001b[0m\u001b[0;34m.\u001b[0m\u001b[0mload\u001b[0m\u001b[0;34m(\u001b[0m\u001b[0mopen\u001b[0m \u001b[0;34m(\u001b[0m\u001b[0;34m'/Users/owner/Functional_Connectivity/Scripts/lou_rand_mod_list.pck'\u001b[0m\u001b[0;34m,\u001b[0m \u001b[0;34m'rb'\u001b[0m\u001b[0;34m)\u001b[0m\u001b[0;34m)\u001b[0m\u001b[0;34m\u001b[0m\u001b[0m\n\u001b[0m",
      "\u001b[0;31mIOError\u001b[0m: [Errno 2] No such file or directory: '/Users/owner/Functional_Connectivity/Scripts/lou_rand_mod_list.pck'"
     ]
    }
   ],
   "source": [
    "lou_rand_mod_list=pickle.load(open ('/Users/owner/Functional_Connectivity/Scripts/lou_rand_mod_list.pck', 'rb'))"
   ]
  },
  {
   "cell_type": "markdown",
   "metadata": {
    "deletable": true,
    "editable": true
   },
   "source": [
    "Statistical Significance"
   ]
  },
  {
   "cell_type": "code",
   "execution_count": null,
   "metadata": {
    "collapsed": true,
    "deletable": true,
    "editable": true
   },
   "outputs": [],
   "source": [
    "mean={}\n",
    "std={}\n",
    "z={}\n",
    "for x in domains:\n",
    "    mean[x]=np.mean(lou_rand_mod_list[x])\n",
    "    std[x]=np.std(lou_rand_mod_list[x])\n",
    "    z[x]=((community.modularity(G_part[x], G_nothresh[x]))-mean[x])/std[x]\n",
    "    if z[x] > 1.96:\n",
    "        print x, '| Q =', community.modularity(G_part[x], G_nothresh[x]), '| Z =', z[x], '| M =', mean[x]"
   ]
  },
  {
   "cell_type": "markdown",
   "metadata": {
    "deletable": true,
    "editable": true
   },
   "source": [
    "Modular Frequency"
   ]
  },
  {
   "cell_type": "code",
   "execution_count": 12,
   "metadata": {
    "collapsed": true,
    "deletable": true,
    "editable": true
   },
   "outputs": [],
   "source": [
    "nodes=['Cingulum_Ant_R_1','Cingulum_Ant_L_1','Cingulum_Ant_L_2','Cingulum_Ant_L_3','Cingulum_Ant_L_4','Cingulum_Ant_L_5','Cingulum_Ant_L_6','Cingulum_Ant_R_2','Cingulum_Ant_R_3','Cingulum_Ant_R_4','Cingulum_Ant_R_5','Frontal_Inf_Oper_L_1','Frontal_Inf_Oper_L_2','Frontal_Inf_Oper_L_3','Frontal_Inf_Oper_L_4','Frontal_Inf_Oper_R_1','Frontal_Inf_Oper_R_2','Frontal_Inf_Oper_R_3','Frontal_Inf_Oper_R_4','Frontal_Inf_Oper_R_5','Frontal_Inf_Oper_R_6','Frontal_Inf_Orb_L_1','Frontal_Inf_Orb_L_2','Frontal_Inf_Orb_L_3','Frontal_Inf_Orb_L_4','Frontal_Inf_Orb_L_5','Frontal_Inf_Orb_L_6','Frontal_Inf_Orb_L_7','Frontal_Inf_Orb_R_1','Frontal_Inf_Orb_R_2','Frontal_Inf_Orb_R_3','Frontal_Inf_Orb_R_4','Frontal_Inf_Orb_R_5','Frontal_Inf_Orb_R_6','Frontal_Inf_Orb_R_7','Frontal_Inf_Tri_L_1','Frontal_Inf_Tri_L_10','Frontal_Inf_Tri_L_2','Frontal_Inf_Tri_L_3','Frontal_Inf_Tri_L_4','Frontal_Inf_Tri_L_5','Frontal_Inf_Tri_L_6','Frontal_Inf_Tri_L_7','Frontal_Inf_Tri_L_8','Frontal_Inf_Tri_L_9','Frontal_Inf_Tri_R_1','Frontal_Inf_Tri_R_2','Frontal_Inf_Tri_R_3','Frontal_Inf_Tri_R_4','Frontal_Inf_Tri_R_5','Frontal_Inf_Tri_R_6','Frontal_Inf_Tri_R_7','Frontal_Inf_Tri_R_8','Frontal_Inf_Tri_R_9','Frontal_Mid_L_1','Frontal_Mid_L_10','Frontal_Mid_L_11','Frontal_Mid_L_12','Frontal_Mid_L_13','Frontal_Mid_L_14','Frontal_Mid_L_15','Frontal_Mid_L_16','Frontal_Mid_L_17','Frontal_Mid_L_18','Frontal_Mid_L_19','Frontal_Mid_L_2','Frontal_Mid_L_3','Frontal_Mid_L_4','Frontal_Mid_L_5','Frontal_Mid_L_6','Frontal_Mid_L_7','Frontal_Mid_L_8','Frontal_Mid_L_9','Frontal_Mid_Orb_L_1','Frontal_Mid_Orb_L_2','Frontal_Mid_Orb_L_3','Frontal_Mid_Orb_R_1','Frontal_Mid_Orb_R_2','Frontal_Mid_Orb_R_3','Frontal_Mid_Orbb_L_1','Frontal_Mid_Orbb_L_2','Frontal_Mid_Orbb_L_3','Frontal_Mid_Orbb_L_4','Frontal_Mid_Orbb_R_1','Frontal_Mid_Orbb_R_2','Frontal_Mid_Orbb_R_3','Frontal_Mid_Orbb_R_4','Frontal_Mid_R_1','Frontal_Mid_R_10','Frontal_Mid_R_11','Frontal_Mid_R_12','Frontal_Mid_R_13','Frontal_Mid_R_14','Frontal_Mid_R_15','Frontal_Mid_R_16','Frontal_Mid_R_17','Frontal_Mid_R_18','Frontal_Mid_R_19','Frontal_Mid_R_2','Frontal_Mid_R_20','Frontal_Mid_R_3','Frontal_Mid_R_4','Frontal_Mid_R_5','Frontal_Mid_R_6','Frontal_Mid_R_7','Frontal_Mid_R_8','Frontal_Mid_R_9','Frontal_Sup_L_1','Frontal_Sup_L_10','Frontal_Sup_L_11','Frontal_Sup_L_12','Frontal_Sup_L_13','Frontal_Sup_L_14','Frontal_Sup_L_2','Frontal_Sup_L_3','Frontal_Sup_L_4','Frontal_Sup_L_5','Frontal_Sup_L_6','Frontal_Sup_L_7','Frontal_Sup_L_8','Frontal_Sup_L_9','Frontal_Sup_Medial_L_1','Frontal_Sup_Medial_L_10','Frontal_Sup_Medial_L_11','Frontal_Sup_Medial_L_12','Frontal_Sup_Medial_L_2','Frontal_Sup_Medial_L_3','Frontal_Sup_Medial_L_4','Frontal_Sup_Medial_L_5','Frontal_Sup_Medial_L_6','Frontal_Sup_Medial_L_7','Frontal_Sup_Medial_L_8','Frontal_Sup_Medial_L_9','Frontal_Sup_Medial_R_1','Frontal_Sup_Medial_R_2','Frontal_Sup_Medial_R_3','Frontal_Sup_Medial_R_4','Frontal_Sup_Medial_R_5','Frontal_Sup_Medial_R_6','Frontal_Sup_Medial_R_7','Frontal_Sup_Medial_R_8','Frontal_Sup_Medial_R_9','Frontal_Sup_Orb_L_1','Frontal_Sup_Orb_L_2','Frontal_Sup_Orb_L_3','Frontal_Sup_Orb_L_4','Frontal_Sup_Orb_R_1','Frontal_Sup_Orb_R_2','Frontal_Sup_Orb_R_3','Frontal_Sup_Orb_R_4','Frontal_Sup_R_1','Frontal_Sup_R_10','Frontal_Sup_R_11','Frontal_Sup_R_12','Frontal_Sup_R_13','Frontal_Sup_R_14','Frontal_Sup_R_15','Frontal_Sup_R_16','Frontal_Sup_R_2','Frontal_Sup_R_3','Frontal_Sup_R_4','Frontal_Sup_R_5','Frontal_Sup_R_6','Frontal_Sup_R_7','Frontal_Sup_R_8','Frontal_Sup_R_9','Precentral_L_1','Precentral_L_10','Precentral_L_11','Precentral_L_12','Precentral_L_13','Precentral_L_14','Precentral_L_2','Precentral_L_3','Precentral_L_4','Precentral_L_5','Precentral_L_6','Precentral_L_7','Precentral_L_8','Precentral_L_9','Precentral_R_1','Precentral_R_10','Precentral_R_11','Precentral_R_12','Precentral_R_13','Precentral_R_14','Precentral_R_2','Precentral_R_3','Precentral_R_4','Precentral_R_5','Precentral_R_6','Precentral_R_7','Precentral_R_8','Precentral_R_9','Rectus_L_1','Rectus_L_2','Rectus_L_3','Rectus_R_1','Rectus_R_2','Rectus_R_3','Rolandic_Oper_L_3','Rolandic_Oper_L_4','Rolandic_Oper_R_3','Rolandic_Oper_R_4','Rolandic_Oper_R_5','Supp_Motor_Area_L_1','Supp_Motor_Area_L_2','Supp_Motor_Area_L_3','Supp_Motor_Area_L_4','Supp_Motor_Area_L_5','Supp_Motor_Area_L_6','Supp_Motor_Area_L_7','Supp_Motor_Area_L_8','Supp_Motor_Area_L_9','Supp_Motor_Area_R_1','Supp_Motor_Area_R_2','Supp_Motor_Area_R_3','Supp_Motor_Area_R_4','Supp_Motor_Area_R_5','Supp_Motor_Area_R_6','Supp_Motor_Area_R_7','Supp_Motor_Area_R_8','Supp_Motor_Area_R_9']"
   ]
  },
  {
   "cell_type": "code",
   "execution_count": 13,
   "metadata": {
    "collapsed": true,
    "deletable": true,
    "editable": true
   },
   "outputs": [],
   "source": [
    "modular_freq=np.zeros([223,223])\n",
    "for x in domains:\n",
    "        for h,n in enumerate(nodes):\n",
    "            if n in G_part[x].keys():\n",
    "                for f,m in enumerate(nodes):\n",
    "                    if m in G_part[x].keys():\n",
    "                        if n != m:\n",
    "                            if G_part[x][n]==G_part[x][m]:\n",
    "                                modular_freq[h][f]=modular_freq[h][f]+1\n",
    "                            if modular_freq[h][f]==9:\n",
    "                                print n, m, modular_freq[h][f]"
   ]
  },
  {
   "cell_type": "code",
   "execution_count": 14,
   "metadata": {
    "collapsed": false,
    "deletable": true,
    "editable": true
   },
   "outputs": [
    {
     "data": {
      "text/plain": [
       "<matplotlib.colorbar.Colorbar at 0x1244f6b50>"
      ]
     },
     "execution_count": 14,
     "metadata": {},
     "output_type": "execute_result"
    },
    {
     "data": {
      "image/png": "[encoded data removed]",
      "text/plain": [
       "<matplotlib.figure.Figure at 0x1207e2e10>"
      ]
     },
     "metadata": {},
     "output_type": "display_data"
    }
   ],
   "source": [
    "figu=plt.figure(dpi=100)\n",
    "plt.imshow(modular_freq, interpolation='nearest')\n",
    "plt.colorbar()"
   ]
  },
  {
   "cell_type": "markdown",
   "metadata": {
    "deletable": true,
    "editable": true
   },
   "source": [
    "# Consensus"
   ]
  },
  {
   "cell_type": "code",
   "execution_count": null,
   "metadata": {
    "collapsed": true,
    "deletable": true,
    "editable": true
   },
   "outputs": [],
   "source": [
    "#run if havent created random arrays. If already have, skip\n",
    "random_array={x: myfunctions.random_modular_matrix(G_nothresh[x], iterations=10) for x in domains}"
   ]
  },
  {
   "cell_type": "code",
   "execution_count": null,
   "metadata": {
    "collapsed": true,
    "deletable": true,
    "editable": true
   },
   "outputs": [],
   "source": [
    "for x in domains:\n",
    "    pickle.dump(random_array[x], open ('/Users/owner/PFC_MetaConnectome/Results/Modularity_nothresh/Random_matrix/Random_'+x+'_modular_matrix_nothresh.pck','wb'))"
   ]
  },
  {
   "cell_type": "code",
   "execution_count": 15,
   "metadata": {
    "collapsed": false,
    "deletable": true,
    "editable": true
   },
   "outputs": [
    {
     "name": "stdout",
     "output_type": "stream",
     "text": [
      "Louvain Modularity:  Memory | 0.428652525967 : 3\n",
      "Louvain Modularity:  Working Memory | 0.561950777887 : 5\n",
      "Louvain Modularity:  Attention | 0.407144227041 : 3\n",
      "Louvain Modularity:  Language | 0.34149189454 : 3\n",
      "Louvain Modularity:  Emotion | 0.488740825528 : 4\n",
      "Louvain Modularity:  Vision | 0.445558377449 : 5\n",
      "Louvain Modularity:  Audition | 0.500779216704 : 12\n",
      "Louvain Modularity:  Base | 0.454706535584 : 3\n"
     ]
    }
   ],
   "source": [
    "random_array={x: pickle.load(open ('/Users/owner/PFC_MetaConnectome/Results/Modularity_nothresh/Random_matrix/Random_'+x+'_modular_matrix_nothresh.pck','rb')) for x in domains}\n",
    "consensus_array={x: myfunctions.consensus_modular_matrix(G_nothresh[x], G_part[x], bct_partition[x], random_array[x][1]) for x in domains}\n",
    "n_nodes={x: len(range(nx.number_of_nodes(G_nothresh[x]))) for x in domains}\n",
    "nodes={x: dict(zip(range(n_nodes[x]), G_nothresh[x].nodes())) for x in domains}\n",
    "con_G={x: nx.from_numpy_matrix(consensus_array[x]) for x in domains}\n",
    "con_G={x: nx.relabel_nodes(con_G[x], nodes[x]) for x in domains}\n",
    "con_lou={x: community.best_partition(con_G[x]) for x in domains}\n",
    "con_lou_G={x: brainmap.make_brainx_style_partition(con_lou[x]) for x in domains}\n",
    "for x in domains:\n",
    "    print \"Louvain Modularity: \", x, '|', community.modularity(con_lou[x], con_G[x]),':', len(con_lou_G[x])"
   ]
  },
  {
   "cell_type": "markdown",
   "metadata": {
    "deletable": true,
    "editable": true
   },
   "source": [
    "Mutual Information"
   ]
  },
  {
   "cell_type": "code",
   "execution_count": 16,
   "metadata": {
    "collapsed": false,
    "deletable": true,
    "editable": true
   },
   "outputs": [
    {
     "data": {
      "image/png": "[encoded data removed]",
      "text/plain": [
       "<matplotlib.figure.Figure at 0x124589b90>"
      ]
     },
     "metadata": {},
     "output_type": "display_data"
    }
   ],
   "source": [
    "mutual_matrix_con=np.zeros([len(domains),len(domains)])\n",
    "for x,y in enumerate(domains):\n",
    "    for a,b in enumerate(domains):\n",
    "        mutual_matrix_con[x][a]=mod.mutual_information(con_lou_G[y],con_lou_G[b])\n",
    "np.fill_diagonal(mutual_matrix_con,0)\n",
    "plt.matshow(mutual_matrix_con)        \n",
    "plt.xticks(range(len(domains)), domains, rotation='90')\n",
    "plt.yticks(range(len(domains)), domains)\n",
    "plt.colorbar()\n",
    "plt.savefig('/Users/owner/PFC_MetaConnectome/Results/Consensus_Mutual_Mat.jpg')"
   ]
  },
  {
   "cell_type": "markdown",
   "metadata": {
    "deletable": true,
    "editable": true
   },
   "source": [
    "### Second Louvain Pass For Task General Consensus"
   ]
  },
  {
   "cell_type": "code",
   "execution_count": 17,
   "metadata": {
    "collapsed": false,
    "deletable": true,
    "editable": true
   },
   "outputs": [],
   "source": [
    "out_nodes = []\n",
    "for mod in con_lou_G['Base']:\n",
    "    for node in mod:\n",
    "        if node not in con_lou_G['Base'][1]:\n",
    "            out_nodes.append(node)"
   ]
  },
  {
   "cell_type": "code",
   "execution_count": 18,
   "metadata": {
    "collapsed": true,
    "deletable": true,
    "editable": true
   },
   "outputs": [],
   "source": [
    "copy_net = con_G['Base'].copy()\n",
    "copy_net.remove_nodes_from(out_nodes)"
   ]
  },
  {
   "cell_type": "code",
   "execution_count": 19,
   "metadata": {
    "collapsed": false,
    "deletable": true,
    "editable": true
   },
   "outputs": [],
   "source": [
    "secondPass_part = community.best_partition(copy_net)\n",
    "secondPass_G = brainmap.make_brainx_style_partition(secondPass_part)"
   ]
  },
  {
   "cell_type": "markdown",
   "metadata": {
    "deletable": true,
    "editable": true
   },
   "source": [
    "BrainNet Partition File"
   ]
  },
  {
   "cell_type": "code",
   "execution_count": 20,
   "metadata": {
    "collapsed": true,
    "deletable": true,
    "editable": true
   },
   "outputs": [
    {
     "ename": "NameError",
     "evalue": "name 'basic_metrics' is not defined",
     "output_type": "error",
     "traceback": [
      "\u001b[0;31m---------------------------------------------------------------------------\u001b[0m",
      "\u001b[0;31mNameError\u001b[0m                                 Traceback (most recent call last)",
      "\u001b[0;32m<ipython-input-20-b5d396618760>\u001b[0m in \u001b[0;36m<module>\u001b[0;34m()\u001b[0m\n\u001b[1;32m      1\u001b[0m \u001b[0;32mfor\u001b[0m \u001b[0mx\u001b[0m \u001b[0;32min\u001b[0m \u001b[0mdomains\u001b[0m\u001b[0;34m:\u001b[0m\u001b[0;34m\u001b[0m\u001b[0m\n\u001b[0;32m----> 2\u001b[0;31m     \u001b[0mmyfunctions\u001b[0m\u001b[0;34m.\u001b[0m\u001b[0mnode_file\u001b[0m\u001b[0;34m(\u001b[0m\u001b[0mcon_lou\u001b[0m\u001b[0;34m[\u001b[0m\u001b[0mx\u001b[0m\u001b[0;34m]\u001b[0m\u001b[0;34m,\u001b[0m \u001b[0my\u001b[0m\u001b[0;34m=\u001b[0m\u001b[0mbasic_metrics\u001b[0m\u001b[0;34m[\u001b[0m\u001b[0mx\u001b[0m\u001b[0;34m]\u001b[0m\u001b[0;34m[\u001b[0m\u001b[0;34m'between_cent'\u001b[0m\u001b[0;34m]\u001b[0m\u001b[0;34m,\u001b[0m \u001b[0mfilename\u001b[0m\u001b[0;34m=\u001b[0m\u001b[0;34m'Consensus_nothresh_nosim_'\u001b[0m\u001b[0;34m+\u001b[0m\u001b[0mx\u001b[0m\u001b[0;34m+\u001b[0m\u001b[0;34m'.csv'\u001b[0m \u001b[0;34m)\u001b[0m\u001b[0;34m\u001b[0m\u001b[0m\n\u001b[0m\u001b[1;32m      3\u001b[0m     \u001b[0mcsv_file\u001b[0m \u001b[0;34m=\u001b[0m \u001b[0;34m'/Users/owner/Desktop/BrainImagingViewer/BrainNetViewer_20171031/Data/NodeFiles/Consensus_nothresh_nosim_'\u001b[0m\u001b[0;34m+\u001b[0m\u001b[0mx\u001b[0m\u001b[0;34m+\u001b[0m\u001b[0;34m'.csv'\u001b[0m\u001b[0;34m\u001b[0m\u001b[0m\n\u001b[1;32m      4\u001b[0m     \u001b[0mtxt_file\u001b[0m \u001b[0;34m=\u001b[0m \u001b[0;34m'/Users/owner/Desktop/BrainImagingViewer/BrainNetViewer_20171031/Data/NodeFiles/Consensus/Consensus_nothresh_nosim_'\u001b[0m\u001b[0;34m+\u001b[0m\u001b[0mx\u001b[0m\u001b[0;34m+\u001b[0m\u001b[0;34m'.node'\u001b[0m\u001b[0;34m\u001b[0m\u001b[0m\n\u001b[1;32m      5\u001b[0m     \u001b[0;32mwith\u001b[0m \u001b[0mopen\u001b[0m\u001b[0;34m(\u001b[0m\u001b[0mtxt_file\u001b[0m\u001b[0;34m,\u001b[0m \u001b[0;34m\"w\"\u001b[0m\u001b[0;34m)\u001b[0m \u001b[0;32mas\u001b[0m \u001b[0mmy_output_file\u001b[0m\u001b[0;34m:\u001b[0m\u001b[0;34m\u001b[0m\u001b[0m\n",
      "\u001b[0;31mNameError\u001b[0m: name 'basic_metrics' is not defined"
     ]
    }
   ],
   "source": [
    "for x in domains:\n",
    "    myfunctions.node_file(con_lou[x], y=basic_metrics[x]['between_cent'], filename='Consensus_nothresh_nosim_'+x+'.csv' )\n",
    "    csv_file = '/Users/owner/Desktop/BrainImagingViewer/BrainNetViewer_20171031/Data/NodeFiles/Consensus_nothresh_nosim_'+x+'.csv' \n",
    "    txt_file = '/Users/owner/Desktop/BrainImagingViewer/BrainNetViewer_20171031/Data/NodeFiles/Consensus/Consensus_nothresh_nosim_'+x+'.node'\n",
    "    with open(txt_file, \"w\") as my_output_file:\n",
    "        with open(csv_file, \"r\") as my_input_file:\n",
    "            [ my_output_file.write(\" \".join(row)+'\\n') for row in csv.reader(my_input_file)]\n",
    "        my_output_file.close()"
   ]
  },
  {
   "cell_type": "markdown",
   "metadata": {
    "deletable": true,
    "editable": true
   },
   "source": [
    "### Consensus on only Lateral Nodes"
   ]
  },
  {
   "cell_type": "code",
   "execution_count": 21,
   "metadata": {
    "collapsed": false,
    "deletable": true,
    "editable": true
   },
   "outputs": [],
   "source": [
    "#Lateral Regions: Mid, Sup, Inf_Oper/Tri\n",
    "side = ['R','L']\n",
    "sub_reg = ['Mid','Sup','Inf_Oper','Inf_Tri']\n",
    "matches = [x + '_' + y for x in sub_reg for y in side]\n",
    "\n",
    "lat_PFC = dict()\n",
    "for x in domains:\n",
    "    copy_net = G_nothresh[x].copy()\n",
    "    non_laterals = []\n",
    "    for node in copy_net.nodes():\n",
    "        if not any(r in node for r in matches):\n",
    "            non_laterals.append(node)\n",
    "    lat_PFC[x] = copy_net\n",
    "    lat_PFC[x].remove_nodes_from(non_laterals)"
   ]
  },
  {
   "cell_type": "code",
   "execution_count": 22,
   "metadata": {
    "collapsed": false,
    "deletable": true,
    "editable": true
   },
   "outputs": [
    {
     "name": "stdout",
     "output_type": "stream",
     "text": [
      "Memory | 0.164956316676 | 3\n",
      "Working Memory | 0.227111643047 | 6\n",
      "Attention | 0.1674187318 | 7\n",
      "Language | 0.364227340955 | 4\n",
      "Emotion | 0.164027709032 | 6\n",
      "Vision | 0.315266436498 | 8\n",
      "Audition | 0.452302469248 | 6\n",
      "Base | 0.145237329252 | 4\n"
     ]
    }
   ],
   "source": [
    "#Run modularity algorithms on separately\n",
    "#BCT Newman\n",
    "bctLat_mod={}\n",
    "bctLat_part={}\n",
    "bctLat_partition={}\n",
    "for x in domains:\n",
    "    bctLat_mod[x]=bct.modularity_und(np.squeeze(np.asarray(nx.to_numpy_matrix(lat_PFC[x]))))\n",
    "    bctLat_part[x]=dict(zip(lat_PFC[x].nodes(), bctLat_mod[x][0]))\n",
    "    bctLat_partition[x]=brainmap.make_brainx_style_partition(bctLat_part[x])\n",
    "    print x, '|', bctLat_mod[x][1],'|',len(bctLat_partition[x])"
   ]
  },
  {
   "cell_type": "code",
   "execution_count": 23,
   "metadata": {
    "collapsed": false,
    "deletable": true,
    "editable": true
   },
   "outputs": [
    {
     "name": "stdout",
     "output_type": "stream",
     "text": [
      "Louvain Modularity:  Memory | 0.189801164655 : 5\n",
      "Louvain Modularity:  Working Memory | 0.250637531103 : 9\n",
      "Louvain Modularity:  Attention | 0.205590179374 : 8\n",
      "Louvain Modularity:  Language | 0.382503806773 : 6\n",
      "Louvain Modularity:  Emotion | 0.219348171982 : 7\n",
      "Louvain Modularity:  Vision | 0.386645669241 : 9\n",
      "Louvain Modularity:  Audition | 0.470646763427 : 11\n",
      "Louvain Modularity:  Base | 0.15847410017 : 3\n"
     ]
    }
   ],
   "source": [
    "#Louvain\n",
    "louLat_part={}\n",
    "gLat_part={}\n",
    "for x in domains:\n",
    "    gLat_part[x]=community.best_partition(lat_PFC[x])\n",
    "    louLat_part[x]=brainmap.make_brainx_style_partition(gLat_part[x])\n",
    "    print \"Louvain Modularity: \", x, '|', community.modularity(gLat_part[x], lat_PFC[x]),':', len(louLat_part[x])"
   ]
  },
  {
   "cell_type": "code",
   "execution_count": 24,
   "metadata": {
    "collapsed": true,
    "deletable": true,
    "editable": true
   },
   "outputs": [],
   "source": [
    "#Consensus Time\n",
    "randomLat_array={x: myfunctions.random_modular_matrix(lat_PFC[x], iterations=10) for x in domains}"
   ]
  },
  {
   "cell_type": "code",
   "execution_count": 25,
   "metadata": {
    "collapsed": false,
    "deletable": true,
    "editable": true
   },
   "outputs": [
    {
     "name": "stdout",
     "output_type": "stream",
     "text": [
      "Louvain Modularity:  Memory | 0.488432294765 : 3\n",
      "Louvain Modularity:  Working Memory | 0.522736846738 : 4\n",
      "Louvain Modularity:  Attention | 0.394399754171 : 5\n",
      "Louvain Modularity:  Language | 0.467027586343 : 4\n",
      "Louvain Modularity:  Emotion | 0.341509374643 : 5\n",
      "Louvain Modularity:  Vision | 0.455989552383 : 5\n",
      "Louvain Modularity:  Audition | 0.341225436482 : 6\n",
      "Louvain Modularity:  Base | 0.577810446281 : 3\n"
     ]
    }
   ],
   "source": [
    "consensusLat_array={x: myfunctions.consensus_modular_matrix(lat_PFC[x], gLat_part[x], bctLat_partition[x], randomLat_array[x][1]) for x in domains}\n",
    "n_nodes={x: len(range(nx.number_of_nodes(lat_PFC[x]))) for x in domains}\n",
    "nodes={x: dict(zip(range(n_nodes[x]), lat_PFC[x].nodes())) for x in domains}\n",
    "conLat_G={x: nx.from_numpy_matrix(consensusLat_array[x]) for x in domains}\n",
    "conLat_G={x: nx.relabel_nodes(conLat_G[x], nodes[x]) for x in domains}\n",
    "conLat_lou={x: community.best_partition(conLat_G[x]) for x in domains}\n",
    "conLat_lou_G={x: brainmap.make_brainx_style_partition(conLat_lou[x]) for x in domains}\n",
    "for x in domains:\n",
    "    print \"Louvain Modularity: \", x, '|', community.modularity(conLat_lou[x], conLat_G[x]),':', len(conLat_lou_G[x])"
   ]
  },
  {
   "cell_type": "code",
   "execution_count": 26,
   "metadata": {
    "collapsed": true,
    "deletable": true,
    "editable": true
   },
   "outputs": [],
   "source": [
    "lat_Part = dict()\n",
    "lat_BxPart = dict()\n",
    "for x in domains:\n",
    "    lat_Part[x] = community.best_partition(lat_PFC[x])\n",
    "    lat_BxPart[x] = brainmap.make_brainx_style_partition(lat_Part[x])"
   ]
  },
  {
   "cell_type": "markdown",
   "metadata": {},
   "source": [
    "# Each Lateral Region and 2nd Pass Consensus Mod Assignment"
   ]
  },
  {
   "cell_type": "code",
   "execution_count": 40,
   "metadata": {
    "collapsed": false
   },
   "outputs": [
    {
     "data": {
      "text/html": [
       "<div>\n",
       "<style scoped>\n",
       "    .dataframe tbody tr th:only-of-type {\n",
       "        vertical-align: middle;\n",
       "    }\n",
       "\n",
       "    .dataframe tbody tr th {\n",
       "        vertical-align: top;\n",
       "    }\n",
       "\n",
       "    .dataframe thead th {\n",
       "        text-align: right;\n",
       "    }\n",
       "</style>\n",
       "<table border=\"1\" class=\"dataframe\">\n",
       "  <thead>\n",
       "    <tr style=\"text-align: right;\">\n",
       "      <th></th>\n",
       "      <th>0</th>\n",
       "    </tr>\n",
       "  </thead>\n",
       "  <tbody>\n",
       "    <tr>\n",
       "      <th>Frontal_Mid_R_9</th>\n",
       "      <td>2</td>\n",
       "    </tr>\n",
       "    <tr>\n",
       "      <th>Frontal_Sup_L_1</th>\n",
       "      <td>0</td>\n",
       "    </tr>\n",
       "    <tr>\n",
       "      <th>Frontal_Mid_R_18</th>\n",
       "      <td>1</td>\n",
       "    </tr>\n",
       "    <tr>\n",
       "      <th>Frontal_Mid_R_19</th>\n",
       "      <td>0</td>\n",
       "    </tr>\n",
       "    <tr>\n",
       "      <th>Frontal_Sup_L_4</th>\n",
       "      <td>0</td>\n",
       "    </tr>\n",
       "    <tr>\n",
       "      <th>Frontal_Sup_L_5</th>\n",
       "      <td>0</td>\n",
       "    </tr>\n",
       "    <tr>\n",
       "      <th>Frontal_Sup_L_6</th>\n",
       "      <td>1</td>\n",
       "    </tr>\n",
       "    <tr>\n",
       "      <th>Frontal_Sup_L_7</th>\n",
       "      <td>1</td>\n",
       "    </tr>\n",
       "    <tr>\n",
       "      <th>Frontal_Mid_R_12</th>\n",
       "      <td>1</td>\n",
       "    </tr>\n",
       "    <tr>\n",
       "      <th>Frontal_Mid_R_13</th>\n",
       "      <td>1</td>\n",
       "    </tr>\n",
       "    <tr>\n",
       "      <th>Frontal_Mid_R_10</th>\n",
       "      <td>0</td>\n",
       "    </tr>\n",
       "    <tr>\n",
       "      <th>Frontal_Mid_R_11</th>\n",
       "      <td>2</td>\n",
       "    </tr>\n",
       "    <tr>\n",
       "      <th>Frontal_Mid_R_16</th>\n",
       "      <td>1</td>\n",
       "    </tr>\n",
       "    <tr>\n",
       "      <th>Frontal_Mid_R_17</th>\n",
       "      <td>1</td>\n",
       "    </tr>\n",
       "    <tr>\n",
       "      <th>Frontal_Mid_R_14</th>\n",
       "      <td>2</td>\n",
       "    </tr>\n",
       "    <tr>\n",
       "      <th>Frontal_Mid_R_15</th>\n",
       "      <td>1</td>\n",
       "    </tr>\n",
       "    <tr>\n",
       "      <th>Frontal_Sup_R_2</th>\n",
       "      <td>0</td>\n",
       "    </tr>\n",
       "    <tr>\n",
       "      <th>Frontal_Sup_R_3</th>\n",
       "      <td>0</td>\n",
       "    </tr>\n",
       "    <tr>\n",
       "      <th>Frontal_Sup_L_3</th>\n",
       "      <td>0</td>\n",
       "    </tr>\n",
       "    <tr>\n",
       "      <th>Frontal_Sup_R_6</th>\n",
       "      <td>0</td>\n",
       "    </tr>\n",
       "    <tr>\n",
       "      <th>Frontal_Sup_R_7</th>\n",
       "      <td>1</td>\n",
       "    </tr>\n",
       "    <tr>\n",
       "      <th>Frontal_Sup_R_4</th>\n",
       "      <td>1</td>\n",
       "    </tr>\n",
       "    <tr>\n",
       "      <th>Frontal_Sup_R_5</th>\n",
       "      <td>0</td>\n",
       "    </tr>\n",
       "    <tr>\n",
       "      <th>Frontal_Inf_Tri_R_1</th>\n",
       "      <td>2</td>\n",
       "    </tr>\n",
       "    <tr>\n",
       "      <th>Frontal_Sup_R_8</th>\n",
       "      <td>1</td>\n",
       "    </tr>\n",
       "    <tr>\n",
       "      <th>Frontal_Sup_R_9</th>\n",
       "      <td>1</td>\n",
       "    </tr>\n",
       "    <tr>\n",
       "      <th>Frontal_Inf_Tri_R_5</th>\n",
       "      <td>2</td>\n",
       "    </tr>\n",
       "    <tr>\n",
       "      <th>Frontal_Inf_Tri_R_4</th>\n",
       "      <td>2</td>\n",
       "    </tr>\n",
       "    <tr>\n",
       "      <th>Frontal_Inf_Tri_R_7</th>\n",
       "      <td>2</td>\n",
       "    </tr>\n",
       "    <tr>\n",
       "      <th>Frontal_Inf_Tri_R_6</th>\n",
       "      <td>2</td>\n",
       "    </tr>\n",
       "    <tr>\n",
       "      <th>...</th>\n",
       "      <td>...</td>\n",
       "    </tr>\n",
       "    <tr>\n",
       "      <th>Frontal_Inf_Tri_L_10</th>\n",
       "      <td>2</td>\n",
       "    </tr>\n",
       "    <tr>\n",
       "      <th>Frontal_Mid_L_8</th>\n",
       "      <td>0</td>\n",
       "    </tr>\n",
       "    <tr>\n",
       "      <th>Frontal_Mid_L_9</th>\n",
       "      <td>2</td>\n",
       "    </tr>\n",
       "    <tr>\n",
       "      <th>Frontal_Inf_Tri_R_3</th>\n",
       "      <td>2</td>\n",
       "    </tr>\n",
       "    <tr>\n",
       "      <th>Frontal_Inf_Tri_R_2</th>\n",
       "      <td>2</td>\n",
       "    </tr>\n",
       "    <tr>\n",
       "      <th>Frontal_Mid_L_5</th>\n",
       "      <td>1</td>\n",
       "    </tr>\n",
       "    <tr>\n",
       "      <th>Frontal_Inf_Tri_L_4</th>\n",
       "      <td>2</td>\n",
       "    </tr>\n",
       "    <tr>\n",
       "      <th>Frontal_Inf_Tri_L_3</th>\n",
       "      <td>0</td>\n",
       "    </tr>\n",
       "    <tr>\n",
       "      <th>Frontal_Inf_Tri_L_2</th>\n",
       "      <td>0</td>\n",
       "    </tr>\n",
       "    <tr>\n",
       "      <th>Frontal_Inf_Tri_L_1</th>\n",
       "      <td>2</td>\n",
       "    </tr>\n",
       "    <tr>\n",
       "      <th>Frontal_Inf_Tri_L_7</th>\n",
       "      <td>2</td>\n",
       "    </tr>\n",
       "    <tr>\n",
       "      <th>Frontal_Inf_Tri_L_6</th>\n",
       "      <td>2</td>\n",
       "    </tr>\n",
       "    <tr>\n",
       "      <th>Frontal_Inf_Tri_L_5</th>\n",
       "      <td>2</td>\n",
       "    </tr>\n",
       "    <tr>\n",
       "      <th>Frontal_Mid_R_20</th>\n",
       "      <td>1</td>\n",
       "    </tr>\n",
       "    <tr>\n",
       "      <th>Frontal_Inf_Tri_L_9</th>\n",
       "      <td>2</td>\n",
       "    </tr>\n",
       "    <tr>\n",
       "      <th>Frontal_Inf_Tri_L_8</th>\n",
       "      <td>2</td>\n",
       "    </tr>\n",
       "    <tr>\n",
       "      <th>Frontal_Inf_Oper_L_1</th>\n",
       "      <td>2</td>\n",
       "    </tr>\n",
       "    <tr>\n",
       "      <th>Frontal_Inf_Oper_L_3</th>\n",
       "      <td>2</td>\n",
       "    </tr>\n",
       "    <tr>\n",
       "      <th>Frontal_Inf_Oper_L_2</th>\n",
       "      <td>2</td>\n",
       "    </tr>\n",
       "    <tr>\n",
       "      <th>Frontal_Inf_Oper_L_4</th>\n",
       "      <td>2</td>\n",
       "    </tr>\n",
       "    <tr>\n",
       "      <th>Frontal_Mid_L_14</th>\n",
       "      <td>1</td>\n",
       "    </tr>\n",
       "    <tr>\n",
       "      <th>Frontal_Mid_L_15</th>\n",
       "      <td>0</td>\n",
       "    </tr>\n",
       "    <tr>\n",
       "      <th>Frontal_Mid_L_16</th>\n",
       "      <td>0</td>\n",
       "    </tr>\n",
       "    <tr>\n",
       "      <th>Frontal_Mid_L_17</th>\n",
       "      <td>2</td>\n",
       "    </tr>\n",
       "    <tr>\n",
       "      <th>Frontal_Mid_L_10</th>\n",
       "      <td>2</td>\n",
       "    </tr>\n",
       "    <tr>\n",
       "      <th>Frontal_Mid_L_11</th>\n",
       "      <td>1</td>\n",
       "    </tr>\n",
       "    <tr>\n",
       "      <th>Frontal_Mid_L_12</th>\n",
       "      <td>0</td>\n",
       "    </tr>\n",
       "    <tr>\n",
       "      <th>Frontal_Mid_L_13</th>\n",
       "      <td>0</td>\n",
       "    </tr>\n",
       "    <tr>\n",
       "      <th>Frontal_Mid_L_18</th>\n",
       "      <td>2</td>\n",
       "    </tr>\n",
       "    <tr>\n",
       "      <th>Frontal_Mid_L_19</th>\n",
       "      <td>0</td>\n",
       "    </tr>\n",
       "  </tbody>\n",
       "</table>\n",
       "<p>98 rows × 1 columns</p>\n",
       "</div>"
      ],
      "text/plain": [
       "                      0\n",
       "Frontal_Mid_R_9       2\n",
       "Frontal_Sup_L_1       0\n",
       "Frontal_Mid_R_18      1\n",
       "Frontal_Mid_R_19      0\n",
       "Frontal_Sup_L_4       0\n",
       "Frontal_Sup_L_5       0\n",
       "Frontal_Sup_L_6       1\n",
       "Frontal_Sup_L_7       1\n",
       "Frontal_Mid_R_12      1\n",
       "Frontal_Mid_R_13      1\n",
       "Frontal_Mid_R_10      0\n",
       "Frontal_Mid_R_11      2\n",
       "Frontal_Mid_R_16      1\n",
       "Frontal_Mid_R_17      1\n",
       "Frontal_Mid_R_14      2\n",
       "Frontal_Mid_R_15      1\n",
       "Frontal_Sup_R_2       0\n",
       "Frontal_Sup_R_3       0\n",
       "Frontal_Sup_L_3       0\n",
       "Frontal_Sup_R_6       0\n",
       "Frontal_Sup_R_7       1\n",
       "Frontal_Sup_R_4       1\n",
       "Frontal_Sup_R_5       0\n",
       "Frontal_Inf_Tri_R_1   2\n",
       "Frontal_Sup_R_8       1\n",
       "Frontal_Sup_R_9       1\n",
       "Frontal_Inf_Tri_R_5   2\n",
       "Frontal_Inf_Tri_R_4   2\n",
       "Frontal_Inf_Tri_R_7   2\n",
       "Frontal_Inf_Tri_R_6   2\n",
       "...                  ..\n",
       "Frontal_Inf_Tri_L_10  2\n",
       "Frontal_Mid_L_8       0\n",
       "Frontal_Mid_L_9       2\n",
       "Frontal_Inf_Tri_R_3   2\n",
       "Frontal_Inf_Tri_R_2   2\n",
       "Frontal_Mid_L_5       1\n",
       "Frontal_Inf_Tri_L_4   2\n",
       "Frontal_Inf_Tri_L_3   0\n",
       "Frontal_Inf_Tri_L_2   0\n",
       "Frontal_Inf_Tri_L_1   2\n",
       "Frontal_Inf_Tri_L_7   2\n",
       "Frontal_Inf_Tri_L_6   2\n",
       "Frontal_Inf_Tri_L_5   2\n",
       "Frontal_Mid_R_20      1\n",
       "Frontal_Inf_Tri_L_9   2\n",
       "Frontal_Inf_Tri_L_8   2\n",
       "Frontal_Inf_Oper_L_1  2\n",
       "Frontal_Inf_Oper_L_3  2\n",
       "Frontal_Inf_Oper_L_2  2\n",
       "Frontal_Inf_Oper_L_4  2\n",
       "Frontal_Mid_L_14      1\n",
       "Frontal_Mid_L_15      0\n",
       "Frontal_Mid_L_16      0\n",
       "Frontal_Mid_L_17      2\n",
       "Frontal_Mid_L_10      2\n",
       "Frontal_Mid_L_11      1\n",
       "Frontal_Mid_L_12      0\n",
       "Frontal_Mid_L_13      0\n",
       "Frontal_Mid_L_18      2\n",
       "Frontal_Mid_L_19      0\n",
       "\n",
       "[98 rows x 1 columns]"
      ]
     },
     "execution_count": 40,
     "metadata": {},
     "output_type": "execute_result"
    }
   ],
   "source": [
    "#Each Lateral Region and Second pass community assignment\n",
    "pd.DataFrame.from_dict(lat_Part['Base'], orient = 'index')"
   ]
  },
  {
   "cell_type": "code",
   "execution_count": 48,
   "metadata": {
    "collapsed": false,
    "deletable": true,
    "editable": true
   },
   "outputs": [],
   "source": [
    "df_dict = {}\n",
    "for x in domains:\n",
    "    df = pd.read_csv(path, header=None, names=['x','y','z','regions'], sep='\\t')\n",
    "    df.insert(4,'module',0,True)\n",
    "    df.insert(5,'size',0,True)\n",
    "    df.insert(6,'nodes',0,True)\n",
    "    df=df[['x','y','z','module','size','regions','nodes']]\n",
    "    \n",
    "    df_left_lateral = []\n",
    "    df_right_lateral = []\n",
    "    \n",
    "    df_left_med = []\n",
    "    df_right_med = []\n",
    "    for region in conLat_lou[x]:\n",
    "        for n in range(len(df)):\n",
    "            if region == df.loc[n,'regions']:\n",
    "                df.loc[n,'nodes'] = region\n",
    "                df.loc[n, 'module'] = conLat_lou[x][region]\n",
    "                df.loc[n, 'size'] = 1\n",
    "    df=df[['x','y','z','module','size','nodes']]\n",
    "    df_dict[x]=df[df.nodes != 0]\n",
    "    df_dict[x].index=range(len(df_dict[x]))\n",
    "    \n",
    "    df_left_lateral = df_dict[x].copy()\n",
    "    df_right_lateral = df_dict[x].copy()\n",
    "    df_left_med = df_dict[x].copy()\n",
    "    df_right_med= df_dict[x].copy()\n",
    "    for n,node in enumerate(df_dict[x]['nodes']):\n",
    "\n",
    "        if  sum([node.find('R'),node.find('Med')]) != -2:\n",
    "            df_left_lateral.loc[n,'nodes'] = 0\n",
    "        if sum([node.find('L'),node.find('Med')]) != -2:\n",
    "            df_right_lateral.loc[n,'nodes'] = 0  \n",
    "                \n",
    "    #seperate right and left for clearer images\n",
    "    df_left_lateral = df_left_lateral[df_left_lateral.nodes != 0]\n",
    "    df_right_lateral = df_right_lateral[df_right_lateral.nodes !=0]\n",
    "  \n",
    "    df_left_lateral.to_csv(outdir+'Iso_Con_'+x+'_Lateral_L.csv', header=False, index=False, index_label=False)\n",
    "    df_right_lateral.to_csv(outdir+'Iso_Con_'+x+'_Lateral_R.csv', header=False, index=False, index_label=False)\n",
    "   \n",
    "    for side in ['L','R']:\n",
    "        csv_file = outdir+'Iso_Con_'+x+'_Lateral_'+side+'.csv'\n",
    "        txt_file = '/Users/owner/Documents/MATLAB/Add_Ons/BrainNetViewer_20171031/Data/NodeFiles/Nothresh/Bilateral/Iso_Lat/Iso_Lou_'+x+'_Lateral_'+side+'.node'\n",
    "        with open(txt_file, \"w\") as my_output_file:\n",
    "            with open(csv_file, \"r\") as my_input_file:\n",
    "                [ my_output_file.write(\" \".join(row)+'\\n') for row in csv.reader(my_input_file)]\n",
    "            my_output_file.close()"
   ]
  },
  {
   "cell_type": "markdown",
   "metadata": {
    "deletable": true,
    "editable": true
   },
   "source": [
    "### Left/Right Images"
   ]
  },
  {
   "cell_type": "code",
   "execution_count": 30,
   "metadata": {
    "collapsed": false,
    "deletable": true,
    "editable": true
   },
   "outputs": [],
   "source": [
    "df_dict = {}\n",
    "for x in domains:\n",
    "    df = pd.read_csv(path, header=None, names=['x','y','z','regions'], sep='\\t')\n",
    "    df.insert(4,'module',0,True)\n",
    "    df.insert(5,'size',0,True)\n",
    "    df.insert(6,'nodes',0,True)\n",
    "    df=df[['x','y','z','module','size','regions','nodes']]\n",
    "    \n",
    "    df_left_lateral = []\n",
    "    df_right_lateral = []\n",
    "    \n",
    "    df_left_med = []\n",
    "    df_right_med = []\n",
    "    for region in con_lou[x]:\n",
    "        for n in range(len(df)):\n",
    "            if region == df.loc[n,'regions']:\n",
    "                df.loc[n,'nodes'] = region\n",
    "                df.loc[n, 'module'] = con_lou[x][region]\n",
    "                df.loc[n, 'size'] = 1\n",
    "    df=df[['x','y','z','module','size','nodes']]\n",
    "    df_dict[x]=df[df.nodes != 0]\n",
    "    df_dict[x].index=range(len(df_dict[x]))\n",
    "    \n",
    "    df_left_lateral = df_dict[x].copy()\n",
    "    df_right_lateral = df_dict[x].copy()\n",
    "    df_left_med = df_dict[x].copy()\n",
    "    df_right_med= df_dict[x].copy()\n",
    "    for n,node in enumerate(df_dict[x]['nodes']):\n",
    "\n",
    "        if  sum([node.find('R'),node.find('Med')]) != -2:\n",
    "            df_left_lateral.loc[n,'nodes'] = 0\n",
    "        if sum([node.find('L'),node.find('Med')]) != -2:\n",
    "            df_right_lateral.loc[n,'nodes'] = 0  \n",
    "            \n",
    "        if all(z in node for z in ['L','Med'])==False:\n",
    "            df_left_med.loc[n,'nodes'] = 0\n",
    "            \n",
    "        if all(z in node for z in ['R','Med'])==False:\n",
    "            df_right_med.loc[n,'nodes'] = 0\n",
    "            \n",
    "                \n",
    "    #seperate right and left for clearer images\n",
    "    df_left_lateral = df_left_lateral[df_left_lateral.nodes != 0]\n",
    "    df_right_lateral = df_right_lateral[df_right_lateral.nodes !=0]\n",
    "    \n",
    "    df_left_med = df_left_med[df_left_med.nodes != 0]\n",
    "    df_right_med = df_right_med[df_right_med.nodes != 0]\n",
    "    \n",
    "    \n",
    "    df_left_lateral.to_csv(outdir+'Consensus_'+x+'_Lateral_L.csv', header=False, index=False, index_label=False)\n",
    "    df_right_lateral.to_csv(outdir+'Consensus_'+x+'_Lateral_R.csv', header=False, index=False, index_label=False)\n",
    "    \n",
    "    df_left_med.to_csv(outdir+'Consensus_'+x+'_Med_L.csv', header=False, index=False, index_label=False)\n",
    "    df_right_med.to_csv(outdir+'Consensus_'+x+'_Med_R.csv', header=False, index=False, index_label=False)\n",
    "    \n",
    "    for side in ['L','R']:\n",
    "        for area in ['Lateral','Med']:\n",
    "            csv_file = outdir+'Consensus_'+x+'_'+area+'_'+side+'.csv'\n",
    "            txt_file = '/Users/owner/Documents/MATLAB/Add_Ons/BrainNetViewer_20171031/Data/NodeFiles/Consensus/Consensus_'+x+'_'+area+'_'+side+'.node'\n",
    "            with open(txt_file, \"w\") as my_output_file:\n",
    "                with open(csv_file, \"r\") as my_input_file:\n",
    "                    [ my_output_file.write(\" \".join(row)+'\\n') for row in csv.reader(my_input_file)]\n",
    "                my_output_file.close()\n"
   ]
  },
  {
   "cell_type": "markdown",
   "metadata": {
    "deletable": true,
    "editable": true
   },
   "source": [
    "Second Pass Images"
   ]
  },
  {
   "cell_type": "code",
   "execution_count": 31,
   "metadata": {
    "collapsed": true,
    "deletable": true,
    "editable": true
   },
   "outputs": [],
   "source": [
    "df = pd.read_csv(path, header=None, names=['x','y','z','regions'], sep='\\t')\n",
    "df.insert(4,'module',0,True)\n",
    "df.insert(5,'size',0,True)\n",
    "df.insert(6,'nodes',0,True)\n",
    "df=df[['x','y','z','module','size','regions','nodes']]\n",
    "\n",
    "df_left_lateral = []\n",
    "df_right_lateral = []\n",
    "\n",
    "df_left_med = []\n",
    "df_right_med = []\n",
    "for region in secondPass_part:\n",
    "    for n in range(len(df)):\n",
    "        if region == df.loc[n,'regions']:\n",
    "            df.loc[n,'nodes'] = region\n",
    "            df.loc[n, 'module'] = secondPass_part[region]\n",
    "            df.loc[n, 'size'] = 1\n",
    "df=df[['x','y','z','module','size','nodes']]\n",
    "df_new=df[df.nodes != 0]\n",
    "df_new.index=range(len(df_new))\n",
    "\n",
    "df_left_lateral = df_new.copy()\n",
    "df_right_lateral = df_new.copy()\n",
    "df_left_med = df_new.copy()\n",
    "df_right_med= df_new.copy()\n",
    "for n,node in enumerate(df_new['nodes']):\n",
    "\n",
    "    if  sum([node.find('R'),node.find('Med')]) != -2:\n",
    "        df_left_lateral.loc[n,'nodes'] = 0\n",
    "    if sum([node.find('L'),node.find('Med')]) != -2:\n",
    "        df_right_lateral.loc[n,'nodes'] = 0  \n",
    "\n",
    "    if all(z in node for z in ['L','Med'])==False:\n",
    "        df_left_med.loc[n,'nodes'] = 0\n",
    "\n",
    "    if all(z in node for z in ['R','Med'])==False:\n",
    "        df_right_med.loc[n,'nodes'] = 0\n",
    "\n",
    "\n",
    "#seperate right and left for clearer images\n",
    "df_left_lateral = df_left_lateral[df_left_lateral.nodes != 0]\n",
    "df_right_lateral = df_right_lateral[df_right_lateral.nodes !=0]\n",
    "\n",
    "df_left_med = df_left_med[df_left_med.nodes != 0]\n",
    "df_right_med = df_right_med[df_right_med.nodes != 0]\n",
    "\n",
    "\n",
    "df_left_lateral.to_csv(outdir+'Consensus_Mod2_SecondPass_Lateral_L.csv', header=False, index=False, index_label=False)\n",
    "df_right_lateral.to_csv(outdir+'Consensus_Mod2_SecondPass_Lateral_R.csv', header=False, index=False, index_label=False)\n",
    "\n",
    "df_left_med.to_csv(outdir+'Consensus_Mod2_SecondPass_Med_L.csv', header=False, index=False, index_label=False)\n",
    "df_right_med.to_csv(outdir+'Consensus_Mod2_SecondPass_Med_R.csv', header=False, index=False, index_label=False)\n",
    "\n",
    "for side in ['L','R']:\n",
    "    for area in ['Lateral','Med']:\n",
    "        csv_file = outdir+'Consensus_Mod2_SecondPass_'+area+'_'+side+'.csv'\n",
    "        txt_file = '/Users/owner/Documents/MATLAB/Add_Ons/BrainNetViewer_20171031/Data/NodeFiles/Consensus/Consensus_Mod2_SecondPass_'+area+'_'+side+'.node'\n",
    "        with open(txt_file, \"w\") as my_output_file:\n",
    "            with open(csv_file, \"r\") as my_input_file:\n",
    "                [ my_output_file.write(\" \".join(row)+'\\n') for row in csv.reader(my_input_file)]\n",
    "            my_output_file.close()"
   ]
  },
  {
   "cell_type": "markdown",
   "metadata": {
    "deletable": true,
    "editable": true
   },
   "source": [
    "# Merged Network Modularity "
   ]
  },
  {
   "cell_type": "code",
   "execution_count": 4,
   "metadata": {
    "collapsed": true,
    "deletable": true,
    "editable": true
   },
   "outputs": [],
   "source": [
    "G_merge = {}\n",
    "for x in domains:\n",
    "    filename = 'G_merged_'+x+'_.pck'\n",
    "    workdir = '/Users/owner/Functional_Connectivity/Results/G_jaccard_graphs/Unthresholded_G_jaccard/Merged_Graphs/'\n",
    "    output = workdir + filename\n",
    "    G_merge[x] = pickle.load(open (output, 'rb'))"
   ]
  },
  {
   "cell_type": "markdown",
   "metadata": {
    "deletable": true,
    "editable": true
   },
   "source": [
    "## BCT Newman Modularity"
   ]
  },
  {
   "cell_type": "code",
   "execution_count": 5,
   "metadata": {
    "collapsed": false,
    "deletable": true,
    "editable": true
   },
   "outputs": [],
   "source": [
    "modularity_dir ='/Users/owner/Functional_Connectivity/Results/Modularity_nothresh/Merged/'\n",
    "bct_mod_merge={}\n",
    "bct_part_merge={}\n",
    "bct_partition_merge={}\n",
    "for x in domains:\n",
    "    bct_mod_merge[x]=bct.modularity_und(np.squeeze(np.asarray(nx.to_numpy_matrix(G_merge[x]))))\n",
    "    bct_part_merge[x]=dict(zip(G_merge[x].nodes(), bct_mod_merge[x][0]))\n",
    "    bct_partition_merge[x]=brainmap.make_brainx_style_partition(bct_part_merge[x])\n",
    "    pickle.dump(bct_part_merge[x],open(modularity_dir+'Newman_part_'+x+'.pck','wb'))"
   ]
  },
  {
   "cell_type": "code",
   "execution_count": null,
   "metadata": {
    "collapsed": false,
    "deletable": true,
    "editable": true
   },
   "outputs": [],
   "source": [
    "for x in domains:\n",
    "    print x, '|', bct_mod_merge[x][1]"
   ]
  },
  {
   "cell_type": "code",
   "execution_count": null,
   "metadata": {
    "collapsed": false,
    "deletable": true,
    "editable": true
   },
   "outputs": [],
   "source": [
    "mutual_matrix_bct_new_merge=np.zeros([len(domains),len(domains)])\n",
    "for x,y in enumerate(domains):\n",
    "    for a,b in enumerate(domains):\n",
    "        mutual_matrix_bct_new_merge[x][a]=mod.mutual_information(bct_partition_merge[y],bct_partition_merge[b])\n",
    "np.fill_diagonal(mutual_matrix_bct_new_merge,0)\n",
    "plt.matshow(mutual_matrix_bct_new_merge)        \n",
    "plt.xticks(range(len(domains)), domains, rotation='90')\n",
    "plt.yticks(range(len(domains)), domains)\n",
    "plt.colorbar()"
   ]
  },
  {
   "cell_type": "markdown",
   "metadata": {
    "deletable": true,
    "editable": true
   },
   "source": [
    "## Louvain"
   ]
  },
  {
   "cell_type": "code",
   "execution_count": 6,
   "metadata": {
    "collapsed": true,
    "deletable": true,
    "editable": true
   },
   "outputs": [],
   "source": [
    "G_noweight_merge={x: brainmap.remove_weight_edge_attribute(G_merge[x]) for x in domains }"
   ]
  },
  {
   "cell_type": "code",
   "execution_count": 7,
   "metadata": {
    "collapsed": false,
    "deletable": true,
    "editable": true
   },
   "outputs": [
    {
     "name": "stdout",
     "output_type": "stream",
     "text": [
      "Louvain Modularity:  Memory | 0.0704817412436 : 4\n",
      "Louvain Modularity:  Working Memory | 0.121429498314 : 4\n",
      "Louvain Modularity:  Emotion | 0.0288107430089 : 4\n",
      "Louvain Modularity:  Attention | 0.0675572264496 : 4\n",
      "Louvain Modularity:  Language | 0.0842545797338 : 3\n",
      "Louvain Modularity:  Vision | 0.131028531184 : 4\n",
      "Louvain Modularity:  Audition | 0.17995394756 : 4\n",
      "Louvain Modularity:  Base | 0.109673271954 : 4\n",
      "Louvain Modularity:  Rest | 0.0368293598894 : 3\n"
     ]
    }
   ],
   "source": [
    "Louvain_part_merge={}\n",
    "Dendogram_merge={}\n",
    "G_part_merge={}\n",
    "for x in domains:\n",
    "    G_part_merge[x]=community.best_partition(G_merge[x])\n",
    "    Dendogram_merge[x]=community.generate_dendrogram(G_merge[x])\n",
    "    filename='Louvain_part_'+x+'_merge.pck'\n",
    "    output=modularity_dir+filename\n",
    "    pickle.dump (G_part_merge[x], open(output, 'wb'))\n",
    "    #G_part_merge[x]=pickle.load(open(output, 'rb'))\n",
    "    Louvain_part_merge[x]=brainmap.make_brainx_style_partition(G_part_merge[x])\n",
    "    print \"Louvain Modularity: \", x, '|', community.modularity(G_part_merge[x], G_merge[x]),':', len(Louvain_part_merge[x])"
   ]
  },
  {
   "cell_type": "code",
   "execution_count": null,
   "metadata": {
    "collapsed": false,
    "deletable": true,
    "editable": true
   },
   "outputs": [],
   "source": [
    "mutual_matrix_lou_merge=np.zeros([len(domains),len(domains)])\n",
    "for x,y in enumerate(domains):\n",
    "    for a,b in enumerate(domains):\n",
    "        mutual_matrix_lou_merge[x][a]=mod.mutual_information(Louvain_part_merge[y],Louvain_part_merge[b])\n",
    "np.fill_diagonal(mutual_matrix_lou_merge,0)\n",
    "plt.matshow(mutual_matrix_lou_merge)        \n",
    "plt.xticks(range(len(domains)), domains, rotation='90')\n",
    "plt.yticks(range(len(domains)), domains)\n",
    "plt.colorbar()"
   ]
  },
  {
   "cell_type": "markdown",
   "metadata": {
    "deletable": true,
    "editable": true
   },
   "source": [
    "### Modular Freq"
   ]
  },
  {
   "cell_type": "code",
   "execution_count": null,
   "metadata": {
    "collapsed": true,
    "deletable": true,
    "editable": true
   },
   "outputs": [],
   "source": [
    "nodes=['Cingulum_Ant_R','Cingulum_Ant_L',\n",
    "       'Frontal_Inf_Oper_L','Frontal_Inf_Oper_R',\n",
    "       'Frontal_Inf_Orb_L','Frontal_Inf_Orb_R',\n",
    "       'Frontal_Inf_Tri_L','Frontal_Inf_Tri_R',\n",
    "       'Frontal_Mid_L','Frontal_Mid_R',\n",
    "       'Frontal_Mid_Orb_L','Frontal_Mid_Orb_R',\n",
    "       'Frontal_Med_Orb_L','Frontal_Med_Orb_R',\n",
    "       'Frontal_Sup_L','Frontal_Sup_R',\n",
    "       'Frontal_Sup_Medial_L','Frontal_Sup_Medial_R',\n",
    "       'Frontal_Sup_Orb_L','Frontal_Sup_Orb_R',\n",
    "       'Precentral_L','Precentral_R',\n",
    "       'Rectus_L','Rectus_R',\n",
    "       'Rolandic_Oper_L','Rolandic_Oper_R',\n",
    "       'Supp_Motor_Area_L','Supp_Motor_Area_R']"
   ]
  },
  {
   "cell_type": "code",
   "execution_count": null,
   "metadata": {
    "collapsed": false,
    "deletable": true,
    "editable": true
   },
   "outputs": [],
   "source": [
    "modular_freq_merge=np.zeros([28,28])\n",
    "for x in domains:\n",
    "        for h,n in enumerate(nodes):\n",
    "            if n in G_part_merge[x].keys():\n",
    "                for f,m in enumerate(nodes):\n",
    "                    if m in G_part_merge[x].keys():\n",
    "                        if n != m:\n",
    "                            if G_part_merge[x][n]==G_part_merge[x][m]:\n",
    "                                modular_freq_merge[h][f]=modular_freq_merge[h][f]+1\n",
    "                            if modular_freq_merge[h][f]==7:\n",
    "                                print n, m, modular_freq_merge[h][f]"
   ]
  },
  {
   "cell_type": "code",
   "execution_count": null,
   "metadata": {
    "collapsed": false,
    "deletable": true,
    "editable": true
   },
   "outputs": [],
   "source": [
    "figu=plt.figure(dpi=100)\n",
    "plt.imshow(modular_freq_merge, interpolation='nearest')\n",
    "plt.colorbar()"
   ]
  },
  {
   "cell_type": "code",
   "execution_count": 8,
   "metadata": {
    "collapsed": false,
    "deletable": true,
    "editable": true
   },
   "outputs": [
    {
     "name": "stderr",
     "output_type": "stream",
     "text": [
      "100%|██████████| 9/9 [00:02<00:00,  4.34it/s]\n"
     ]
    }
   ],
   "source": [
    "random_array_merge={x: myfunctions.random_modular_matrix(G_merge[x], iterations=10) for x in tqdm(domains)}"
   ]
  },
  {
   "cell_type": "code",
   "execution_count": 9,
   "metadata": {
    "collapsed": false,
    "deletable": true,
    "editable": true
   },
   "outputs": [
    {
     "name": "stderr",
     "output_type": "stream",
     "text": [
      "100%|██████████| 9/9 [00:00<00:00, 213.72it/s]"
     ]
    },
    {
     "name": "stdout",
     "output_type": "stream",
     "text": [
      "Louvain Modularity:  Memory | 0.405422967864 : 3\n",
      "Louvain Modularity:  Working Memory | 0.542620534166 : 4\n",
      "Louvain Modularity:  Emotion | 0.326717282666 : 2\n",
      "Louvain Modularity:  Attention | 0.389035013888 : 3\n",
      "Louvain Modularity:  Language | 0.458250020953 : 3\n",
      "Louvain Modularity:  Vision | 0.352447041636 : 2\n",
      "Louvain Modularity:  Audition | 0.386354703468 : 4\n",
      "Louvain Modularity:  Base | 0.417570153061 : 3\n",
      "Louvain Modularity:  Rest | 0.427198753463 : 2\n"
     ]
    },
    {
     "name": "stderr",
     "output_type": "stream",
     "text": [
      "\n"
     ]
    }
   ],
   "source": [
    "#random_array={x: pickle.load(open ('/Users/owner/Functional_Connectivity/Results/Modularity_nothresh/Random_matrix/Random_'+x+'_modular_matrix_nothresh.pck','rb')) for x in domains}\n",
    "consensus_array_merge={x: myfunctions.consensus_modular_matrix(G_merge[x], G_part_merge[x], bct_partition_merge[x], random_array_merge[x][1]) for x in tqdm(domains)}\n",
    "n_nodes={x: len(range(nx.number_of_nodes(G_merge[x]))) for x in domains}\n",
    "nodes={x: dict(zip(range(n_nodes[x]), G_merge[x].nodes())) for x in domains}\n",
    "con_G_merge={x: nx.from_numpy_matrix(consensus_array_merge[x]) for x in domains}\n",
    "con_G_merge={x: nx.relabel_nodes(con_G_merge[x], nodes[x]) for x in domains}\n",
    "con_lou_merge={x: community.best_partition(con_G_merge[x]) for x in domains}\n",
    "con_lou_G_merge={x: brainmap.make_brainx_style_partition(con_lou_merge[x]) for x in domains}\n",
    "for x in domains:\n",
    "    print \"Louvain Modularity: \", x, '|', community.modularity(con_lou_merge[x], con_G_merge[x]),':', len(con_lou_G_merge[x])\n",
    "    pickle.dump(con_lou_merge[x], open(modularity_dir+'Con_Lou_part_'+x+'_.pck','wb'))"
   ]
  }
 ],
 "metadata": {
  "kernelspec": {
   "display_name": "Python 2",
   "language": "python",
   "name": "python2"
  },
  "language_info": {
   "codemirror_mode": {
    "name": "ipython",
    "version": 2
   },
   "file_extension": ".py",
   "mimetype": "text/x-python",
   "name": "python",
   "nbconvert_exporter": "python",
   "pygments_lexer": "ipython2",
   "version": "2.7.11"
  }
 },
 "nbformat": 4,
 "nbformat_minor": 2
}
