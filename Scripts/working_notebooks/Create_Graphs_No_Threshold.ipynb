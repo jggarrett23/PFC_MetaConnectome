{
 "cells": [
  {
   "cell_type": "code",
   "execution_count": 1,
   "metadata": {
    "collapsed": false,
    "deletable": true,
    "editable": true
   },
   "outputs": [
    {
     "name": "stderr",
     "output_type": "stream",
     "text": [
      "/Users/owner/Library/Enthought/Canopy_64bit/User/lib/python2.7/site-packages/brainx/__init__.py:30: UserWarning: Monkeypatching NetworkX's Watts-Strogatz routine\n",
      "  warnings.warn(\"Monkeypatching NetworkX's Watts-Strogatz routine\")\n"
     ]
    }
   ],
   "source": [
    "import pickle\n",
    "import numpy as np\n",
    "import networkx as nx\n",
    "import pandas as pd\n",
    "import brainmaptools as brainmap\n",
    "import matplotlib.pyplot as plt\n",
    "import operator\n",
    "%matplotlib inline\n",
    "import My_functions as myfunctions\n",
    "import progressbar as pb\n",
    "import time\n",
    "import os"
   ]
  },
  {
   "cell_type": "code",
   "execution_count": 2,
   "metadata": {
    "collapsed": true,
    "deletable": true,
    "editable": true
   },
   "outputs": [],
   "source": [
    "domains= ['Memory', 'Working Memory', 'Emotion', 'Attention', 'Language', 'Vision', 'Audition']\n",
    "domainsfile=\"/Users/owner/Functional_Connectivity/Results/studies_filtered_by_domain.pck\"\n",
    "domaindata=pickle.load(open(domainsfile, \"rb\" ))"
   ]
  },
  {
   "cell_type": "code",
   "execution_count": 3,
   "metadata": {
    "collapsed": true,
    "deletable": true,
    "editable": true
   },
   "outputs": [],
   "source": [
    "workspaces=['C1.csv\\n', 'C100.csv\\n', 'C101.csv\\n', 'C102.csv\\n', 'C103.csv\\n', 'C104.csv\\n', 'C105.csv\\n', 'C106.csv\\n', 'C107.csv\\n', 'C108.csv\\n', 'C109.csv\\n', 'C110.csv\\n', 'C111.csv\\n', 'C112.csv\\n', 'C113.csv\\n', 'C114.csv\\n', 'C115.csv\\n', 'C116.csv\\n', 'C117.csv\\n', 'C118.csv\\n', 'C119.csv\\n', 'C120.csv\\n', 'C121.csv\\n', 'C122.csv\\n', 'C123.csv\\n', 'C124.csv\\n', 'C125.csv\\n', 'C126.csv\\n', 'C127.csv\\n', 'C128.csv\\n', 'C129.csv\\n', 'C130.csv\\n', 'C131.csv\\n', 'C132.csv\\n', 'C133.csv\\n', 'C134.csv\\n', 'C135.csv\\n', 'C136.csv\\n', 'C137.csv\\n', 'C138.csv\\n', 'C139.csv\\n', 'C140.csv\\n', 'C141.csv\\n', 'C142.csv\\n', 'C143.csv\\n', 'C144.csv\\n', 'C145.csv\\n', 'C146.csv\\n', 'C147.csv\\n', 'C148.csv\\n', 'C150.csv\\n', 'C151.csv\\n', 'C152.csv\\n', 'C153.csv\\n', 'C154.csv\\n', 'C155.csv\\n', 'C156.csv\\n', 'C157.csv\\n', 'C158.csv\\n', 'C159.csv\\n', 'C160.csv\\n', 'C161.csv\\n', 'C162.csv\\n', 'C163.csv\\n', 'C164.csv\\n', 'C165.csv\\n', 'C166.csv\\n', 'C167.csv\\n', 'C168.csv\\n', 'C169.csv\\n', 'C170.csv\\n', 'C171.csv\\n', 'C172.csv\\n', 'C173.csv\\n', 'C174.csv\\n', 'C175.csv\\n', 'C176.csv\\n', 'C177.csv\\n', 'C178.csv\\n', 'C179.csv\\n', 'C180.csv\\n', 'C181.csv\\n', 'C182.csv\\n', 'C183.csv\\n', 'C184.csv\\n', 'C185.csv\\n', 'C186.csv\\n', 'C187.csv\\n', 'C188.csv\\n', 'C189.csv\\n', 'C190.csv\\n', 'C191.csv\\n', 'C192.csv\\n', 'C193.csv\\n', 'C194.csv\\n', 'C2.csv\\n', 'C3.csv\\n', 'C38.csv\\n', 'C39.csv\\n', 'C398.csv\\n', 'C399.csv\\n', 'C4.csv\\n', 'C40.csv\\n', 'C400.csv\\n', 'C401.csv\\n', 'C402.csv\\n', 'C403.csv\\n', 'C404.csv\\n', 'C405.csv\\n', 'C406.csv\\n', 'C407.csv\\n', 'C408.csv\\n', 'C409.csv\\n', 'C41.csv\\n', 'C410.csv\\n', 'C411.csv\\n', 'C412.csv\\n', 'C413.csv\\n', 'C414.csv\\n', 'C415.csv\\n', 'C416.csv\\n', 'C417.csv\\n', 'C418.csv\\n', 'C419.csv\\n', 'C42.csv\\n', 'C420.csv\\n', 'C421.csv\\n', 'C422.csv\\n', 'C423.csv\\n', 'C424.csv\\n', 'C425.csv\\n', 'C43.csv\\n', 'C44.csv\\n', 'C45.csv\\n', 'C46.csv\\n', 'C467.csv\\n', 'C468.csv\\n', 'C469.csv\\n', 'C47.csv\\n', 'C470.csv\\n', 'C471.csv\\n', 'C472.csv\\n', 'C475.csv\\n', 'C476.csv\\n', 'C477.csv\\n', 'C48.csv\\n', 'C480.csv\\n', 'C481.csv\\n', 'C482.csv\\n', 'C483.csv\\n', 'C484.csv\\n', 'C485.csv\\n', 'C486.csv\\n', 'C487.csv\\n', 'C488.csv\\n', 'C489.csv\\n', 'C49.csv\\n', 'C490.csv\\n', 'C491.csv\\n', 'C492.csv\\n', 'C493.csv\\n', 'C494.csv\\n', 'C495.csv\\n', 'C496.csv\\n', 'C497.csv\\n', 'C498.csv\\n', 'C499.csv\\n', 'C5.csv\\n', 'C50.csv\\n', 'C51.csv\\n', 'C52.csv\\n', 'C53.csv\\n', 'C54.csv\\n', 'C56.csv\\n', 'C57.csv\\n', 'C58.csv\\n', 'C59.csv\\n', 'C60.csv\\n', 'C61.csv\\n', 'C62.csv\\n', 'C63.csv\\n', 'C633.csv\\n', 'C634.csv\\n', 'C635.csv\\n', 'C636.csv\\n', 'C637.csv\\n', 'C638.csv\\n', 'C64.csv\\n', 'C65.csv\\n', 'C66.csv\\n', 'C67.csv\\n', 'C68.csv\\n', 'C69.csv\\n', 'C70.csv\\n', 'C71.csv\\n', 'C72.csv\\n', 'C73.csv\\n', 'C74.csv\\n', 'C75.csv\\n', 'C76.csv\\n', 'C77.csv\\n', 'C78.csv\\n', 'C79.csv\\n', 'C80.csv\\n', 'C81.csv\\n', 'C82.csv\\n', 'C83.csv\\n', 'C84.csv\\n', 'C85.csv\\n', 'C86.csv\\n', 'C87.csv\\n', 'C88.csv\\n', 'C89.csv\\n', 'C90.csv\\n', 'C91.csv\\n', 'C92.csv\\n', 'C93.csv\\n', 'C94.csv\\n', 'C95.csv\\n', 'C96.csv\\n', 'C97.csv\\n', 'C98.csv\\n', 'C99.csv\\n']"
   ]
  },
  {
   "cell_type": "code",
   "execution_count": 4,
   "metadata": {
    "collapsed": true,
    "deletable": true,
    "editable": true
   },
   "outputs": [],
   "source": [
    "datadir=\"/Users/owner/Functional_Connectivity/Data/Workspaces/PFC_Xcel/\""
   ]
  },
  {
   "cell_type": "code",
   "execution_count": 5,
   "metadata": {
    "collapsed": true,
    "deletable": true,
    "editable": true
   },
   "outputs": [],
   "source": [
    "relabel_dict_file='/Users/owner/Functional_Connectivity/Scripts/Label_dict.pck'\n",
    "relabel_dict=pickle.load(open(relabel_dict_file,\"rb\"))"
   ]
  },
  {
   "cell_type": "code",
   "execution_count": 6,
   "metadata": {
    "collapsed": true,
    "deletable": true,
    "editable": true
   },
   "outputs": [],
   "source": [
    "key_codes=brainmap.build_key_codes_from_workspaces(workspaces, datadir)\n",
    "#pickle.dump (key_codes, open ('new_keycodes.pck','wb'))"
   ]
  },
  {
   "cell_type": "code",
   "execution_count": 9,
   "metadata": {
    "collapsed": true,
    "deletable": true,
    "editable": true
   },
   "outputs": [],
   "source": [
    "domain_filtered_keycodes=dict()\n",
    "for x in domains:\n",
    "    domain_filtered_keycodes[x]=brainmap.domain_filter_keycodes(key_codes,domaindata,x)"
   ]
  },
  {
   "cell_type": "code",
   "execution_count": 10,
   "metadata": {
    "collapsed": true,
    "deletable": true,
    "editable": true
   },
   "outputs": [],
   "source": [
    "jaccard_matrix=brainmap.build_jaccard(key_codes)\n",
    "j_copy=jaccard_matrix.copy()\n",
    "jaccard_domain={ d_keys: brainmap.build_jaccard(domain_filtered_keycodes[d_keys]) for d_keys in domains}"
   ]
  },
  {
   "cell_type": "code",
   "execution_count": 13,
   "metadata": {
    "collapsed": false
   },
   "outputs": [
    {
     "data": {
      "text/plain": [
       "array([[  89.,    1.,    0., ...,    2.,    2.,    2.],\n",
       "       [   1.,   57.,    1., ...,    5.,    2.,    1.],\n",
       "       [   0.,    1.,  183., ...,    1.,    5.,    6.],\n",
       "       ..., \n",
       "       [   2.,    5.,    1., ...,   53.,    3.,    2.],\n",
       "       [   2.,    2.,    5., ...,    3.,   74.,    6.],\n",
       "       [   2.,    1.,    6., ...,    2.,    6.,   95.]])"
      ]
     },
     "execution_count": 13,
     "metadata": {},
     "output_type": "execute_result"
    }
   ],
   "source": [
    "n_co = brainmap.build_n_coactives_array(key_codes)\n",
    "n_co"
   ]
  },
  {
   "cell_type": "markdown",
   "metadata": {
    "deletable": true,
    "editable": true
   },
   "source": [
    "# Create Graph"
   ]
  },
  {
   "cell_type": "code",
   "execution_count": null,
   "metadata": {
    "collapsed": true,
    "deletable": true,
    "editable": true
   },
   "outputs": [],
   "source": [
    "G_nothresh={}\n",
    "for x in domains:\n",
    "    G_nothresh[x]=nx.from_numpy_matrix(jaccard_domain[x])\n",
    "    G_nothresh[x]=nx.relabel_nodes(G_nothresh[x],relabel_dict)\n",
    "    G_nothresh[x].remove_edges_from(G_nothresh[x].selfloop_edges())\n",
    "    G_nothresh[x]=brainmap.remove_edgeless_nodes(G_nothresh[x])"
   ]
  },
  {
   "cell_type": "code",
   "execution_count": null,
   "metadata": {
    "collapsed": true,
    "deletable": true,
    "editable": true
   },
   "outputs": [],
   "source": [
    "G_nothresh['Base']=nx.from_numpy_matrix(jaccard_matrix)\n",
    "G_nothresh['Base'].remove_nodes_from([223, 224])\n",
    "G_nothresh['Base']=nx.relabel_nodes(G_nothresh['Base'],relabel_dict)\n",
    "G_nothresh['Base'].remove_edges_from(G_nothresh['Base'].selfloop_edges())\n",
    "G_nothresh['Base']=brainmap.remove_edgeless_nodes(G_nothresh['Base'])"
   ]
  },
  {
   "cell_type": "code",
   "execution_count": null,
   "metadata": {
    "collapsed": true,
    "deletable": true,
    "editable": true
   },
   "outputs": [],
   "source": [
    "domains.append('Base')"
   ]
  },
  {
   "cell_type": "code",
   "execution_count": null,
   "metadata": {
    "collapsed": true,
    "deletable": true,
    "editable": true
   },
   "outputs": [],
   "source": [
    "G_nothresh={}\n",
    "for x in domains:\n",
    "    filename='G_nothresh_jaccard_'+x+'_.pck'\n",
    "    workdir='/Users/owner/Functional_Connectivity/Results/G_jaccard_graphs/Unthresholded_G_jaccard/'\n",
    "    output=workdir+filename\n",
    "    #pickle.dump(G_nothresh[x], open (output, 'wb'))\n",
    "    G_nothresh[x]=pickle.load(open (output, 'rb'))"
   ]
  }
 ],
 "metadata": {
  "kernelspec": {
   "display_name": "Python 2",
   "language": "python",
   "name": "python2"
  },
  "language_info": {
   "codemirror_mode": {
    "name": "ipython",
    "version": 2
   },
   "file_extension": ".py",
   "mimetype": "text/x-python",
   "name": "python",
   "nbconvert_exporter": "python",
   "pygments_lexer": "ipython2",
   "version": "2.7.11"
  }
 },
 "nbformat": 4,
 "nbformat_minor": 2
}
