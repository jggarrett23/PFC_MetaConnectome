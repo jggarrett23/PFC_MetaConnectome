{
 "cells": [
  {
   "cell_type": "code",
   "execution_count": 1,
   "metadata": {
    "collapsed": false,
    "deletable": true,
    "editable": true
   },
   "outputs": [
    {
     "name": "stderr",
     "output_type": "stream",
     "text": [
      "/Users/owner/Library/Enthought/Canopy_64bit/User/lib/python2.7/site-packages/brainx/__init__.py:30: UserWarning: Monkeypatching NetworkX's Watts-Strogatz routine\n",
      "  warnings.warn(\"Monkeypatching NetworkX's Watts-Strogatz routine\")\n"
     ]
    }
   ],
   "source": [
    "import pickle\n",
    "import numpy as np\n",
    "import networkx as nx\n",
    "import pandas as pd\n",
    "import brainmaptools as brainmap\n",
    "import matplotlib.pyplot as plt\n",
    "import community\n",
    "import brainx.modularity as mod\n",
    "import operator\n",
    "%matplotlib inline\n",
    "import csv\n",
    "import scipy as scipy\n",
    "import scipy.io as io\n",
    "import My_functions as myfunctions\n",
    "import progressbar as pb\n",
    "import time\n",
    "import os\n",
    "%load_ext Cython\n",
    "import bct\n",
    "from numba import jit\n",
    "from tqdm import tqdm"
   ]
  },
  {
   "cell_type": "code",
   "execution_count": 2,
   "metadata": {
    "collapsed": true,
    "deletable": true,
    "editable": true
   },
   "outputs": [],
   "source": [
    "domains= ['Memory', 'Working Memory', 'Emotion', 'Attention', 'Language', 'Vision', 'Audition', 'Base', 'Rest']"
   ]
  },
  {
   "cell_type": "code",
   "execution_count": 3,
   "metadata": {
    "collapsed": true,
    "deletable": true,
    "editable": true
   },
   "outputs": [],
   "source": [
    "relabel_dict_file='/Users/owner/Functional_Connectivity/Scripts/Label_dict.pck'\n",
    "relabel_dict=pickle.load(open(relabel_dict_file,\"rb\"))"
   ]
  },
  {
   "cell_type": "code",
   "execution_count": 4,
   "metadata": {
    "collapsed": true,
    "deletable": true,
    "editable": true
   },
   "outputs": [],
   "source": [
    "G_nothresh={}\n",
    "for x in domains:\n",
    "    filename='G_nothresh_jaccard_'+x+'_.pck'\n",
    "    workdir='/Users/owner/Functional_Connectivity/Results/G_jaccard_graphs/Unthresholded_G_jaccard/'\n",
    "    output=workdir+filename\n",
    "    G_nothresh[x]=pickle.load(open (output, 'rb'))"
   ]
  },
  {
   "cell_type": "markdown",
   "metadata": {
    "deletable": true,
    "editable": true
   },
   "source": [
    "# BCTPY Newman"
   ]
  },
  {
   "cell_type": "code",
   "execution_count": 5,
   "metadata": {
    "collapsed": true,
    "deletable": true,
    "editable": true
   },
   "outputs": [],
   "source": [
    "bct_mod={}\n",
    "bct_part={}\n",
    "bct_partition={}\n",
    "for x in domains:\n",
    "    bct_mod[x]=bct.modularity_und(np.squeeze(np.asarray(nx.to_numpy_matrix(G_nothresh[x]))))\n",
    "    bct_part[x]=dict(zip(G_nothresh[x].nodes(), bct_mod[x][0]))\n",
    "    bct_partition[x]=brainmap.make_brainx_style_partition(bct_part[x])"
   ]
  },
  {
   "cell_type": "code",
   "execution_count": 6,
   "metadata": {
    "collapsed": false,
    "deletable": true,
    "editable": true
   },
   "outputs": [
    {
     "name": "stdout",
     "output_type": "stream",
     "text": [
      "Memory | 0.175464615461\n",
      "Working Memory | 0.222097379566\n",
      "Emotion | 0.162290264322\n",
      "Attention | 0.189318595584\n",
      "Language | 0.248974168101\n",
      "Vision | 0.302636385616\n",
      "Audition | 0.436937697958\n",
      "Base | 0.165184025669\n",
      "Rest | 0.519053198028\n"
     ]
    }
   ],
   "source": [
    "for x in domains:\n",
    "    print x, '|', bct_mod[x][1]"
   ]
  },
  {
   "cell_type": "markdown",
   "metadata": {
    "deletable": true,
    "editable": true
   },
   "source": [
    "Mutual Information Matrix"
   ]
  },
  {
   "cell_type": "code",
   "execution_count": 7,
   "metadata": {
    "collapsed": false,
    "deletable": true,
    "editable": true
   },
   "outputs": [
    {
     "name": "stderr",
     "output_type": "stream",
     "text": [
      "/Users/owner/Library/Enthought/Canopy_64bit/User/lib/python2.7/site-packages/brainx/modularity.py:1004: RuntimeWarning: divide by zero encountered in log\n",
      "  num = nansum(N*log(N*nn/(nsum_row*nsum_col)))\n",
      "/Users/owner/Library/Enthought/Canopy_64bit/User/lib/python2.7/site-packages/brainx/modularity.py:1004: RuntimeWarning: invalid value encountered in multiply\n",
      "  num = nansum(N*log(N*nn/(nsum_row*nsum_col)))\n",
      "/Users/owner/Library/Enthought/Canopy_64bit/User/lib/python2.7/site-packages/brainx/modularity.py:1004: RuntimeWarning: invalid value encountered in divide\n",
      "  num = nansum(N*log(N*nn/(nsum_row*nsum_col)))\n",
      "/Users/owner/Library/Enthought/Canopy_64bit/User/lib/python2.7/site-packages/brainx/modularity.py:1005: RuntimeWarning: divide by zero encountered in log\n",
      "  den = nansum(nsum_row*log(nsum_row/nn)) + nansum(nsum_col*log(nsum_col/nn))\n",
      "/Users/owner/Library/Enthought/Canopy_64bit/User/lib/python2.7/site-packages/brainx/modularity.py:1005: RuntimeWarning: invalid value encountered in multiply\n",
      "  den = nansum(nsum_row*log(nsum_row/nn)) + nansum(nsum_col*log(nsum_col/nn))\n"
     ]
    },
    {
     "data": {
      "text/plain": [
       "<matplotlib.colorbar.Colorbar at 0x11d014490>"
      ]
     },
     "execution_count": 7,
     "metadata": {},
     "output_type": "execute_result"
    },
    {
     "data": {
      "image/png": "[encoded data removed]",
      "text/plain": [
       "<matplotlib.figure.Figure at 0x11ccc7710>"
      ]
     },
     "metadata": {},
     "output_type": "display_data"
    }
   ],
   "source": [
    "mutual_matrix_bct_new=np.zeros([len(domains),len(domains)])\n",
    "for x,y in enumerate(domains):\n",
    "    for a,b in enumerate(domains):\n",
    "        mutual_matrix_bct_new[x][a]=mod.mutual_information(bct_partition[y],bct_partition[b])\n",
    "np.fill_diagonal(mutual_matrix_bct_new,0)\n",
    "plt.matshow(mutual_matrix_bct_new)        \n",
    "plt.xticks(range(len(domains)), domains, rotation='90')\n",
    "plt.yticks(range(len(domains)), domains)\n",
    "plt.colorbar()\n"
   ]
  },
  {
   "cell_type": "markdown",
   "metadata": {
    "deletable": true,
    "editable": true
   },
   "source": [
    "Statistical Significance"
   ]
  },
  {
   "cell_type": "code",
   "execution_count": 8,
   "metadata": {
    "collapsed": false,
    "deletable": true,
    "editable": true
   },
   "outputs": [
    {
     "ename": "IOError",
     "evalue": "[Errno 2] No such file or directory: '/Users/owner/Functional_Connectivity/Scripts/bct_rand_mod_list.pck'",
     "output_type": "error",
     "traceback": [
      "\u001b[0;31m---------------------------------------------------------------------------\u001b[0m",
      "\u001b[0;31mIOError\u001b[0m                                   Traceback (most recent call last)",
      "\u001b[0;32m<ipython-input-8-8d981c79f337>\u001b[0m in \u001b[0;36m<module>\u001b[0;34m()\u001b[0m\n\u001b[0;32m----> 1\u001b[0;31m \u001b[0mbct_rand_mod_list\u001b[0m\u001b[0;34m=\u001b[0m\u001b[0mpickle\u001b[0m\u001b[0;34m.\u001b[0m\u001b[0mload\u001b[0m\u001b[0;34m(\u001b[0m\u001b[0mopen\u001b[0m\u001b[0;34m(\u001b[0m\u001b[0;34m'/Users/owner/Functional_Connectivity/Scripts/bct_rand_mod_list.pck'\u001b[0m\u001b[0;34m,\u001b[0m \u001b[0;34m'rb'\u001b[0m\u001b[0;34m)\u001b[0m\u001b[0;34m)\u001b[0m\u001b[0;34m\u001b[0m\u001b[0m\n\u001b[0m",
      "\u001b[0;31mIOError\u001b[0m: [Errno 2] No such file or directory: '/Users/owner/Functional_Connectivity/Scripts/bct_rand_mod_list.pck'"
     ]
    }
   ],
   "source": [
    "bct_rand_mod_list=pickle.load(open('/Users/owner/Functional_Connectivity/Scripts/bct_rand_mod_list.pck', 'rb'))"
   ]
  },
  {
   "cell_type": "code",
   "execution_count": 9,
   "metadata": {
    "collapsed": false,
    "deletable": true,
    "editable": true
   },
   "outputs": [
    {
     "ename": "NameError",
     "evalue": "name 'bct_rand_mod_list' is not defined",
     "output_type": "error",
     "traceback": [
      "\u001b[0;31m---------------------------------------------------------------------------\u001b[0m",
      "\u001b[0;31mNameError\u001b[0m                                 Traceback (most recent call last)",
      "\u001b[0;32m<ipython-input-9-bc14d3337e90>\u001b[0m in \u001b[0;36m<module>\u001b[0;34m()\u001b[0m\n\u001b[1;32m      3\u001b[0m \u001b[0mz\u001b[0m\u001b[0;34m=\u001b[0m\u001b[0;34m{\u001b[0m\u001b[0;34m}\u001b[0m\u001b[0;34m\u001b[0m\u001b[0m\n\u001b[1;32m      4\u001b[0m \u001b[0;32mfor\u001b[0m \u001b[0mx\u001b[0m \u001b[0;32min\u001b[0m \u001b[0mdomains\u001b[0m\u001b[0;34m:\u001b[0m\u001b[0;34m\u001b[0m\u001b[0m\n\u001b[0;32m----> 5\u001b[0;31m     \u001b[0mmean\u001b[0m\u001b[0;34m[\u001b[0m\u001b[0mx\u001b[0m\u001b[0;34m]\u001b[0m\u001b[0;34m=\u001b[0m\u001b[0mnp\u001b[0m\u001b[0;34m.\u001b[0m\u001b[0mmean\u001b[0m\u001b[0;34m(\u001b[0m\u001b[0mbct_rand_mod_list\u001b[0m\u001b[0;34m[\u001b[0m\u001b[0mx\u001b[0m\u001b[0;34m]\u001b[0m\u001b[0;34m)\u001b[0m\u001b[0;34m\u001b[0m\u001b[0m\n\u001b[0m\u001b[1;32m      6\u001b[0m     \u001b[0mstd\u001b[0m\u001b[0;34m[\u001b[0m\u001b[0mx\u001b[0m\u001b[0;34m]\u001b[0m\u001b[0;34m=\u001b[0m\u001b[0mnp\u001b[0m\u001b[0;34m.\u001b[0m\u001b[0mstd\u001b[0m\u001b[0;34m(\u001b[0m\u001b[0mbct_rand_mod_list\u001b[0m\u001b[0;34m[\u001b[0m\u001b[0mx\u001b[0m\u001b[0;34m]\u001b[0m\u001b[0;34m)\u001b[0m\u001b[0;34m\u001b[0m\u001b[0m\n\u001b[1;32m      7\u001b[0m     \u001b[0mz\u001b[0m\u001b[0;34m[\u001b[0m\u001b[0mx\u001b[0m\u001b[0;34m]\u001b[0m\u001b[0;34m=\u001b[0m\u001b[0;34m(\u001b[0m\u001b[0;34m(\u001b[0m\u001b[0mbct_mod\u001b[0m\u001b[0;34m[\u001b[0m\u001b[0mx\u001b[0m\u001b[0;34m]\u001b[0m\u001b[0;34m[\u001b[0m\u001b[0;36m1\u001b[0m\u001b[0;34m]\u001b[0m\u001b[0;34m-\u001b[0m\u001b[0mmean\u001b[0m\u001b[0;34m[\u001b[0m\u001b[0mx\u001b[0m\u001b[0;34m]\u001b[0m\u001b[0;34m)\u001b[0m\u001b[0;34m/\u001b[0m\u001b[0mstd\u001b[0m\u001b[0;34m[\u001b[0m\u001b[0mx\u001b[0m\u001b[0;34m]\u001b[0m\u001b[0;34m)\u001b[0m\u001b[0;34m\u001b[0m\u001b[0m\n",
      "\u001b[0;31mNameError\u001b[0m: name 'bct_rand_mod_list' is not defined"
     ]
    }
   ],
   "source": [
    "mean={}\n",
    "std={}\n",
    "z={}\n",
    "for x in domains:\n",
    "    mean[x]=np.mean(bct_rand_mod_list[x])\n",
    "    std[x]=np.std(bct_rand_mod_list[x])\n",
    "    z[x]=((bct_mod[x][1]-mean[x])/std[x])\n",
    "    if z[x] > 1.96:\n",
    "        print x, '| Q =', bct_mod[x][1], '| Z =', z[x], '| M =', mean[x]"
   ]
  },
  {
   "cell_type": "markdown",
   "metadata": {
    "deletable": true,
    "editable": true
   },
   "source": [
    "Save Partition as BrainNet File"
   ]
  },
  {
   "cell_type": "code",
   "execution_count": null,
   "metadata": {
    "collapsed": true,
    "deletable": true,
    "editable": true
   },
   "outputs": [],
   "source": [
    "for x in domains:\n",
    "    myfunctions.node_file(bct_part[x], y=basic_metrics[x]['between_cent'], filename='bct_nothresh_'+x+'_node.csv')\n",
    "    csv_file = '/Users/owner/Desktop/BrainImagingViewer/BrainNetViewer_20171031/Data/NodeFiles/bct_nothresh_'+x+'_node.csv'\n",
    "    txt_file = '/Users/owner/Desktop/BrainImagingViewer/BrainNetViewer_20171031/Data/NodeFiles/Nothresh/bct_nothresh_'+x+'_node.node'\n",
    "    with open(txt_file, \"w\") as my_output_file:\n",
    "        with open(csv_file, \"r\") as my_input_file:\n",
    "            [ my_output_file.write(\" \".join(row)+'\\n') for row in csv.reader(my_input_file)]\n",
    "        my_output_file.close()"
   ]
  },
  {
   "cell_type": "markdown",
   "metadata": {
    "deletable": true,
    "editable": true
   },
   "source": [
    "# Louvain"
   ]
  },
  {
   "cell_type": "markdown",
   "metadata": {
    "deletable": true,
    "editable": true
   },
   "source": [
    "Remove Weight Attribute"
   ]
  },
  {
   "cell_type": "code",
   "execution_count": 7,
   "metadata": {
    "collapsed": true,
    "deletable": true,
    "editable": true
   },
   "outputs": [],
   "source": [
    "G_noweight={x: brainmap.remove_weight_edge_attribute(G_nothresh[x]) for x in domains }"
   ]
  },
  {
   "cell_type": "code",
   "execution_count": 8,
   "metadata": {
    "collapsed": false,
    "deletable": true,
    "editable": true
   },
   "outputs": [
    {
     "name": "stdout",
     "output_type": "stream",
     "text": [
      "Louvain Modularity:  Memory | 0.191723025044 : 5\n",
      "Louvain Modularity:  Working Memory | 0.255494678067 : 9\n",
      "Louvain Modularity:  Emotion | 0.202194555414 : 7\n",
      "Louvain Modularity:  Attention | 0.231477208761 : 6\n",
      "Louvain Modularity:  Language | 0.288068236851 : 6\n",
      "Louvain Modularity:  Vision | 0.348872960647 : 8\n",
      "Louvain Modularity:  Audition | 0.486049183231 : 13\n",
      "Louvain Modularity:  Base | 0.181669234392 : 3\n",
      "Louvain Modularity:  Rest | 0.529476588096 : 14\n"
     ]
    }
   ],
   "source": [
    "Louvain_part={}\n",
    "Dendogram={}\n",
    "G_part={}\n",
    "for x in domains:\n",
    "    #G_part[x]=community.best_partition(G_nothresh[x])\n",
    "    #Dendogram[x]=community.generate_dendrogram(G_nothresh[x])\n",
    "    workdir='/Users/owner/Functional_Connectivity/Results/Modularity_nothresh/Louvain/'\n",
    "    filename='Louvain_part_'+x+'_nothresh.pck'\n",
    "    output=workdir+filename\n",
    "    #pickle.dump (G_part[x], open(output, 'wb'))\n",
    "    G_part[x]=pickle.load(open(output, 'rb'))\n",
    "    Louvain_part[x]=brainmap.make_brainx_style_partition(G_part[x])\n",
    "    print \"Louvain Modularity: \", x, '|', community.modularity(G_part[x], G_nothresh[x]),':', len(Louvain_part[x])"
   ]
  },
  {
   "cell_type": "markdown",
   "metadata": {
    "deletable": true,
    "editable": true
   },
   "source": [
    "Mutual Information Matrix"
   ]
  },
  {
   "cell_type": "code",
   "execution_count": 12,
   "metadata": {
    "collapsed": false,
    "deletable": true,
    "editable": true
   },
   "outputs": [
    {
     "data": {
      "text/plain": [
       "<matplotlib.colorbar.Colorbar at 0x124331250>"
      ]
     },
     "execution_count": 12,
     "metadata": {},
     "output_type": "execute_result"
    },
    {
     "data": {
      "image/png": "[encoded data removed]",
      "text/plain": [
       "<matplotlib.figure.Figure at 0x103aca210>"
      ]
     },
     "metadata": {},
     "output_type": "display_data"
    }
   ],
   "source": [
    "mutual_matrix_lou=np.zeros([len(domains),len(domains)])\n",
    "for x,y in enumerate(domains):\n",
    "    for a,b in enumerate(domains):\n",
    "        mutual_matrix_lou[x][a]=mod.mutual_information(Louvain_part[y],Louvain_part[b])\n",
    "np.fill_diagonal(mutual_matrix_lou,0)\n",
    "plt.matshow(mutual_matrix_lou)        \n",
    "plt.xticks(range(len(domains)), domains, rotation='90')\n",
    "plt.yticks(range(len(domains)), domains)\n",
    "plt.colorbar()"
   ]
  },
  {
   "cell_type": "code",
   "execution_count": 13,
   "metadata": {
    "collapsed": false,
    "deletable": true,
    "editable": true
   },
   "outputs": [
    {
     "ename": "IOError",
     "evalue": "[Errno 2] No such file or directory: '/Users/owner/Functional_Connectivity/Scripts/lou_rand_mod_list.pck'",
     "output_type": "error",
     "traceback": [
      "\u001b[0;31m---------------------------------------------------------------------------\u001b[0m",
      "\u001b[0;31mIOError\u001b[0m                                   Traceback (most recent call last)",
      "\u001b[0;32m<ipython-input-13-648ae743ab3b>\u001b[0m in \u001b[0;36m<module>\u001b[0;34m()\u001b[0m\n\u001b[0;32m----> 1\u001b[0;31m \u001b[0mlou_rand_mod_list\u001b[0m\u001b[0;34m=\u001b[0m\u001b[0mpickle\u001b[0m\u001b[0;34m.\u001b[0m\u001b[0mload\u001b[0m\u001b[0;34m(\u001b[0m\u001b[0mopen\u001b[0m \u001b[0;34m(\u001b[0m\u001b[0;34m'/Users/owner/Functional_Connectivity/Scripts/lou_rand_mod_list.pck'\u001b[0m\u001b[0;34m,\u001b[0m \u001b[0;34m'rb'\u001b[0m\u001b[0;34m)\u001b[0m\u001b[0;34m)\u001b[0m\u001b[0;34m\u001b[0m\u001b[0m\n\u001b[0m",
      "\u001b[0;31mIOError\u001b[0m: [Errno 2] No such file or directory: '/Users/owner/Functional_Connectivity/Scripts/lou_rand_mod_list.pck'"
     ]
    }
   ],
   "source": [
    "lou_rand_mod_list=pickle.load(open ('/Users/owner/Functional_Connectivity/Scripts/lou_rand_mod_list.pck', 'rb'))"
   ]
  },
  {
   "cell_type": "markdown",
   "metadata": {
    "deletable": true,
    "editable": true
   },
   "source": [
    "Statistical Significance"
   ]
  },
  {
   "cell_type": "code",
   "execution_count": null,
   "metadata": {
    "collapsed": true,
    "deletable": true,
    "editable": true
   },
   "outputs": [],
   "source": [
    "mean={}\n",
    "std={}\n",
    "z={}\n",
    "for x in domains:\n",
    "    mean[x]=np.mean(lou_rand_mod_list[x])\n",
    "    std[x]=np.std(lou_rand_mod_list[x])\n",
    "    z[x]=((community.modularity(G_part[x], G_nothresh[x]))-mean[x])/std[x]\n",
    "    if z[x] > 1.96:\n",
    "        print x, '| Q =', community.modularity(G_part[x], G_nothresh[x]), '| Z =', z[x], '| M =', mean[x]"
   ]
  },
  {
   "cell_type": "markdown",
   "metadata": {
    "deletable": true,
    "editable": true
   },
   "source": [
    "Modular Frequency"
   ]
  },
  {
   "cell_type": "code",
   "execution_count": null,
   "metadata": {
    "collapsed": true,
    "deletable": true,
    "editable": true
   },
   "outputs": [],
   "source": [
    "nodes=['Cingulum_Ant_R_1','Cingulum_Ant_L_1','Cingulum_Ant_L_2','Cingulum_Ant_L_3','Cingulum_Ant_L_4','Cingulum_Ant_L_5','Cingulum_Ant_L_6','Cingulum_Ant_R_2','Cingulum_Ant_R_3','Cingulum_Ant_R_4','Cingulum_Ant_R_5','Frontal_Inf_Oper_L_1','Frontal_Inf_Oper_L_2','Frontal_Inf_Oper_L_3','Frontal_Inf_Oper_L_4','Frontal_Inf_Oper_R_1','Frontal_Inf_Oper_R_2','Frontal_Inf_Oper_R_3','Frontal_Inf_Oper_R_4','Frontal_Inf_Oper_R_5','Frontal_Inf_Oper_R_6','Frontal_Inf_Orb_L_1','Frontal_Inf_Orb_L_2','Frontal_Inf_Orb_L_3','Frontal_Inf_Orb_L_4','Frontal_Inf_Orb_L_5','Frontal_Inf_Orb_L_6','Frontal_Inf_Orb_L_7','Frontal_Inf_Orb_R_1','Frontal_Inf_Orb_R_2','Frontal_Inf_Orb_R_3','Frontal_Inf_Orb_R_4','Frontal_Inf_Orb_R_5','Frontal_Inf_Orb_R_6','Frontal_Inf_Orb_R_7','Frontal_Inf_Tri_L_1','Frontal_Inf_Tri_L_10','Frontal_Inf_Tri_L_2','Frontal_Inf_Tri_L_3','Frontal_Inf_Tri_L_4','Frontal_Inf_Tri_L_5','Frontal_Inf_Tri_L_6','Frontal_Inf_Tri_L_7','Frontal_Inf_Tri_L_8','Frontal_Inf_Tri_L_9','Frontal_Inf_Tri_R_1','Frontal_Inf_Tri_R_2','Frontal_Inf_Tri_R_3','Frontal_Inf_Tri_R_4','Frontal_Inf_Tri_R_5','Frontal_Inf_Tri_R_6','Frontal_Inf_Tri_R_7','Frontal_Inf_Tri_R_8','Frontal_Inf_Tri_R_9','Frontal_Mid_L_1','Frontal_Mid_L_10','Frontal_Mid_L_11','Frontal_Mid_L_12','Frontal_Mid_L_13','Frontal_Mid_L_14','Frontal_Mid_L_15','Frontal_Mid_L_16','Frontal_Mid_L_17','Frontal_Mid_L_18','Frontal_Mid_L_19','Frontal_Mid_L_2','Frontal_Mid_L_3','Frontal_Mid_L_4','Frontal_Mid_L_5','Frontal_Mid_L_6','Frontal_Mid_L_7','Frontal_Mid_L_8','Frontal_Mid_L_9','Frontal_Mid_Orb_L_1','Frontal_Mid_Orb_L_2','Frontal_Mid_Orb_L_3','Frontal_Mid_Orb_R_1','Frontal_Mid_Orb_R_2','Frontal_Mid_Orb_R_3','Frontal_Mid_Orbb_L_1','Frontal_Mid_Orbb_L_2','Frontal_Mid_Orbb_L_3','Frontal_Mid_Orbb_L_4','Frontal_Mid_Orbb_R_1','Frontal_Mid_Orbb_R_2','Frontal_Mid_Orbb_R_3','Frontal_Mid_Orbb_R_4','Frontal_Mid_R_1','Frontal_Mid_R_10','Frontal_Mid_R_11','Frontal_Mid_R_12','Frontal_Mid_R_13','Frontal_Mid_R_14','Frontal_Mid_R_15','Frontal_Mid_R_16','Frontal_Mid_R_17','Frontal_Mid_R_18','Frontal_Mid_R_19','Frontal_Mid_R_2','Frontal_Mid_R_20','Frontal_Mid_R_3','Frontal_Mid_R_4','Frontal_Mid_R_5','Frontal_Mid_R_6','Frontal_Mid_R_7','Frontal_Mid_R_8','Frontal_Mid_R_9','Frontal_Sup_L_1','Frontal_Sup_L_10','Frontal_Sup_L_11','Frontal_Sup_L_12','Frontal_Sup_L_13','Frontal_Sup_L_14','Frontal_Sup_L_2','Frontal_Sup_L_3','Frontal_Sup_L_4','Frontal_Sup_L_5','Frontal_Sup_L_6','Frontal_Sup_L_7','Frontal_Sup_L_8','Frontal_Sup_L_9','Frontal_Sup_Medial_L_1','Frontal_Sup_Medial_L_10','Frontal_Sup_Medial_L_11','Frontal_Sup_Medial_L_12','Frontal_Sup_Medial_L_2','Frontal_Sup_Medial_L_3','Frontal_Sup_Medial_L_4','Frontal_Sup_Medial_L_5','Frontal_Sup_Medial_L_6','Frontal_Sup_Medial_L_7','Frontal_Sup_Medial_L_8','Frontal_Sup_Medial_L_9','Frontal_Sup_Medial_R_1','Frontal_Sup_Medial_R_2','Frontal_Sup_Medial_R_3','Frontal_Sup_Medial_R_4','Frontal_Sup_Medial_R_5','Frontal_Sup_Medial_R_6','Frontal_Sup_Medial_R_7','Frontal_Sup_Medial_R_8','Frontal_Sup_Medial_R_9','Frontal_Sup_Orb_L_1','Frontal_Sup_Orb_L_2','Frontal_Sup_Orb_L_3','Frontal_Sup_Orb_L_4','Frontal_Sup_Orb_R_1','Frontal_Sup_Orb_R_2','Frontal_Sup_Orb_R_3','Frontal_Sup_Orb_R_4','Frontal_Sup_R_1','Frontal_Sup_R_10','Frontal_Sup_R_11','Frontal_Sup_R_12','Frontal_Sup_R_13','Frontal_Sup_R_14','Frontal_Sup_R_15','Frontal_Sup_R_16','Frontal_Sup_R_2','Frontal_Sup_R_3','Frontal_Sup_R_4','Frontal_Sup_R_5','Frontal_Sup_R_6','Frontal_Sup_R_7','Frontal_Sup_R_8','Frontal_Sup_R_9','Precentral_L_1','Precentral_L_10','Precentral_L_11','Precentral_L_12','Precentral_L_13','Precentral_L_14','Precentral_L_2','Precentral_L_3','Precentral_L_4','Precentral_L_5','Precentral_L_6','Precentral_L_7','Precentral_L_8','Precentral_L_9','Precentral_R_1','Precentral_R_10','Precentral_R_11','Precentral_R_12','Precentral_R_13','Precentral_R_14','Precentral_R_2','Precentral_R_3','Precentral_R_4','Precentral_R_5','Precentral_R_6','Precentral_R_7','Precentral_R_8','Precentral_R_9','Rectus_L_1','Rectus_L_2','Rectus_L_3','Rectus_R_1','Rectus_R_2','Rectus_R_3','Rolandic_Oper_L_3','Rolandic_Oper_L_4','Rolandic_Oper_R_3','Rolandic_Oper_R_4','Rolandic_Oper_R_5','Supp_Motor_Area_L_1','Supp_Motor_Area_L_2','Supp_Motor_Area_L_3','Supp_Motor_Area_L_4','Supp_Motor_Area_L_5','Supp_Motor_Area_L_6','Supp_Motor_Area_L_7','Supp_Motor_Area_L_8','Supp_Motor_Area_L_9','Supp_Motor_Area_R_1','Supp_Motor_Area_R_2','Supp_Motor_Area_R_3','Supp_Motor_Area_R_4','Supp_Motor_Area_R_5','Supp_Motor_Area_R_6','Supp_Motor_Area_R_7','Supp_Motor_Area_R_8','Supp_Motor_Area_R_9']"
   ]
  },
  {
   "cell_type": "code",
   "execution_count": null,
   "metadata": {
    "collapsed": true,
    "deletable": true,
    "editable": true
   },
   "outputs": [],
   "source": [
    "modular_freq=np.zeros([223,223])\n",
    "for x in domains:\n",
    "        for h,n in enumerate(nodes):\n",
    "            if n in G_part[x].keys():\n",
    "                for f,m in enumerate(nodes):\n",
    "                    if m in G_part[x].keys():\n",
    "                        if n != m:\n",
    "                            if G_part[x][n]==G_part[x][m]:\n",
    "                                modular_freq[h][f]=modular_freq[h][f]+1\n",
    "                            if modular_freq[h][f]==9:\n",
    "                                print n, m, modular_freq[h][f]"
   ]
  },
  {
   "cell_type": "code",
   "execution_count": null,
   "metadata": {
    "collapsed": true,
    "deletable": true,
    "editable": true
   },
   "outputs": [],
   "source": [
    "figu=plt.figure(dpi=100)\n",
    "plt.imshow(modular_freq, interpolation='nearest')\n",
    "plt.colorbar()"
   ]
  },
  {
   "cell_type": "markdown",
   "metadata": {
    "deletable": true,
    "editable": true
   },
   "source": [
    "# Consensus"
   ]
  },
  {
   "cell_type": "code",
   "execution_count": null,
   "metadata": {
    "collapsed": true,
    "deletable": true,
    "editable": true
   },
   "outputs": [],
   "source": [
    "#run if havent created random arrays. If already have, skip\n",
    "random_array={x: myfunctions.random_modular_matrix(G_nothresh[x], iterations=10) for x in domains}"
   ]
  },
  {
   "cell_type": "code",
   "execution_count": null,
   "metadata": {
    "collapsed": true,
    "deletable": true,
    "editable": true
   },
   "outputs": [],
   "source": [
    "for x in domains:\n",
    "    pickle.dump(random_array[x], open ('/Users/owner/Functional_Connectivity/Results/Modularity_nothresh/Random_matrix/Random_'+x+'_modular_matrix_nothresh.pck','wb'))"
   ]
  },
  {
   "cell_type": "code",
   "execution_count": 10,
   "metadata": {
    "collapsed": false,
    "deletable": true,
    "editable": true
   },
   "outputs": [
    {
     "name": "stdout",
     "output_type": "stream",
     "text": [
      "Louvain Modularity:  Memory | 0.428652525967 : 3\n",
      "Louvain Modularity:  Working Memory | 0.561950777887 : 5\n",
      "Louvain Modularity:  Emotion | 0.488740825528 : 4\n",
      "Louvain Modularity:  Attention | 0.407144227041 : 3\n",
      "Louvain Modularity:  Language | 0.34149189454 : 3\n",
      "Louvain Modularity:  Vision | 0.445558377449 : 5\n",
      "Louvain Modularity:  Audition | 0.500779216704 : 12\n",
      "Louvain Modularity:  Base | 0.454706535584 : 3\n",
      "Louvain Modularity:  Rest | 0.580692917391 : 4\n"
     ]
    }
   ],
   "source": [
    "random_array={x: pickle.load(open ('/Users/owner/Functional_Connectivity/Results/Modularity_nothresh/Random_matrix/Random_'+x+'_modular_matrix_nothresh.pck','rb')) for x in domains}\n",
    "consensus_array={x: myfunctions.consensus_modular_matrix(G_nothresh[x], G_part[x], bct_partition[x], random_array[x][1]) for x in domains}\n",
    "n_nodes={x: len(range(nx.number_of_nodes(G_nothresh[x]))) for x in domains}\n",
    "nodes={x: dict(zip(range(n_nodes[x]), G_nothresh[x].nodes())) for x in domains}\n",
    "con_G={x: nx.from_numpy_matrix(consensus_array[x]) for x in domains}\n",
    "con_G={x: nx.relabel_nodes(con_G[x], nodes[x]) for x in domains}\n",
    "con_lou={x: community.best_partition(con_G[x]) for x in domains}\n",
    "con_lou_G={x: brainmap.make_brainx_style_partition(con_lou[x]) for x in domains}\n",
    "for x in domains:\n",
    "    print \"Louvain Modularity: \", x, '|', community.modularity(con_lou[x], con_G[x]),':', len(con_lou_G[x])"
   ]
  },
  {
   "cell_type": "markdown",
   "metadata": {
    "deletable": true,
    "editable": true
   },
   "source": [
    "Mutual Information"
   ]
  },
  {
   "cell_type": "code",
   "execution_count": 15,
   "metadata": {
    "collapsed": false,
    "deletable": true,
    "editable": true
   },
   "outputs": [
    {
     "data": {
      "text/plain": [
       "<matplotlib.colorbar.Colorbar at 0x125a9c390>"
      ]
     },
     "execution_count": 15,
     "metadata": {},
     "output_type": "execute_result"
    },
    {
     "data": {
      "image/png": "[encoded data removed]",
      "text/plain": [
       "<matplotlib.figure.Figure at 0x105b9d0d0>"
      ]
     },
     "metadata": {},
     "output_type": "display_data"
    }
   ],
   "source": [
    "mutual_matrix_con=np.zeros([len(domains),len(domains)])\n",
    "for x,y in enumerate(domains):\n",
    "    for a,b in enumerate(domains):\n",
    "        mutual_matrix_con[x][a]=mod.mutual_information(con_lou_G[y],con_lou_G[b])\n",
    "np.fill_diagonal(mutual_matrix_con,0)\n",
    "plt.matshow(mutual_matrix_con)        \n",
    "plt.xticks(range(len(domains)), domains, rotation='90')\n",
    "plt.yticks(range(len(domains)), domains)\n",
    "plt.colorbar()"
   ]
  },
  {
   "cell_type": "markdown",
   "metadata": {
    "deletable": true,
    "editable": true
   },
   "source": [
    "### Second Louvain Pass For Task General Consensus"
   ]
  },
  {
   "cell_type": "code",
   "execution_count": 14,
   "metadata": {
    "collapsed": false,
    "deletable": true,
    "editable": true
   },
   "outputs": [],
   "source": [
    "out_nodes = []\n",
    "for mod in con_lou_G['Base']:\n",
    "    for node in mod:\n",
    "        if node not in con_lou_G['Base'][1]:\n",
    "            out_nodes.append(node)"
   ]
  },
  {
   "cell_type": "code",
   "execution_count": 15,
   "metadata": {
    "collapsed": true,
    "deletable": true,
    "editable": true
   },
   "outputs": [],
   "source": [
    "copy_net = con_G['Base'].copy()\n",
    "copy_net.remove_nodes_from(out_nodes)"
   ]
  },
  {
   "cell_type": "code",
   "execution_count": 17,
   "metadata": {
    "collapsed": false,
    "deletable": true,
    "editable": true
   },
   "outputs": [],
   "source": [
    "secondPass_part = community.best_partition(copy_net)\n",
    "secondPass_G = brainmap.make_brainx_style_partition(secondPass_part)"
   ]
  },
  {
   "cell_type": "markdown",
   "metadata": {
    "deletable": true,
    "editable": true
   },
   "source": [
    "BrainNet Partition File"
   ]
  },
  {
   "cell_type": "code",
   "execution_count": null,
   "metadata": {
    "collapsed": true,
    "deletable": true,
    "editable": true
   },
   "outputs": [],
   "source": [
    "for x in domains:\n",
    "    myfunctions.node_file(con_lou[x], y=basic_metrics[x]['between_cent'], filename='Consensus_nothresh_nosim_'+x+'.csv' )\n",
    "    csv_file = '/Users/owner/Desktop/BrainImagingViewer/BrainNetViewer_20171031/Data/NodeFiles/Consensus_nothresh_nosim_'+x+'.csv' \n",
    "    txt_file = '/Users/owner/Desktop/BrainImagingViewer/BrainNetViewer_20171031/Data/NodeFiles/Consensus/Consensus_nothresh_nosim_'+x+'.node'\n",
    "    with open(txt_file, \"w\") as my_output_file:\n",
    "        with open(csv_file, \"r\") as my_input_file:\n",
    "            [ my_output_file.write(\" \".join(row)+'\\n') for row in csv.reader(my_input_file)]\n",
    "        my_output_file.close()"
   ]
  },
  {
   "cell_type": "code",
   "execution_count": null,
   "metadata": {
    "collapsed": true,
    "deletable": true,
    "editable": true
   },
   "outputs": [],
   "source": []
  },
  {
   "cell_type": "markdown",
   "metadata": {
    "deletable": true,
    "editable": true
   },
   "source": [
    "### Left/Right Images"
   ]
  },
  {
   "cell_type": "code",
   "execution_count": 29,
   "metadata": {
    "collapsed": true,
    "deletable": true,
    "editable": true
   },
   "outputs": [],
   "source": [
    "path = '/Users/owner/Documents/MATLAB/Add_Ons/BrainNetViewer_20171031/Data/NodeFiles/CSV/Label_coordinates.csv'\n",
    "outdir='/Users/owner/Documents/MATLAB/Add_Ons/BrainNetViewer_20171031/Data/NodeFiles/CSV/'"
   ]
  },
  {
   "cell_type": "code",
   "execution_count": 30,
   "metadata": {
    "collapsed": false,
    "deletable": true,
    "editable": true
   },
   "outputs": [],
   "source": [
    "df_dict = {}\n",
    "for x in domains:\n",
    "    df = pd.read_csv(path, header=None, names=['x','y','z','regions'], sep='\\t')\n",
    "    df.insert(4,'module',0,True)\n",
    "    df.insert(5,'size',0,True)\n",
    "    df.insert(6,'nodes',0,True)\n",
    "    df=df[['x','y','z','module','size','regions','nodes']]\n",
    "    \n",
    "    df_left_lateral = []\n",
    "    df_right_lateral = []\n",
    "    \n",
    "    df_left_med = []\n",
    "    df_right_med = []\n",
    "    for region in con_lou[x]:\n",
    "        for n in range(len(df)):\n",
    "            if region == df.loc[n,'regions']:\n",
    "                df.loc[n,'nodes'] = region\n",
    "                df.loc[n, 'module'] = con_lou[x][region]\n",
    "                df.loc[n, 'size'] = 1\n",
    "    df=df[['x','y','z','module','size','nodes']]\n",
    "    df_dict[x]=df[df.nodes != 0]\n",
    "    df_dict[x].index=range(len(df_dict[x]))\n",
    "    \n",
    "    df_left_lateral = df_dict[x].copy()\n",
    "    df_right_lateral = df_dict[x].copy()\n",
    "    df_left_med = df_dict[x].copy()\n",
    "    df_right_med= df_dict[x].copy()\n",
    "    for n,node in enumerate(df_dict[x]['nodes']):\n",
    "\n",
    "        if  sum([node.find('R'),node.find('Med')]) != -2:\n",
    "            df_left_lateral.loc[n,'nodes'] = 0\n",
    "        if sum([node.find('L'),node.find('Med')]) != -2:\n",
    "            df_right_lateral.loc[n,'nodes'] = 0  \n",
    "            \n",
    "        if all(z in node for z in ['L','Med'])==False:\n",
    "            df_left_med.loc[n,'nodes'] = 0\n",
    "            \n",
    "        if all(z in node for z in ['R','Med'])==False:\n",
    "            df_right_med.loc[n,'nodes'] = 0\n",
    "            \n",
    "                \n",
    "    #seperate right and left for clearer images\n",
    "    df_left_lateral = df_left_lateral[df_left_lateral.nodes != 0]\n",
    "    df_right_lateral = df_right_lateral[df_right_lateral.nodes !=0]\n",
    "    \n",
    "    df_left_med = df_left_med[df_left_med.nodes != 0]\n",
    "    df_right_med = df_right_med[df_right_med.nodes != 0]\n",
    "    \n",
    "    \n",
    "    df_left_lateral.to_csv(outdir+'Consensus_'+x+'_Lateral_L.csv', header=False, index=False, index_label=False)\n",
    "    df_right_lateral.to_csv(outdir+'Consensus_'+x+'_Lateral_R.csv', header=False, index=False, index_label=False)\n",
    "    \n",
    "    df_left_med.to_csv(outdir+'Consensus_'+x+'_Med_L.csv', header=False, index=False, index_label=False)\n",
    "    df_right_med.to_csv(outdir+'Consensus_'+x+'_Med_R.csv', header=False, index=False, index_label=False)\n",
    "    \n",
    "    for side in ['L','R']:\n",
    "        for area in ['Lateral','Med']:\n",
    "            csv_file = outdir+'Consensus_'+x+'_'+area+'_'+side+'.csv'\n",
    "            txt_file = '/Users/owner/Documents/MATLAB/Add_Ons/BrainNetViewer_20171031/Data/NodeFiles/Consensus/Consensus_'+x+'_'+area+'_'+side+'.node'\n",
    "            with open(txt_file, \"w\") as my_output_file:\n",
    "                with open(csv_file, \"r\") as my_input_file:\n",
    "                    [ my_output_file.write(\" \".join(row)+'\\n') for row in csv.reader(my_input_file)]\n",
    "                my_output_file.close()\n"
   ]
  },
  {
   "cell_type": "markdown",
   "metadata": {
    "deletable": true,
    "editable": true
   },
   "source": [
    "Second Pass Images"
   ]
  },
  {
   "cell_type": "code",
   "execution_count": 31,
   "metadata": {
    "collapsed": true,
    "deletable": true,
    "editable": true
   },
   "outputs": [],
   "source": [
    "df = pd.read_csv(path, header=None, names=['x','y','z','regions'], sep='\\t')\n",
    "df.insert(4,'module',0,True)\n",
    "df.insert(5,'size',0,True)\n",
    "df.insert(6,'nodes',0,True)\n",
    "df=df[['x','y','z','module','size','regions','nodes']]\n",
    "\n",
    "df_left_lateral = []\n",
    "df_right_lateral = []\n",
    "\n",
    "df_left_med = []\n",
    "df_right_med = []\n",
    "for region in secondPass_part:\n",
    "    for n in range(len(df)):\n",
    "        if region == df.loc[n,'regions']:\n",
    "            df.loc[n,'nodes'] = region\n",
    "            df.loc[n, 'module'] = secondPass_part[region]\n",
    "            df.loc[n, 'size'] = 1\n",
    "df=df[['x','y','z','module','size','nodes']]\n",
    "df_new=df[df.nodes != 0]\n",
    "df_new.index=range(len(df_new))\n",
    "\n",
    "df_left_lateral = df_new.copy()\n",
    "df_right_lateral = df_new.copy()\n",
    "df_left_med = df_new.copy()\n",
    "df_right_med= df_new.copy()\n",
    "for n,node in enumerate(df_new['nodes']):\n",
    "\n",
    "    if  sum([node.find('R'),node.find('Med')]) != -2:\n",
    "        df_left_lateral.loc[n,'nodes'] = 0\n",
    "    if sum([node.find('L'),node.find('Med')]) != -2:\n",
    "        df_right_lateral.loc[n,'nodes'] = 0  \n",
    "\n",
    "    if all(z in node for z in ['L','Med'])==False:\n",
    "        df_left_med.loc[n,'nodes'] = 0\n",
    "\n",
    "    if all(z in node for z in ['R','Med'])==False:\n",
    "        df_right_med.loc[n,'nodes'] = 0\n",
    "\n",
    "\n",
    "#seperate right and left for clearer images\n",
    "df_left_lateral = df_left_lateral[df_left_lateral.nodes != 0]\n",
    "df_right_lateral = df_right_lateral[df_right_lateral.nodes !=0]\n",
    "\n",
    "df_left_med = df_left_med[df_left_med.nodes != 0]\n",
    "df_right_med = df_right_med[df_right_med.nodes != 0]\n",
    "\n",
    "\n",
    "df_left_lateral.to_csv(outdir+'Consensus_Mod2_SecondPass_Lateral_L.csv', header=False, index=False, index_label=False)\n",
    "df_right_lateral.to_csv(outdir+'Consensus_Mod2_SecondPass_Lateral_R.csv', header=False, index=False, index_label=False)\n",
    "\n",
    "df_left_med.to_csv(outdir+'Consensus_Mod2_SecondPass_Med_L.csv', header=False, index=False, index_label=False)\n",
    "df_right_med.to_csv(outdir+'Consensus_Mod2_SecondPass_Med_R.csv', header=False, index=False, index_label=False)\n",
    "\n",
    "for side in ['L','R']:\n",
    "    for area in ['Lateral','Med']:\n",
    "        csv_file = outdir+'Consensus_Mod2_SecondPass_'+area+'_'+side+'.csv'\n",
    "        txt_file = '/Users/owner/Documents/MATLAB/Add_Ons/BrainNetViewer_20171031/Data/NodeFiles/Consensus/Consensus_Mod2_SecondPass_'+area+'_'+side+'.node'\n",
    "        with open(txt_file, \"w\") as my_output_file:\n",
    "            with open(csv_file, \"r\") as my_input_file:\n",
    "                [ my_output_file.write(\" \".join(row)+'\\n') for row in csv.reader(my_input_file)]\n",
    "            my_output_file.close()"
   ]
  },
  {
   "cell_type": "markdown",
   "metadata": {
    "deletable": true,
    "editable": true
   },
   "source": [
    "# Merged Network Modularity "
   ]
  },
  {
   "cell_type": "code",
   "execution_count": 4,
   "metadata": {
    "collapsed": true,
    "deletable": true,
    "editable": true
   },
   "outputs": [],
   "source": [
    "G_merge = {}\n",
    "for x in domains:\n",
    "    filename = 'G_merged_'+x+'_.pck'\n",
    "    workdir = '/Users/owner/Functional_Connectivity/Results/G_jaccard_graphs/Unthresholded_G_jaccard/Merged_Graphs/'\n",
    "    output = workdir + filename\n",
    "    G_merge[x] = pickle.load(open (output, 'rb'))"
   ]
  },
  {
   "cell_type": "markdown",
   "metadata": {
    "deletable": true,
    "editable": true
   },
   "source": [
    "## BCT Newman Modularity"
   ]
  },
  {
   "cell_type": "code",
   "execution_count": 5,
   "metadata": {
    "collapsed": false,
    "deletable": true,
    "editable": true
   },
   "outputs": [],
   "source": [
    "modularity_dir ='/Users/owner/Functional_Connectivity/Results/Modularity_nothresh/Merged/'\n",
    "bct_mod_merge={}\n",
    "bct_part_merge={}\n",
    "bct_partition_merge={}\n",
    "for x in domains:\n",
    "    bct_mod_merge[x]=bct.modularity_und(np.squeeze(np.asarray(nx.to_numpy_matrix(G_merge[x]))))\n",
    "    bct_part_merge[x]=dict(zip(G_merge[x].nodes(), bct_mod_merge[x][0]))\n",
    "    bct_partition_merge[x]=brainmap.make_brainx_style_partition(bct_part_merge[x])\n",
    "    pickle.dump(bct_part_merge[x],open(modularity_dir+'Newman_part_'+x+'.pck','wb'))"
   ]
  },
  {
   "cell_type": "code",
   "execution_count": null,
   "metadata": {
    "collapsed": false,
    "deletable": true,
    "editable": true
   },
   "outputs": [],
   "source": [
    "for x in domains:\n",
    "    print x, '|', bct_mod_merge[x][1]"
   ]
  },
  {
   "cell_type": "code",
   "execution_count": null,
   "metadata": {
    "collapsed": false,
    "deletable": true,
    "editable": true
   },
   "outputs": [],
   "source": [
    "mutual_matrix_bct_new_merge=np.zeros([len(domains),len(domains)])\n",
    "for x,y in enumerate(domains):\n",
    "    for a,b in enumerate(domains):\n",
    "        mutual_matrix_bct_new_merge[x][a]=mod.mutual_information(bct_partition_merge[y],bct_partition_merge[b])\n",
    "np.fill_diagonal(mutual_matrix_bct_new_merge,0)\n",
    "plt.matshow(mutual_matrix_bct_new_merge)        \n",
    "plt.xticks(range(len(domains)), domains, rotation='90')\n",
    "plt.yticks(range(len(domains)), domains)\n",
    "plt.colorbar()"
   ]
  },
  {
   "cell_type": "markdown",
   "metadata": {
    "deletable": true,
    "editable": true
   },
   "source": [
    "## Louvain"
   ]
  },
  {
   "cell_type": "code",
   "execution_count": 6,
   "metadata": {
    "collapsed": true,
    "deletable": true,
    "editable": true
   },
   "outputs": [],
   "source": [
    "G_noweight_merge={x: brainmap.remove_weight_edge_attribute(G_merge[x]) for x in domains }"
   ]
  },
  {
   "cell_type": "code",
   "execution_count": 7,
   "metadata": {
    "collapsed": false,
    "deletable": true,
    "editable": true
   },
   "outputs": [
    {
     "name": "stdout",
     "output_type": "stream",
     "text": [
      "Louvain Modularity:  Memory | 0.0704817412436 : 4\n",
      "Louvain Modularity:  Working Memory | 0.121429498314 : 4\n",
      "Louvain Modularity:  Emotion | 0.0288107430089 : 4\n",
      "Louvain Modularity:  Attention | 0.0675572264496 : 4\n",
      "Louvain Modularity:  Language | 0.0842545797338 : 3\n",
      "Louvain Modularity:  Vision | 0.131028531184 : 4\n",
      "Louvain Modularity:  Audition | 0.17995394756 : 4\n",
      "Louvain Modularity:  Base | 0.109673271954 : 4\n",
      "Louvain Modularity:  Rest | 0.0368293598894 : 3\n"
     ]
    }
   ],
   "source": [
    "Louvain_part_merge={}\n",
    "Dendogram_merge={}\n",
    "G_part_merge={}\n",
    "for x in domains:\n",
    "    G_part_merge[x]=community.best_partition(G_merge[x])\n",
    "    Dendogram_merge[x]=community.generate_dendrogram(G_merge[x])\n",
    "    filename='Louvain_part_'+x+'_merge.pck'\n",
    "    output=modularity_dir+filename\n",
    "    pickle.dump (G_part_merge[x], open(output, 'wb'))\n",
    "    #G_part_merge[x]=pickle.load(open(output, 'rb'))\n",
    "    Louvain_part_merge[x]=brainmap.make_brainx_style_partition(G_part_merge[x])\n",
    "    print \"Louvain Modularity: \", x, '|', community.modularity(G_part_merge[x], G_merge[x]),':', len(Louvain_part_merge[x])"
   ]
  },
  {
   "cell_type": "code",
   "execution_count": null,
   "metadata": {
    "collapsed": false,
    "deletable": true,
    "editable": true
   },
   "outputs": [],
   "source": [
    "mutual_matrix_lou_merge=np.zeros([len(domains),len(domains)])\n",
    "for x,y in enumerate(domains):\n",
    "    for a,b in enumerate(domains):\n",
    "        mutual_matrix_lou_merge[x][a]=mod.mutual_information(Louvain_part_merge[y],Louvain_part_merge[b])\n",
    "np.fill_diagonal(mutual_matrix_lou_merge,0)\n",
    "plt.matshow(mutual_matrix_lou_merge)        \n",
    "plt.xticks(range(len(domains)), domains, rotation='90')\n",
    "plt.yticks(range(len(domains)), domains)\n",
    "plt.colorbar()"
   ]
  },
  {
   "cell_type": "markdown",
   "metadata": {
    "deletable": true,
    "editable": true
   },
   "source": [
    "### Modular Freq"
   ]
  },
  {
   "cell_type": "code",
   "execution_count": null,
   "metadata": {
    "collapsed": true,
    "deletable": true,
    "editable": true
   },
   "outputs": [],
   "source": [
    "nodes=['Cingulum_Ant_R','Cingulum_Ant_L',\n",
    "       'Frontal_Inf_Oper_L','Frontal_Inf_Oper_R',\n",
    "       'Frontal_Inf_Orb_L','Frontal_Inf_Orb_R',\n",
    "       'Frontal_Inf_Tri_L','Frontal_Inf_Tri_R',\n",
    "       'Frontal_Mid_L','Frontal_Mid_R',\n",
    "       'Frontal_Mid_Orb_L','Frontal_Mid_Orb_R',\n",
    "       'Frontal_Med_Orb_L','Frontal_Med_Orb_R',\n",
    "       'Frontal_Sup_L','Frontal_Sup_R',\n",
    "       'Frontal_Sup_Medial_L','Frontal_Sup_Medial_R',\n",
    "       'Frontal_Sup_Orb_L','Frontal_Sup_Orb_R',\n",
    "       'Precentral_L','Precentral_R',\n",
    "       'Rectus_L','Rectus_R',\n",
    "       'Rolandic_Oper_L','Rolandic_Oper_R',\n",
    "       'Supp_Motor_Area_L','Supp_Motor_Area_R']"
   ]
  },
  {
   "cell_type": "code",
   "execution_count": null,
   "metadata": {
    "collapsed": false,
    "deletable": true,
    "editable": true
   },
   "outputs": [],
   "source": [
    "modular_freq_merge=np.zeros([28,28])\n",
    "for x in domains:\n",
    "        for h,n in enumerate(nodes):\n",
    "            if n in G_part_merge[x].keys():\n",
    "                for f,m in enumerate(nodes):\n",
    "                    if m in G_part_merge[x].keys():\n",
    "                        if n != m:\n",
    "                            if G_part_merge[x][n]==G_part_merge[x][m]:\n",
    "                                modular_freq_merge[h][f]=modular_freq_merge[h][f]+1\n",
    "                            if modular_freq_merge[h][f]==7:\n",
    "                                print n, m, modular_freq_merge[h][f]"
   ]
  },
  {
   "cell_type": "code",
   "execution_count": null,
   "metadata": {
    "collapsed": false,
    "deletable": true,
    "editable": true
   },
   "outputs": [],
   "source": [
    "figu=plt.figure(dpi=100)\n",
    "plt.imshow(modular_freq_merge, interpolation='nearest')\n",
    "plt.colorbar()"
   ]
  },
  {
   "cell_type": "code",
   "execution_count": 8,
   "metadata": {
    "collapsed": false,
    "deletable": true,
    "editable": true
   },
   "outputs": [
    {
     "name": "stderr",
     "output_type": "stream",
     "text": [
      "100%|██████████| 9/9 [00:02<00:00,  4.34it/s]\n"
     ]
    }
   ],
   "source": [
    "random_array_merge={x: myfunctions.random_modular_matrix(G_merge[x], iterations=10) for x in tqdm(domains)}"
   ]
  },
  {
   "cell_type": "code",
   "execution_count": 9,
   "metadata": {
    "collapsed": false,
    "deletable": true,
    "editable": true
   },
   "outputs": [
    {
     "name": "stderr",
     "output_type": "stream",
     "text": [
      "100%|██████████| 9/9 [00:00<00:00, 213.72it/s]"
     ]
    },
    {
     "name": "stdout",
     "output_type": "stream",
     "text": [
      "Louvain Modularity:  Memory | 0.405422967864 : 3\n",
      "Louvain Modularity:  Working Memory | 0.542620534166 : 4\n",
      "Louvain Modularity:  Emotion | 0.326717282666 : 2\n",
      "Louvain Modularity:  Attention | 0.389035013888 : 3\n",
      "Louvain Modularity:  Language | 0.458250020953 : 3\n",
      "Louvain Modularity:  Vision | 0.352447041636 : 2\n",
      "Louvain Modularity:  Audition | 0.386354703468 : 4\n",
      "Louvain Modularity:  Base | 0.417570153061 : 3\n",
      "Louvain Modularity:  Rest | 0.427198753463 : 2\n"
     ]
    },
    {
     "name": "stderr",
     "output_type": "stream",
     "text": [
      "\n"
     ]
    }
   ],
   "source": [
    "#random_array={x: pickle.load(open ('/Users/owner/Functional_Connectivity/Results/Modularity_nothresh/Random_matrix/Random_'+x+'_modular_matrix_nothresh.pck','rb')) for x in domains}\n",
    "consensus_array_merge={x: myfunctions.consensus_modular_matrix(G_merge[x], G_part_merge[x], bct_partition_merge[x], random_array_merge[x][1]) for x in tqdm(domains)}\n",
    "n_nodes={x: len(range(nx.number_of_nodes(G_merge[x]))) for x in domains}\n",
    "nodes={x: dict(zip(range(n_nodes[x]), G_merge[x].nodes())) for x in domains}\n",
    "con_G_merge={x: nx.from_numpy_matrix(consensus_array_merge[x]) for x in domains}\n",
    "con_G_merge={x: nx.relabel_nodes(con_G_merge[x], nodes[x]) for x in domains}\n",
    "con_lou_merge={x: community.best_partition(con_G_merge[x]) for x in domains}\n",
    "con_lou_G_merge={x: brainmap.make_brainx_style_partition(con_lou_merge[x]) for x in domains}\n",
    "for x in domains:\n",
    "    print \"Louvain Modularity: \", x, '|', community.modularity(con_lou_merge[x], con_G_merge[x]),':', len(con_lou_G_merge[x])\n",
    "    pickle.dump(con_lou_merge[x], open(modularity_dir+'Con_Lou_part_'+x+'_.pck','wb'))"
   ]
  },
  {
   "cell_type": "code",
   "execution_count": null,
   "metadata": {
    "collapsed": true,
    "deletable": true,
    "editable": true
   },
   "outputs": [],
   "source": []
  }
 ],
 "metadata": {
  "kernelspec": {
   "display_name": "Python 2",
   "language": "python",
   "name": "python2"
  },
  "language_info": {
   "codemirror_mode": {
    "name": "ipython",
    "version": 2
   },
   "file_extension": ".py",
   "mimetype": "text/x-python",
   "name": "python",
   "nbconvert_exporter": "python",
   "pygments_lexer": "ipython2",
   "version": "2.7.11"
  }
 },
 "nbformat": 4,
 "nbformat_minor": 2
}
