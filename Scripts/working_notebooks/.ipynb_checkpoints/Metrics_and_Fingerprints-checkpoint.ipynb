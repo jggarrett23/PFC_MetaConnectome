{
 "cells": [
  {
   "cell_type": "code",
   "execution_count": 1,
   "metadata": {
    "collapsed": false,
    "deletable": true,
    "editable": true
   },
   "outputs": [
    {
     "name": "stderr",
     "output_type": "stream",
     "text": [
      "/Users/owner/Library/Enthought/Canopy_64bit/User/lib/python2.7/site-packages/brainx/__init__.py:30: UserWarning: Monkeypatching NetworkX's Watts-Strogatz routine\n",
      "  warnings.warn(\"Monkeypatching NetworkX's Watts-Strogatz routine\")\n"
     ]
    }
   ],
   "source": [
    "import pickle\n",
    "import numpy as np\n",
    "import networkx as nx\n",
    "import pandas as pd\n",
    "import brainmaptools as brainmap\n",
    "import matplotlib.pyplot as plt\n",
    "import community\n",
    "import brainx.modularity as mod\n",
    "import operator\n",
    "%matplotlib inline\n",
    "import csv\n",
    "import scipy as scipy\n",
    "import scipy.io as io\n",
    "import scipy.stats as stats\n",
    "from scipy.cluster.hierarchy import dendrogram, linkage\n",
    "from scipy.cluster.hierarchy import cophenet\n",
    "from scipy.spatial.distance import pdist\n",
    "import math as math\n",
    "import pylab as pl\n",
    "import My_functions as myfunctions\n",
    "from tqdm import tqdm\n",
    "import time\n",
    "from collections import Counter\n",
    "import random\n",
    "from collections import OrderedDict"
   ]
  },
  {
   "cell_type": "code",
   "execution_count": 2,
   "metadata": {
    "collapsed": true,
    "deletable": true,
    "editable": true
   },
   "outputs": [],
   "source": [
    "domains= ['Memory', 'Working Memory', 'Emotion', 'Attention', 'Language', 'Vision', 'Audition', 'Base', 'Rest']"
   ]
  },
  {
   "cell_type": "code",
   "execution_count": 3,
   "metadata": {
    "collapsed": true,
    "deletable": true,
    "editable": true
   },
   "outputs": [],
   "source": [
    "relabel_dict_file='/Users/owner/Functional_Connectivity/Scripts/Label_dict.pck'\n",
    "relabel_dict=pickle.load(open(relabel_dict_file,\"rb\"))"
   ]
  },
  {
   "cell_type": "code",
   "execution_count": 4,
   "metadata": {
    "collapsed": true,
    "deletable": true,
    "editable": true
   },
   "outputs": [],
   "source": [
    "G_nothresh={}\n",
    "for x in domains:\n",
    "    filename='G_nothresh_jaccard_'+x+'_.pck'\n",
    "    workdir='/Users/owner/Functional_Connectivity/Results/G_jaccard_graphs/Unthresholded_G_jaccard/'\n",
    "    output=workdir+filename\n",
    "    G_nothresh[x]=pickle.load(open (output, 'rb'))"
   ]
  },
  {
   "cell_type": "code",
   "execution_count": 5,
   "metadata": {
    "collapsed": false,
    "deletable": true,
    "editable": true
   },
   "outputs": [],
   "source": [
    "#remove Base and Rest From domains\n",
    "domains = [x for x in domains if x not in ['Base','Rest']]"
   ]
  },
  {
   "cell_type": "markdown",
   "metadata": {
    "deletable": true,
    "editable": true
   },
   "source": [
    "# Basic Metrics"
   ]
  },
  {
   "cell_type": "code",
   "execution_count": 6,
   "metadata": {
    "collapsed": false,
    "deletable": true,
    "editable": true
   },
   "outputs": [],
   "source": [
    "basic_metrics={x: brainmap.run_weighted_metrics(G_nothresh[x], 12, comm=False) for x in domains}"
   ]
  },
  {
   "cell_type": "markdown",
   "metadata": {
    "deletable": true,
    "editable": true
   },
   "source": [
    "Singificant Nodes in One Domain"
   ]
  },
  {
   "cell_type": "code",
   "execution_count": 7,
   "metadata": {
    "collapsed": true,
    "deletable": true,
    "editable": true
   },
   "outputs": [],
   "source": [
    "significant_nodes, z_overall=myfunctions.significant_regions(basic_metrics, domains, 'between_cent', relabel_dict, 1.96)"
   ]
  },
  {
   "cell_type": "code",
   "execution_count": 8,
   "metadata": {
    "collapsed": false,
    "deletable": true,
    "editable": true
   },
   "outputs": [],
   "source": [
    "top5_sig = {}\n",
    "for x in domains:\n",
    "    cent_list = []\n",
    "    for n in range(5):\n",
    "        cent_list.append(sorted(significant_nodes[x], key = lambda node:node[2])[-5:][n][0])\n",
    "    top5_sig[x] = cent_list"
   ]
  },
  {
   "cell_type": "code",
   "execution_count": 9,
   "metadata": {
    "collapsed": false,
    "deletable": true,
    "editable": true
   },
   "outputs": [
    {
     "data": {
      "text/html": [
       "<div>\n",
       "<style scoped>\n",
       "    .dataframe tbody tr th:only-of-type {\n",
       "        vertical-align: middle;\n",
       "    }\n",
       "\n",
       "    .dataframe tbody tr th {\n",
       "        vertical-align: top;\n",
       "    }\n",
       "\n",
       "    .dataframe thead th {\n",
       "        text-align: right;\n",
       "    }\n",
       "</style>\n",
       "<table border=\"1\" class=\"dataframe\">\n",
       "  <thead>\n",
       "    <tr style=\"text-align: right;\">\n",
       "      <th></th>\n",
       "      <th>Attention</th>\n",
       "      <th>Audition</th>\n",
       "      <th>Emotion</th>\n",
       "      <th>Language</th>\n",
       "      <th>Memory</th>\n",
       "      <th>Vision</th>\n",
       "      <th>Working Memory</th>\n",
       "    </tr>\n",
       "  </thead>\n",
       "  <tbody>\n",
       "    <tr>\n",
       "      <th>0</th>\n",
       "      <td>Frontal_Inf_Oper_R_3</td>\n",
       "      <td>Cingulum_Ant_L_2</td>\n",
       "      <td>Frontal_Sup_Medial_L_5</td>\n",
       "      <td>Frontal_Inf_Tri_L_4</td>\n",
       "      <td>Frontal_Inf_Tri_R_4</td>\n",
       "      <td>Precentral_R_8</td>\n",
       "      <td>Supp_Motor_Area_R_4</td>\n",
       "    </tr>\n",
       "    <tr>\n",
       "      <th>1</th>\n",
       "      <td>Supp_Motor_Area_L_3</td>\n",
       "      <td>Frontal_Inf_Oper_R_1</td>\n",
       "      <td>Frontal_Inf_Tri_L_1</td>\n",
       "      <td>Supp_Motor_Area_L_4</td>\n",
       "      <td>Frontal_Inf_Tri_R_1</td>\n",
       "      <td>Supp_Motor_Area_R_7</td>\n",
       "      <td>Frontal_Inf_Tri_R_1</td>\n",
       "    </tr>\n",
       "    <tr>\n",
       "      <th>2</th>\n",
       "      <td>Frontal_Inf_Oper_L_2</td>\n",
       "      <td>Supp_Motor_Area_L_7</td>\n",
       "      <td>Supp_Motor_Area_R_4</td>\n",
       "      <td>Supp_Motor_Area_L_7</td>\n",
       "      <td>Frontal_Inf_Oper_L_2</td>\n",
       "      <td>Precentral_R_6</td>\n",
       "      <td>Frontal_Mid_R_8</td>\n",
       "    </tr>\n",
       "    <tr>\n",
       "      <th>3</th>\n",
       "      <td>Supp_Motor_Area_R_4</td>\n",
       "      <td>Precentral_R_8</td>\n",
       "      <td>Frontal_Inf_Orb_L_6</td>\n",
       "      <td>Frontal_Inf_Tri_R_1</td>\n",
       "      <td>Frontal_Sup_Medial_L_6</td>\n",
       "      <td>Frontal_Sup_L_2</td>\n",
       "      <td>Supp_Motor_Area_L_7</td>\n",
       "    </tr>\n",
       "    <tr>\n",
       "      <th>4</th>\n",
       "      <td>Precentral_L_4</td>\n",
       "      <td>Supp_Motor_Area_L_4</td>\n",
       "      <td>Frontal_Mid_L_2</td>\n",
       "      <td>Frontal_Inf_Oper_L_2</td>\n",
       "      <td>Supp_Motor_Area_L_4</td>\n",
       "      <td>Supp_Motor_Area_R_4</td>\n",
       "      <td>Frontal_Inf_Oper_L_2</td>\n",
       "    </tr>\n",
       "  </tbody>\n",
       "</table>\n",
       "</div>"
      ],
      "text/plain": [
       "              Attention              Audition                 Emotion  \\\n",
       "0  Frontal_Inf_Oper_R_3      Cingulum_Ant_L_2  Frontal_Sup_Medial_L_5   \n",
       "1   Supp_Motor_Area_L_3  Frontal_Inf_Oper_R_1     Frontal_Inf_Tri_L_1   \n",
       "2  Frontal_Inf_Oper_L_2   Supp_Motor_Area_L_7     Supp_Motor_Area_R_4   \n",
       "3   Supp_Motor_Area_R_4        Precentral_R_8     Frontal_Inf_Orb_L_6   \n",
       "4        Precentral_L_4   Supp_Motor_Area_L_4         Frontal_Mid_L_2   \n",
       "\n",
       "               Language                  Memory               Vision  \\\n",
       "0   Frontal_Inf_Tri_L_4     Frontal_Inf_Tri_R_4       Precentral_R_8   \n",
       "1   Supp_Motor_Area_L_4     Frontal_Inf_Tri_R_1  Supp_Motor_Area_R_7   \n",
       "2   Supp_Motor_Area_L_7    Frontal_Inf_Oper_L_2       Precentral_R_6   \n",
       "3   Frontal_Inf_Tri_R_1  Frontal_Sup_Medial_L_6      Frontal_Sup_L_2   \n",
       "4  Frontal_Inf_Oper_L_2     Supp_Motor_Area_L_4  Supp_Motor_Area_R_4   \n",
       "\n",
       "         Working Memory  \n",
       "0   Supp_Motor_Area_R_4  \n",
       "1   Frontal_Inf_Tri_R_1  \n",
       "2       Frontal_Mid_R_8  \n",
       "3   Supp_Motor_Area_L_7  \n",
       "4  Frontal_Inf_Oper_L_2  "
      ]
     },
     "execution_count": 9,
     "metadata": {},
     "output_type": "execute_result"
    }
   ],
   "source": [
    "top5_df = pd.DataFrame.from_dict(top5_sig)\n",
    "top5_df"
   ]
  },
  {
   "cell_type": "markdown",
   "metadata": {
    "deletable": true,
    "editable": true
   },
   "source": [
    "Probabilistically Significant Betweeness Centrality Nodes"
   ]
  },
  {
   "cell_type": "code",
   "execution_count": 10,
   "metadata": {
    "collapsed": true,
    "deletable": true,
    "editable": true
   },
   "outputs": [],
   "source": [
    "N={x: float(G_nothresh[x].number_of_nodes()) for x in domains}\n",
    "P={}\n",
    "spots=len(basic_metrics[x]['topbetween_cent'])\n",
    "for x in domains:\n",
    "    P[x]=(spots/N[x])*((spots-1)/(N[x]-1))*((spots-2)/(N[x]-2))*((spots-3)/(N[x]-3))*((spots-4)/(N[x]-4))*((spots-5)/(N[x]-5))*((spots-6)/(N[x]-6))*((spots-7)/(N[x]-7))*((spots-8)/(N[x]-8))*((spots-9)/(N[x]-9))*((spots-10)/(N[x]-10))*((spots-11)/(N[x]-11))\n",
    "    #P[x]=\"{:.0%}\".format(P[x])"
   ]
  },
  {
   "cell_type": "code",
   "execution_count": 11,
   "metadata": {
    "collapsed": false,
    "deletable": true,
    "editable": true
   },
   "outputs": [
    {
     "data": {
      "text/plain": [
       "9.2056864801897e-96"
      ]
     },
     "execution_count": 11,
     "metadata": {},
     "output_type": "execute_result"
    }
   ],
   "source": [
    "P['Memory']*P['Working Memory']*P['Language']*P['Audition']*P['Attention']"
   ]
  },
  {
   "cell_type": "code",
   "execution_count": 12,
   "metadata": {
    "collapsed": false,
    "deletable": true,
    "editable": true
   },
   "outputs": [],
   "source": [
    "top_freq=[(basic_metrics[x]['topbetween_cent']) for x in domains]"
   ]
  },
  {
   "cell_type": "code",
   "execution_count": 13,
   "metadata": {
    "collapsed": true,
    "deletable": true,
    "editable": true
   },
   "outputs": [],
   "source": [
    "top_list=[item for sublist in top_freq for item in sublist]"
   ]
  },
  {
   "cell_type": "code",
   "execution_count": 14,
   "metadata": {
    "collapsed": false,
    "deletable": true,
    "editable": true
   },
   "outputs": [],
   "source": [
    "for x in domains:\n",
    "    for n in range(len(significant_nodes[x])):\n",
    "        if significant_nodes[x][n][0] not in top_list:\n",
    "            print significant_nodes[x][n][0], x"
   ]
  },
  {
   "cell_type": "code",
   "execution_count": 15,
   "metadata": {
    "collapsed": true,
    "deletable": true,
    "editable": true
   },
   "outputs": [],
   "source": [
    "top_freq_dict=Counter(top_list)"
   ]
  },
  {
   "cell_type": "code",
   "execution_count": 16,
   "metadata": {
    "collapsed": true,
    "deletable": true,
    "editable": true
   },
   "outputs": [],
   "source": [
    "sorted_top_freq=sorted(top_freq_dict.items(), key=operator.itemgetter(1), reverse=True)"
   ]
  },
  {
   "cell_type": "code",
   "execution_count": 17,
   "metadata": {
    "collapsed": false,
    "deletable": true,
    "editable": true
   },
   "outputs": [],
   "source": [
    "degree_specialized_regions=[]\n",
    "for part in range(len(sorted_top_freq)):\n",
    "    for section in range(len(top_freq)):\n",
    "        for x in domains:\n",
    "            for n in range(len(significant_nodes[x])):\n",
    "                if sorted_top_freq[part][0] == significant_nodes[x][n][0]:\n",
    "                    if sorted_top_freq[part][1] < 2:\n",
    "                        degree_specialized_regions.append((x,sorted_top_freq[part][0]))\n",
    "degree_specialized_regions=set(degree_specialized_regions)"
   ]
  },
  {
   "cell_type": "code",
   "execution_count": 18,
   "metadata": {
    "collapsed": false,
    "deletable": true,
    "editable": true
   },
   "outputs": [],
   "source": [
    "between_specialized_regions=[]\n",
    "for part in range(len(sorted_top_freq)):\n",
    "    for section in range(len(top_freq)):\n",
    "        for x in domains:\n",
    "            for n in range(len(significant_nodes[x])):\n",
    "                if sorted_top_freq[part][0] == significant_nodes[x][n][0]:\n",
    "                    if sorted_top_freq[part][1] < 2:\n",
    "                        between_specialized_regions.append((x,sorted_top_freq[part][0]))\n",
    "between_specialized_regions=set(between_specialized_regions)"
   ]
  },
  {
   "cell_type": "markdown",
   "metadata": {
    "deletable": true,
    "editable": true
   },
   "source": [
    "### Create BrainNet file for Betweeness Centrality Specialized Regions"
   ]
  },
  {
   "cell_type": "code",
   "execution_count": 19,
   "metadata": {
    "collapsed": false,
    "deletable": true,
    "editable": true
   },
   "outputs": [],
   "source": [
    "path = '/Users/owner/Documents/MATLAB/Add_Ons/BrainNetViewer_20171031/Data/NodeFiles/CSV/Label_coordinates.csv'\n",
    "df = pd.read_csv(path, header=None, names=['x','y','z','regions'], sep='\\t')\n",
    "df.insert(4,'module',0,True)\n",
    "df.insert(5,'size',0,True)\n",
    "df.insert(6,'nodes',0,True)\n",
    "df=df[['x','y','z','module','size','regions','nodes']]"
   ]
  },
  {
   "cell_type": "code",
   "execution_count": 24,
   "metadata": {
    "collapsed": false,
    "deletable": true,
    "editable": true
   },
   "outputs": [
    {
     "name": "stdout",
     "output_type": "stream",
     "text": [
      "('Audition', 6)\n",
      "('Language', 4)\n",
      "('Emotion', 2)\n",
      "('Emotion', 2)\n",
      "('Vision', 5)\n",
      "('Attention', 3)\n",
      "('Emotion', 2)\n",
      "('Emotion', 2)\n",
      "('Attention', 3)\n",
      "('Working Memory', 1)\n",
      "('Emotion', 2)\n",
      "('Vision', 5)\n",
      "('Audition', 6)\n",
      "('Emotion', 2)\n"
     ]
    }
   ],
   "source": [
    "for region in between_specialized_regions:\n",
    "    print (region[0], domains.index(region[0]))"
   ]
  },
  {
   "cell_type": "code",
   "execution_count": 123,
   "metadata": {
    "collapsed": false,
    "deletable": true,
    "editable": true
   },
   "outputs": [],
   "source": [
    "for region in between_specialized_regions:\n",
    "    for n in range(len(df)):\n",
    "        if region[1] == df.loc[n,'regions']:\n",
    "            df.loc[n,'nodes'] = region[1]\n",
    "            df.loc[n, 'module'] = domains.index(region[0])\n",
    "            df.loc[n, 'size'] = 1\n",
    "df=df[['x','y','z','module','size','nodes']]\n",
    "df=df[df.nodes != 0]\n",
    "df.index=range(len(df))"
   ]
  },
  {
   "cell_type": "code",
   "execution_count": 127,
   "metadata": {
    "collapsed": false,
    "deletable": true,
    "editable": true
   },
   "outputs": [],
   "source": [
    "df_left = df.copy()\n",
    "df_right = df.copy()\n",
    "for n,node in enumerate(df['nodes']):\n",
    "    if '_L_' not in node:\n",
    "        df_left.loc[n,'nodes'] = 0\n",
    "    elif '_R_' not in node:\n",
    "        df_right.loc[n,'nodes'] = 0\n",
    "        \n",
    "#seperate right and left for clearer images\n",
    "df_left = df_left[df_left.nodes != 0]\n",
    "df_right = df_right[df_right.nodes !=0]"
   ]
  },
  {
   "cell_type": "code",
   "execution_count": 132,
   "metadata": {
    "collapsed": false,
    "deletable": true,
    "editable": true
   },
   "outputs": [],
   "source": [
    "outdir='/Users/owner/Documents/MATLAB/Add_Ons/BrainNetViewer_20171031/Data/NodeFiles/CSV/'\n",
    "df_left.to_csv(outdir+'L_Between_Special.csv', header=False, index=False, index_label=False)\n",
    "df_right.to_csv(outdir+'R_Between_Special.csv', header=False, index=False, index_label=False)"
   ]
  },
  {
   "cell_type": "code",
   "execution_count": 133,
   "metadata": {
    "collapsed": true,
    "deletable": true,
    "editable": true
   },
   "outputs": [],
   "source": [
    "for side in ['L','R']:\n",
    "    csv_file = '/Users/owner/Documents/MATLAB/Add_Ons/BrainNetViewer_20171031/Data/NodeFiles/CSV/'+side+'_Between_Special.csv'\n",
    "    txt_file = '/Users/owner/Documents/MATLAB/Add_Ons/BrainNetViewer_20171031/Data/NodeFiles/'+side+'_Between_Special.node'\n",
    "    with open(txt_file, \"w\") as my_output_file:\n",
    "        with open(csv_file, \"r\") as my_input_file:\n",
    "            [ my_output_file.write(\" \".join(row)+'\\n') for row in csv.reader(my_input_file)]\n",
    "        my_output_file.close()"
   ]
  },
  {
   "cell_type": "code",
   "execution_count": 22,
   "metadata": {
    "collapsed": true,
    "deletable": true,
    "editable": true
   },
   "outputs": [],
   "source": [
    "specialized_regions=[]\n",
    "for region in degree_specialized_regions:\n",
    "    for reg in between_specialized_regions:\n",
    "        if region == reg:\n",
    "            specialized_regions.append(region[1])"
   ]
  },
  {
   "cell_type": "code",
   "execution_count": null,
   "metadata": {
    "collapsed": true,
    "deletable": true,
    "editable": true
   },
   "outputs": [],
   "source": [
    "for n in specialized_regions:\n",
    "    print n[0], n[1]"
   ]
  },
  {
   "cell_type": "code",
   "execution_count": 17,
   "metadata": {
    "collapsed": true,
    "deletable": true,
    "editable": true
   },
   "outputs": [],
   "source": [
    "stable_regions=[]\n",
    "for n in range(len(sorted_top_freq)):\n",
    "    if sorted_top_freq[n][1] > 5:\n",
    "        stable_regions.append(sorted_top_freq[n][0])"
   ]
  },
  {
   "cell_type": "markdown",
   "metadata": {
    "deletable": true,
    "editable": true
   },
   "source": [
    "# Fingerprints"
   ]
  },
  {
   "cell_type": "code",
   "execution_count": null,
   "metadata": {
    "collapsed": true,
    "deletable": true,
    "editable": true
   },
   "outputs": [],
   "source": [
    "metric_l=('degree_cent','between_cent','eigenvector_cent','degrees','ccoeff')"
   ]
  },
  {
   "cell_type": "code",
   "execution_count": null,
   "metadata": {
    "collapsed": false,
    "deletable": true,
    "editable": true
   },
   "outputs": [],
   "source": [
    "Mid_regions = [relabel_dict[x] for x in relabel_dict if 'Frontal_Mid_L' in relabel_dict[x] ]"
   ]
  },
  {
   "cell_type": "code",
   "execution_count": null,
   "metadata": {
    "collapsed": true,
    "deletable": true,
    "editable": true
   },
   "outputs": [],
   "source": [
    "relabel_dict"
   ]
  },
  {
   "cell_type": "markdown",
   "metadata": {
    "deletable": true,
    "editable": true
   },
   "source": [
    "Centrality Fingerprints"
   ]
  },
  {
   "cell_type": "code",
   "execution_count": null,
   "metadata": {
    "collapsed": false,
    "deletable": true,
    "editable": true
   },
   "outputs": [],
   "source": [
    "from matplotlib.path import Path\n",
    "from matplotlib.spines import Spine\n",
    "from matplotlib.projections.polar import PolarAxes\n",
    "from matplotlib.projections import register_projection\n",
    "\n",
    "regionlist = stable_regions\n",
    "\n",
    "#regionlist=['Frontal_Inf_Oper_R_3', 'Frontal_Inf_Oper_R_1', 'Supp_Motor_Area_R_2', \n",
    "            #'Precentral_L_8', 'Frontal_Inf_Orb_L_5', 'Precentral_L_11', 'Precentral_R_14']\n",
    "\n",
    "if __name__ == '__main__':\n",
    "    N = 7\n",
    "    theta = brainmap.radar_factory(N, frame='polygon')\n",
    "\n",
    "    data = brainmap.make_fingerprint_data(regionlist, basic_metrics.keys(), basic_metrics, metric_l)\n",
    "    spoke_labels = data.pop(0)\n",
    "\n",
    "    fig, axes = plt.subplots(figsize=(15, 15), nrows=1, ncols=2,\n",
    "                             subplot_kw=dict(projection='radar'))\n",
    "    fig.subplots_adjust(wspace=0.3, hspace=0.10, top=0.55, bottom=0.05)\n",
    "\n",
    "    colors = ['tab:blue', 'tab:orange', 'tab:green', 'tab:red', 'tab:purple', 'tab:brown', \n",
    "              'tab:pink', 'tab:gray', 'tab:cyan']\n",
    "    # Plot the four cases from the example data on separate axes\n",
    "    for ax, (title, case_data) in zip(axes.flatten(), data):\n",
    "        ax.set_rgrids(np.arange(0.05, 1.0, 0.15))\n",
    "        ax.set_title(title, weight='bold', size='medium', position=(0.5, 1.08),\n",
    "                     horizontalalignment='center', verticalalignment='center')\n",
    "        for d, color in zip(case_data, colors):\n",
    "            ax.plot(theta, d, color=color)\n",
    "            ax.fill(theta, d, facecolor=color, alpha=0.25)\n",
    "        ax.set_varlabels(spoke_labels)\n",
    "        # add legend relative to top-left plot\n",
    "    ax = axes[0]\n",
    "    labels = (regionlist)\n",
    "    legend = ax.legend(labels, loc=(2.0, .98),\n",
    "                       labelspacing=0.2, title='Regions', fontsize='large')\n",
    "\n",
    "    fig.text(0.5, 0.55, 'Regions Expressing High Centrality Across Domains',\n",
    "             horizontalalignment='center', color='black', weight='bold',\n",
    "             size='large')\n",
    "    fig.savefig('/Users/owner/Desktop/Stable_Regions.png')\n",
    "\n",
    "    plt.show()"
   ]
  },
  {
   "cell_type": "markdown",
   "metadata": {
    "deletable": true,
    "editable": true
   },
   "source": [
    "Domain Fingerprints"
   ]
  },
  {
   "cell_type": "code",
   "execution_count": null,
   "metadata": {
    "collapsed": false,
    "deletable": true,
    "editable": true
   },
   "outputs": [],
   "source": [
    "def domain_fingerprints (region_list, domain_list, metric_dict, metric_tuple):\n",
    "    data=[[] for l in range(len(metric_tuple)+1)]\n",
    "    for region in region_list:\n",
    "        for metric in metric_tuple:\n",
    "            for x in domain_list:\n",
    "                if region not in metric_dict[x][metric].keys():\n",
    "                    metric_dict[x][metric].update({region: 0})\n",
    "    measure_dict={metric: {x: {region: metric_dict[x][metric][region] for region in region_list} for x in domain_list} for metric in metric_tuple}\n",
    "    data_raw=[[OrderedDict(measure_dict[metric][x]).values() for x in domain_list] for metric in metric_tuple]\n",
    "    data_tuple=tuple((metric, data_raw[n]) for n in range(len(data_raw)) for metric in metric_tuple)\n",
    "    data[0] = OrderedDict(measure_dict[metric][x]).keys()\n",
    "    data[1]=data_tuple[0]\n",
    "    data[2]=data_tuple[6]\n",
    "    data[3]=data_tuple[12]\n",
    "    data[4]=data_tuple[18]\n",
    "    data[5]=data_tuple[24]\n",
    "    \n",
    "    return data"
   ]
  },
  {
   "cell_type": "code",
   "execution_count": null,
   "metadata": {
    "collapsed": false,
    "deletable": true,
    "editable": true
   },
   "outputs": [],
   "source": [
    "metric_l = ('degree_cent','between_cent','eigenvector_cent','degrees','ccoeff')\n",
    "regionlist=['Frontal_Mid_L_14', 'Frontal_Inf_Oper_L_4', 'Frontal_Med_Orb_L_3', \n",
    "            'Frontal_Mid_Orb_L_4','Rectus_L_1','Precentral_L_5', 'Supp_Motor_Area_L_9']\n",
    "if __name__ == '__main__':\n",
    "    N = 7\n",
    "    theta = brainmap.radar_factory(N, frame='polygon')\n",
    "\n",
    "    data = domain_fingerprints(regionlist, basic_metrics.keys(), basic_metrics, metric_l)\n",
    "    spoke_labels = data.pop(0)\n",
    "\n",
    "    fig, axes = plt.subplots(figsize=(15, 15), nrows=1, ncols=2,\n",
    "                             subplot_kw=dict(projection='radar'))\n",
    "    fig.subplots_adjust(wspace=0.4, hspace=0.10, top=0.55, bottom=0.05)\n",
    "\n",
    "    colors = ['tab:blue', 'tab:orange', 'tab:green', 'tab:red', 'tab:purple', 'tab:brown', \n",
    "              'tab:pink', 'tab:gray', 'tab:cyan']\n",
    "    # Plot the four cases from the example data on separate axes\n",
    "    for ax, (title, case_data) in zip(axes.flatten(), data):\n",
    "        ax.set_rgrids(np.arange(0.05, 1.0, 0.15))\n",
    "        ax.set_title(title, weight='bold', size='medium', position=(0.5, 1.08),\n",
    "                     horizontalalignment='center', verticalalignment='center')\n",
    "        for d, color in zip(case_data, colors):\n",
    "            ax.plot(theta, d, color=color)\n",
    "            ax.fill(theta, d, facecolor=color, alpha=0.25)\n",
    "        ax.set_varlabels(spoke_labels)\n",
    "        # add legend relative to top-left plot\n",
    "    ax = axes[0]\n",
    "    labels = (basic_metrics.keys())\n",
    "    legend = ax.legend(labels, loc=(2.1, .98),\n",
    "                       labelspacing=0.2, title='Domain', fontsize='large')\n",
    "\n",
    "    fig.text(0.5, 0.55, 'Domains Across PFC Subregions',\n",
    "             horizontalalignment='center', color='black', weight='bold',\n",
    "             size='large')\n",
    "    fig.savefig('/Users/owner/Desktop/Domain_PFC_Subregs.png')\n",
    "\n",
    "    plt.show()"
   ]
  },
  {
   "cell_type": "markdown",
   "metadata": {
    "deletable": true,
    "editable": true
   },
   "source": [
    "# Merge Subregions "
   ]
  },
  {
   "cell_type": "code",
   "execution_count": null,
   "metadata": {
    "collapsed": false,
    "deletable": true,
    "editable": true,
    "scrolled": false
   },
   "outputs": [],
   "source": [
    "G_merge = {}\n",
    "for x in tqdm(domains):\n",
    "    G_merge[x] = G_nothresh[x].copy()\n",
    "    for node1 in G_merge[x].nodes():\n",
    "        for node2 in G_merge[x].nodes():\n",
    "            if node1 != node2:\n",
    "                if node1.translate(None, '0123456789') == node2.translate(None, '0123456789'):\n",
    "                    G_merge[x] = nx.contracted_nodes(G_merge[x],node1,node2,self_loops=False)"
   ]
  },
  {
   "cell_type": "code",
   "execution_count": null,
   "metadata": {
    "collapsed": false,
    "deletable": true,
    "editable": true
   },
   "outputs": [],
   "source": [
    "merge_labels = {x: {G_merge[x].nodes()[i]: G_merge[x].nodes()[i].translate(None, '0123456789')[:-1] for i in range(len(G_merge[x].nodes()))} for x in domains}"
   ]
  },
  {
   "cell_type": "code",
   "execution_count": null,
   "metadata": {
    "collapsed": true,
    "deletable": true,
    "editable": true
   },
   "outputs": [],
   "source": [
    "for x in domains:\n",
    "    filename = 'G_merged_'+x+'_.pck'\n",
    "    workdir = '/Users/owner/Functional_Connectivity/Results/G_jaccard_graphs/Unthresholded_G_jaccard/'\n",
    "    output = workdir + filename\n",
    "    G_merge[x] = nx.relabel_nodes(G_merge[x],merge_labels[x], copy = False)\n",
    "    #pickle.dump(G_merge[x], open (output, 'wb'))"
   ]
  },
  {
   "cell_type": "markdown",
   "metadata": {
    "deletable": true,
    "editable": true
   },
   "source": [
    "## Run Basic Metrics on Merged Graph "
   ]
  },
  {
   "cell_type": "code",
   "execution_count": null,
   "metadata": {
    "collapsed": false,
    "deletable": true,
    "editable": true
   },
   "outputs": [],
   "source": [
    "G_merge = {}\n",
    "for x in domains:\n",
    "    filename = 'G_merged_'+x+'_.pck'\n",
    "    workdir = '/Users/owner/Functional_Connectivity/Results/G_jaccard_graphs/Unthresholded_G_jaccard/Merged_Graphs/'\n",
    "    output = workdir + filename\n",
    "    G_merge[x] = pickle.load(open (output, 'rb'))"
   ]
  },
  {
   "cell_type": "code",
   "execution_count": null,
   "metadata": {
    "collapsed": true,
    "deletable": true,
    "editable": true
   },
   "outputs": [],
   "source": [
    "basic_metrics_merge={x: brainmap.run_weighted_metrics(G_merge[x], 12, comm=False) for x in domains}\n",
    "\n",
    "#pickle.dump(basic_metric_merge, open('/Users/owner/Functional_Connectivity/Results/G_jaccard_graphs/Unthresholded_G_jaccard/Merged_Graphs/Merge_metrics.pck','wb'))"
   ]
  },
  {
   "cell_type": "code",
   "execution_count": null,
   "metadata": {
    "collapsed": false,
    "deletable": true,
    "editable": true
   },
   "outputs": [],
   "source": [
    "from matplotlib.path import Path\n",
    "from matplotlib.spines import Spine\n",
    "from matplotlib.projections.polar import PolarAxes\n",
    "from matplotlib.projections import register_projection\n",
    "\n",
    "regionlist=['Frontal_Mid_L', 'Frontal_Inf_Oper_L', 'Frontal_Med_Orb_L', \n",
    "            'Frontal_Mid_Orb_L','Rectus_L','Precentral_L', 'Supp_Motor_Area_L']\n",
    "if __name__ == '__main__':\n",
    "    N = 9\n",
    "    theta = brainmap.radar_factory(N, frame='polygon')\n",
    "\n",
    "    data = brainmap.make_fingerprint_data(regionlist, basic_metrics_merge.keys(), basic_metrics_merge, metric_l)\n",
    "    spoke_labels = data.pop(0)\n",
    "\n",
    "    fig, axes = plt.subplots(figsize=(15, 15), nrows=1, ncols=2,\n",
    "                             subplot_kw=dict(projection='radar'))\n",
    "    fig.subplots_adjust(wspace=0.3, hspace=0.10, top=0.55, bottom=0.05)\n",
    "\n",
    "    colors = ['tab:blue', 'tab:orange', 'tab:green', 'tab:red', 'tab:purple', 'tab:brown', \n",
    "              'tab:pink', 'tab:gray', 'tab:cyan']\n",
    "    # Plot the four cases from the example data on separate axes\n",
    "    for ax, (title, case_data) in zip(axes.flatten(), data):\n",
    "        ax.set_rgrids(np.arange(0.05, 1.0, 0.15))\n",
    "        ax.set_title(title, weight='bold', size='medium', position=(0.5, 1.08),\n",
    "                     horizontalalignment='center', verticalalignment='center')\n",
    "        for d, color in zip(case_data, colors):\n",
    "            ax.plot(theta, d, color=color)\n",
    "            ax.fill(theta, d, facecolor=color, alpha=0.25)\n",
    "        ax.set_varlabels(spoke_labels)\n",
    "        # add legend relative to top-left plot\n",
    "    ax = axes[0]\n",
    "    labels = (regionlist)\n",
    "    legend = ax.legend(labels, loc=(2.0, .98),\n",
    "                       labelspacing=0.2, title='Regions', fontsize='large')\n",
    "\n",
    "    fig.text(0.5, 0.55, 'Merged Regions Across Domains',\n",
    "             horizontalalignment='center', color='black', weight='bold',\n",
    "             size='large')\n",
    "    fig.savefig('/Users/owner/Desktop/Merged_Regions.png')\n",
    "\n",
    "    plt.show()"
   ]
  },
  {
   "cell_type": "code",
   "execution_count": null,
   "metadata": {
    "collapsed": false,
    "deletable": true,
    "editable": true
   },
   "outputs": [],
   "source": [
    "metric_l = ('degree_cent','between_cent','eigenvector_cent','degrees','ccoeff')\n",
    "\n",
    "regionlist=['Frontal_Mid_L', 'Frontal_Inf_Oper_L', 'Frontal_Med_Orb_L', \n",
    "            'Frontal_Mid_Orb_L','Rectus_L','Precentral_L', 'Supp_Motor_Area_L',\n",
    "           'Frontal_Sup_Medial_L','Cingulum_Ant_L','Frontal_Inf_Orb_L','Frontal_Sup_L',\n",
    "           'Frontal_Inf_Tri_L','Frontal_Sup_Orb_L','Rolandic_Oper_L']\n",
    "if __name__ == '__main__':\n",
    "    N = len(regionlist)\n",
    "    theta = brainmap.radar_factory(N, frame='polygon')\n",
    "\n",
    "    data = domain_fingerprints(regionlist, basic_metrics_merge.keys(), basic_metrics_merge, metric_l)\n",
    "    spoke_labels = data.pop(0)\n",
    "\n",
    "    fig, axes = plt.subplots(figsize=(15, 15), nrows=1, ncols=2,\n",
    "                             subplot_kw=dict(projection='radar'))\n",
    "    fig.subplots_adjust(wspace=0.4, hspace=0.10, top=0.55, bottom=0.05)\n",
    "\n",
    "    colors = ['tab:blue', 'tab:orange', 'tab:green', 'tab:red', 'tab:purple', 'tab:brown', \n",
    "              'tab:pink', 'tab:gray', 'tab:cyan']\n",
    "    # Plot the four cases from the example data on separate axes\n",
    "    for ax, (title, case_data) in zip(axes.flatten(), data):\n",
    "        ax.set_rgrids(np.arange(0.2, 0.5, 0.1))\n",
    "        ax.set_title(title, weight='bold', size='medium', position=(0.5, 1.08),\n",
    "                     horizontalalignment='center', verticalalignment='center')\n",
    "        for d, color in zip(case_data, colors):\n",
    "            ax.plot(theta, d, color=color)\n",
    "            ax.fill(theta, d, facecolor=color, alpha=0.25)\n",
    "        ax.set_varlabels(spoke_labels)\n",
    "        # add legend relative to top-left plot\n",
    "    ax = axes[0]\n",
    "    labels = (basic_metrics.keys())\n",
    "    legend = ax.legend(labels, loc=(2.1, 1.1),\n",
    "                       labelspacing=0.2, title='Domain', fontsize='large')\n",
    "\n",
    "    fig.text(0.5, 0.55, 'Domains Across Merged PFC Subregions',\n",
    "             horizontalalignment='center', color='black', weight='bold',\n",
    "             size='large')\n",
    "    fig.savefig('/Users/owner/Desktop/Domain_PFC_Subregs_Merged.png')\n",
    "\n",
    "    plt.show()"
   ]
  },
  {
   "cell_type": "code",
   "execution_count": null,
   "metadata": {
    "collapsed": true,
    "deletable": true,
    "editable": true
   },
   "outputs": [],
   "source": []
  }
 ],
 "metadata": {
  "kernelspec": {
   "display_name": "Python 2",
   "language": "python",
   "name": "python2"
  },
  "language_info": {
   "codemirror_mode": {
    "name": "ipython",
    "version": 2
   },
   "file_extension": ".py",
   "mimetype": "text/x-python",
   "name": "python",
   "nbconvert_exporter": "python",
   "pygments_lexer": "ipython2",
   "version": "2.7.11"
  }
 },
 "nbformat": 4,
 "nbformat_minor": 2
}
