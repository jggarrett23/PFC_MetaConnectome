{
 "cells": [
  {
   "cell_type": "code",
   "execution_count": 1,
   "metadata": {
    "collapsed": false,
    "deletable": true,
    "editable": true
   },
   "outputs": [
    {
     "name": "stderr",
     "output_type": "stream",
     "text": [
      "/Users/owner/Library/Enthought/Canopy_64bit/User/lib/python2.7/site-packages/brainx/__init__.py:30: UserWarning: Monkeypatching NetworkX's Watts-Strogatz routine\n",
      "  warnings.warn(\"Monkeypatching NetworkX's Watts-Strogatz routine\")\n"
     ]
    }
   ],
   "source": [
    "import pickle\n",
    "import numpy as np\n",
    "import networkx as nx\n",
    "import pandas as pd\n",
    "import brainmaptools as brainmap\n",
    "import matplotlib.pyplot as plt\n",
    "import community\n",
    "import brainx.modularity as mod\n",
    "import operator\n",
    "%matplotlib inline\n",
    "import csv\n",
    "import scipy as scipy\n",
    "import scipy.io as io\n",
    "import scipy.stats as stats\n",
    "from scipy.cluster.hierarchy import dendrogram, linkage\n",
    "from scipy.cluster.hierarchy import cophenet\n",
    "from scipy.spatial.distance import pdist\n",
    "import math as math\n",
    "import pylab as pl\n",
    "import My_functions as myfunctions\n",
    "from tqdm import tqdm\n",
    "import time\n",
    "from collections import Counter\n",
    "import random\n",
    "from collections import OrderedDict"
   ]
  },
  {
   "cell_type": "code",
   "execution_count": 2,
   "metadata": {
    "collapsed": true,
    "deletable": true,
    "editable": true
   },
   "outputs": [],
   "source": [
    "domains= ['Memory', 'Working Memory', 'Emotion', 'Attention', 'Language', 'Vision', 'Audition', 'Base', 'Rest']"
   ]
  },
  {
   "cell_type": "code",
   "execution_count": 3,
   "metadata": {
    "collapsed": true,
    "deletable": true,
    "editable": true
   },
   "outputs": [],
   "source": [
    "relabel_dict_file='/Users/owner/PFC_MetaConnectome/Scripts/Label_dict.pck'\n",
    "relabel_dict=pickle.load(open(relabel_dict_file,\"rb\"))"
   ]
  },
  {
   "cell_type": "code",
   "execution_count": 4,
   "metadata": {
    "collapsed": true,
    "deletable": true,
    "editable": true
   },
   "outputs": [],
   "source": [
    "G_nothresh={}\n",
    "for x in domains:\n",
    "    filename='G_nothresh_jaccard_'+x+'_.pck'\n",
    "    workdir='/Users/owner/PFC_MetaConnectome/Results/G_jaccard_graphs/Unthresholded_G_jaccard/'\n",
    "    output=workdir+filename\n",
    "    G_nothresh[x]=pickle.load(open (output, 'rb'))"
   ]
  },
  {
   "cell_type": "code",
   "execution_count": 5,
   "metadata": {
    "collapsed": false,
    "deletable": true,
    "editable": true
   },
   "outputs": [],
   "source": [
    "#remove Base and Rest From domains\n",
    "domains = [x for x in domains if x not in ['Base','Rest']]"
   ]
  },
  {
   "cell_type": "markdown",
   "metadata": {
    "deletable": true,
    "editable": true
   },
   "source": [
    "# Basic Metrics"
   ]
  },
  {
   "cell_type": "code",
   "execution_count": 6,
   "metadata": {
    "collapsed": false,
    "deletable": true,
    "editable": true
   },
   "outputs": [],
   "source": [
    "basic_metrics={x: brainmap.run_weighted_metrics(G_nothresh[x], 12, comm=False) for x in domains}"
   ]
  },
  {
   "cell_type": "markdown",
   "metadata": {
    "deletable": true,
    "editable": true
   },
   "source": [
    "Singificant Nodes in One Domain"
   ]
  },
  {
   "cell_type": "code",
   "execution_count": 7,
   "metadata": {
    "collapsed": true,
    "deletable": true,
    "editable": true
   },
   "outputs": [],
   "source": [
    "significant_nodes, z_overall=myfunctions.significant_regions(basic_metrics, domains, 'between_cent', relabel_dict, 1.96)"
   ]
  },
  {
   "cell_type": "code",
   "execution_count": 8,
   "metadata": {
    "collapsed": false,
    "deletable": true,
    "editable": true
   },
   "outputs": [],
   "source": [
    "top5_sig = {}\n",
    "for x in domains:\n",
    "    cent_list = []\n",
    "    for n in range(5):\n",
    "        cent_list.append(sorted(significant_nodes[x], key = lambda node:node[2])[-5:][n][0])\n",
    "    top5_sig[x] = cent_list"
   ]
  },
  {
   "cell_type": "code",
   "execution_count": 9,
   "metadata": {
    "collapsed": false,
    "deletable": true,
    "editable": true
   },
   "outputs": [
    {
     "data": {
      "text/html": [
       "<div>\n",
       "<style scoped>\n",
       "    .dataframe tbody tr th:only-of-type {\n",
       "        vertical-align: middle;\n",
       "    }\n",
       "\n",
       "    .dataframe tbody tr th {\n",
       "        vertical-align: top;\n",
       "    }\n",
       "\n",
       "    .dataframe thead th {\n",
       "        text-align: right;\n",
       "    }\n",
       "</style>\n",
       "<table border=\"1\" class=\"dataframe\">\n",
       "  <thead>\n",
       "    <tr style=\"text-align: right;\">\n",
       "      <th></th>\n",
       "      <th>Attention</th>\n",
       "      <th>Audition</th>\n",
       "      <th>Emotion</th>\n",
       "      <th>Language</th>\n",
       "      <th>Memory</th>\n",
       "      <th>Vision</th>\n",
       "      <th>Working Memory</th>\n",
       "    </tr>\n",
       "  </thead>\n",
       "  <tbody>\n",
       "    <tr>\n",
       "      <th>0</th>\n",
       "      <td>Frontal_Inf_Oper_R_3</td>\n",
       "      <td>Cingulum_Ant_L_2</td>\n",
       "      <td>Frontal_Sup_Medial_L_5</td>\n",
       "      <td>Frontal_Inf_Tri_L_4</td>\n",
       "      <td>Frontal_Inf_Tri_R_4</td>\n",
       "      <td>Precentral_R_8</td>\n",
       "      <td>Supp_Motor_Area_R_4</td>\n",
       "    </tr>\n",
       "    <tr>\n",
       "      <th>1</th>\n",
       "      <td>Supp_Motor_Area_L_3</td>\n",
       "      <td>Frontal_Inf_Oper_R_1</td>\n",
       "      <td>Frontal_Inf_Tri_L_1</td>\n",
       "      <td>Supp_Motor_Area_L_4</td>\n",
       "      <td>Frontal_Inf_Tri_R_1</td>\n",
       "      <td>Supp_Motor_Area_R_7</td>\n",
       "      <td>Frontal_Inf_Tri_R_1</td>\n",
       "    </tr>\n",
       "    <tr>\n",
       "      <th>2</th>\n",
       "      <td>Frontal_Inf_Oper_L_2</td>\n",
       "      <td>Supp_Motor_Area_L_7</td>\n",
       "      <td>Supp_Motor_Area_R_4</td>\n",
       "      <td>Supp_Motor_Area_L_7</td>\n",
       "      <td>Frontal_Inf_Oper_L_2</td>\n",
       "      <td>Precentral_R_6</td>\n",
       "      <td>Frontal_Mid_R_8</td>\n",
       "    </tr>\n",
       "    <tr>\n",
       "      <th>3</th>\n",
       "      <td>Supp_Motor_Area_R_4</td>\n",
       "      <td>Precentral_R_8</td>\n",
       "      <td>Frontal_Inf_Orb_L_6</td>\n",
       "      <td>Frontal_Inf_Tri_R_1</td>\n",
       "      <td>Frontal_Sup_Medial_L_6</td>\n",
       "      <td>Frontal_Sup_L_2</td>\n",
       "      <td>Supp_Motor_Area_L_7</td>\n",
       "    </tr>\n",
       "    <tr>\n",
       "      <th>4</th>\n",
       "      <td>Precentral_L_4</td>\n",
       "      <td>Supp_Motor_Area_L_4</td>\n",
       "      <td>Frontal_Mid_L_2</td>\n",
       "      <td>Frontal_Inf_Oper_L_2</td>\n",
       "      <td>Supp_Motor_Area_L_4</td>\n",
       "      <td>Supp_Motor_Area_R_4</td>\n",
       "      <td>Frontal_Inf_Oper_L_2</td>\n",
       "    </tr>\n",
       "  </tbody>\n",
       "</table>\n",
       "</div>"
      ],
      "text/plain": [
       "              Attention              Audition                 Emotion  \\\n",
       "0  Frontal_Inf_Oper_R_3      Cingulum_Ant_L_2  Frontal_Sup_Medial_L_5   \n",
       "1   Supp_Motor_Area_L_3  Frontal_Inf_Oper_R_1     Frontal_Inf_Tri_L_1   \n",
       "2  Frontal_Inf_Oper_L_2   Supp_Motor_Area_L_7     Supp_Motor_Area_R_4   \n",
       "3   Supp_Motor_Area_R_4        Precentral_R_8     Frontal_Inf_Orb_L_6   \n",
       "4        Precentral_L_4   Supp_Motor_Area_L_4         Frontal_Mid_L_2   \n",
       "\n",
       "               Language                  Memory               Vision  \\\n",
       "0   Frontal_Inf_Tri_L_4     Frontal_Inf_Tri_R_4       Precentral_R_8   \n",
       "1   Supp_Motor_Area_L_4     Frontal_Inf_Tri_R_1  Supp_Motor_Area_R_7   \n",
       "2   Supp_Motor_Area_L_7    Frontal_Inf_Oper_L_2       Precentral_R_6   \n",
       "3   Frontal_Inf_Tri_R_1  Frontal_Sup_Medial_L_6      Frontal_Sup_L_2   \n",
       "4  Frontal_Inf_Oper_L_2     Supp_Motor_Area_L_4  Supp_Motor_Area_R_4   \n",
       "\n",
       "         Working Memory  \n",
       "0   Supp_Motor_Area_R_4  \n",
       "1   Frontal_Inf_Tri_R_1  \n",
       "2       Frontal_Mid_R_8  \n",
       "3   Supp_Motor_Area_L_7  \n",
       "4  Frontal_Inf_Oper_L_2  "
      ]
     },
     "execution_count": 9,
     "metadata": {},
     "output_type": "execute_result"
    }
   ],
   "source": [
    "top5_df = pd.DataFrame.from_dict(top5_sig)\n",
    "top5_df"
   ]
  },
  {
   "cell_type": "markdown",
   "metadata": {
    "deletable": true,
    "editable": true
   },
   "source": [
    "Probabilistically Significant Betweeness Centrality Nodes"
   ]
  },
  {
   "cell_type": "code",
   "execution_count": 10,
   "metadata": {
    "collapsed": true,
    "deletable": true,
    "editable": true
   },
   "outputs": [],
   "source": [
    "N={x: float(G_nothresh[x].number_of_nodes()) for x in domains}\n",
    "P={}\n",
    "spots=len(basic_metrics[x]['topbetween_cent'])\n",
    "for x in domains:\n",
    "    P[x]=(spots/N[x])*((spots-1)/(N[x]-1))*((spots-2)/(N[x]-2))*((spots-3)/(N[x]-3))*((spots-4)/(N[x]-4))*((spots-5)/(N[x]-5))*((spots-6)/(N[x]-6))*((spots-7)/(N[x]-7))*((spots-8)/(N[x]-8))*((spots-9)/(N[x]-9))*((spots-10)/(N[x]-10))*((spots-11)/(N[x]-11))\n",
    "    #P[x]=\"{:.0%}\".format(P[x])"
   ]
  },
  {
   "cell_type": "code",
   "execution_count": 11,
   "metadata": {
    "collapsed": false,
    "deletable": true,
    "editable": true
   },
   "outputs": [
    {
     "data": {
      "text/plain": [
       "9.2056864801897e-96"
      ]
     },
     "execution_count": 11,
     "metadata": {},
     "output_type": "execute_result"
    }
   ],
   "source": [
    "P['Memory']*P['Working Memory']*P['Language']*P['Audition']*P['Attention']"
   ]
  },
  {
   "cell_type": "code",
   "execution_count": 12,
   "metadata": {
    "collapsed": false,
    "deletable": true,
    "editable": true
   },
   "outputs": [],
   "source": [
    "top_freq=[(basic_metrics[x]['topbetween_cent']) for x in domains]"
   ]
  },
  {
   "cell_type": "code",
   "execution_count": 13,
   "metadata": {
    "collapsed": true,
    "deletable": true,
    "editable": true
   },
   "outputs": [],
   "source": [
    "top_list=[item for sublist in top_freq for item in sublist]"
   ]
  },
  {
   "cell_type": "code",
   "execution_count": 14,
   "metadata": {
    "collapsed": false,
    "deletable": true,
    "editable": true
   },
   "outputs": [],
   "source": [
    "for x in domains:\n",
    "    for n in range(len(significant_nodes[x])):\n",
    "        if significant_nodes[x][n][0] not in top_list:\n",
    "            print significant_nodes[x][n][0], x"
   ]
  },
  {
   "cell_type": "code",
   "execution_count": 15,
   "metadata": {
    "collapsed": true,
    "deletable": true,
    "editable": true
   },
   "outputs": [],
   "source": [
    "top_freq_dict=Counter(top_list)"
   ]
  },
  {
   "cell_type": "code",
   "execution_count": 16,
   "metadata": {
    "collapsed": true,
    "deletable": true,
    "editable": true
   },
   "outputs": [],
   "source": [
    "sorted_top_freq=sorted(top_freq_dict.items(), key=operator.itemgetter(1), reverse=True)"
   ]
  },
  {
   "cell_type": "code",
   "execution_count": 17,
   "metadata": {
    "collapsed": false,
    "deletable": true,
    "editable": true
   },
   "outputs": [],
   "source": [
    "degree_specialized_regions=[]\n",
    "for part in range(len(sorted_top_freq)):\n",
    "    for section in range(len(top_freq)):\n",
    "        for x in domains:\n",
    "            for n in range(len(significant_nodes[x])):\n",
    "                if sorted_top_freq[part][0] == significant_nodes[x][n][0]:\n",
    "                    if sorted_top_freq[part][1] < 2:\n",
    "                        degree_specialized_regions.append((x,sorted_top_freq[part][0]))\n",
    "degree_specialized_regions=set(degree_specialized_regions)"
   ]
  },
  {
   "cell_type": "code",
   "execution_count": 18,
   "metadata": {
    "collapsed": false,
    "deletable": true,
    "editable": true
   },
   "outputs": [],
   "source": [
    "between_specialized_regions=[]\n",
    "for part in range(len(sorted_top_freq)):\n",
    "    for section in range(len(top_freq)):\n",
    "        for x in domains:\n",
    "            for n in range(len(significant_nodes[x])):\n",
    "                if sorted_top_freq[part][0] == significant_nodes[x][n][0]:\n",
    "                    if sorted_top_freq[part][1] < 2:\n",
    "                        between_specialized_regions.append((x,sorted_top_freq[part][0]))\n",
    "between_specialized_regions=set(between_specialized_regions)"
   ]
  },
  {
   "cell_type": "markdown",
   "metadata": {
    "deletable": true,
    "editable": true
   },
   "source": [
    "### Create BrainNet file for Betweeness Centrality Specialized Regions"
   ]
  },
  {
   "cell_type": "code",
   "execution_count": 19,
   "metadata": {
    "collapsed": false,
    "deletable": true,
    "editable": true
   },
   "outputs": [],
   "source": [
    "path = '/Users/owner/Documents/MATLAB/Add_Ons/BrainNetViewer_20171031/Data/NodeFiles/CSV/Label_coordinates.csv'\n",
    "df = pd.read_csv(path, header=None, names=['x','y','z','regions'], sep='\\t')\n",
    "df.insert(4,'module',0,True)\n",
    "df.insert(5,'size',0,True)\n",
    "df.insert(6,'nodes',0,True)\n",
    "df=df[['x','y','z','module','size','regions','nodes']]"
   ]
  },
  {
   "cell_type": "code",
   "execution_count": 24,
   "metadata": {
    "collapsed": false,
    "deletable": true,
    "editable": true
   },
   "outputs": [
    {
     "name": "stdout",
     "output_type": "stream",
     "text": [
      "('Audition', 6)\n",
      "('Language', 4)\n",
      "('Emotion', 2)\n",
      "('Emotion', 2)\n",
      "('Vision', 5)\n",
      "('Attention', 3)\n",
      "('Emotion', 2)\n",
      "('Emotion', 2)\n",
      "('Attention', 3)\n",
      "('Working Memory', 1)\n",
      "('Emotion', 2)\n",
      "('Vision', 5)\n",
      "('Audition', 6)\n",
      "('Emotion', 2)\n"
     ]
    }
   ],
   "source": [
    "for region in between_specialized_regions:\n",
    "    print (region[0], domains.index(region[0]))"
   ]
  },
  {
   "cell_type": "code",
   "execution_count": 123,
   "metadata": {
    "collapsed": false,
    "deletable": true,
    "editable": true
   },
   "outputs": [],
   "source": [
    "for region in between_specialized_regions:\n",
    "    for n in range(len(df)):\n",
    "        if region[1] == df.loc[n,'regions']:\n",
    "            df.loc[n,'nodes'] = region[1]\n",
    "            df.loc[n, 'module'] = domains.index(region[0])\n",
    "            df.loc[n, 'size'] = 1\n",
    "df=df[['x','y','z','module','size','nodes']]\n",
    "df=df[df.nodes != 0]\n",
    "df.index=range(len(df))"
   ]
  },
  {
   "cell_type": "code",
   "execution_count": 127,
   "metadata": {
    "collapsed": false,
    "deletable": true,
    "editable": true
   },
   "outputs": [],
   "source": [
    "df_left = df.copy()\n",
    "df_right = df.copy()\n",
    "for n,node in enumerate(df['nodes']):\n",
    "    if '_L_' not in node:\n",
    "        df_left.loc[n,'nodes'] = 0\n",
    "    elif '_R_' not in node:\n",
    "        df_right.loc[n,'nodes'] = 0\n",
    "        \n",
    "#seperate right and left for clearer images\n",
    "df_left = df_left[df_left.nodes != 0]\n",
    "df_right = df_right[df_right.nodes !=0]"
   ]
  },
  {
   "cell_type": "code",
   "execution_count": 132,
   "metadata": {
    "collapsed": false,
    "deletable": true,
    "editable": true
   },
   "outputs": [],
   "source": [
    "outdir='/Users/owner/Documents/MATLAB/Add_Ons/BrainNetViewer_20171031/Data/NodeFiles/CSV/'\n",
    "df_left.to_csv(outdir+'L_Between_Special.csv', header=False, index=False, index_label=False)\n",
    "df_right.to_csv(outdir+'R_Between_Special.csv', header=False, index=False, index_label=False)"
   ]
  },
  {
   "cell_type": "code",
   "execution_count": 133,
   "metadata": {
    "collapsed": true,
    "deletable": true,
    "editable": true
   },
   "outputs": [],
   "source": [
    "for side in ['L','R']:\n",
    "    csv_file = '/Users/owner/Documents/MATLAB/Add_Ons/BrainNetViewer_20171031/Data/NodeFiles/CSV/'+side+'_Between_Special.csv'\n",
    "    txt_file = '/Users/owner/Documents/MATLAB/Add_Ons/BrainNetViewer_20171031/Data/NodeFiles/'+side+'_Between_Special.node'\n",
    "    with open(txt_file, \"w\") as my_output_file:\n",
    "        with open(csv_file, \"r\") as my_input_file:\n",
    "            [ my_output_file.write(\" \".join(row)+'\\n') for row in csv.reader(my_input_file)]\n",
    "        my_output_file.close()"
   ]
  },
  {
   "cell_type": "code",
   "execution_count": 22,
   "metadata": {
    "collapsed": true,
    "deletable": true,
    "editable": true
   },
   "outputs": [],
   "source": [
    "specialized_regions=[]\n",
    "for region in degree_specialized_regions:\n",
    "    for reg in between_specialized_regions:\n",
    "        if region == reg:\n",
    "            specialized_regions.append(region[1])"
   ]
  },
  {
   "cell_type": "code",
   "execution_count": null,
   "metadata": {
    "collapsed": true,
    "deletable": true,
    "editable": true
   },
   "outputs": [],
   "source": [
    "for n in specialized_regions:\n",
    "    print n[0], n[1]"
   ]
  },
  {
   "cell_type": "code",
   "execution_count": 17,
   "metadata": {
    "collapsed": true,
    "deletable": true,
    "editable": true
   },
   "outputs": [],
   "source": [
    "stable_regions=[]\n",
    "for n in range(len(sorted_top_freq)):\n",
    "    if sorted_top_freq[n][1] > 5:\n",
    "        stable_regions.append(sorted_top_freq[n][0])"
   ]
  },
  {
   "cell_type": "markdown",
   "metadata": {
    "deletable": true,
    "editable": true
   },
   "source": [
    "# Fingerprints"
   ]
  },
  {
   "cell_type": "code",
   "execution_count": null,
   "metadata": {
    "collapsed": true,
    "deletable": true,
    "editable": true
   },
   "outputs": [],
   "source": [
    "metric_l=('degree_cent','between_cent','eigenvector_cent','degrees','ccoeff')"
   ]
  },
  {
   "cell_type": "code",
   "execution_count": null,
   "metadata": {
    "collapsed": false,
    "deletable": true,
    "editable": true
   },
   "outputs": [],
   "source": [
    "Mid_regions = [relabel_dict[x] for x in relabel_dict if 'Frontal_Mid_L' in relabel_dict[x] ]"
   ]
  },
  {
   "cell_type": "code",
   "execution_count": null,
   "metadata": {
    "collapsed": true,
    "deletable": true,
    "editable": true
   },
   "outputs": [],
   "source": [
    "relabel_dict"
   ]
  },
  {
   "cell_type": "markdown",
   "metadata": {
    "deletable": true,
    "editable": true
   },
   "source": [
    "Centrality Fingerprints"
   ]
  },
  {
   "cell_type": "code",
   "execution_count": null,
   "metadata": {
    "collapsed": false,
    "deletable": true,
    "editable": true
   },
   "outputs": [],
   "source": [
    "from matplotlib.path import Path\n",
    "from matplotlib.spines import Spine\n",
    "from matplotlib.projections.polar import PolarAxes\n",
    "from matplotlib.projections import register_projection\n",
    "\n",
    "regionlist = stable_regions\n",
    "\n",
    "#regionlist=['Frontal_Inf_Oper_R_3', 'Frontal_Inf_Oper_R_1', 'Supp_Motor_Area_R_2', \n",
    "            #'Precentral_L_8', 'Frontal_Inf_Orb_L_5', 'Precentral_L_11', 'Precentral_R_14']\n",
    "\n",
    "if __name__ == '__main__':\n",
    "    N = 7\n",
    "    theta = brainmap.radar_factory(N, frame='polygon')\n",
    "\n",
    "    data = brainmap.make_fingerprint_data(regionlist, basic_metrics.keys(), basic_metrics, metric_l)\n",
    "    spoke_labels = data.pop(0)\n",
    "\n",
    "    fig, axes = plt.subplots(figsize=(15, 15), nrows=1, ncols=2,\n",
    "                             subplot_kw=dict(projection='radar'))\n",
    "    fig.subplots_adjust(wspace=0.3, hspace=0.10, top=0.55, bottom=0.05)\n",
    "\n",
    "    colors = ['tab:blue', 'tab:orange', 'tab:green', 'tab:red', 'tab:purple', 'tab:brown', \n",
    "              'tab:pink', 'tab:gray', 'tab:cyan']\n",
    "    # Plot the four cases from the example data on separate axes\n",
    "    for ax, (title, case_data) in zip(axes.flatten(), data):\n",
    "        ax.set_rgrids(np.arange(0.05, 1.0, 0.15))\n",
    "        ax.set_title(title, weight='bold', size='medium', position=(0.5, 1.08),\n",
    "                     horizontalalignment='center', verticalalignment='center')\n",
    "        for d, color in zip(case_data, colors):\n",
    "            ax.plot(theta, d, color=color)\n",
    "            ax.fill(theta, d, facecolor=color, alpha=0.25)\n",
    "        ax.set_varlabels(spoke_labels)\n",
    "        # add legend relative to top-left plot\n",
    "    ax = axes[0]\n",
    "    labels = (regionlist)\n",
    "    legend = ax.legend(labels, loc=(2.0, .98),\n",
    "                       labelspacing=0.2, title='Regions', fontsize='large')\n",
    "\n",
    "    fig.text(0.5, 0.55, 'Regions Expressing High Centrality Across Domains',\n",
    "             horizontalalignment='center', color='black', weight='bold',\n",
    "             size='large')\n",
    "    fig.savefig('/Users/owner/Desktop/Stable_Regions.png')\n",
    "\n",
    "    plt.show()"
   ]
  },
  {
   "cell_type": "markdown",
   "metadata": {
    "deletable": true,
    "editable": true
   },
   "source": [
    "Domain Fingerprints"
   ]
  },
  {
   "cell_type": "code",
   "execution_count": null,
   "metadata": {
    "collapsed": false,
    "deletable": true,
    "editable": true
   },
   "outputs": [],
   "source": [
    "def domain_fingerprints (region_list, domain_list, metric_dict, metric_tuple):\n",
    "    data=[[] for l in range(len(metric_tuple)+1)]\n",
    "    for region in region_list:\n",
    "        for metric in metric_tuple:\n",
    "            for x in domain_list:\n",
    "                if region not in metric_dict[x][metric].keys():\n",
    "                    metric_dict[x][metric].update({region: 0})\n",
    "    measure_dict={metric: {x: {region: metric_dict[x][metric][region] for region in region_list} for x in domain_list} for metric in metric_tuple}\n",
    "    data_raw=[[OrderedDict(measure_dict[metric][x]).values() for x in domain_list] for metric in metric_tuple]\n",
    "    data_tuple=tuple((metric, data_raw[n]) for n in range(len(data_raw)) for metric in metric_tuple)\n",
    "    data[0] = OrderedDict(measure_dict[metric][x]).keys()\n",
    "    data[1]=data_tuple[0]\n",
    "    data[2]=data_tuple[6]\n",
    "    data[3]=data_tuple[12]\n",
    "    data[4]=data_tuple[18]\n",
    "    data[5]=data_tuple[24]\n",
    "    \n",
    "    return data"
   ]
  },
  {
   "cell_type": "code",
   "execution_count": null,
   "metadata": {
    "collapsed": false,
    "deletable": true,
    "editable": true
   },
   "outputs": [],
   "source": [
    "metric_l = ('degree_cent','between_cent','eigenvector_cent','degrees','ccoeff')\n",
    "regionlist=['Frontal_Mid_L_14', 'Frontal_Inf_Oper_L_4', 'Frontal_Med_Orb_L_3', \n",
    "            'Frontal_Mid_Orb_L_4','Rectus_L_1','Precentral_L_5', 'Supp_Motor_Area_L_9']\n",
    "if __name__ == '__main__':\n",
    "    N = 7\n",
    "    theta = brainmap.radar_factory(N, frame='polygon')\n",
    "\n",
    "    data = domain_fingerprints(regionlist, basic_metrics.keys(), basic_metrics, metric_l)\n",
    "    spoke_labels = data.pop(0)\n",
    "\n",
    "    fig, axes = plt.subplots(figsize=(15, 15), nrows=1, ncols=2,\n",
    "                             subplot_kw=dict(projection='radar'))\n",
    "    fig.subplots_adjust(wspace=0.4, hspace=0.10, top=0.55, bottom=0.05)\n",
    "\n",
    "    colors = ['tab:blue', 'tab:orange', 'tab:green', 'tab:red', 'tab:purple', 'tab:brown', \n",
    "              'tab:pink', 'tab:gray', 'tab:cyan']\n",
    "    # Plot the four cases from the example data on separate axes\n",
    "    for ax, (title, case_data) in zip(axes.flatten(), data):\n",
    "        ax.set_rgrids(np.arange(0.05, 1.0, 0.15))\n",
    "        ax.set_title(title, weight='bold', size='medium', position=(0.5, 1.08),\n",
    "                     horizontalalignment='center', verticalalignment='center')\n",
    "        for d, color in zip(case_data, colors):\n",
    "            ax.plot(theta, d, color=color)\n",
    "            ax.fill(theta, d, facecolor=color, alpha=0.25)\n",
    "        ax.set_varlabels(spoke_labels)\n",
    "        # add legend relative to top-left plot\n",
    "    ax = axes[0]\n",
    "    labels = (basic_metrics.keys())\n",
    "    legend = ax.legend(labels, loc=(2.1, .98),\n",
    "                       labelspacing=0.2, title='Domain', fontsize='large')\n",
    "\n",
    "    fig.text(0.5, 0.55, 'Domains Across PFC Subregions',\n",
    "             horizontalalignment='center', color='black', weight='bold',\n",
    "             size='large')\n",
    "    fig.savefig('/Users/owner/Desktop/Domain_PFC_Subregs.png')\n",
    "\n",
    "    plt.show()"
   ]
  },
  {
   "cell_type": "markdown",
   "metadata": {
    "deletable": true,
    "editable": true
   },
   "source": [
    "# Merge Subregions "
   ]
  },
  {
   "cell_type": "code",
   "execution_count": null,
   "metadata": {
    "collapsed": false,
    "deletable": true,
    "editable": true,
    "scrolled": false
   },
   "outputs": [],
   "source": [
    "G_merge = {}\n",
    "for x in tqdm(domains):\n",
    "    G_merge[x] = G_nothresh[x].copy()\n",
    "    for node1 in G_merge[x].nodes():\n",
    "        for node2 in G_merge[x].nodes():\n",
    "            if node1 != node2:\n",
    "                if node1.translate(None, '0123456789') == node2.translate(None, '0123456789'):\n",
    "                    G_merge[x] = nx.contracted_nodes(G_merge[x],node1,node2,self_loops=False)"
   ]
  },
  {
   "cell_type": "code",
   "execution_count": null,
   "metadata": {
    "collapsed": false,
    "deletable": true,
    "editable": true
   },
   "outputs": [],
   "source": [
    "merge_labels = {x: {G_merge[x].nodes()[i]: G_merge[x].nodes()[i].translate(None, '0123456789')[:-1] for i in range(len(G_merge[x].nodes()))} for x in domains}"
   ]
  },
  {
   "cell_type": "code",
   "execution_count": null,
   "metadata": {
    "collapsed": true,
    "deletable": true,
    "editable": true
   },
   "outputs": [],
   "source": [
    "for x in domains:\n",
    "    filename = 'G_merged_'+x+'_.pck'\n",
    "    workdir = '/Users/owner/Functional_Connectivity/Results/G_jaccard_graphs/Unthresholded_G_jaccard/'\n",
    "    output = workdir + filename\n",
    "    G_merge[x] = nx.relabel_nodes(G_merge[x],merge_labels[x], copy = False)\n",
    "    #pickle.dump(G_merge[x], open (output, 'wb'))"
   ]
  },
  {
   "cell_type": "markdown",
   "metadata": {
    "deletable": true,
    "editable": true
   },
   "source": [
    "## Run Basic Metrics on Merged Graph "
   ]
  },
  {
   "cell_type": "code",
   "execution_count": null,
   "metadata": {
    "collapsed": false,
    "deletable": true,
    "editable": true
   },
   "outputs": [],
   "source": [
    "G_merge = {}\n",
    "for x in domains:\n",
    "    filename = 'G_merged_'+x+'_.pck'\n",
    "    workdir = '/Users/owner/Functional_Connectivity/Results/G_jaccard_graphs/Unthresholded_G_jaccard/Merged_Graphs/'\n",
    "    output = workdir + filename\n",
    "    G_merge[x] = pickle.load(open (output, 'rb'))"
   ]
  },
  {
   "cell_type": "code",
   "execution_count": null,
   "metadata": {
    "collapsed": true,
    "deletable": true,
    "editable": true
   },
   "outputs": [],
   "source": [
    "basic_metrics_merge={x: brainmap.run_weighted_metrics(G_merge[x], 12, comm=False) for x in domains}\n",
    "\n",
    "#pickle.dump(basic_metric_merge, open('/Users/owner/Functional_Connectivity/Results/G_jaccard_graphs/Unthresholded_G_jaccard/Merged_Graphs/Merge_metrics.pck','wb'))"
   ]
  },
  {
   "cell_type": "code",
   "execution_count": null,
   "metadata": {
    "collapsed": false,
    "deletable": true,
    "editable": true
   },
   "outputs": [],
   "source": [
    "from matplotlib.path import Path\n",
    "from matplotlib.spines import Spine\n",
    "from matplotlib.projections.polar import PolarAxes\n",
    "from matplotlib.projections import register_projection\n",
    "\n",
    "regionlist=['Frontal_Mid_L', 'Frontal_Inf_Oper_L', 'Frontal_Med_Orb_L', \n",
    "            'Frontal_Mid_Orb_L','Rectus_L','Precentral_L', 'Supp_Motor_Area_L']\n",
    "if __name__ == '__main__':\n",
    "    N = 9\n",
    "    theta = brainmap.radar_factory(N, frame='polygon')\n",
    "\n",
    "    data = brainmap.make_fingerprint_data(regionlist, basic_metrics_merge.keys(), basic_metrics_merge, metric_l)\n",
    "    spoke_labels = data.pop(0)\n",
    "\n",
    "    fig, axes = plt.subplots(figsize=(15, 15), nrows=1, ncols=2,\n",
    "                             subplot_kw=dict(projection='radar'))\n",
    "    fig.subplots_adjust(wspace=0.3, hspace=0.10, top=0.55, bottom=0.05)\n",
    "\n",
    "    colors = ['tab:blue', 'tab:orange', 'tab:green', 'tab:red', 'tab:purple', 'tab:brown', \n",
    "              'tab:pink', 'tab:gray', 'tab:cyan']\n",
    "    # Plot the four cases from the example data on separate axes\n",
    "    for ax, (title, case_data) in zip(axes.flatten(), data):\n",
    "        ax.set_rgrids(np.arange(0.05, 1.0, 0.15))\n",
    "        ax.set_title(title, weight='bold', size='medium', position=(0.5, 1.08),\n",
    "                     horizontalalignment='center', verticalalignment='center')\n",
    "        for d, color in zip(case_data, colors):\n",
    "            ax.plot(theta, d, color=color)\n",
    "            ax.fill(theta, d, facecolor=color, alpha=0.25)\n",
    "        ax.set_varlabels(spoke_labels)\n",
    "        # add legend relative to top-left plot\n",
    "    ax = axes[0]\n",
    "    labels = (regionlist)\n",
    "    legend = ax.legend(labels, loc=(2.0, .98),\n",
    "                       labelspacing=0.2, title='Regions', fontsize='large')\n",
    "\n",
    "    fig.text(0.5, 0.55, 'Merged Regions Across Domains',\n",
    "             horizontalalignment='center', color='black', weight='bold',\n",
    "             size='large')\n",
    "    fig.savefig('/Users/owner/Desktop/Merged_Regions.png')\n",
    "\n",
    "    plt.show()"
   ]
  },
  {
   "cell_type": "code",
   "execution_count": null,
   "metadata": {
    "collapsed": false,
    "deletable": true,
    "editable": true
   },
   "outputs": [],
   "source": [
    "metric_l = ('degree_cent','between_cent','eigenvector_cent','degrees','ccoeff')\n",
    "\n",
    "regionlist=['Frontal_Mid_L', 'Frontal_Inf_Oper_L', 'Frontal_Med_Orb_L', \n",
    "            'Frontal_Mid_Orb_L','Rectus_L','Precentral_L', 'Supp_Motor_Area_L',\n",
    "           'Frontal_Sup_Medial_L','Cingulum_Ant_L','Frontal_Inf_Orb_L','Frontal_Sup_L',\n",
    "           'Frontal_Inf_Tri_L','Frontal_Sup_Orb_L','Rolandic_Oper_L']\n",
    "if __name__ == '__main__':\n",
    "    N = len(regionlist)\n",
    "    theta = brainmap.radar_factory(N, frame='polygon')\n",
    "\n",
    "    data = domain_fingerprints(regionlist, basic_metrics_merge.keys(), basic_metrics_merge, metric_l)\n",
    "    spoke_labels = data.pop(0)\n",
    "\n",
    "    fig, axes = plt.subplots(figsize=(15, 15), nrows=1, ncols=2,\n",
    "                             subplot_kw=dict(projection='radar'))\n",
    "    fig.subplots_adjust(wspace=0.4, hspace=0.10, top=0.55, bottom=0.05)\n",
    "\n",
    "    colors = ['tab:blue', 'tab:orange', 'tab:green', 'tab:red', 'tab:purple', 'tab:brown', \n",
    "              'tab:pink', 'tab:gray', 'tab:cyan']\n",
    "    # Plot the four cases from the example data on separate axes\n",
    "    for ax, (title, case_data) in zip(axes.flatten(), data):\n",
    "        ax.set_rgrids(np.arange(0.2, 0.5, 0.1))\n",
    "        ax.set_title(title, weight='bold', size='medium', position=(0.5, 1.08),\n",
    "                     horizontalalignment='center', verticalalignment='center')\n",
    "        for d, color in zip(case_data, colors):\n",
    "            ax.plot(theta, d, color=color)\n",
    "            ax.fill(theta, d, facecolor=color, alpha=0.25)\n",
    "        ax.set_varlabels(spoke_labels)\n",
    "        # add legend relative to top-left plot\n",
    "    ax = axes[0]\n",
    "    labels = (basic_metrics.keys())\n",
    "    legend = ax.legend(labels, loc=(2.1, 1.1),\n",
    "                       labelspacing=0.2, title='Domain', fontsize='large')\n",
    "\n",
    "    fig.text(0.5, 0.55, 'Domains Across Merged PFC Subregions',\n",
    "             horizontalalignment='center', color='black', weight='bold',\n",
    "             size='large')\n",
    "    fig.savefig('/Users/owner/Desktop/Domain_PFC_Subregs_Merged.png')\n",
    "\n",
    "    plt.show()"
   ]
  },
  {
   "cell_type": "markdown",
   "metadata": {
    "collapsed": true,
    "deletable": true,
    "editable": true
   },
   "source": [
    "## Edge Metrics"
   ]
  },
  {
   "cell_type": "code",
   "execution_count": 6,
   "metadata": {
    "collapsed": true,
    "deletable": true,
    "editable": true
   },
   "outputs": [],
   "source": [
    "def getKey(item):\n",
    "    return(item[2])"
   ]
  },
  {
   "cell_type": "code",
   "execution_count": 7,
   "metadata": {
    "collapsed": false,
    "deletable": true,
    "editable": true
   },
   "outputs": [],
   "source": [
    "#return top n edge weights\n",
    "top_n = 10\n",
    "domain_edgeWeights = dict()\n",
    "for x in domains:\n",
    "    domain_edgeWeights[x] = sorted(list(G_nothresh[x].edges_iter(data=True)),key = getKey, reverse = True)[0:top_n-1]"
   ]
  },
  {
   "cell_type": "code",
   "execution_count": 9,
   "metadata": {
    "collapsed": false,
    "deletable": true,
    "editable": true
   },
   "outputs": [],
   "source": [
    "#top between subregions edges\n",
    "sub_edgeDict = dict()\n",
    "sub_edges = list()\n",
    "top_n = 10\n",
    "for x in domains:\n",
    "    edgeW_list = sorted(list(G_nothresh[x].edges_iter(data=True)),key = getKey, reverse = True)\n",
    "    for edge in edgeW_list:\n",
    "        pair = edge[0:2]\n",
    "        hemsph = np.zeros(2,dtype=int) #determine if nodes are in the same hemisphere\n",
    "        for n in range(2):               \n",
    "            if pair[n].find('R') > 0:\n",
    "                hemsph[n] = pair[n].find('R')\n",
    "            else:\n",
    "                hemsph[n] = pair[n].find('L')\n",
    "        if pair[0][:hemsph[0]] not in pair[1][:hemsph[1]]:      #extract edges of nodes in different subregions\n",
    "            sub_edges.append(edge)\n",
    "    sub_edgeDict[x] = sub_edges"
   ]
  },
  {
   "cell_type": "code",
   "execution_count": 12,
   "metadata": {
    "collapsed": false,
    "deletable": true,
    "editable": true
   },
   "outputs": [
    {
     "name": "stderr",
     "output_type": "stream",
     "text": [
      "\n",
      "  0%|          | 0/7 [00:00<?, ?it/s]\u001b[A\n",
      " 14%|█▍        | 1/7 [02:32<15:17, 152.94s/it]\u001b[A\n",
      " 29%|██▊       | 2/7 [02:34<08:57, 107.48s/it]\u001b[A\n",
      " 43%|████▎     | 3/7 [02:35<05:02, 75.65s/it] \u001b[A\n",
      " 57%|█████▋    | 4/7 [02:37<02:40, 53.37s/it]\u001b[A\n",
      " 71%|███████▏  | 5/7 [02:38<01:15, 37.77s/it]\u001b[A\n",
      " 86%|████████▌ | 6/7 [02:39<00:26, 26.86s/it]\u001b[A\n",
      "100%|██████████| 7/7 [02:41<00:00, 19.21s/it]\u001b[A"
     ]
    }
   ],
   "source": [
    "#edge stability across domains\n",
    "stable_edges = []\n",
    "edge_weights = list()\n",
    "edge_countList = list()\n",
    "for x in tqdm(domains):\n",
    "    for x2 in domains:\n",
    "        if x != x2:\n",
    "            for edge in sub_edgeDict[x]:\n",
    "                if edge in stable_edges: #should cut down duplicate processing\n",
    "                    break\n",
    "                edge_count = 0\n",
    "                for edge2 in sub_edgeDict[x2]:\n",
    "                    if (edge[0],edge[1]) == (edge2[0],edge2[1]) or (edge[0],edge[1]) == (edge2[1],edge2[0]):\n",
    "                        edge_count = edge_count + 1\n",
    "                if edge_count > 5:\n",
    "                    stable_edges.append(edge)\n",
    "                    edge_weights.append(edge[2].values()[0])\n",
    "                    edge_countList.append(edge_count)"
   ]
  },
  {
   "cell_type": "code",
   "execution_count": 15,
   "metadata": {
    "collapsed": false,
    "deletable": true,
    "editable": true
   },
   "outputs": [],
   "source": [
    "stable_edgeDf = pd.DataFrame(stable_edges,columns = ['Edge1','Edge2','Weight'])\n",
    "stable_edgeDf=stable_edgeDf.drop('Weight',axis=1)\n",
    "stable_edgeDf['Weight'] = edge_weights\n",
    "stable_edgeDf['DomainFreq'] = edge_countList"
   ]
  },
  {
   "cell_type": "code",
   "execution_count": 29,
   "metadata": {
    "collapsed": false
   },
   "outputs": [
    {
     "data": {
      "text/html": [
       "<div>\n",
       "<style scoped>\n",
       "    .dataframe tbody tr th:only-of-type {\n",
       "        vertical-align: middle;\n",
       "    }\n",
       "\n",
       "    .dataframe tbody tr th {\n",
       "        vertical-align: top;\n",
       "    }\n",
       "\n",
       "    .dataframe thead th {\n",
       "        text-align: right;\n",
       "    }\n",
       "</style>\n",
       "<table border=\"1\" class=\"dataframe\">\n",
       "  <thead>\n",
       "    <tr style=\"text-align: right;\">\n",
       "      <th></th>\n",
       "      <th>Edge1</th>\n",
       "      <th>Edge2</th>\n",
       "      <th>Weight</th>\n",
       "      <th>DomainFreq</th>\n",
       "    </tr>\n",
       "  </thead>\n",
       "  <tbody>\n",
       "    <tr>\n",
       "      <th>516</th>\n",
       "      <td>Rolandic_Oper_R_5</td>\n",
       "      <td>Precentral_L_12</td>\n",
       "      <td>0.200000</td>\n",
       "      <td>6</td>\n",
       "    </tr>\n",
       "    <tr>\n",
       "      <th>517</th>\n",
       "      <td>Supp_Motor_Area_L_3</td>\n",
       "      <td>Precentral_R_11</td>\n",
       "      <td>0.181818</td>\n",
       "      <td>6</td>\n",
       "    </tr>\n",
       "    <tr>\n",
       "      <th>518</th>\n",
       "      <td>Precentral_L_1</td>\n",
       "      <td>Frontal_Inf_Oper_R_3</td>\n",
       "      <td>0.163636</td>\n",
       "      <td>7</td>\n",
       "    </tr>\n",
       "    <tr>\n",
       "      <th>519</th>\n",
       "      <td>Supp_Motor_Area_L_7</td>\n",
       "      <td>Frontal_Inf_Tri_R_1</td>\n",
       "      <td>0.157143</td>\n",
       "      <td>6</td>\n",
       "    </tr>\n",
       "    <tr>\n",
       "      <th>520</th>\n",
       "      <td>Frontal_Mid_R_17</td>\n",
       "      <td>Precentral_R_6</td>\n",
       "      <td>0.156250</td>\n",
       "      <td>6</td>\n",
       "    </tr>\n",
       "    <tr>\n",
       "      <th>521</th>\n",
       "      <td>Supp_Motor_Area_L_4</td>\n",
       "      <td>Precentral_L_1</td>\n",
       "      <td>0.153846</td>\n",
       "      <td>7</td>\n",
       "    </tr>\n",
       "    <tr>\n",
       "      <th>0</th>\n",
       "      <td>Frontal_Sup_Medial_L_12</td>\n",
       "      <td>Frontal_Inf_Orb_R_5</td>\n",
       "      <td>0.147541</td>\n",
       "      <td>6</td>\n",
       "    </tr>\n",
       "    <tr>\n",
       "      <th>522</th>\n",
       "      <td>Frontal_Mid_R_15</td>\n",
       "      <td>Precentral_L_7</td>\n",
       "      <td>0.147059</td>\n",
       "      <td>6</td>\n",
       "    </tr>\n",
       "    <tr>\n",
       "      <th>1</th>\n",
       "      <td>Frontal_Mid_R_17</td>\n",
       "      <td>Precentral_R_6</td>\n",
       "      <td>0.140000</td>\n",
       "      <td>6</td>\n",
       "    </tr>\n",
       "    <tr>\n",
       "      <th>523</th>\n",
       "      <td>Supp_Motor_Area_R_4</td>\n",
       "      <td>Precentral_L_1</td>\n",
       "      <td>0.135135</td>\n",
       "      <td>6</td>\n",
       "    </tr>\n",
       "    <tr>\n",
       "      <th>2</th>\n",
       "      <td>Supp_Motor_Area_R_4</td>\n",
       "      <td>Precentral_L_2</td>\n",
       "      <td>0.130435</td>\n",
       "      <td>6</td>\n",
       "    </tr>\n",
       "    <tr>\n",
       "      <th>524</th>\n",
       "      <td>Supp_Motor_Area_L_9</td>\n",
       "      <td>Precentral_R_8</td>\n",
       "      <td>0.129032</td>\n",
       "      <td>6</td>\n",
       "    </tr>\n",
       "    <tr>\n",
       "      <th>525</th>\n",
       "      <td>Supp_Motor_Area_R_4</td>\n",
       "      <td>Precentral_L_2</td>\n",
       "      <td>0.129032</td>\n",
       "      <td>6</td>\n",
       "    </tr>\n",
       "    <tr>\n",
       "      <th>3</th>\n",
       "      <td>Precentral_L_1</td>\n",
       "      <td>Frontal_Inf_Oper_R_3</td>\n",
       "      <td>0.128571</td>\n",
       "      <td>7</td>\n",
       "    </tr>\n",
       "    <tr>\n",
       "      <th>4</th>\n",
       "      <td>Frontal_Inf_Tri_R_4</td>\n",
       "      <td>Precentral_R_6</td>\n",
       "      <td>0.125000</td>\n",
       "      <td>6</td>\n",
       "    </tr>\n",
       "    <tr>\n",
       "      <th>526</th>\n",
       "      <td>Supp_Motor_Area_L_3</td>\n",
       "      <td>Precentral_R_9</td>\n",
       "      <td>0.125000</td>\n",
       "      <td>6</td>\n",
       "    </tr>\n",
       "    <tr>\n",
       "      <th>527</th>\n",
       "      <td>Frontal_Inf_Oper_R_1</td>\n",
       "      <td>Precentral_L_10</td>\n",
       "      <td>0.125000</td>\n",
       "      <td>6</td>\n",
       "    </tr>\n",
       "    <tr>\n",
       "      <th>528</th>\n",
       "      <td>Frontal_Inf_Tri_R_1</td>\n",
       "      <td>Precentral_L_1</td>\n",
       "      <td>0.123077</td>\n",
       "      <td>7</td>\n",
       "    </tr>\n",
       "    <tr>\n",
       "      <th>529</th>\n",
       "      <td>Frontal_Mid_R_15</td>\n",
       "      <td>Precentral_L_11</td>\n",
       "      <td>0.120000</td>\n",
       "      <td>7</td>\n",
       "    </tr>\n",
       "    <tr>\n",
       "      <th>530</th>\n",
       "      <td>Frontal_Sup_Medial_L_12</td>\n",
       "      <td>Frontal_Inf_Orb_R_5</td>\n",
       "      <td>0.120000</td>\n",
       "      <td>6</td>\n",
       "    </tr>\n",
       "    <tr>\n",
       "      <th>531</th>\n",
       "      <td>Supp_Motor_Area_L_7</td>\n",
       "      <td>Frontal_Mid_L_14</td>\n",
       "      <td>0.119403</td>\n",
       "      <td>7</td>\n",
       "    </tr>\n",
       "    <tr>\n",
       "      <th>532</th>\n",
       "      <td>Frontal_Inf_Tri_R_1</td>\n",
       "      <td>Frontal_Mid_L_14</td>\n",
       "      <td>0.118644</td>\n",
       "      <td>6</td>\n",
       "    </tr>\n",
       "    <tr>\n",
       "      <th>6</th>\n",
       "      <td>Supp_Motor_Area_R_1</td>\n",
       "      <td>Frontal_Inf_Tri_L_4</td>\n",
       "      <td>0.117647</td>\n",
       "      <td>6</td>\n",
       "    </tr>\n",
       "    <tr>\n",
       "      <th>5</th>\n",
       "      <td>Supp_Motor_Area_L_7</td>\n",
       "      <td>Frontal_Inf_Tri_R_1</td>\n",
       "      <td>0.117647</td>\n",
       "      <td>6</td>\n",
       "    </tr>\n",
       "    <tr>\n",
       "      <th>533</th>\n",
       "      <td>Frontal_Mid_R_18</td>\n",
       "      <td>Precentral_L_4</td>\n",
       "      <td>0.116279</td>\n",
       "      <td>6</td>\n",
       "    </tr>\n",
       "    <tr>\n",
       "      <th>7</th>\n",
       "      <td>Supp_Motor_Area_L_3</td>\n",
       "      <td>Precentral_R_11</td>\n",
       "      <td>0.116279</td>\n",
       "      <td>6</td>\n",
       "    </tr>\n",
       "    <tr>\n",
       "      <th>8</th>\n",
       "      <td>Frontal_Inf_Tri_R_2</td>\n",
       "      <td>Frontal_Sup_Medial_L_6</td>\n",
       "      <td>0.114286</td>\n",
       "      <td>6</td>\n",
       "    </tr>\n",
       "    <tr>\n",
       "      <th>534</th>\n",
       "      <td>Supp_Motor_Area_L_3</td>\n",
       "      <td>Precentral_R_10</td>\n",
       "      <td>0.111111</td>\n",
       "      <td>6</td>\n",
       "    </tr>\n",
       "    <tr>\n",
       "      <th>535</th>\n",
       "      <td>Supp_Motor_Area_L_3</td>\n",
       "      <td>Precentral_L_10</td>\n",
       "      <td>0.111111</td>\n",
       "      <td>6</td>\n",
       "    </tr>\n",
       "    <tr>\n",
       "      <th>537</th>\n",
       "      <td>Supp_Motor_Area_L_9</td>\n",
       "      <td>Precentral_L_14</td>\n",
       "      <td>0.111111</td>\n",
       "      <td>6</td>\n",
       "    </tr>\n",
       "    <tr>\n",
       "      <th>...</th>\n",
       "      <td>...</td>\n",
       "      <td>...</td>\n",
       "      <td>...</td>\n",
       "      <td>...</td>\n",
       "    </tr>\n",
       "    <tr>\n",
       "      <th>486</th>\n",
       "      <td>Frontal_Inf_Tri_L_10</td>\n",
       "      <td>Frontal_Inf_Oper_R_5</td>\n",
       "      <td>0.013333</td>\n",
       "      <td>6</td>\n",
       "    </tr>\n",
       "    <tr>\n",
       "      <th>487</th>\n",
       "      <td>Supp_Motor_Area_L_7</td>\n",
       "      <td>Rectus_R_2</td>\n",
       "      <td>0.012987</td>\n",
       "      <td>6</td>\n",
       "    </tr>\n",
       "    <tr>\n",
       "      <th>488</th>\n",
       "      <td>Supp_Motor_Area_L_7</td>\n",
       "      <td>Cingulum_Ant_L_1</td>\n",
       "      <td>0.012821</td>\n",
       "      <td>7</td>\n",
       "    </tr>\n",
       "    <tr>\n",
       "      <th>489</th>\n",
       "      <td>Supp_Motor_Area_R_6</td>\n",
       "      <td>Frontal_Inf_Tri_R_1</td>\n",
       "      <td>0.012821</td>\n",
       "      <td>6</td>\n",
       "    </tr>\n",
       "    <tr>\n",
       "      <th>490</th>\n",
       "      <td>Precentral_L_11</td>\n",
       "      <td>Cingulum_Ant_L_2</td>\n",
       "      <td>0.012658</td>\n",
       "      <td>6</td>\n",
       "    </tr>\n",
       "    <tr>\n",
       "      <th>492</th>\n",
       "      <td>Frontal_Med_Orb_L_1</td>\n",
       "      <td>Frontal_Inf_Tri_R_1</td>\n",
       "      <td>0.012346</td>\n",
       "      <td>6</td>\n",
       "    </tr>\n",
       "    <tr>\n",
       "      <th>491</th>\n",
       "      <td>Frontal_Mid_R_11</td>\n",
       "      <td>Frontal_Med_Orb_L_2</td>\n",
       "      <td>0.012346</td>\n",
       "      <td>6</td>\n",
       "    </tr>\n",
       "    <tr>\n",
       "      <th>493</th>\n",
       "      <td>Precentral_L_1</td>\n",
       "      <td>Frontal_Inf_Orb_R_5</td>\n",
       "      <td>0.012195</td>\n",
       "      <td>6</td>\n",
       "    </tr>\n",
       "    <tr>\n",
       "      <th>496</th>\n",
       "      <td>Supp_Motor_Area_L_4</td>\n",
       "      <td>Precentral_L_10</td>\n",
       "      <td>0.012048</td>\n",
       "      <td>6</td>\n",
       "    </tr>\n",
       "    <tr>\n",
       "      <th>494</th>\n",
       "      <td>Rectus_L_2</td>\n",
       "      <td>Frontal_Inf_Tri_R_1</td>\n",
       "      <td>0.012048</td>\n",
       "      <td>6</td>\n",
       "    </tr>\n",
       "    <tr>\n",
       "      <th>495</th>\n",
       "      <td>Supp_Motor_Area_L_7</td>\n",
       "      <td>Frontal_Mid_R_3</td>\n",
       "      <td>0.012048</td>\n",
       "      <td>6</td>\n",
       "    </tr>\n",
       "    <tr>\n",
       "      <th>497</th>\n",
       "      <td>Rectus_L_1</td>\n",
       "      <td>Frontal_Sup_Medial_L_6</td>\n",
       "      <td>0.011628</td>\n",
       "      <td>6</td>\n",
       "    </tr>\n",
       "    <tr>\n",
       "      <th>498</th>\n",
       "      <td>Frontal_Mid_R_7</td>\n",
       "      <td>Frontal_Sup_Medial_L_6</td>\n",
       "      <td>0.011494</td>\n",
       "      <td>7</td>\n",
       "    </tr>\n",
       "    <tr>\n",
       "      <th>499</th>\n",
       "      <td>Supp_Motor_Area_L_7</td>\n",
       "      <td>Precentral_R_2</td>\n",
       "      <td>0.011364</td>\n",
       "      <td>7</td>\n",
       "    </tr>\n",
       "    <tr>\n",
       "      <th>500</th>\n",
       "      <td>Frontal_Inf_Tri_R_3</td>\n",
       "      <td>Frontal_Inf_Oper_L_2</td>\n",
       "      <td>0.011364</td>\n",
       "      <td>7</td>\n",
       "    </tr>\n",
       "    <tr>\n",
       "      <th>501</th>\n",
       "      <td>Supp_Motor_Area_L_4</td>\n",
       "      <td>Precentral_L_5</td>\n",
       "      <td>0.011111</td>\n",
       "      <td>6</td>\n",
       "    </tr>\n",
       "    <tr>\n",
       "      <th>502</th>\n",
       "      <td>Supp_Motor_Area_L_7</td>\n",
       "      <td>Frontal_Inf_Tri_R_7</td>\n",
       "      <td>0.010989</td>\n",
       "      <td>6</td>\n",
       "    </tr>\n",
       "    <tr>\n",
       "      <th>504</th>\n",
       "      <td>Supp_Motor_Area_R_4</td>\n",
       "      <td>Precentral_L_11</td>\n",
       "      <td>0.010989</td>\n",
       "      <td>6</td>\n",
       "    </tr>\n",
       "    <tr>\n",
       "      <th>503</th>\n",
       "      <td>Supp_Motor_Area_L_4</td>\n",
       "      <td>Frontal_Inf_Tri_R_2</td>\n",
       "      <td>0.010989</td>\n",
       "      <td>7</td>\n",
       "    </tr>\n",
       "    <tr>\n",
       "      <th>505</th>\n",
       "      <td>Supp_Motor_Area_L_7</td>\n",
       "      <td>Frontal_Sup_R_9</td>\n",
       "      <td>0.010753</td>\n",
       "      <td>6</td>\n",
       "    </tr>\n",
       "    <tr>\n",
       "      <th>506</th>\n",
       "      <td>Supp_Motor_Area_L_9</td>\n",
       "      <td>Frontal_Inf_Tri_R_1</td>\n",
       "      <td>0.010753</td>\n",
       "      <td>6</td>\n",
       "    </tr>\n",
       "    <tr>\n",
       "      <th>507</th>\n",
       "      <td>Supp_Motor_Area_L_4</td>\n",
       "      <td>Precentral_R_8</td>\n",
       "      <td>0.010638</td>\n",
       "      <td>7</td>\n",
       "    </tr>\n",
       "    <tr>\n",
       "      <th>508</th>\n",
       "      <td>Frontal_Inf_Tri_R_9</td>\n",
       "      <td>Frontal_Inf_Oper_L_2</td>\n",
       "      <td>0.010638</td>\n",
       "      <td>7</td>\n",
       "    </tr>\n",
       "    <tr>\n",
       "      <th>509</th>\n",
       "      <td>Frontal_Inf_Oper_L_2</td>\n",
       "      <td>Frontal_Mid_L_7</td>\n",
       "      <td>0.010638</td>\n",
       "      <td>6</td>\n",
       "    </tr>\n",
       "    <tr>\n",
       "      <th>510</th>\n",
       "      <td>Precentral_L_1</td>\n",
       "      <td>Cingulum_Ant_L_2</td>\n",
       "      <td>0.010309</td>\n",
       "      <td>6</td>\n",
       "    </tr>\n",
       "    <tr>\n",
       "      <th>511</th>\n",
       "      <td>Frontal_Mid_R_13</td>\n",
       "      <td>Supp_Motor_Area_L_4</td>\n",
       "      <td>0.010204</td>\n",
       "      <td>6</td>\n",
       "    </tr>\n",
       "    <tr>\n",
       "      <th>512</th>\n",
       "      <td>Frontal_Sup_L_2</td>\n",
       "      <td>Frontal_Inf_Oper_L_2</td>\n",
       "      <td>0.010101</td>\n",
       "      <td>6</td>\n",
       "    </tr>\n",
       "    <tr>\n",
       "      <th>513</th>\n",
       "      <td>Precentral_L_9</td>\n",
       "      <td>Frontal_Inf_Oper_L_2</td>\n",
       "      <td>0.010101</td>\n",
       "      <td>6</td>\n",
       "    </tr>\n",
       "    <tr>\n",
       "      <th>514</th>\n",
       "      <td>Supp_Motor_Area_R_4</td>\n",
       "      <td>Frontal_Inf_Tri_L_4</td>\n",
       "      <td>0.009615</td>\n",
       "      <td>6</td>\n",
       "    </tr>\n",
       "    <tr>\n",
       "      <th>515</th>\n",
       "      <td>Supp_Motor_Area_L_4</td>\n",
       "      <td>Frontal_Sup_Medial_L_6</td>\n",
       "      <td>0.007874</td>\n",
       "      <td>7</td>\n",
       "    </tr>\n",
       "  </tbody>\n",
       "</table>\n",
       "<p>695 rows × 4 columns</p>\n",
       "</div>"
      ],
      "text/plain": [
       "                       Edge1                   Edge2    Weight  DomainFreq\n",
       "516        Rolandic_Oper_R_5         Precentral_L_12  0.200000           6\n",
       "517      Supp_Motor_Area_L_3         Precentral_R_11  0.181818           6\n",
       "518           Precentral_L_1    Frontal_Inf_Oper_R_3  0.163636           7\n",
       "519      Supp_Motor_Area_L_7     Frontal_Inf_Tri_R_1  0.157143           6\n",
       "520         Frontal_Mid_R_17          Precentral_R_6  0.156250           6\n",
       "521      Supp_Motor_Area_L_4          Precentral_L_1  0.153846           7\n",
       "0    Frontal_Sup_Medial_L_12     Frontal_Inf_Orb_R_5  0.147541           6\n",
       "522         Frontal_Mid_R_15          Precentral_L_7  0.147059           6\n",
       "1           Frontal_Mid_R_17          Precentral_R_6  0.140000           6\n",
       "523      Supp_Motor_Area_R_4          Precentral_L_1  0.135135           6\n",
       "2        Supp_Motor_Area_R_4          Precentral_L_2  0.130435           6\n",
       "524      Supp_Motor_Area_L_9          Precentral_R_8  0.129032           6\n",
       "525      Supp_Motor_Area_R_4          Precentral_L_2  0.129032           6\n",
       "3             Precentral_L_1    Frontal_Inf_Oper_R_3  0.128571           7\n",
       "4        Frontal_Inf_Tri_R_4          Precentral_R_6  0.125000           6\n",
       "526      Supp_Motor_Area_L_3          Precentral_R_9  0.125000           6\n",
       "527     Frontal_Inf_Oper_R_1         Precentral_L_10  0.125000           6\n",
       "528      Frontal_Inf_Tri_R_1          Precentral_L_1  0.123077           7\n",
       "529         Frontal_Mid_R_15         Precentral_L_11  0.120000           7\n",
       "530  Frontal_Sup_Medial_L_12     Frontal_Inf_Orb_R_5  0.120000           6\n",
       "531      Supp_Motor_Area_L_7        Frontal_Mid_L_14  0.119403           7\n",
       "532      Frontal_Inf_Tri_R_1        Frontal_Mid_L_14  0.118644           6\n",
       "6        Supp_Motor_Area_R_1     Frontal_Inf_Tri_L_4  0.117647           6\n",
       "5        Supp_Motor_Area_L_7     Frontal_Inf_Tri_R_1  0.117647           6\n",
       "533         Frontal_Mid_R_18          Precentral_L_4  0.116279           6\n",
       "7        Supp_Motor_Area_L_3         Precentral_R_11  0.116279           6\n",
       "8        Frontal_Inf_Tri_R_2  Frontal_Sup_Medial_L_6  0.114286           6\n",
       "534      Supp_Motor_Area_L_3         Precentral_R_10  0.111111           6\n",
       "535      Supp_Motor_Area_L_3         Precentral_L_10  0.111111           6\n",
       "537      Supp_Motor_Area_L_9         Precentral_L_14  0.111111           6\n",
       "..                       ...                     ...       ...         ...\n",
       "486     Frontal_Inf_Tri_L_10    Frontal_Inf_Oper_R_5  0.013333           6\n",
       "487      Supp_Motor_Area_L_7              Rectus_R_2  0.012987           6\n",
       "488      Supp_Motor_Area_L_7        Cingulum_Ant_L_1  0.012821           7\n",
       "489      Supp_Motor_Area_R_6     Frontal_Inf_Tri_R_1  0.012821           6\n",
       "490          Precentral_L_11        Cingulum_Ant_L_2  0.012658           6\n",
       "492      Frontal_Med_Orb_L_1     Frontal_Inf_Tri_R_1  0.012346           6\n",
       "491         Frontal_Mid_R_11     Frontal_Med_Orb_L_2  0.012346           6\n",
       "493           Precentral_L_1     Frontal_Inf_Orb_R_5  0.012195           6\n",
       "496      Supp_Motor_Area_L_4         Precentral_L_10  0.012048           6\n",
       "494               Rectus_L_2     Frontal_Inf_Tri_R_1  0.012048           6\n",
       "495      Supp_Motor_Area_L_7         Frontal_Mid_R_3  0.012048           6\n",
       "497               Rectus_L_1  Frontal_Sup_Medial_L_6  0.011628           6\n",
       "498          Frontal_Mid_R_7  Frontal_Sup_Medial_L_6  0.011494           7\n",
       "499      Supp_Motor_Area_L_7          Precentral_R_2  0.011364           7\n",
       "500      Frontal_Inf_Tri_R_3    Frontal_Inf_Oper_L_2  0.011364           7\n",
       "501      Supp_Motor_Area_L_4          Precentral_L_5  0.011111           6\n",
       "502      Supp_Motor_Area_L_7     Frontal_Inf_Tri_R_7  0.010989           6\n",
       "504      Supp_Motor_Area_R_4         Precentral_L_11  0.010989           6\n",
       "503      Supp_Motor_Area_L_4     Frontal_Inf_Tri_R_2  0.010989           7\n",
       "505      Supp_Motor_Area_L_7         Frontal_Sup_R_9  0.010753           6\n",
       "506      Supp_Motor_Area_L_9     Frontal_Inf_Tri_R_1  0.010753           6\n",
       "507      Supp_Motor_Area_L_4          Precentral_R_8  0.010638           7\n",
       "508      Frontal_Inf_Tri_R_9    Frontal_Inf_Oper_L_2  0.010638           7\n",
       "509     Frontal_Inf_Oper_L_2         Frontal_Mid_L_7  0.010638           6\n",
       "510           Precentral_L_1        Cingulum_Ant_L_2  0.010309           6\n",
       "511         Frontal_Mid_R_13     Supp_Motor_Area_L_4  0.010204           6\n",
       "512          Frontal_Sup_L_2    Frontal_Inf_Oper_L_2  0.010101           6\n",
       "513           Precentral_L_9    Frontal_Inf_Oper_L_2  0.010101           6\n",
       "514      Supp_Motor_Area_R_4     Frontal_Inf_Tri_L_4  0.009615           6\n",
       "515      Supp_Motor_Area_L_4  Frontal_Sup_Medial_L_6  0.007874           7\n",
       "\n",
       "[695 rows x 4 columns]"
      ]
     },
     "execution_count": 29,
     "metadata": {},
     "output_type": "execute_result"
    }
   ],
   "source": [
    "stable_edgeDf.sort_values(by=['Weight'],ascending=False)"
   ]
  },
  {
   "cell_type": "code",
   "execution_count": 30,
   "metadata": {
    "collapsed": true
   },
   "outputs": [],
   "source": [
    "stable_edgeDf.to_pickle('/Users/owner/PFC_MetaConnectome/Results/BetweenRegion_StableEdges.pck')"
   ]
  },
  {
   "cell_type": "code",
   "execution_count": null,
   "metadata": {
    "collapsed": true
   },
   "outputs": [],
   "source": []
  }
 ],
 "metadata": {
  "kernelspec": {
   "display_name": "Python 2",
   "language": "python",
   "name": "python2"
  },
  "language_info": {
   "codemirror_mode": {
    "name": "ipython",
    "version": 2
   },
   "file_extension": ".py",
   "mimetype": "text/x-python",
   "name": "python",
   "nbconvert_exporter": "python",
   "pygments_lexer": "ipython2",
   "version": "2.7.11"
  }
 },
 "nbformat": 4,
 "nbformat_minor": 2
}
