{
 "cells": [
  {
   "cell_type": "markdown",
   "metadata": {
    "collapsed": false,
    "deletable": true,
    "editable": true
   },
   "source": [
    "# Basic Metrics for domains"
   ]
  },
  {
   "cell_type": "markdown",
   "metadata": {
    "deletable": true,
    "editable": true
   },
   "source": [
    "testing new threshold method"
   ]
  },
  {
   "cell_type": "code",
   "execution_count": 1,
   "metadata": {
    "collapsed": false,
    "deletable": true,
    "editable": true
   },
   "outputs": [
    {
     "name": "stderr",
     "output_type": "stream",
     "text": [
      "/Users/rsblumenfeld/Library/Enthought/Canopy_64bit/User/lib/python2.7/site-packages/brainx/__init__.py:30: UserWarning: Monkeypatching NetworkX's Watts-Strogatz routine\n",
      "  warnings.warn(\"Monkeypatching NetworkX's Watts-Strogatz routine\")\n"
     ]
    }
   ],
   "source": [
    "import networkx as nx\n",
    "import pandas as pd\n",
    "import numpy as np\n",
    "import pickle\n",
    "import brainmaptools as brainmap\n",
    "import community\n",
    "import matplotlib.pyplot as plt\n",
    "import brainx.modularity as md\n",
    "%matplotlib inline\n",
    "import graph_functions\n",
    "import scipy\n",
    "import math"
   ]
  },
  {
   "cell_type": "code",
   "execution_count": 2,
   "metadata": {
    "collapsed": false,
    "deletable": true,
    "editable": true
   },
   "outputs": [],
   "source": [
    "datadir='/Users/rsblumenfeld/work/PFC_Brainmap/data/'\n",
    "relabel_file='/Users/rsblumenfeld/work/PFC_Brainmap/data/Label_dict.pck'\n",
    "\n",
    "domains= ['Memory', 'Working Memory', 'Emotion', 'Attention', 'Language', 'Vision', 'Audition']\n",
    "domains_file='/Users/rsblumenfeld/work/meta-connect/data/Behavioral_Domains/studies_filtered_by_domain.pck'\n",
    "\n",
    "txt=\"/Users/rsblumenfeld/work/PFC_Brainmap/data/workspace_raw.txt\"\n",
    "\n",
    "with open(txt) as f:\n",
    "    workspaces = f.readlines()\n",
    "    \n",
    "\n",
    "relabel_dict=pickle.load(open(relabel_file,'rb'))\n",
    "domain_dict=pickle.load(open(domains_file,'rb'))\n",
    "\n",
    "keycodes=brainmap.build_key_codes_from_workspaces(workspaces, datadir)\n",
    "domain_keycodes={domain: brainmap.domain_filter_keycodes(keycodes, domain_dict, domain) for domain in domains}\n",
    "\n",
    "\n",
    "ncontrasts=brainmap.number_of_contrasts(keycodes)\n",
    "domain_ncontrasts={domain : brainmap.number_of_contrasts(domain_keycodes[domain]) for domain in domains}"
   ]
  },
  {
   "cell_type": "markdown",
   "metadata": {
    "deletable": true,
    "editable": true
   },
   "source": [
    "## Unthresholded data"
   ]
  },
  {
   "cell_type": "code",
   "execution_count": 3,
   "metadata": {
    "collapsed": false,
    "deletable": true,
    "editable": true
   },
   "outputs": [],
   "source": [
    "n_coactives=brainmap.build_n_coactives_array(keycodes)\n",
    "jaccard_array=brainmap.build_jaccard(n_coactives)\n",
    "n_coactives_domain={ d_keys: brainmap.build_n_coactives_array(domain_keycodes[d_keys]) for d_keys in domains}\n",
    "jaccard_domain={ d_keys: brainmap.build_jaccard(n_coactives_domain[d_keys]) for d_keys in domains}"
   ]
  },
  {
   "cell_type": "markdown",
   "metadata": {
    "deletable": true,
    "editable": true
   },
   "source": [
    "## Applying new threshold"
   ]
  },
  {
   "cell_type": "code",
   "execution_count": 4,
   "metadata": {
    "collapsed": false,
    "deletable": true,
    "editable": true
   },
   "outputs": [
    {
     "name": "stderr",
     "output_type": "stream",
     "text": [
      "/Users/rsblumenfeld/gitrepos/brainmaptools/brainmaptools/brainmaptools.py:127: RuntimeWarning: invalid value encountered in double_scalars\n",
      "  p_one=(thresh_array[x][y])/(thresh_array[y][y])\n"
     ]
    }
   ],
   "source": [
    "p=0.05\n",
    "base_thresh_array=brainmap.significant_connection_threshold(n_coactives, ncontrasts, p)\n",
    "domain_thresh_arrays={d_keys : brainmap.significant_connection_threshold(n_coactives_domain[d_keys], domain_ncontrasts[d_keys], p) for d_keys in domains}"
   ]
  },
  {
   "cell_type": "code",
   "execution_count": 5,
   "metadata": {
    "collapsed": false,
    "deletable": true,
    "editable": true
   },
   "outputs": [],
   "source": [
    "base_mask=base_thresh_array>0\n",
    "thresh_jaccard=base_mask*jaccard_array"
   ]
  },
  {
   "cell_type": "code",
   "execution_count": 6,
   "metadata": {
    "collapsed": false,
    "deletable": true,
    "editable": true
   },
   "outputs": [],
   "source": [
    "domain_thresh_masks={}\n",
    "domain_thresh_jaccard={}\n",
    "for d_keys in domains:\n",
    "    domain_thresh_masks[d_keys]= domain_thresh_arrays[d_keys]>0\n",
    "    domain_thresh_jaccard[d_keys]=domain_thresh_masks[d_keys]*jaccard_domain[d_keys]"
   ]
  },
  {
   "cell_type": "markdown",
   "metadata": {
    "deletable": true,
    "editable": true
   },
   "source": [
    "### data preprocessed, now building nx graphs"
   ]
  },
  {
   "cell_type": "code",
   "execution_count": 7,
   "metadata": {
    "collapsed": false,
    "deletable": true,
    "editable": true
   },
   "outputs": [],
   "source": [
    "G_domain={}\n",
    "for d_keys in domains:\n",
    "    G_domain[d_keys]=nx.from_numpy_matrix(domain_thresh_jaccard[d_keys])\n",
    "    G_domain[d_keys]=nx.relabel_nodes(G_domain[d_keys],relabel_dict)\n",
    "    G_domain[d_keys].remove_edges_from(G_domain[d_keys].selfloop_edges())\n",
    "    G_domain[d_keys].remove_nodes_from([223, 224])\n",
    "    G_domain[d_keys]=brainmap.remove_edgeless_nodes(G_domain[d_keys])"
   ]
  },
  {
   "cell_type": "code",
   "execution_count": 8,
   "metadata": {
    "collapsed": true,
    "deletable": true,
    "editable": true
   },
   "outputs": [],
   "source": [
    "G=nx.from_numpy_matrix(thresh_jaccard)\n",
    "G_domain['Base']=G\n",
    "G_domain['Base'].remove_edges_from(G_domain['Base'].selfloop_edges())\n",
    "G_domain['Base'].remove_nodes_from([223, 224])\n",
    "G_domain['Base']=nx.relabel_nodes(G_domain['Base'],relabel_dict)\n",
    "G_domain['Base']=brainmap.remove_edgeless_nodes(G_domain['Base'])\n",
    "\n"
   ]
  },
  {
   "cell_type": "markdown",
   "metadata": {
    "deletable": true,
    "editable": true
   },
   "source": [
    "# Computing Metrics"
   ]
  },
  {
   "cell_type": "code",
   "execution_count": 9,
   "metadata": {
    "collapsed": false,
    "deletable": true,
    "editable": true
   },
   "outputs": [],
   "source": [
    "domains.append('Base')"
   ]
  },
  {
   "cell_type": "code",
   "execution_count": 10,
   "metadata": {
    "collapsed": false,
    "deletable": true,
    "editable": true
   },
   "outputs": [],
   "source": [
    "domain_metrics={d_keys: brainmap.run_weighted_metrics(G_domain[d_keys], top_n=10) for d_keys in domains}"
   ]
  },
  {
   "cell_type": "code",
   "execution_count": 11,
   "metadata": {
    "collapsed": false,
    "deletable": true,
    "editable": true
   },
   "outputs": [
    {
     "data": {
      "text/plain": [
       "['cpl',\n",
       " 'degree_cent',\n",
       " 'ccoeff',\n",
       " 'topccoeff',\n",
       " 'between_cent',\n",
       " 'topbetween_cent',\n",
       " 'degrees',\n",
       " 'topdegree_cent',\n",
       " 'topdegrees']"
      ]
     },
     "execution_count": 11,
     "metadata": {},
     "output_type": "execute_result"
    }
   ],
   "source": [
    "domain_metrics[d_keys].keys()"
   ]
  },
  {
   "cell_type": "code",
   "execution_count": 12,
   "metadata": {
    "collapsed": false,
    "deletable": true,
    "editable": true
   },
   "outputs": [
    {
     "data": {
      "text/plain": [
       "{'Cingulum_Ant_L_4': 10.756493506493504,\n",
       " 'Cingulum_Ant_L_5': 1.0476190476190477,\n",
       " 'Cingulum_Ant_L_6': 0.9934065934065934,\n",
       " 'Cingulum_Ant_R_1': 0.21428571428571427,\n",
       " 'Cingulum_Ant_R_2': 1.598068598068598,\n",
       " 'Cingulum_Ant_R_3': 3.5063131313131315,\n",
       " 'Cingulum_Ant_R_4': 3.2139804639804637,\n",
       " 'Cingulum_Ant_R_5': 0.42857142857142855,\n",
       " 'Frontal_Inf_Oper_L_1': 4.040909090909091,\n",
       " 'Frontal_Inf_Oper_L_2': 13.425595238095244,\n",
       " 'Frontal_Inf_Oper_L_3': 6.621212121212121,\n",
       " 'Frontal_Inf_Oper_L_4': 7.369017094017094,\n",
       " 'Frontal_Inf_Oper_R_1': 1.9980685980685982,\n",
       " 'Frontal_Inf_Oper_R_3': 6.5227272727272725,\n",
       " 'Frontal_Inf_Oper_R_4': 5.415151515151514,\n",
       " 'Frontal_Inf_Oper_R_5': 10.842740592740592,\n",
       " 'Frontal_Inf_Orb_L_2': 7.438095238095237,\n",
       " 'Frontal_Inf_Orb_L_3': 5.602874902874903,\n",
       " 'Frontal_Inf_Orb_L_7': 5.067515817515817,\n",
       " 'Frontal_Inf_Orb_R_1': 11.385081585081585,\n",
       " 'Frontal_Inf_Orb_R_2': 1.3570429570429572,\n",
       " 'Frontal_Inf_Orb_R_4': 5.548695748695748,\n",
       " 'Frontal_Inf_Orb_R_5': 0.7417582417582418,\n",
       " 'Frontal_Inf_Orb_R_6': 0.6303030303030304,\n",
       " 'Frontal_Inf_Orb_R_7': 9.016666666666667,\n",
       " 'Frontal_Inf_Tri_L_10': 7.337914862914863,\n",
       " 'Frontal_Inf_Tri_L_2': 0.6904761904761905,\n",
       " 'Frontal_Inf_Tri_L_5': 0.35714285714285715,\n",
       " 'Frontal_Inf_Tri_L_6': 14.159540459540457,\n",
       " 'Frontal_Inf_Tri_L_7': 8.663286713286713,\n",
       " 'Frontal_Inf_Tri_L_8': 11.72189477189477,\n",
       " 'Frontal_Inf_Tri_L_9': 3.611111111111111,\n",
       " 'Frontal_Inf_Tri_R_1': 9.647474747474746,\n",
       " 'Frontal_Inf_Tri_R_2': 12.542657342657341,\n",
       " 'Frontal_Inf_Tri_R_3': 15.179945054945058,\n",
       " 'Frontal_Inf_Tri_R_4': 3.326689976689977,\n",
       " 'Frontal_Inf_Tri_R_5': 0.6238095238095238,\n",
       " 'Frontal_Inf_Tri_R_6': 10.674908424908425,\n",
       " 'Frontal_Inf_Tri_R_7': 2.442513042513043,\n",
       " 'Frontal_Inf_Tri_R_8': 2.7654428904428907,\n",
       " 'Frontal_Inf_Tri_R_9': 5.733988233988235,\n",
       " 'Frontal_Mid_L_1': 0.6153846153846154,\n",
       " 'Frontal_Mid_L_10': 3.382201132201132,\n",
       " 'Frontal_Mid_L_11': 8.241569541569541,\n",
       " 'Frontal_Mid_L_12': 8.501257076257076,\n",
       " 'Frontal_Mid_L_13': 1.4065934065934067,\n",
       " 'Frontal_Mid_L_14': 8.769230769230772,\n",
       " 'Frontal_Mid_L_16': 0.8571428571428571,\n",
       " 'Frontal_Mid_L_17': 7.583838383838383,\n",
       " 'Frontal_Mid_L_19': 0.8857142857142857,\n",
       " 'Frontal_Mid_L_4': 0.9934065934065934,\n",
       " 'Frontal_Mid_L_5': 6.271248196248196,\n",
       " 'Frontal_Mid_L_6': 1.8867798867798868,\n",
       " 'Frontal_Mid_L_7': 2.8282828282828283,\n",
       " 'Frontal_Mid_L_9': 2.0995670995670994,\n",
       " 'Frontal_Mid_Orb_L_1': 1.5714285714285716,\n",
       " 'Frontal_Mid_Orb_L_2': 2.6283716283716285,\n",
       " 'Frontal_Mid_Orb_L_3': 2.493617493617494,\n",
       " 'Frontal_Mid_Orb_R_1': 13.298057498057496,\n",
       " 'Frontal_Mid_Orb_R_2': 0.7,\n",
       " 'Frontal_Mid_Orbb_L_2': 1.7552447552447554,\n",
       " 'Frontal_Mid_Orbb_L_4': 3.280802530802531,\n",
       " 'Frontal_Mid_Orbb_R_2': 0.6493506493506493,\n",
       " 'Frontal_Mid_Orbb_R_4': 4.914996114996115,\n",
       " 'Frontal_Mid_R_1': 1.5284715284715285,\n",
       " 'Frontal_Mid_R_11': 10.218614718614718,\n",
       " 'Frontal_Mid_R_12': 9.27070707070707,\n",
       " 'Frontal_Mid_R_13': 4.358663558663558,\n",
       " 'Frontal_Mid_R_14': 0.3076923076923077,\n",
       " 'Frontal_Mid_R_15': 1.0615384615384615,\n",
       " 'Frontal_Mid_R_16': 14.195881895881893,\n",
       " 'Frontal_Mid_R_17': 1.7202797202797202,\n",
       " 'Frontal_Mid_R_18': 12.191924741924739,\n",
       " 'Frontal_Mid_R_20': 1.7601010101010102,\n",
       " 'Frontal_Mid_R_3': 0.8615384615384616,\n",
       " 'Frontal_Mid_R_4': 0.8785714285714286,\n",
       " 'Frontal_Mid_R_5': 0.5384615384615384,\n",
       " 'Frontal_Mid_R_6': 4.245299145299146,\n",
       " 'Frontal_Mid_R_7': 7.73888888888889,\n",
       " 'Frontal_Mid_R_8': 14.104395604395608,\n",
       " 'Frontal_Mid_R_9': 7.431385281385281,\n",
       " 'Frontal_Sup_L_1': 0.641025641025641,\n",
       " 'Frontal_Sup_L_10': 0.7417582417582418,\n",
       " 'Frontal_Sup_L_12': 1.7186813186813186,\n",
       " 'Frontal_Sup_L_13': 0.2857142857142857,\n",
       " 'Frontal_Sup_L_2': 3.67995337995338,\n",
       " 'Frontal_Sup_L_4': 0.9010989010989011,\n",
       " 'Frontal_Sup_L_7': 3.101515151515151,\n",
       " 'Frontal_Sup_L_9': 0.6285714285714286,\n",
       " 'Frontal_Sup_Medial_L_10': 1.1463536463536463,\n",
       " 'Frontal_Sup_Medial_L_11': 1.3131868131868132,\n",
       " 'Frontal_Sup_Medial_L_12': 5.418398268398267,\n",
       " 'Frontal_Sup_Medial_L_5': 1.4153846153846152,\n",
       " 'Frontal_Sup_Medial_L_6': 12.447115384615387,\n",
       " 'Frontal_Sup_Medial_L_7': 1.0660173160173159,\n",
       " 'Frontal_Sup_Medial_L_9': 0.9379953379953381,\n",
       " 'Frontal_Sup_Medial_R_5': 1.1177822177822176,\n",
       " 'Frontal_Sup_Medial_R_7': 5.60021645021645,\n",
       " 'Frontal_Sup_Orb_L_4': 4.23021423021423,\n",
       " 'Frontal_Sup_Orb_R_1': 0.687012987012987,\n",
       " 'Frontal_Sup_R_12': 0.44505494505494503,\n",
       " 'Frontal_Sup_R_15': 1.6748251748251746,\n",
       " 'Frontal_Sup_R_16': 0.6238095238095238,\n",
       " 'Frontal_Sup_R_4': 0.7417582417582418,\n",
       " 'Frontal_Sup_R_7': 1.5891608391608392,\n",
       " 'Frontal_Sup_R_9': 2.4272727272727272,\n",
       " 'Precentral_L_1': 8.633928571428571,\n",
       " 'Precentral_L_10': 1.4124542124542123,\n",
       " 'Precentral_L_11': 5.6446969696969695,\n",
       " 'Precentral_L_14': 0.641025641025641,\n",
       " 'Precentral_L_2': 3.2500000000000004,\n",
       " 'Precentral_L_3': 4.14032634032634,\n",
       " 'Precentral_L_4': 16.121645021645023,\n",
       " 'Precentral_L_5': 4.142557442557443,\n",
       " 'Precentral_L_7': 14.388544788544786,\n",
       " 'Precentral_L_8': 0.9505494505494506,\n",
       " 'Precentral_L_9': 4.63006993006993,\n",
       " 'Precentral_R_10': 0.3333333333333333,\n",
       " 'Precentral_R_11': 6.477020202020201,\n",
       " 'Precentral_R_14': 0.7619047619047619,\n",
       " 'Precentral_R_2': 1.8748251748251747,\n",
       " 'Precentral_R_4': 2.4425574425574426,\n",
       " 'Precentral_R_6': 6.615384615384617,\n",
       " 'Precentral_R_8': 4.5018648018648015,\n",
       " 'Rectus_L_1': 0.6512820512820513,\n",
       " 'Rectus_L_2': 2.1263736263736264,\n",
       " 'Supp_Motor_Area_L_2': 1.2472527472527473,\n",
       " 'Supp_Motor_Area_L_3': 1.8297535797535798,\n",
       " 'Supp_Motor_Area_L_4': 0.7619047619047619,\n",
       " 'Supp_Motor_Area_L_5': 3.513919413919414,\n",
       " 'Supp_Motor_Area_L_6': 9.506181318681321,\n",
       " 'Supp_Motor_Area_L_7': 0.8116883116883117,\n",
       " 'Supp_Motor_Area_R_2': 11.303768453768456,\n",
       " 'Supp_Motor_Area_R_3': 9.447652347652346,\n",
       " 'Supp_Motor_Area_R_6': 7.985073260073261,\n",
       " 'Supp_Motor_Area_R_7': 0.42857142857142855,\n",
       " 'Supp_Motor_Area_R_8': 0.5,\n",
       " 'Supp_Motor_Area_R_9': 5.312332112332112}"
      ]
     },
     "execution_count": 12,
     "metadata": {},
     "output_type": "execute_result"
    }
   ],
   "source": [
    "domain_metrics['Memory']['degrees']"
   ]
  },
  {
   "cell_type": "markdown",
   "metadata": {
    "deletable": true,
    "editable": true
   },
   "source": [
    "# Plot Degree distributions"
   ]
  },
  {
   "cell_type": "code",
   "execution_count": 13,
   "metadata": {
    "collapsed": false,
    "deletable": true,
    "editable": true
   },
   "outputs": [
    {
     "name": "stderr",
     "output_type": "stream",
     "text": [
      "/Users/rsblumenfeld/Library/Enthought/Canopy_64bit/User/lib/python2.7/site-packages/matplotlib/axes/_subplots.py:69: MatplotlibDeprecationWarning: The use of 0 (which ends up being the _last_ sub-plot) is deprecated in 1.4 and will raise an error in 1.5\n",
      "  mplDeprecation)\n"
     ]
    },
    {
     "data": {
      "image/png": "[encoded data removed]",
      "text/plain": [
       "<matplotlib.figure.Figure at 0x1152dc390>"
      ]
     },
     "metadata": {},
     "output_type": "display_data"
    }
   ],
   "source": [
    "metric='degrees'\n",
    "plt.figure(figsize=[10,10])\n",
    "for y,d_keys in enumerate(domains):\n",
    "    plt.subplot(4,2,y)\n",
    "    plt.hist(domain_metrics[d_keys][metric].values())\n",
    "    plt.title(d_keys)\n",
    "    "
   ]
  },
  {
   "cell_type": "markdown",
   "metadata": {
    "deletable": true,
    "editable": true
   },
   "source": [
    "# Other metric histograms"
   ]
  },
  {
   "cell_type": "code",
   "execution_count": 14,
   "metadata": {
    "collapsed": false,
    "deletable": true,
    "editable": true
   },
   "outputs": [
    {
     "data": {
      "image/png": "[encoded data removed]",
      "text/plain": [
       "<matplotlib.figure.Figure at 0x11ad3cb10>"
      ]
     },
     "metadata": {},
     "output_type": "display_data"
    }
   ],
   "source": [
    "metric='degree_cent'\n",
    "plt.figure(figsize=[10,10])\n",
    "for y,d_keys in enumerate(domains):\n",
    "    plt.subplot(4,2,y)\n",
    "    plt.hist(domain_metrics[d_keys][metric].values())\n",
    "    plt.title(d_keys)"
   ]
  },
  {
   "cell_type": "code",
   "execution_count": 15,
   "metadata": {
    "collapsed": false,
    "deletable": true,
    "editable": true
   },
   "outputs": [
    {
     "data": {
      "image/png": "[encoded data removed]",
      "text/plain": [
       "<matplotlib.figure.Figure at 0x11b467e90>"
      ]
     },
     "metadata": {},
     "output_type": "display_data"
    }
   ],
   "source": [
    "metric='between_cent'\n",
    "plt.figure(figsize=[10,10])\n",
    "for y,d_keys in enumerate(domains):\n",
    "    plt.subplot(4,2,y)\n",
    "    plt.hist(domain_metrics[d_keys][metric].values())\n",
    "    plt.title(d_keys)"
   ]
  },
  {
   "cell_type": "code",
   "execution_count": 16,
   "metadata": {
    "collapsed": false,
    "deletable": true,
    "editable": true
   },
   "outputs": [
    {
     "data": {
      "image/png": "[encoded data removed]",
      "text/plain": [
       "<matplotlib.figure.Figure at 0x11a82f1d0>"
      ]
     },
     "metadata": {},
     "output_type": "display_data"
    }
   ],
   "source": [
    "metric='ccoeff'\n",
    "plt.figure(figsize=[10,10])\n",
    "for y,d_keys in enumerate(domains):\n",
    "    plt.subplot(4,2,y)\n",
    "    plt.hist(domain_metrics[d_keys][metric].values())\n",
    "    plt.title(d_keys)"
   ]
  },
  {
   "cell_type": "markdown",
   "metadata": {
    "deletable": true,
    "editable": true
   },
   "source": [
    "# List Top 10s"
   ]
  },
  {
   "cell_type": "markdown",
   "metadata": {
    "deletable": true,
    "editable": true
   },
   "source": [
    "create top_metric_dict which to store all the data for top 10s"
   ]
  },
  {
   "cell_type": "code",
   "execution_count": 17,
   "metadata": {
    "collapsed": false,
    "deletable": true,
    "editable": true
   },
   "outputs": [],
   "source": [
    "top_metric_dict={}\n",
    "for metric in ['topdegrees','topdegree_cent','topbetween_cent', 'topccoeff']:\n",
    "    top_metrics={}\n",
    "    for d_key in domains:\n",
    "        top_metrics[d_key]=domain_metrics[d_key][metric]\n",
    "    top_metric_dict[metric]=top_metrics"
   ]
  },
  {
   "cell_type": "code",
   "execution_count": 21,
   "metadata": {
    "collapsed": false,
    "deletable": true,
    "editable": true
   },
   "outputs": [
    {
     "data": {
      "text/plain": [
       "['Frontal_Sup_Medial_L_6',\n",
       " 'Frontal_Inf_Tri_R_2',\n",
       " 'Frontal_Mid_Orb_R_1',\n",
       " 'Frontal_Inf_Oper_L_2',\n",
       " 'Frontal_Mid_R_8',\n",
       " 'Frontal_Inf_Tri_L_6',\n",
       " 'Frontal_Mid_R_16',\n",
       " 'Precentral_L_7',\n",
       " 'Frontal_Inf_Tri_R_3',\n",
       " 'Precentral_L_4']"
      ]
     },
     "execution_count": 21,
     "metadata": {},
     "output_type": "execute_result"
    }
   ],
   "source": [
    "top_metric_dict['topdegrees']['Memory']"
   ]
  },
  {
   "cell_type": "code",
   "execution_count": null,
   "metadata": {
    "collapsed": false,
    "deletable": true,
    "editable": true
   },
   "outputs": [],
   "source": [
    "right=[x for x in G_domain['Base'].nodes() if \"_R_\" in x]\n",
    "left=[x for x in G_domain['Base'].nodes() if \"_L_\" in x]"
   ]
  },
  {
   "cell_type": "markdown",
   "metadata": {
    "deletable": true,
    "editable": true
   },
   "source": [
    "## Trying to control for popular domains"
   ]
  },
  {
   "cell_type": "code",
   "execution_count": null,
   "metadata": {
    "collapsed": false,
    "deletable": true,
    "editable": true
   },
   "outputs": [],
   "source": [
    "domains2= ['Memory', 'Working Memory', 'Emotion', 'Attention', 'Language', 'Vision', 'Audition']\n",
    "nkeycodes_domain={}\n",
    "for d_keys in domains2:\n",
    "    nkeycodes=[]\n",
    "    for x in range(len(domain_keycodes[d_keys])):\n",
    "        nkeycodes.extend(list(domain_keycodes[d_keys][x]))\n",
    "    nkeycodes_domain[d_keys]=len(set(nkeycodes))"
   ]
  },
  {
   "cell_type": "code",
   "execution_count": null,
   "metadata": {
    "collapsed": false,
    "deletable": true,
    "editable": true
   },
   "outputs": [],
   "source": [
    "fig, ax = plt.subplots()\n",
    "plt.bar(range(len(nkeycodes_domain.values())), nkeycodes_domain.values())\n",
    "ax.set_xticklabels(nkeycodes_domain.keys(),rotation='vertical')"
   ]
  },
  {
   "cell_type": "code",
   "execution_count": null,
   "metadata": {
    "collapsed": false,
    "deletable": true,
    "editable": true
   },
   "outputs": [],
   "source": [
    "nkeycodes_region=[len(y) for x,y in enumerate(keycodes)]"
   ]
  },
  {
   "cell_type": "code",
   "execution_count": null,
   "metadata": {
    "collapsed": false,
    "deletable": true,
    "editable": true
   },
   "outputs": [],
   "source": [
    "plt.bar(range(len(nkeycodes_region)), nkeycodes_region)"
   ]
  },
  {
   "cell_type": "code",
   "execution_count": null,
   "metadata": {
    "collapsed": false,
    "deletable": true,
    "editable": true
   },
   "outputs": [],
   "source": [
    "np.mean(nkeycodes_region), np.median(nkeycodes_region)"
   ]
  },
  {
   "cell_type": "code",
   "execution_count": null,
   "metadata": {
    "collapsed": false,
    "deletable": true,
    "editable": true
   },
   "outputs": [],
   "source": [
    "domain_metrics['Base'].keys()"
   ]
  },
  {
   "cell_type": "code",
   "execution_count": null,
   "metadata": {
    "collapsed": false,
    "deletable": true,
    "editable": true
   },
   "outputs": [],
   "source": [
    "plt.hist(domain_metrics['Memory']['degrees'].values())"
   ]
  },
  {
   "cell_type": "code",
   "execution_count": null,
   "metadata": {
    "collapsed": false,
    "deletable": true,
    "editable": true
   },
   "outputs": [],
   "source": [
    "plt.hist(domain_metrics['Attention']['degrees'].values())"
   ]
  },
  {
   "cell_type": "code",
   "execution_count": null,
   "metadata": {
    "collapsed": true,
    "deletable": true,
    "editable": true
   },
   "outputs": [],
   "source": []
  },
  {
   "cell_type": "code",
   "execution_count": null,
   "metadata": {
    "collapsed": true,
    "deletable": true,
    "editable": true
   },
   "outputs": [],
   "source": [
    "#part_domains_avg_degree=np.zeros([len(part_bx['Base']), len(domains)])\n",
    "\n",
    "#part_domain_degrees={}\n",
    "#for x,module in enumerate(part_bx['Base']): #module\n",
    "#    domain_degrees=np.zeros([len(domains), len(module)])\n",
    "#    for z, domain in enumerate(domains):\n",
    "#        for y,testnode in enumerate(module): #nodes in a module\n",
    "#            if testnode in G[domain]:\n",
    "#                domain_degrees[z,y]=G[domain].degree()[testnode] #grab all the node degrees for the nodes in module per domain\n",
    "#        part_domains_avg_degree[x,z]=domain_degrees[z].mean()"
   ]
  },
  {
   "cell_type": "code",
   "execution_count": null,
   "metadata": {
    "collapsed": false,
    "deletable": true,
    "editable": true
   },
   "outputs": [],
   "source": [
    "base_dict={0: set(part_bx['Base'][0]), 1: set(part_bx['Base'][1]),\n",
    "           2: set(part_bx['Base'][2]), 3: set(part_bx['Base'][3])}\n",
    "        "
   ]
  },
  {
   "cell_type": "code",
   "execution_count": null,
   "metadata": {
    "collapsed": false,
    "deletable": true,
    "editable": true
   },
   "outputs": [],
   "source": [
    "G_cost['Base'][target]"
   ]
  },
  {
   "cell_type": "code",
   "execution_count": null,
   "metadata": {
    "collapsed": false,
    "deletable": true,
    "editable": true
   },
   "outputs": [],
   "source": [
    "graph=G_cost['Base']\n",
    "partition= base_dict\n",
    "wd_dict = {}\n",
    "\n",
    "paths = nx.shortest_path_length(G=graph)\n",
    "for m in partition.keys():\n",
    "        mod_list = partition[m]\n",
    "        mod_wd_dict = {}\n",
    "        for source in mod_list:\n",
    "            count = 0\n",
    "            for target in mod_list:\n",
    "                if paths[source][target] == 1:\n",
    "                    count += 1"
   ]
  },
  {
   "cell_type": "code",
   "execution_count": null,
   "metadata": {
    "collapsed": false,
    "deletable": true,
    "editable": true
   },
   "outputs": [],
   "source": [
    "target"
   ]
  },
  {
   "cell_type": "code",
   "execution_count": null,
   "metadata": {
    "collapsed": false,
    "deletable": true,
    "editable": true
   },
   "outputs": [],
   "source": [
    "wd_=graph_functions.within_module_degree(G['Base'], base_dict)"
   ]
  },
  {
   "cell_type": "code",
   "execution_count": null,
   "metadata": {
    "collapsed": false,
    "deletable": true,
    "editable": true
   },
   "outputs": [],
   "source": [
    "G['Base'].nodes()"
   ]
  },
  {
   "cell_type": "code",
   "execution_count": null,
   "metadata": {
    "collapsed": true,
    "deletable": true,
    "editable": true
   },
   "outputs": [],
   "source": [
    "part_domains_avg_degree=np.zeros([len(domains),len(part_bx['Base'])])"
   ]
  },
  {
   "cell_type": "code",
   "execution_count": null,
   "metadata": {
    "collapsed": false,
    "deletable": true,
    "editable": true
   },
   "outputs": [],
   "source": [
    "part_bx['Base'][0]"
   ]
  },
  {
   "cell_type": "code",
   "execution_count": null,
   "metadata": {
    "collapsed": false,
    "deletable": true,
    "editable": true
   },
   "outputs": [],
   "source": [
    "domains"
   ]
  },
  {
   "cell_type": "code",
   "execution_count": null,
   "metadata": {
    "collapsed": false,
    "deletable": true,
    "editable": true
   },
   "outputs": [],
   "source": [
    "plt.plot(part_domains_avg_degree.transpose())"
   ]
  },
  {
   "cell_type": "code",
   "execution_count": null,
   "metadata": {
    "collapsed": false,
    "deletable": true,
    "editable": true
   },
   "outputs": [],
   "source": [
    "domain_degrees=np.zeros([G['Base'].number_of_nodes(), len(domains)])\n"
   ]
  },
  {
   "cell_type": "code",
   "execution_count": null,
   "metadata": {
    "collapsed": false,
    "deletable": true,
    "editable": true
   },
   "outputs": [],
   "source": [
    "testnode=G['Base'].nodes()[0]\n",
    "if testnode in G['Memory'].nodes():\n",
    "    foo=G['Memory'].degree()[testnode]"
   ]
  },
  {
   "cell_type": "code",
   "execution_count": null,
   "metadata": {
    "collapsed": false,
    "deletable": true,
    "editable": true
   },
   "outputs": [],
   "source": [
    "#part_domains_avg_degree=np.zeros([len(domains),len(part_bx['Base'])])\n",
    "part_domain_degrees={}\n",
    "for x,module in enumerate(part_bx['Base']): #module\n",
    "    domain_degrees=np.zeros([len(domains), len(module)])\n",
    "    for y,testnode in enumerate(module): #nodes in a module\n",
    "        for z, domain in enumerate(domains): #go domain by domain\n",
    "            if testnode in G[domain]:\n",
    "                domain_degrees[z,y]=G[domain].degree()[testnode] #grab all the node degrees for the nodes in module per domain\n",
    "        "
   ]
  },
  {
   "cell_type": "code",
   "execution_count": null,
   "metadata": {
    "collapsed": false,
    "deletable": true,
    "editable": true
   },
   "outputs": [],
   "source": [
    "domain_degrees[1]"
   ]
  },
  {
   "cell_type": "code",
   "execution_count": null,
   "metadata": {
    "collapsed": false,
    "deletable": true,
    "editable": true
   },
   "outputs": [],
   "source": [
    "part_domains_avg_degree=np.zeros([len(domains),1])\n",
    "for x,module in enumerate(part_bx['Base']):\n",
    "    domain_degrees=np.zeros([len(domains), len(module)])\n",
    "    for y,testnode in enumerate(module):\n",
    "        for z, domain in enumerate(domains):\n",
    "            if testnode in G[domain]:\n",
    "                domain_degrees[z,y]=G[domain].degree()[testnode]\n",
    "    for a, domain2 in enumerate(domain):\n",
    "        part_domains_avg_degree[a]=domain_degrees[a].mean()\n",
    "                "
   ]
  },
  {
   "cell_type": "code",
   "execution_count": null,
   "metadata": {
    "collapsed": false,
    "deletable": true,
    "editable": true
   },
   "outputs": [],
   "source": [
    "part_domains_avg_degree"
   ]
  },
  {
   "cell_type": "code",
   "execution_count": null,
   "metadata": {
    "collapsed": true,
    "deletable": true,
    "editable": true
   },
   "outputs": [],
   "source": [
    "part_domains_avg_degree[z,y]=\n",
    "                G[domain].degree()[testnode]\n",
    "            \n",
    "        \n",
    "    \n",
    "\n",
    "\n",
    "for y,testnode in enumerate(part_bx['Base'].nodes()):\n",
    "    domain_degrees=np.zeros([len(domains), len(module)])\n",
    "    for z, domain in enumerate(domains):\n",
    "        if testnode in G[domain]:\n",
    "            domain_degrees[z,y]=G[domain].degree()[testnode]\n",
    "        part_domains_avg_degree[z]=domain_degrees[z].mean()"
   ]
  },
  {
   "cell_type": "code",
   "execution_count": null,
   "metadata": {
    "collapsed": false,
    "deletable": true,
    "editable": true
   },
   "outputs": [],
   "source": [
    "part_domains_avg_degree=np.zeros(len(domains))\n",
    "for y,testnode in enumerate(G['Base'].nodes()):\n",
    "    domain_degrees=np.zeros([len(domains), len(module)])\n",
    "    for z, domain in enumerate(domains):"
   ]
  },
  {
   "cell_type": "code",
   "execution_count": null,
   "metadata": {
    "collapsed": false,
    "deletable": true,
    "editable": true
   },
   "outputs": [],
   "source": [
    "foo.transpose()[0].mean()"
   ]
  },
  {
   "cell_type": "code",
   "execution_count": null,
   "metadata": {
    "collapsed": false,
    "deletable": true,
    "editable": true
   },
   "outputs": [],
   "source": [
    "foo"
   ]
  },
  {
   "cell_type": "code",
   "execution_count": null,
   "metadata": {
    "collapsed": true,
    "deletable": true,
    "editable": true
   },
   "outputs": [],
   "source": [
    "for x, module in enumerate(part_bx['Base']):\n",
    "    for y, node in enumerate(module):\n",
    "        for z, domain in enumerate(domains):\n",
    "            if node in G[domain]:\n",
    "                domain_degrees[y,z]=G[domain].degree()[testnode]\n",
    "    \n",
    "        \n",
    "        "
   ]
  },
  {
   "cell_type": "code",
   "execution_count": null,
   "metadata": {
    "collapsed": false,
    "deletable": true,
    "editable": true
   },
   "outputs": [],
   "source": [
    "go through each partition:\n",
    "    for each domain:\n",
    "        sum up degrees\n",
    "        so each partition has a single value for each domain"
   ]
  },
  {
   "cell_type": "code",
   "execution_count": null,
   "metadata": {
    "collapsed": false,
    "deletable": true,
    "editable": true
   },
   "outputs": [],
   "source": [
    "domain_degrees"
   ]
  },
  {
   "cell_type": "code",
   "execution_count": null,
   "metadata": {
    "collapsed": false,
    "deletable": true,
    "editable": true
   },
   "outputs": [],
   "source": [
    "relabel_dict.values()"
   ]
  },
  {
   "cell_type": "code",
   "execution_count": null,
   "metadata": {
    "collapsed": true,
    "deletable": true,
    "editable": true
   },
   "outputs": [],
   "source": []
  }
 ],
 "metadata": {
  "kernelspec": {
   "display_name": "Python 2",
   "language": "python",
   "name": "python2"
  },
  "language_info": {
   "codemirror_mode": {
    "name": "ipython",
    "version": 2
   },
   "file_extension": ".py",
   "mimetype": "text/x-python",
   "name": "python",
   "nbconvert_exporter": "python",
   "pygments_lexer": "ipython2",
   "version": "2.7.11"
  }
 },
 "nbformat": 4,
 "nbformat_minor": 0
}
