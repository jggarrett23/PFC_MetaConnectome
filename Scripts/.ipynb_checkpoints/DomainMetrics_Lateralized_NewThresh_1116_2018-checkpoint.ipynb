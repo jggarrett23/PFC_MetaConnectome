{
 "cells": [
  {
   "cell_type": "markdown",
   "metadata": {
    "collapsed": false,
    "deletable": true,
    "editable": true
   },
   "source": [
    "# Basic Metrics for domains lateralized graphs"
   ]
  },
  {
   "cell_type": "markdown",
   "metadata": {
    "deletable": true,
    "editable": true
   },
   "source": [
    "New threshold method"
   ]
  },
  {
   "cell_type": "code",
   "execution_count": 11,
   "metadata": {
    "collapsed": false,
    "deletable": true,
    "editable": true
   },
   "outputs": [],
   "source": [
    "import networkx as nx\n",
    "import pandas as pd\n",
    "import numpy as np\n",
    "import pickle\n",
    "import brainmaptools as brainmap\n",
    "import community\n",
    "import matplotlib.pyplot as plt\n",
    "import brainx.modularity as md\n",
    "%matplotlib inline\n",
    "import graph_functions\n",
    "import scipy\n",
    "import math"
   ]
  },
  {
   "cell_type": "code",
   "execution_count": 63,
   "metadata": {
    "collapsed": false,
    "deletable": true,
    "editable": true
   },
   "outputs": [],
   "source": [
    "datadir='/Users/rsblumenfeld/work/PFC_Brainmap/data/'\n",
    "relabel_file='/Users/rsblumenfeld/work/PFC_Brainmap/data/Label_dict.pck'\n",
    "\n",
    "domains= ['Memory', 'Working Memory', 'Emotion', 'Attention', 'Language', 'Vision', 'Audition']\n",
    "domains_base= ['Base', 'Memory', 'Working Memory', 'Emotion', 'Attention', 'Language', 'Vision', 'Audition']\n",
    "domains_file='/Users/rsblumenfeld/work/meta-connect/data/Behavioral_Domains/studies_filtered_by_domain.pck'\n",
    "\n",
    "wrk_L=\"/Users/rsblumenfeld/work/PFC_Brainmap/data/workspace_raw_L.txt\"\n",
    "wrk_R=\"/Users/rsblumenfeld/work/PFC_Brainmap/data/workspace_raw_R.txt\"\n",
    "\n",
    "rgn_L=\"/Users/rsblumenfeld/work/PFC_Brainmap/data/region_L.txt\"\n",
    "rgn_R=\"/Users/rsblumenfeld/work/PFC_Brainmap/data/region_R.txt\"\n",
    "\n",
    "tst=\"/Users/rsblumenfeld/work/PFC_Brainmap/data/tst.txt\"\n",
    "\n",
    "with open(wrk_L) as f:\n",
    "    workspaces_L = f.readlines()\n",
    "with open(wrk_R) as f:\n",
    "    workspaces_R = f.readlines()\n",
    "    \n",
    "with open(rgn_L) as f:\n",
    "    regionlist_L = f.readlines()\n",
    "with open(rgn_L) as f:\n",
    "    regionlist_R = f.readlines()\n",
    "\n",
    "\n",
    "keycodes_L=brainmap.build_key_codes_from_workspaces(workspaces_L, datadir) \n",
    "keycodes_R=brainmap.build_key_codes_from_workspaces(workspaces_R, datadir) \n",
    "    \n",
    "\n",
    "regions_L=[x[:-1] for x in regionlist_L]\n",
    "regions_R=[x[:-1] for x in regionlist_R]\n",
    "\n",
    "relabel_L={idx:x[:-1] for idx, x in enumerate(regionlist_L)}\n",
    "relabel_R={idx:x[:-1] for idx, x in enumerate(regionlist_R)}\n",
    "\n",
    "\n",
    "domain_dict=pickle.load(open(domains_file,'rb'))\n",
    "domain_keycodes_L={domain: brainmap.domain_filter_keycodes(keycodes_L, domain_dict, domain) for domain in domains}\n",
    "domain_keycodes_R={domain: brainmap.domain_filter_keycodes(keycodes_R, domain_dict, domain) for domain in domains}\n",
    "\n",
    "ncontrasts_L=brainmap.number_of_contrasts(keycodes_L)\n",
    "ncontrasts_R=brainmap.number_of_contrasts(keycodes_R)\n",
    "\n",
    "domain_ncontrasts_L={domain : brainmap.number_of_contrasts(domain_keycodes_L[domain]) for domain in domains}\n",
    "domain_ncontrasts_R={domain : brainmap.number_of_contrasts(domain_keycodes_R[domain]) for domain in domains}"
   ]
  },
  {
   "cell_type": "markdown",
   "metadata": {
    "deletable": true,
    "editable": true
   },
   "source": [
    "### Unthresholded data"
   ]
  },
  {
   "cell_type": "code",
   "execution_count": 40,
   "metadata": {
    "collapsed": true,
    "deletable": true,
    "editable": true
   },
   "outputs": [],
   "source": [
    "n_coactives_L=brainmap.build_n_coactives_array(keycodes_L)\n",
    "n_coactives_R=brainmap.build_n_coactives_array(keycodes_R)\n",
    "\n",
    "jaccard_array_L=brainmap.build_jaccard(n_coactives_L)\n",
    "jaccard_array_R=brainmap.build_jaccard(n_coactives_R)\n",
    "\n",
    "n_coactives_domain_L={ d_keys: brainmap.build_n_coactives_array(domain_keycodes_L[d_keys]) for d_keys in domains}\n",
    "n_coactives_domain_R={ d_keys: brainmap.build_n_coactives_array(domain_keycodes_R[d_keys]) for d_keys in domains}\n",
    "\n",
    "jaccard_domain_L={ d_keys: brainmap.build_jaccard(n_coactives_domain_L[d_keys]) for d_keys in domains}\n",
    "jaccard_domain_R={ d_keys: brainmap.build_jaccard(n_coactives_domain_R[d_keys]) for d_keys in domains}"
   ]
  },
  {
   "cell_type": "markdown",
   "metadata": {
    "deletable": true,
    "editable": true
   },
   "source": [
    "# Make Thresholded Lateralized Overall Graphs"
   ]
  },
  {
   "cell_type": "code",
   "execution_count": 43,
   "metadata": {
    "collapsed": false,
    "deletable": true,
    "editable": true
   },
   "outputs": [],
   "source": [
    "p=0.05\n",
    "base_thresh_ncoactives_L=brainmap.significant_connection_threshold(n_coactives_L, ncontrasts_L, p)\n",
    "base_thresh_ncoactives_R=brainmap.significant_connection_threshold(n_coactives_R, ncontrasts_R, p)"
   ]
  },
  {
   "cell_type": "code",
   "execution_count": 44,
   "metadata": {
    "collapsed": true,
    "deletable": true,
    "editable": true
   },
   "outputs": [],
   "source": [
    "base_mask_L=base_thresh_ncoactives_L>0\n",
    "base_thresh_jaccard_L=base_mask_L*jaccard_array_L\n",
    "\n",
    "base_mask_R=base_thresh_ncoactives_R>0\n",
    "base_thresh_jaccard_R=base_mask_R*jaccard_array_R"
   ]
  },
  {
   "cell_type": "markdown",
   "metadata": {
    "deletable": true,
    "editable": true
   },
   "source": [
    "# Make Domain Filtered Lateralized Graphs"
   ]
  },
  {
   "cell_type": "code",
   "execution_count": 45,
   "metadata": {
    "collapsed": false,
    "deletable": true,
    "editable": true
   },
   "outputs": [
    {
     "name": "stderr",
     "output_type": "stream",
     "text": [
      "/Users/rsblumenfeld/gitrepos/brainmaptools/brainmaptools/brainmaptools.py:127: RuntimeWarning: invalid value encountered in double_scalars\n",
      "  p_one=(thresh_array[x][y])/(thresh_array[y][y])\n"
     ]
    }
   ],
   "source": [
    "domain_thresh_ncoactives_L={d_keys : brainmap.significant_connection_threshold(n_coactives_domain_L[d_keys], domain_ncontrasts_L[d_keys], p) for d_keys in domains}\n",
    "domain_thresh_ncoactives_R={d_keys : brainmap.significant_connection_threshold(n_coactives_domain_R[d_keys], domain_ncontrasts_R[d_keys], p) for d_keys in domains}\n",
    "\n",
    "domain_thresh_masks_L={}\n",
    "domain_thresh_jaccard_L={}\n",
    "\n",
    "domain_thresh_masks_R={}\n",
    "domain_thresh_jaccard_R={}\n",
    "\n",
    "for d_keys in domains:\n",
    "    domain_thresh_masks_L[d_keys]= domain_thresh_ncoactives_L[d_keys]>0\n",
    "    domain_thresh_masks_R[d_keys]= domain_thresh_ncoactives_R[d_keys]>0\n",
    "    domain_thresh_jaccard_L[d_keys]=domain_thresh_masks_L[d_keys]*jaccard_domain_L[d_keys]\n",
    "    domain_thresh_jaccard_R[d_keys]=domain_thresh_masks_R[d_keys]*jaccard_domain_R[d_keys]\n",
    "    "
   ]
  },
  {
   "cell_type": "code",
   "execution_count": 58,
   "metadata": {
    "collapsed": true,
    "deletable": true,
    "editable": true
   },
   "outputs": [],
   "source": [
    "G_domain_L={}\n",
    "for d_keys in domains:\n",
    "    G_domain_L[d_keys]=nx.from_numpy_matrix(domain_thresh_jaccard_L[d_keys])\n",
    "    G_domain_L[d_keys]=nx.relabel_nodes(G_domain_L[d_keys],relabel_L)\n",
    "    G_domain_L[d_keys].remove_edges_from(G_domain_L[d_keys].selfloop_edges())\n",
    "    G_domain_L[d_keys]=brainmap.remove_edgeless_nodes(G_domain_L[d_keys])\n",
    "    \n",
    "    \n",
    "G_domain_R={}\n",
    "for d_keys in domains:\n",
    "    G_domain_R[d_keys]=nx.from_numpy_matrix(domain_thresh_jaccard_R[d_keys])\n",
    "    G_domain_R[d_keys]=nx.relabel_nodes(G_domain_R[d_keys],relabel_R)\n",
    "    G_domain_R[d_keys].remove_edges_from(G_domain_R[d_keys].selfloop_edges())\n",
    "    G_domain_R[d_keys]=brainmap.remove_edgeless_nodes(G_domain_R[d_keys])"
   ]
  },
  {
   "cell_type": "code",
   "execution_count": 62,
   "metadata": {
    "collapsed": false,
    "deletable": true,
    "editable": true
   },
   "outputs": [],
   "source": [
    "G_L=nx.from_numpy_matrix(base_thresh_jaccard_L)\n",
    "G_domain_L['Base']=G_L\n",
    "G_domain_L['Base'].remove_edges_from(G_domain_L['Base'].selfloop_edges())\n",
    "G_domain_L['Base']=nx.relabel_nodes(G_domain_L['Base'],relabel_L)\n",
    "G_domain_L['Base']=brainmap.remove_edgeless_nodes(G_domain_L['Base'])\n",
    "\n",
    "G_R=nx.from_numpy_matrix(base_thresh_jaccard_R)\n",
    "G_domain_R['Base']=G_R\n",
    "G_domain_R['Base'].remove_edges_from(G_domain_R['Base'].selfloop_edges())\n",
    "G_domain_R['Base']=nx.relabel_nodes(G_domain_R['Base'],relabel_R)\n",
    "G_domain_R['Base']=brainmap.remove_edgeless_nodes(G_domain_R['Base'])\n"
   ]
  },
  {
   "cell_type": "code",
   "execution_count": 74,
   "metadata": {
    "collapsed": false,
    "deletable": true,
    "editable": true
   },
   "outputs": [],
   "source": [
    "domain_metrics_L={d_keys: brainmap.run_weighted_metrics(G_domain_L[d_keys], top_n=5) for d_keys in domains_base}\n",
    "domain_metrics_R={d_keys: brainmap.run_weighted_metrics(G_domain_R[d_keys], top_n=5) for d_keys in domains_base}\n",
    "metrics_L=brainmap.run_weighted_metrics(G_L, top_n=10)\n",
    "metrics_R=brainmap.run_weighted_metrics(G_R, top_n=10)"
   ]
  },
  {
   "cell_type": "code",
   "execution_count": 75,
   "metadata": {
    "collapsed": false,
    "deletable": true,
    "editable": true
   },
   "outputs": [
    {
     "name": "stdout",
     "output_type": "stream",
     "text": [
      "Emotion 49\n",
      "Language 42\n",
      "Working Memory 47\n",
      "Attention 60\n",
      "Audition 8\n",
      "Base 104\n",
      "Memory 67\n",
      "Vision 41\n"
     ]
    }
   ],
   "source": [
    "for x in G_domain_R.keys():\n",
    "    print x, G_domain_R[x].number_of_nodes()"
   ]
  },
  {
   "cell_type": "code",
   "execution_count": null,
   "metadata": {
    "collapsed": true,
    "deletable": true,
    "editable": true
   },
   "outputs": [],
   "source": []
  },
  {
   "cell_type": "code",
   "execution_count": null,
   "metadata": {
    "collapsed": false,
    "deletable": true,
    "editable": true
   },
   "outputs": [],
   "source": [
    "domain_metrics_L[d_keys].keys()"
   ]
  },
  {
   "cell_type": "markdown",
   "metadata": {
    "deletable": true,
    "editable": true
   },
   "source": [
    "saving data"
   ]
  },
  {
   "cell_type": "code",
   "execution_count": null,
   "metadata": {
    "collapsed": true,
    "deletable": true,
    "editable": true
   },
   "outputs": [],
   "source": [
    "#pickle.dump(G_domain_L, open('G_domain_L.pck', 'wb'))\n",
    "#pickle.dump(G_domain_R, open('G_domain_R.pck', 'wb'))\n",
    "#pickle.dump(domain_metrics_L, open('domain_metrics_L.pck', 'wb'))\n",
    "#pickle.dump(domain_metrics_R, open('domain_metrics_R.pck', 'wb'))\n"
   ]
  },
  {
   "cell_type": "markdown",
   "metadata": {
    "deletable": true,
    "editable": true
   },
   "source": [
    "# Plot Degree distributions"
   ]
  },
  {
   "cell_type": "code",
   "execution_count": 76,
   "metadata": {
    "collapsed": false,
    "deletable": true,
    "editable": true
   },
   "outputs": [
    {
     "name": "stderr",
     "output_type": "stream",
     "text": [
      "/Users/rsblumenfeld/Library/Enthought/Canopy_64bit/User/lib/python2.7/site-packages/matplotlib/axes/_subplots.py:69: MatplotlibDeprecationWarning: The use of 0 (which ends up being the _last_ sub-plot) is deprecated in 1.4 and will raise an error in 1.5\n",
      "  mplDeprecation)\n"
     ]
    },
    {
     "data": {
      "image/png": "[encoded data removed]",
      "text/plain": [
       "<matplotlib.figure.Figure at 0x116a5d690>"
      ]
     },
     "metadata": {},
     "output_type": "display_data"
    }
   ],
   "source": [
    "metric='degrees'\n",
    "plt.figure(figsize=[10,10])\n",
    "for y,d_keys in enumerate(domains):\n",
    "    ax1=plt.subplot(4,2,y)\n",
    "    plt.hist(domain_metrics_L[d_keys][metric].values(), color='b', alpha=0.8)\n",
    "    plt.hist(domain_metrics_R[d_keys][metric].values(), color='r', alpha=0.8)\n",
    "    plt.title(d_keys)"
   ]
  },
  {
   "cell_type": "markdown",
   "metadata": {
    "deletable": true,
    "editable": true
   },
   "source": [
    "# Other metric histograms"
   ]
  },
  {
   "cell_type": "code",
   "execution_count": null,
   "metadata": {
    "collapsed": false,
    "deletable": true,
    "editable": true
   },
   "outputs": [],
   "source": [
    "metric='degree_cent'\n",
    "plt.figure(figsize=[10,10])\n",
    "for y,d_keys in enumerate(domains):\n",
    "    ax1=plt.subplot(4,2,y)\n",
    "    plt.hist(domain_metrics_L[d_keys][metric].values(), color='b', alpha=0.8)\n",
    "    plt.hist(domain_metrics_R[d_keys][metric].values(), color='r', alpha=0.8)\n",
    "    plt.title(d_keys)"
   ]
  },
  {
   "cell_type": "code",
   "execution_count": null,
   "metadata": {
    "collapsed": false,
    "deletable": true,
    "editable": true
   },
   "outputs": [],
   "source": [
    "metric='between_cent'\n",
    "plt.figure(figsize=[10,10])\n",
    "for y,d_keys in enumerate(domains):\n",
    "    ax1=plt.subplot(4,2,y)\n",
    "    plt.hist(domain_metrics_L[d_keys][metric].values(), color='b', alpha=0.8)\n",
    "    plt.hist(domain_metrics_R[d_keys][metric].values(), color='r', alpha=0.8)\n",
    "    plt.title(d_keys)"
   ]
  },
  {
   "cell_type": "code",
   "execution_count": null,
   "metadata": {
    "collapsed": false,
    "deletable": true,
    "editable": true
   },
   "outputs": [],
   "source": [
    "metric='ccoeff'\n",
    "plt.figure(figsize=[10,10])\n",
    "for y,d_keys in enumerate(domains):\n",
    "    ax1=plt.subplot(4,2,y)\n",
    "    plt.hist(domain_metrics_L[d_keys][metric].values(), color='b', alpha=0.8)\n",
    "    plt.hist(domain_metrics_R[d_keys][metric].values(), color='r', alpha=0.8)\n",
    "    plt.title(d_keys)"
   ]
  },
  {
   "cell_type": "markdown",
   "metadata": {
    "deletable": true,
    "editable": true
   },
   "source": [
    "# List Top 10s"
   ]
  },
  {
   "cell_type": "markdown",
   "metadata": {
    "deletable": true,
    "editable": true
   },
   "source": [
    "create top_metric_dict which to store all the data for top 10s"
   ]
  },
  {
   "cell_type": "code",
   "execution_count": null,
   "metadata": {
    "collapsed": false,
    "deletable": true,
    "editable": true
   },
   "outputs": [],
   "source": [
    "top_metric_dict_L={}\n",
    "top_metric_dict_R={}\n",
    "for metric in ['topdegrees','topdegree_cent','topbetween_cent', 'topccoeff']:\n",
    "    top_metrics_L={}\n",
    "    top_metrics_R={}\n",
    "    for d_key in domains:\n",
    "        top_metrics_L[d_key]=domain_metrics_L[d_key][metric]\n",
    "        top_metrics_R[d_key]=domain_metrics_R[d_key][metric]\n",
    "    top_metric_dict_L[metric]=top_metrics_L\n",
    "    top_metric_dict_R[metric]=top_metrics_R"
   ]
  },
  {
   "cell_type": "code",
   "execution_count": null,
   "metadata": {
    "collapsed": false,
    "deletable": true,
    "editable": true
   },
   "outputs": [],
   "source": [
    "top_metric_dict_R['topdegrees']['Memory']"
   ]
  },
  {
   "cell_type": "code",
   "execution_count": null,
   "metadata": {
    "collapsed": false,
    "deletable": true,
    "editable": true
   },
   "outputs": [],
   "source": [
    "top_metric_dict_L['topdegrees']['Memory']"
   ]
  },
  {
   "cell_type": "markdown",
   "metadata": {
    "deletable": true,
    "editable": true
   },
   "source": [
    "### Lists of nodes for Left and Right hemispheres"
   ]
  },
  {
   "cell_type": "code",
   "execution_count": null,
   "metadata": {
    "collapsed": false,
    "deletable": true,
    "editable": true
   },
   "outputs": [],
   "source": [
    "G_coactives=nx.from_numpy_matrix(n_coactives)\n",
    "G_coactives=nx.relabel_nodes(G_coactives, relabel_dict)\n",
    "G_coactives.remove_nodes_from([223,224])\n",
    "right=[x for x in G_coactives.nodes() if \"_R_\" in x]\n",
    "left=[x for x in G_coactives.nodes() if \"_L_\" in x]"
   ]
  },
  {
   "cell_type": "code",
   "execution_count": null,
   "metadata": {
    "collapsed": true,
    "deletable": true,
    "editable": true
   },
   "outputs": [],
   "source": []
  },
  {
   "cell_type": "code",
   "execution_count": null,
   "metadata": {
    "collapsed": true,
    "deletable": true,
    "editable": true
   },
   "outputs": [],
   "source": [
    "#part_domains_avg_degree=np.zeros([len(part_bx['Base']), len(domains)])\n",
    "\n",
    "#part_domain_degrees={}\n",
    "#for x,module in enumerate(part_bx['Base']): #module\n",
    "#    domain_degrees=np.zeros([len(domains), len(module)])\n",
    "#    for z, domain in enumerate(domains):\n",
    "#        for y,testnode in enumerate(module): #nodes in a module\n",
    "#            if testnode in G[domain]:\n",
    "#                domain_degrees[z,y]=G[domain].degree()[testnode] #grab all the node degrees for the nodes in module per domain\n",
    "#        part_domains_avg_degree[x,z]=domain_degrees[z].mean()"
   ]
  },
  {
   "cell_type": "code",
   "execution_count": null,
   "metadata": {
    "collapsed": false,
    "deletable": true,
    "editable": true
   },
   "outputs": [],
   "source": [
    "base_dict={0: set(part_bx['Base'][0]), 1: set(part_bx['Base'][1]),\n",
    "           2: set(part_bx['Base'][2]), 3: set(part_bx['Base'][3])}\n",
    "        "
   ]
  },
  {
   "cell_type": "code",
   "execution_count": null,
   "metadata": {
    "collapsed": false,
    "deletable": true,
    "editable": true
   },
   "outputs": [],
   "source": [
    "G_cost['Base'][target]"
   ]
  },
  {
   "cell_type": "code",
   "execution_count": null,
   "metadata": {
    "collapsed": false,
    "deletable": true,
    "editable": true
   },
   "outputs": [],
   "source": [
    "graph=G_cost['Base']\n",
    "partition= base_dict\n",
    "wd_dict = {}\n",
    "\n",
    "paths = nx.shortest_path_length(G=graph)\n",
    "for m in partition.keys():\n",
    "        mod_list = partition[m]\n",
    "        mod_wd_dict = {}\n",
    "        for source in mod_list:\n",
    "            count = 0\n",
    "            for target in mod_list:\n",
    "                if paths[source][target] == 1:\n",
    "                    count += 1"
   ]
  },
  {
   "cell_type": "code",
   "execution_count": null,
   "metadata": {
    "collapsed": false,
    "deletable": true,
    "editable": true
   },
   "outputs": [],
   "source": [
    "target"
   ]
  },
  {
   "cell_type": "code",
   "execution_count": null,
   "metadata": {
    "collapsed": false,
    "deletable": true,
    "editable": true
   },
   "outputs": [],
   "source": [
    "wd_=graph_functions.within_module_degree(G['Base'], base_dict)"
   ]
  },
  {
   "cell_type": "code",
   "execution_count": null,
   "metadata": {
    "collapsed": false,
    "deletable": true,
    "editable": true
   },
   "outputs": [],
   "source": [
    "G['Base'].nodes()"
   ]
  },
  {
   "cell_type": "code",
   "execution_count": null,
   "metadata": {
    "collapsed": true,
    "deletable": true,
    "editable": true
   },
   "outputs": [],
   "source": [
    "part_domains_avg_degree=np.zeros([len(domains),len(part_bx['Base'])])"
   ]
  },
  {
   "cell_type": "code",
   "execution_count": null,
   "metadata": {
    "collapsed": false,
    "deletable": true,
    "editable": true
   },
   "outputs": [],
   "source": [
    "part_bx['Base'][0]"
   ]
  },
  {
   "cell_type": "code",
   "execution_count": null,
   "metadata": {
    "collapsed": false,
    "deletable": true,
    "editable": true
   },
   "outputs": [],
   "source": [
    "domains"
   ]
  },
  {
   "cell_type": "code",
   "execution_count": null,
   "metadata": {
    "collapsed": false,
    "deletable": true,
    "editable": true
   },
   "outputs": [],
   "source": [
    "plt.plot(part_domains_avg_degree.transpose())"
   ]
  },
  {
   "cell_type": "code",
   "execution_count": null,
   "metadata": {
    "collapsed": false,
    "deletable": true,
    "editable": true
   },
   "outputs": [],
   "source": [
    "domain_degrees=np.zeros([G['Base'].number_of_nodes(), len(domains)])\n"
   ]
  },
  {
   "cell_type": "code",
   "execution_count": null,
   "metadata": {
    "collapsed": false,
    "deletable": true,
    "editable": true
   },
   "outputs": [],
   "source": [
    "testnode=G['Base'].nodes()[0]\n",
    "if testnode in G['Memory'].nodes():\n",
    "    foo=G['Memory'].degree()[testnode]"
   ]
  },
  {
   "cell_type": "code",
   "execution_count": null,
   "metadata": {
    "collapsed": false,
    "deletable": true,
    "editable": true
   },
   "outputs": [],
   "source": [
    "#part_domains_avg_degree=np.zeros([len(domains),len(part_bx['Base'])])\n",
    "part_domain_degrees={}\n",
    "for x,module in enumerate(part_bx['Base']): #module\n",
    "    domain_degrees=np.zeros([len(domains), len(module)])\n",
    "    for y,testnode in enumerate(module): #nodes in a module\n",
    "        for z, domain in enumerate(domains): #go domain by domain\n",
    "            if testnode in G[domain]:\n",
    "                domain_degrees[z,y]=G[domain].degree()[testnode] #grab all the node degrees for the nodes in module per domain\n",
    "        "
   ]
  },
  {
   "cell_type": "code",
   "execution_count": null,
   "metadata": {
    "collapsed": false,
    "deletable": true,
    "editable": true
   },
   "outputs": [],
   "source": [
    "domain_degrees[1]"
   ]
  },
  {
   "cell_type": "code",
   "execution_count": null,
   "metadata": {
    "collapsed": false,
    "deletable": true,
    "editable": true
   },
   "outputs": [],
   "source": [
    "part_domains_avg_degree=np.zeros([len(domains),1])\n",
    "for x,module in enumerate(part_bx['Base']):\n",
    "    domain_degrees=np.zeros([len(domains), len(module)])\n",
    "    for y,testnode in enumerate(module):\n",
    "        for z, domain in enumerate(domains):\n",
    "            if testnode in G[domain]:\n",
    "                domain_degrees[z,y]=G[domain].degree()[testnode]\n",
    "    for a, domain2 in enumerate(domain):\n",
    "        part_domains_avg_degree[a]=domain_degrees[a].mean()\n",
    "                "
   ]
  },
  {
   "cell_type": "code",
   "execution_count": null,
   "metadata": {
    "collapsed": false,
    "deletable": true,
    "editable": true
   },
   "outputs": [],
   "source": [
    "part_domains_avg_degree"
   ]
  },
  {
   "cell_type": "code",
   "execution_count": null,
   "metadata": {
    "collapsed": true,
    "deletable": true,
    "editable": true
   },
   "outputs": [],
   "source": [
    "part_domains_avg_degree[z,y]=\n",
    "                G[domain].degree()[testnode]\n",
    "            \n",
    "        \n",
    "    \n",
    "\n",
    "\n",
    "for y,testnode in enumerate(part_bx['Base'].nodes()):\n",
    "    domain_degrees=np.zeros([len(domains), len(module)])\n",
    "    for z, domain in enumerate(domains):\n",
    "        if testnode in G[domain]:\n",
    "            domain_degrees[z,y]=G[domain].degree()[testnode]\n",
    "        part_domains_avg_degree[z]=domain_degrees[z].mean()"
   ]
  },
  {
   "cell_type": "code",
   "execution_count": null,
   "metadata": {
    "collapsed": false,
    "deletable": true,
    "editable": true
   },
   "outputs": [],
   "source": [
    "part_domains_avg_degree=np.zeros(len(domains))\n",
    "for y,testnode in enumerate(G['Base'].nodes()):\n",
    "    domain_degrees=np.zeros([len(domains), len(module)])\n",
    "    for z, domain in enumerate(domains):"
   ]
  },
  {
   "cell_type": "code",
   "execution_count": null,
   "metadata": {
    "collapsed": false,
    "deletable": true,
    "editable": true
   },
   "outputs": [],
   "source": [
    "foo.transpose()[0].mean()"
   ]
  },
  {
   "cell_type": "code",
   "execution_count": null,
   "metadata": {
    "collapsed": false,
    "deletable": true,
    "editable": true
   },
   "outputs": [],
   "source": [
    "foo"
   ]
  },
  {
   "cell_type": "code",
   "execution_count": null,
   "metadata": {
    "collapsed": true,
    "deletable": true,
    "editable": true
   },
   "outputs": [],
   "source": [
    "for x, module in enumerate(part_bx['Base']):\n",
    "    for y, node in enumerate(module):\n",
    "        for z, domain in enumerate(domains):\n",
    "            if node in G[domain]:\n",
    "                domain_degrees[y,z]=G[domain].degree()[testnode]\n",
    "    \n",
    "        \n",
    "        "
   ]
  },
  {
   "cell_type": "code",
   "execution_count": null,
   "metadata": {
    "collapsed": false,
    "deletable": true,
    "editable": true
   },
   "outputs": [],
   "source": [
    "go through each partition:\n",
    "    for each domain:\n",
    "        sum up degrees\n",
    "        so each partition has a single value for each domain"
   ]
  },
  {
   "cell_type": "code",
   "execution_count": null,
   "metadata": {
    "collapsed": false,
    "deletable": true,
    "editable": true
   },
   "outputs": [],
   "source": [
    "domain_degrees"
   ]
  },
  {
   "cell_type": "code",
   "execution_count": null,
   "metadata": {
    "collapsed": true,
    "deletable": true,
    "editable": true
   },
   "outputs": [],
   "source": []
  }
 ],
 "metadata": {
  "kernelspec": {
   "display_name": "Python 2",
   "language": "python",
   "name": "python2"
  },
  "language_info": {
   "codemirror_mode": {
    "name": "ipython",
    "version": 2
   },
   "file_extension": ".py",
   "mimetype": "text/x-python",
   "name": "python",
   "nbconvert_exporter": "python",
   "pygments_lexer": "ipython2",
   "version": "2.7.11"
  }
 },
 "nbformat": 4,
 "nbformat_minor": 0
}
