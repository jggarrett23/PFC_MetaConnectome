{
 "cells": [
  {
   "cell_type": "code",
   "execution_count": 3,
   "metadata": {
    "collapsed": false
   },
   "outputs": [
    {
     "ename": "ImportError",
     "evalue": "No module named brain_map_utils1.py",
     "output_type": "error",
     "traceback": [
      "\u001b[0;31m---------------------------------------------------------------------------\u001b[0m",
      "\u001b[0;31mImportError\u001b[0m                               Traceback (most recent call last)",
      "\u001b[0;32m<ipython-input-3-2bf55d0db247>\u001b[0m in \u001b[0;36m<module>\u001b[0;34m()\u001b[0m\n\u001b[1;32m      3\u001b[0m \u001b[0;32mimport\u001b[0m \u001b[0mnetworkx\u001b[0m \u001b[0;32mas\u001b[0m \u001b[0mnx\u001b[0m\u001b[0;34m\u001b[0m\u001b[0m\n\u001b[1;32m      4\u001b[0m \u001b[0;32mimport\u001b[0m \u001b[0mpandas\u001b[0m \u001b[0;32mas\u001b[0m \u001b[0mpd\u001b[0m\u001b[0;34m\u001b[0m\u001b[0m\n\u001b[0;32m----> 5\u001b[0;31m \u001b[0;32mimport\u001b[0m \u001b[0mbrain_map_utils1\u001b[0m\u001b[0;34m.\u001b[0m\u001b[0mpy\u001b[0m \u001b[0;32mas\u001b[0m \u001b[0mbrainmap\u001b[0m\u001b[0;34m\u001b[0m\u001b[0m\n\u001b[0m\u001b[1;32m      6\u001b[0m \u001b[0;32mimport\u001b[0m \u001b[0mmatplotlib\u001b[0m\u001b[0;34m.\u001b[0m\u001b[0mpyplot\u001b[0m \u001b[0;32mas\u001b[0m \u001b[0mplt\u001b[0m\u001b[0;34m\u001b[0m\u001b[0m\n\u001b[1;32m      7\u001b[0m \u001b[0;32mimport\u001b[0m \u001b[0mcommunity\u001b[0m\u001b[0;34m\u001b[0m\u001b[0m\n",
      "\u001b[0;31mImportError\u001b[0m: No module named brain_map_utils1.py"
     ]
    }
   ],
   "source": [
    "import pickle\n",
    "import numpy as np\n",
    "import networkx as nx\n",
    "import pandas as pd\n",
    "import brain_map_utils1 as brainmap\n",
    "import matplotlib.pyplot as plt\n",
    "import community\n",
    "import brainx.modularity as mod\n",
    "import operator\n",
    "import cfflib as cff\n",
    "%matplotlib inline"
   ]
  },
  {
   "cell_type": "code",
   "execution_count": 2,
   "metadata": {
    "collapsed": true
   },
   "outputs": [],
   "source": [
    "domainsfile=\"/Users/owner/Functional_Connectivity/Results/studies_filtered_by_domain.pck\"\n",
    "domaindata=pickle.load(open(domainsfile, \"rb\" ))\n",
    "relabel_dict_file='/Users/owner/Functional_Connectivity/Results/relabel_dict.pck'\n",
    "relabel_dict=pickle.load(open(relabel_dict_file,\"rb\"))\n",
    "txt='/Users/owner/Functional_Connectivity/Scripts/workspaces.txt'\n",
    "keycodesfile=\"/Users/owner/Functional_Connectivity/Results/crossPFC_keycodes.pck\"\n",
    "key_codes=pickle.load(open(keycodesfile, 'rb' ))"
   ]
  },
  {
   "cell_type": "code",
   "execution_count": 3,
   "metadata": {
    "collapsed": true
   },
   "outputs": [],
   "source": [
    "domains='Memory', 'Working Memory', 'Emotion', 'Attention', 'Language', 'Vision', 'Audition'"
   ]
  },
  {
   "cell_type": "code",
   "execution_count": 4,
   "metadata": {
    "collapsed": false
   },
   "outputs": [
    {
     "name": "stdout",
     "output_type": "stream",
     "text": [
      "0.572777777778\n"
     ]
    }
   ],
   "source": [
    "Att_Aud_array=pickle.load (open ('/Users/owner/Functional_Connectivity/Results/Arrays/Subtract_Arrays/Att_Domain_array/Att_Aud_array.pck', 'rb'))\n",
    "arrayfile=Att_Aud_array\n",
    "G_Att_Aud=nx.from_numpy_matrix(arrayfile)\n",
    "G_binary_Att_Aud=brainmap.build_binarized_graph(G_Att_Aud)\n",
    "G_binary_Att_Aud.remove_edges_from(G_binary_Att_Aud.selfloop_edges())\n",
    "G_binary_Att_Aud=nx.relabel_nodes(G_binary_Att_Aud, relabel_dict)\n",
    "G_binary_Att_Aud=brainmap._remove_edgeless_nodes(G_binary_Att_Aud)\n",
    "print nx.density (G_Att_Aud)"
   ]
  },
  {
   "cell_type": "code",
   "execution_count": 5,
   "metadata": {
    "collapsed": true
   },
   "outputs": [],
   "source": [
    "basic_metrics_Att_Aud=brainmap.run_basic_metrics(G_binary_Att_Aud)"
   ]
  },
  {
   "cell_type": "code",
   "execution_count": 6,
   "metadata": {
    "collapsed": false
   },
   "outputs": [
    {
     "name": "stdout",
     "output_type": "stream",
     "text": [
      "0.420436507937\n"
     ]
    }
   ],
   "source": [
    "Att_Emo_array=pickle.load(open ('/Users/owner/Functional_Connectivity/Results/Arrays/Subtract_Arrays/Att_Domain_array/Att_Emo_array', 'rb'))\n",
    "arrayfile=Att_Emo_array\n",
    "G_Att_Emo=nx.from_numpy_matrix(arrayfile)\n",
    "G_binary_Att_Emo=brainmap.build_binarized_graph(G_Att_Emo)\n",
    "G_binary_Att_Emo.remove_edges_from(G_binary_Att_Emo.selfloop_edges())\n",
    "G_binary_Att_Emo=nx.relabel_nodes(G_binary_Att_Emo, relabel_dict)\n",
    "G_binary_Att_Emo=brainmap._remove_edgeless_nodes(G_binary_Att_Emo)\n",
    "print nx.density (G_Att_Emo)"
   ]
  },
  {
   "cell_type": "code",
   "execution_count": 7,
   "metadata": {
    "collapsed": true
   },
   "outputs": [],
   "source": [
    "basic_metrics_Att_Emo=brainmap.run_basic_metrics(G_binary_Att_Emo)"
   ]
  },
  {
   "cell_type": "code",
   "execution_count": 8,
   "metadata": {
    "collapsed": false
   },
   "outputs": [
    {
     "name": "stdout",
     "output_type": "stream",
     "text": [
      "0.400198412698\n"
     ]
    }
   ],
   "source": [
    "Att_Lang_array=pickle.load(open ('/Users/owner/Functional_Connectivity/Results/Arrays/Subtract_Arrays/Att_Domain_array/Att_Lang_array', 'rb'))\n",
    "arrayfile=Att_Lang_array\n",
    "G_Att_Lang=nx.from_numpy_matrix(arrayfile)\n",
    "G_binary_Att_Lang=brainmap.build_binarized_graph(G_Att_Lang)\n",
    "G_binary_Att_Lang.remove_edges_from(G_binary_Att_Lang.selfloop_edges())\n",
    "G_binary_Att_Lang=nx.relabel_nodes(G_binary_Att_Lang, relabel_dict)\n",
    "G_binary_Att_Aud=brainmap._remove_edgeless_nodes(G_binary_Att_Lang)\n",
    "print nx.density (G_Att_Lang)"
   ]
  },
  {
   "cell_type": "code",
   "execution_count": 9,
   "metadata": {
    "collapsed": true
   },
   "outputs": [],
   "source": [
    "basic_metrics_Att_Lang=brainmap.run_basic_metrics(G_binary_Att_Lang)"
   ]
  },
  {
   "cell_type": "code",
   "execution_count": 10,
   "metadata": {
    "collapsed": false
   },
   "outputs": [
    {
     "name": "stdout",
     "output_type": "stream",
     "text": [
      "0.377579365079\n"
     ]
    }
   ],
   "source": [
    "Att_Vis_array=pickle.load(open ('/Users/owner/Functional_Connectivity/Results/Arrays/Subtract_Arrays/Att_Domain_array/Att_Vis_array', 'rb'))\n",
    "arrayfile=Att_Vis_array\n",
    "G_Att_Vis=nx.from_numpy_matrix(arrayfile)\n",
    "G_binary_Att_Vis=brainmap.build_binarized_graph(G_Att_Vis)\n",
    "G_binary_Att_Vis.remove_edges_from(G_binary_Att_Vis.selfloop_edges())\n",
    "G_binary_Att_Vis=nx.relabel_nodes(G_binary_Att_Vis, relabel_dict)\n",
    "G_binary_Att_Vis=brainmap._remove_edgeless_nodes(G_binary_Att_Vis)\n",
    "print nx.density (G_Att_Vis)"
   ]
  },
  {
   "cell_type": "code",
   "execution_count": 11,
   "metadata": {
    "collapsed": true
   },
   "outputs": [],
   "source": [
    "basic_metrics_Att_Vis=brainmap.run_basic_metrics(G_binary_Att_Vis)"
   ]
  },
  {
   "cell_type": "code",
   "execution_count": 12,
   "metadata": {
    "collapsed": false
   },
   "outputs": [
    {
     "name": "stdout",
     "output_type": "stream",
     "text": [
      "0.422182539683\n"
     ]
    }
   ],
   "source": [
    "Att_Mem_array=pickle.load(open ('/Users/owner/Functional_Connectivity/Results/Arrays/Subtract_Arrays/Att_Domain_array/Att_Mem_array', 'rb'))\n",
    "arrayfile=Att_Mem_array\n",
    "G_Att_Mem=nx.from_numpy_matrix(arrayfile)\n",
    "G_binary_Att_Mem=brainmap.build_binarized_graph(G_Att_Mem)\n",
    "G_binary_Att_Mem.remove_edges_from(G_binary_Att_Mem.selfloop_edges())\n",
    "G_binary_Att_Mem=nx.relabel_nodes(G_binary_Att_Mem, relabel_dict)\n",
    "G_binary_Att_Mem=brainmap._remove_edgeless_nodes(G_binary_Att_Mem)\n",
    "print nx.density (G_Att_Mem)"
   ]
  },
  {
   "cell_type": "code",
   "execution_count": 13,
   "metadata": {
    "collapsed": true
   },
   "outputs": [],
   "source": [
    "basic_metrics_Att_Mem=brainmap.run_basic_metrics(G_binary_Att_Mem)"
   ]
  },
  {
   "cell_type": "code",
   "execution_count": 14,
   "metadata": {
    "collapsed": false
   },
   "outputs": [
    {
     "name": "stdout",
     "output_type": "stream",
     "text": [
      "0.407420634921\n"
     ]
    }
   ],
   "source": [
    "Att_WM_array=pickle.load(open ('/Users/owner/Functional_Connectivity/Results/Arrays/Subtract_Arrays/Att_Domain_array/Att_WM_array', 'rb'))\n",
    "arrayfile=Att_WM_array\n",
    "G_Att_WM=nx.from_numpy_matrix(arrayfile)\n",
    "G_binary_Att_WM=brainmap.build_binarized_graph(G_Att_WM)\n",
    "G_binary_Att_WM.remove_edges_from(G_binary_Att_WM.selfloop_edges())\n",
    "G_binary_Att_WM=nx.relabel_nodes(G_binary_Att_WM, relabel_dict)\n",
    "G_binary_Att_WM=brainmap._remove_edgeless_nodes(G_binary_Att_WM)\n",
    "print nx.density (G_Att_WM)"
   ]
  },
  {
   "cell_type": "code",
   "execution_count": 15,
   "metadata": {
    "collapsed": true
   },
   "outputs": [],
   "source": [
    "basic_metrics_Att_WM=brainmap.run_basic_metrics(G_binary_Att_WM)"
   ]
  },
  {
   "cell_type": "code",
   "execution_count": 16,
   "metadata": {
    "collapsed": false
   },
   "outputs": [
    {
     "name": "stdout",
     "output_type": "stream",
     "text": [
      "0.664166666667\n"
     ]
    }
   ],
   "source": [
    "Att_B_array=pickle.load(open ('/Users/owner/Functional_Connectivity/Results/Arrays/Subtract_Arrays/Att_Domain_array/Att_Base_array', 'rb'))\n",
    "arrayfile=Att_B_array\n",
    "G_Att_B=nx.from_numpy_matrix(arrayfile)\n",
    "G_binary_Att_B=brainmap.build_binarized_graph(G_Att_B)\n",
    "G_binary_Att_B.remove_edges_from(G_binary_Att_B.selfloop_edges())\n",
    "G_binary_Att_B=nx.relabel_nodes(G_binary_Att_B, relabel_dict)\n",
    "G_binary_Att_B=brainmap._remove_edgeless_nodes(G_binary_Att_B)\n",
    "print nx.density (G_Att_B)"
   ]
  },
  {
   "cell_type": "code",
   "execution_count": 17,
   "metadata": {
    "collapsed": true
   },
   "outputs": [],
   "source": [
    "basic_metrics_Att_B=brainmap.run_basic_metrics(G_binary_Att_B)"
   ]
  },
  {
   "cell_type": "markdown",
   "metadata": {},
   "source": [
    "# Top 5"
   ]
  },
  {
   "cell_type": "code",
   "execution_count": null,
   "metadata": {
    "collapsed": true
   },
   "outputs": [],
   "source": [
    "#basic_metrics_Att_Aud\n",
    "#basic_metrics_Att_Emo\n",
    "#basic_metrics_Att_Lang\n",
    "#basic_metrics_Att_Vis\n",
    "#basic_metrics_Att_Mem\n",
    "#basic_metrics_Att_WM\n",
    "#basic_metrics_Att_B"
   ]
  },
  {
   "cell_type": "code",
   "execution_count": null,
   "metadata": {
    "collapsed": true
   },
   "outputs": [],
   "source": [
    "sorted_x = sorted(basic_metrics_Att_B['degrees'].items(), key=operator.itemgetter(1))\n",
    "top5=[]\n",
    "for x in range(5):\n",
    "    top5.append(sorted_x[-5:][x][0])\n",
    "    domain_top5=top5\n",
    "domain_top5"
   ]
  }
 ],
 "metadata": {
  "kernelspec": {
   "display_name": "Python 2",
   "language": "python",
   "name": "python2"
  },
  "language_info": {
   "codemirror_mode": {
    "name": "ipython",
    "version": 2
   },
   "file_extension": ".py",
   "mimetype": "text/x-python",
   "name": "python",
   "nbconvert_exporter": "python",
   "pygments_lexer": "ipython2",
   "version": "2.7.11"
  }
 },
 "nbformat": 4,
 "nbformat_minor": 0
}
