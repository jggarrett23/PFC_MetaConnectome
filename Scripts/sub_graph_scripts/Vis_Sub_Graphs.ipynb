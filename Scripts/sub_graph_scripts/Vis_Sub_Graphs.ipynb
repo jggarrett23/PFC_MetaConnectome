{
 "cells": [
  {
   "cell_type": "code",
   "execution_count": 1,
   "metadata": {
    "collapsed": false
   },
   "outputs": [
    {
     "name": "stderr",
     "output_type": "stream",
     "text": [
      "/Users/owner/Library/Enthought/Canopy_64bit/User/lib/python2.7/site-packages/brainx/__init__.py:30: UserWarning: Monkeypatching NetworkX's Watts-Strogatz routine\n",
      "  warnings.warn(\"Monkeypatching NetworkX's Watts-Strogatz routine\")\n"
     ]
    }
   ],
   "source": [
    "import pickle\n",
    "import numpy as np\n",
    "import networkx as nx\n",
    "import pandas as pd\n",
    "import brain_map_utils1 as brainmap\n",
    "import matplotlib.pyplot as plt\n",
    "import community\n",
    "import brainx.modularity as mod\n",
    "import operator\n",
    "import cfflib as cff\n",
    "%matplotlib inline"
   ]
  },
  {
   "cell_type": "code",
   "execution_count": 2,
   "metadata": {
    "collapsed": true
   },
   "outputs": [],
   "source": [
    "domainsfile=\"/Users/owner/Functional_Connectivity/Results/studies_filtered_by_domain.pck\"\n",
    "domaindata=pickle.load(open(domainsfile, \"rb\" ))\n",
    "relabel_dict_file='/Users/owner/Functional_Connectivity/Results/relabel_dict.pck'\n",
    "relabel_dict=pickle.load(open(relabel_dict_file,\"rb\"))\n",
    "txt='/Users/owner/Functional_Connectivity/Scripts/workspaces.txt'\n",
    "keycodesfile=\"/Users/owner/Functional_Connectivity/Results/crossPFC_keycodes.pck\"\n",
    "key_codes=pickle.load(open(keycodesfile, 'rb' ))"
   ]
  },
  {
   "cell_type": "code",
   "execution_count": 3,
   "metadata": {
    "collapsed": true
   },
   "outputs": [],
   "source": [
    "domains='Memory', 'Working Memory', 'Emotion', 'Attention', 'Language', 'Vision', 'Audition'"
   ]
  },
  {
   "cell_type": "code",
   "execution_count": 7,
   "metadata": {
    "collapsed": false
   },
   "outputs": [
    {
     "name": "stdout",
     "output_type": "stream",
     "text": [
      "0.383333333333\n"
     ]
    }
   ],
   "source": [
    "Vis_WM=pickle.load (open ('/Users/owner/Functional_Connectivity/Results/Arrays/Subtract_Arrays/Vis_Domain_array/Vis_WM_array.pck', 'rb'))\n",
    "arrayfile=Vis_WM\n",
    "G_Vis_WM=nx.from_numpy_matrix(arrayfile)\n",
    "G_binary_Vis_WM=brainmap.build_binarized_graph(G_Vis_WM)\n",
    "G_binary_Vis_WM.remove_edges_from(G_binary_Vis_WM.selfloop_edges())\n",
    "G_binary_Vis_WM=nx.relabel_nodes(G_binary_Vis_WM, relabel_dict)\n",
    "print nx.density (G_Vis_WM)\n",
    "G_binary_Vis_WM=brainmap._remove_edgeless_nodes(G_binary_Vis_WM)\n",
    "basic_metrics_Vis_WM=brainmap.run_basic_metrics(G_binary_Vis_WM)"
   ]
  },
  {
   "cell_type": "code",
   "execution_count": 14,
   "metadata": {
    "collapsed": false
   },
   "outputs": [
    {
     "name": "stdout",
     "output_type": "stream",
     "text": [
      "0.410952380952\n"
     ]
    }
   ],
   "source": [
    "Vis_M=pickle.load (open ('/Users/owner/Functional_Connectivity/Results/Arrays/Subtract_Arrays/Vis_Domain_array/Vis_Mem_array.pck', 'rb'))\n",
    "arrayfile=Vis_M\n",
    "G_Vis_M=nx.from_numpy_matrix(arrayfile)\n",
    "G_binary_Vis_M=brainmap.build_binarized_graph(G_Vis_M)\n",
    "G_binary_Vis_M.remove_edges_from(G_binary_Vis_M.selfloop_edges())\n",
    "G_binary_Vis_M=nx.relabel_nodes(G_binary_Vis_M, relabel_dict)\n",
    "print nx.density (G_Vis_M)\n",
    "G_binary_Vis_M=brainmap._remove_edgeless_nodes(G_binary_Vis_M)\n",
    "basic_metrics_Vis_M=brainmap.run_basic_metrics(G_binary_Vis_M)"
   ]
  },
  {
   "cell_type": "code",
   "execution_count": 20,
   "metadata": {
    "collapsed": false
   },
   "outputs": [
    {
     "name": "stdout",
     "output_type": "stream",
     "text": [
      "0.691150793651\n"
     ]
    }
   ],
   "source": [
    "Vis_B=pickle.load (open ('/Users/owner/Functional_Connectivity/Results/Arrays/Subtract_Arrays/Vis_Domain_array/Vis_Base_array.pck', 'rb'))\n",
    "arrayfile=Vis_B\n",
    "G_Vis_B=nx.from_numpy_matrix(arrayfile)\n",
    "G_binary_Vis_B=brainmap.build_binarized_graph(G_Vis_B)\n",
    "G_binary_Vis_B.remove_edges_from(G_binary_Vis_B.selfloop_edges())\n",
    "G_binary_Vis_B=nx.relabel_nodes(G_binary_Vis_B, relabel_dict)\n",
    "print nx.density (G_Vis_B)\n",
    "G_binary_Vis_B=brainmap._remove_edgeless_nodes(G_binary_Vis_B)\n",
    "basic_metrics_Vis_B=brainmap.run_basic_metrics(G_binary_Vis_B)"
   ]
  },
  {
   "cell_type": "code",
   "execution_count": 21,
   "metadata": {
    "collapsed": false
   },
   "outputs": [
    {
     "name": "stdout",
     "output_type": "stream",
     "text": [
      "0.377579365079\n"
     ]
    }
   ],
   "source": [
    "Vis_Att=pickle.load (open ('/Users/owner/Functional_Connectivity/Results/Arrays/Subtract_Arrays/Vis_Domain_array/Vis_Att_array.pck', 'rb'))\n",
    "arrayfile=Vis_Att\n",
    "G_Vis_Att=nx.from_numpy_matrix(arrayfile)\n",
    "G_binary_Vis_Att=brainmap.build_binarized_graph(G_Vis_Att)\n",
    "G_binary_Vis_Att.remove_edges_from(G_binary_Vis_Att.selfloop_edges())\n",
    "G_binary_Vis_Att=nx.relabel_nodes(G_binary_Vis_Att, relabel_dict)\n",
    "print nx.density (G_Vis_Att)\n",
    "G_binary_Vis_Att=brainmap._remove_edgeless_nodes(G_binary_Vis_Att)\n",
    "basic_metrics_Vis_Att=brainmap.run_basic_metrics(G_binary_Vis_Att)"
   ]
  },
  {
   "cell_type": "code",
   "execution_count": 27,
   "metadata": {
    "collapsed": false
   },
   "outputs": [
    {
     "name": "stdout",
     "output_type": "stream",
     "text": [
      "0.534801587302\n"
     ]
    }
   ],
   "source": [
    "Vis_Aud=pickle.load (open ('/Users/owner/Functional_Connectivity/Results/Arrays/Subtract_Arrays/Vis_Domain_array/Vis_Aud_array.pck', 'rb'))\n",
    "arrayfile=Vis_Aud\n",
    "G_Vis_Aud=nx.from_numpy_matrix(arrayfile)\n",
    "G_binary_Vis_Aud=brainmap.build_binarized_graph(G_Vis_Aud)\n",
    "G_binary_Vis_Aud.remove_edges_from(G_binary_Vis_Aud.selfloop_edges())\n",
    "G_binary_Vis_Aud=nx.relabel_nodes(G_binary_Vis_Aud, relabel_dict)\n",
    "print nx.density (G_Vis_Aud)\n",
    "G_binary_Vis_Aud=brainmap._remove_edgeless_nodes(G_binary_Vis_Aud)\n",
    "basic_metrics_Vis_Aud=brainmap.run_basic_metrics(G_binary_Vis_Aud)"
   ]
  },
  {
   "cell_type": "code",
   "execution_count": 33,
   "metadata": {
    "collapsed": false
   },
   "outputs": [
    {
     "name": "stdout",
     "output_type": "stream",
     "text": [
      "0.377182539683\n"
     ]
    }
   ],
   "source": [
    "Vis_Lang=pickle.load (open ('/Users/owner/Functional_Connectivity/Results/Arrays/Subtract_Arrays/Vis_Domain_array/Vis_Lang_array.pck', 'rb'))\n",
    "arrayfile=Vis_Lang\n",
    "G_Vis_Lang=nx.from_numpy_matrix(arrayfile)\n",
    "G_binary_Vis_Lang=brainmap.build_binarized_graph(G_Vis_Lang)\n",
    "G_binary_Vis_Lang.remove_edges_from(G_binary_Vis_Lang.selfloop_edges())\n",
    "G_binary_Vis_Lang=nx.relabel_nodes(G_binary_Vis_Lang, relabel_dict)\n",
    "print nx.density (G_Vis_Lang)\n",
    "G_binary_Vis_Lang=brainmap._remove_edgeless_nodes(G_binary_Vis_Lang)\n",
    "basic_metrics_Vis_Lang=brainmap.run_basic_metrics(G_binary_Vis_Lang)"
   ]
  },
  {
   "cell_type": "code",
   "execution_count": 39,
   "metadata": {
    "collapsed": false
   },
   "outputs": [
    {
     "name": "stdout",
     "output_type": "stream",
     "text": [
      "0.412261904762\n"
     ]
    }
   ],
   "source": [
    "Vis_Em=pickle.load (open ('/Users/owner/Functional_Connectivity/Results/Arrays/Subtract_Arrays/Vis_Domain_array/Vis_Emo_array.pck', 'rb'))\n",
    "arrayfile=Vis_Em\n",
    "G_Vis_Em=nx.from_numpy_matrix(arrayfile)\n",
    "G_binary_Vis_Em=brainmap.build_binarized_graph(G_Vis_Em)\n",
    "G_binary_Vis_Em.remove_edges_from(G_binary_Vis_Em.selfloop_edges())\n",
    "G_binary_Vis_Em=nx.relabel_nodes(G_binary_Vis_Em, relabel_dict)\n",
    "print nx.density (G_Vis_Em)\n",
    "G_binary_Vis_Em=brainmap._remove_edgeless_nodes(G_binary_Vis_Em)\n",
    "basic_metrics_Vis_Em=brainmap.run_basic_metrics(G_binary_Vis_Em)"
   ]
  },
  {
   "cell_type": "markdown",
   "metadata": {},
   "source": [
    "# Top 5"
   ]
  },
  {
   "cell_type": "code",
   "execution_count": 75,
   "metadata": {
    "collapsed": false
   },
   "outputs": [
    {
     "data": {
      "text/plain": [
       "['Frontal_Mid_R_13',\n",
       " 'Frontal_Sup_L_2',\n",
       " 'Precentral_L_5',\n",
       " 'Supp_Motor_Area_R_2',\n",
       " 'Precentral_R_6']"
      ]
     },
     "execution_count": 75,
     "metadata": {},
     "output_type": "execute_result"
    }
   ],
   "source": [
    "sorted_x = sorted(basic_metrics_Vis_Em['degrees'].items(), key=operator.itemgetter(1))\n",
    "top5=[]\n",
    "for x in range(5):\n",
    "    top5.append(sorted_x[-5:][x][0])\n",
    "    domain_top5=top5\n",
    "domain_top5"
   ]
  },
  {
   "cell_type": "code",
   "execution_count": null,
   "metadata": {
    "collapsed": true
   },
   "outputs": [],
   "source": []
  }
 ],
 "metadata": {
  "kernelspec": {
   "display_name": "Python 2",
   "language": "python",
   "name": "python2"
  },
  "language_info": {
   "codemirror_mode": {
    "name": "ipython",
    "version": 2
   },
   "file_extension": ".py",
   "mimetype": "text/x-python",
   "name": "python",
   "nbconvert_exporter": "python",
   "pygments_lexer": "ipython2",
   "version": "2.7.11"
  }
 },
 "nbformat": 4,
 "nbformat_minor": 0
}
