{
 "cells": [
  {
   "cell_type": "code",
   "execution_count": 1,
   "metadata": {
    "collapsed": false
   },
   "outputs": [
    {
     "name": "stderr",
     "output_type": "stream",
     "text": [
      "/Users/owner/Library/Enthought/Canopy_64bit/User/lib/python2.7/site-packages/brainx/__init__.py:30: UserWarning: Monkeypatching NetworkX's Watts-Strogatz routine\n",
      "  warnings.warn(\"Monkeypatching NetworkX's Watts-Strogatz routine\")\n"
     ]
    }
   ],
   "source": [
    "import pickle\n",
    "import numpy as np\n",
    "import networkx as nx\n",
    "import pandas as pd\n",
    "import brain_map_utils1 as brainmap\n",
    "import matplotlib.pyplot as plt\n",
    "import community\n",
    "import brainx.modularity as mod\n",
    "import operator\n",
    "import cfflib as cff\n",
    "%matplotlib inline"
   ]
  },
  {
   "cell_type": "code",
   "execution_count": 2,
   "metadata": {
    "collapsed": true
   },
   "outputs": [],
   "source": [
    "domainsfile=\"/Users/owner/Functional_Connectivity/Results/studies_filtered_by_domain.pck\"\n",
    "domaindata=pickle.load(open(domainsfile, \"rb\" ))\n",
    "relabel_dict_file='/Users/owner/Functional_Connectivity/Results/relabel_dict.pck'\n",
    "relabel_dict=pickle.load(open(relabel_dict_file,\"rb\"))\n",
    "txt='/Users/owner/Functional_Connectivity/Scripts/workspaces.txt'\n",
    "keycodesfile=\"/Users/owner/Functional_Connectivity/Results/crossPFC_keycodes.pck\"\n",
    "key_codes=pickle.load(open(keycodesfile, 'rb' ))"
   ]
  },
  {
   "cell_type": "code",
   "execution_count": 3,
   "metadata": {
    "collapsed": true
   },
   "outputs": [],
   "source": [
    "domains='Memory', 'Working Memory', 'Emotion', 'Attention', 'Language', 'Vision', 'Audition'"
   ]
  },
  {
   "cell_type": "code",
   "execution_count": 4,
   "metadata": {
    "collapsed": false
   },
   "outputs": [
    {
     "name": "stdout",
     "output_type": "stream",
     "text": [
      "0.661984126984\n"
     ]
    }
   ],
   "source": [
    "Mem_B=pickle.load (open ('/Users/owner/Functional_Connectivity/Results/Arrays/Subtract_Arrays/Mem_Domain_array/Mem_Base_array.pck', 'rb'))\n",
    "arrayfile=Mem_B\n",
    "G_Mem_B=nx.from_numpy_matrix(arrayfile)\n",
    "G_binary_Mem_B=brainmap.build_binarized_graph(G_Mem_B)\n",
    "G_binary_Mem_B.remove_edges_from(G_binary_Mem_B.selfloop_edges())\n",
    "G_binary_Mem_B=nx.relabel_nodes(G_binary_Mem_B, relabel_dict)\n",
    "print nx.density (G_Mem_B)\n",
    "G_binary_Mem_B=brainmap._remove_edgeless_nodes(G_binary_Mem_B)\n",
    "basic_metrics_Mem_B=brainmap.run_basic_metrics(G_binary_Mem_B)"
   ]
  },
  {
   "cell_type": "code",
   "execution_count": 5,
   "metadata": {
    "collapsed": false
   },
   "outputs": [
    {
     "name": "stdout",
     "output_type": "stream",
     "text": [
      "0.357341269841\n"
     ]
    }
   ],
   "source": [
    "Mem_WM=pickle.load (open ('/Users/owner/Functional_Connectivity/Results/Arrays/Subtract_Arrays/Mem_Domain_array/Mem_WM_array.pck', 'rb'))\n",
    "arrayfile=Mem_WM\n",
    "G_Mem_WM=nx.from_numpy_matrix(arrayfile)\n",
    "G_binary_Mem_WM=brainmap.build_binarized_graph(G_Mem_WM)\n",
    "G_binary_Mem_WM.remove_edges_from(G_binary_Mem_WM.selfloop_edges())\n",
    "G_binary_Mem_WM=nx.relabel_nodes(G_binary_Mem_WM, relabel_dict)\n",
    "print nx.density (G_Mem_WM)\n",
    "G_binary_Mem_WM=brainmap._remove_edgeless_nodes(G_binary_Mem_WM)\n",
    "basic_metrics_Mem_WM=brainmap.run_basic_metrics(G_binary_Mem_WM)"
   ]
  },
  {
   "cell_type": "code",
   "execution_count": 6,
   "metadata": {
    "collapsed": false
   },
   "outputs": [
    {
     "name": "stdout",
     "output_type": "stream",
     "text": [
      "0.422182539683\n"
     ]
    }
   ],
   "source": [
    "Mem_Att=pickle.load (open ('/Users/owner/Functional_Connectivity/Results/Arrays/Subtract_Arrays/Mem_Domain_array/Mem_Att_array.pck', 'rb'))\n",
    "arrayfile=Mem_Att\n",
    "G_Mem_Att=nx.from_numpy_matrix(arrayfile)\n",
    "G_binary_Mem_Att=brainmap.build_binarized_graph(G_Mem_Att)\n",
    "G_binary_Mem_Att.remove_edges_from(G_binary_Mem_Att.selfloop_edges())\n",
    "G_binary_Mem_Att=nx.relabel_nodes(G_binary_Mem_Att, relabel_dict)\n",
    "print nx.density (G_Mem_Att)\n",
    "G_binary_Mem_Att=brainmap._remove_edgeless_nodes(G_binary_Mem_Att)\n",
    "basic_metrics_Mem_Att=brainmap.run_basic_metrics(G_binary_Mem_Att)"
   ]
  },
  {
   "cell_type": "code",
   "execution_count": 12,
   "metadata": {
    "collapsed": false
   },
   "outputs": [
    {
     "name": "stdout",
     "output_type": "stream",
     "text": [
      "0.605119047619\n"
     ]
    }
   ],
   "source": [
    "Mem_Aud=pickle.load (open ('/Users/owner/Functional_Connectivity/Results/Arrays/Subtract_Arrays/Mem_Domain_array/Mem_Aud_array.pck', 'rb'))\n",
    "arrayfile=Mem_Aud\n",
    "G_Mem_Aud=nx.from_numpy_matrix(arrayfile)\n",
    "G_binary_Mem_Aud=brainmap.build_binarized_graph(G_Mem_Aud)\n",
    "G_binary_Mem_Aud.remove_edges_from(G_binary_Mem_Aud.selfloop_edges())\n",
    "G_binary_Mem_Aud=nx.relabel_nodes(G_binary_Mem_Aud, relabel_dict)\n",
    "print nx.density (G_Mem_Aud)\n",
    "G_binary_Mem_Aud=brainmap._remove_edgeless_nodes(G_binary_Mem_Aud)\n",
    "basic_metrics_Mem_Aud=brainmap.run_basic_metrics(G_binary_Mem_Aud)"
   ]
  },
  {
   "cell_type": "code",
   "execution_count": 18,
   "metadata": {
    "collapsed": false
   },
   "outputs": [
    {
     "name": "stdout",
     "output_type": "stream",
     "text": [
      "0.454484126984\n"
     ]
    }
   ],
   "source": [
    "Mem_Em=pickle.load (open ('/Users/owner/Functional_Connectivity/Results/Arrays/Subtract_Arrays/Mem_Domain_array/Mem_Emo_array.pck', 'rb'))\n",
    "arrayfile=Mem_Em\n",
    "G_Mem_Em=nx.from_numpy_matrix(arrayfile)\n",
    "G_binary_Mem_Em=brainmap.build_binarized_graph(G_Mem_Em)\n",
    "G_binary_Mem_Em.remove_edges_from(G_binary_Mem_Em.selfloop_edges())\n",
    "G_binary_Mem_Em=nx.relabel_nodes(G_binary_Mem_Em, relabel_dict)\n",
    "print nx.density (G_Mem_Em)\n",
    "G_binary_Mem_Em=brainmap._remove_edgeless_nodes(G_binary_Mem_Em)\n",
    "basic_metrics_Mem_Em=brainmap.run_basic_metrics(G_binary_Mem_Em)"
   ]
  },
  {
   "cell_type": "code",
   "execution_count": 19,
   "metadata": {
    "collapsed": false
   },
   "outputs": [
    {
     "name": "stdout",
     "output_type": "stream",
     "text": [
      "0.410952380952\n"
     ]
    }
   ],
   "source": [
    "Mem_Vis=pickle.load (open ('/Users/owner/Functional_Connectivity/Results/Arrays/Subtract_Arrays/Mem_Domain_array/Mem_Vis_array.pck', 'rb'))\n",
    "arrayfile=Mem_Vis\n",
    "G_Mem_Vis=nx.from_numpy_matrix(arrayfile)\n",
    "G_binary_Mem_Vis=brainmap.build_binarized_graph(G_Mem_Vis)\n",
    "G_binary_Mem_Vis.remove_edges_from(G_binary_Mem_Vis.selfloop_edges())\n",
    "G_binary_Mem_Vis=nx.relabel_nodes(G_binary_Mem_Vis, relabel_dict)\n",
    "print nx.density (G_Mem_Vis)\n",
    "G_binary_Mem_Vis=brainmap._remove_edgeless_nodes(G_binary_Mem_Vis)\n",
    "basic_metrics_Mem_Vis=brainmap.run_basic_metrics(G_binary_Mem_Vis)"
   ]
  },
  {
   "cell_type": "code",
   "execution_count": 20,
   "metadata": {
    "collapsed": false
   },
   "outputs": [
    {
     "name": "stdout",
     "output_type": "stream",
     "text": [
      "0.421150793651\n"
     ]
    }
   ],
   "source": [
    "Mem_Lang=pickle.load (open ('/Users/owner/Functional_Connectivity/Results/Arrays/Subtract_Arrays/Mem_Domain_array/Mem_Lang_array.pck', 'rb'))\n",
    "arrayfile=Mem_Lang\n",
    "G_Mem_Lang=nx.from_numpy_matrix(arrayfile)\n",
    "G_binary_Mem_Lang=brainmap.build_binarized_graph(G_Mem_Lang)\n",
    "G_binary_Mem_Lang.remove_edges_from(G_binary_Mem_Lang.selfloop_edges())\n",
    "G_binary_Mem_Lang=nx.relabel_nodes(G_binary_Mem_Lang, relabel_dict)\n",
    "print nx.density (G_Mem_Lang)\n",
    "G_binary_Mem_Lang=brainmap._remove_edgeless_nodes(G_binary_Mem_Lang)\n",
    "basic_metrics_Mem_Lang=brainmap.run_basic_metrics(G_binary_Mem_Lang)"
   ]
  },
  {
   "cell_type": "markdown",
   "metadata": {},
   "source": [
    "# Top 5"
   ]
  },
  {
   "cell_type": "code",
   "execution_count": 65,
   "metadata": {
    "collapsed": false
   },
   "outputs": [
    {
     "data": {
      "text/plain": [
       "['Frontal_Sup_R_10',\n",
       " 'Precentral_R_12',\n",
       " 'Frontal_Sup_R_11',\n",
       " 'Frontal_Sup_Medial_R_8',\n",
       " 'Precentral_L_6']"
      ]
     },
     "execution_count": 65,
     "metadata": {},
     "output_type": "execute_result"
    }
   ],
   "source": [
    "sorted_x = sorted(basic_metrics_Mem_B['ccoeff'].items(), key=operator.itemgetter(1))\n",
    "top5=[]\n",
    "for x in range(5):\n",
    "    top5.append(sorted_x[-5:][x][0])\n",
    "    domain_top5=top5\n",
    "domain_top5"
   ]
  },
  {
   "cell_type": "code",
   "execution_count": null,
   "metadata": {
    "collapsed": true
   },
   "outputs": [],
   "source": []
  }
 ],
 "metadata": {
  "kernelspec": {
   "display_name": "Python 2",
   "language": "python",
   "name": "python2"
  },
  "language_info": {
   "codemirror_mode": {
    "name": "ipython",
    "version": 2
   },
   "file_extension": ".py",
   "mimetype": "text/x-python",
   "name": "python",
   "nbconvert_exporter": "python",
   "pygments_lexer": "ipython2",
   "version": "2.7.11"
  }
 },
 "nbformat": 4,
 "nbformat_minor": 0
}
