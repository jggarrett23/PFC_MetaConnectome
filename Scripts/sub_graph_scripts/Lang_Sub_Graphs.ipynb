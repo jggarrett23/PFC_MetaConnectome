{
 "cells": [
  {
   "cell_type": "code",
   "execution_count": 1,
   "metadata": {
    "collapsed": false
   },
   "outputs": [
    {
     "name": "stderr",
     "output_type": "stream",
     "text": [
      "/Users/owner/Library/Enthought/Canopy_64bit/User/lib/python2.7/site-packages/brainx/__init__.py:30: UserWarning: Monkeypatching NetworkX's Watts-Strogatz routine\n",
      "  warnings.warn(\"Monkeypatching NetworkX's Watts-Strogatz routine\")\n"
     ]
    }
   ],
   "source": [
    "import pickle\n",
    "import numpy as np\n",
    "import networkx as nx\n",
    "import pandas as pd\n",
    "import brain_map_utils1 as brainmap\n",
    "import matplotlib.pyplot as plt\n",
    "import community\n",
    "import brainx.modularity as mod\n",
    "import operator\n",
    "import cfflib as cff\n",
    "%matplotlib inline"
   ]
  },
  {
   "cell_type": "code",
   "execution_count": 2,
   "metadata": {
    "collapsed": true
   },
   "outputs": [],
   "source": [
    "domainsfile=\"/Users/owner/Functional_Connectivity/Results/studies_filtered_by_domain.pck\"\n",
    "domaindata=pickle.load(open(domainsfile, \"rb\" ))\n",
    "relabel_dict_file='/Users/owner/Functional_Connectivity/Results/relabel_dict.pck'\n",
    "relabel_dict=pickle.load(open(relabel_dict_file,\"rb\"))\n",
    "txt='/Users/owner/Functional_Connectivity/Scripts/workspaces.txt'\n",
    "keycodesfile=\"/Users/owner/Functional_Connectivity/Results/crossPFC_keycodes.pck\"\n",
    "key_codes=pickle.load(open(keycodesfile, 'rb' ))"
   ]
  },
  {
   "cell_type": "code",
   "execution_count": 3,
   "metadata": {
    "collapsed": true
   },
   "outputs": [],
   "source": [
    "domains='Memory', 'Working Memory', 'Emotion', 'Attention', 'Language', 'Vision', 'Audition'"
   ]
  },
  {
   "cell_type": "code",
   "execution_count": 4,
   "metadata": {
    "collapsed": false
   },
   "outputs": [
    {
     "name": "stdout",
     "output_type": "stream",
     "text": [
      "0.421150793651\n"
     ]
    }
   ],
   "source": [
    "Lang_Mem=pickle.load (open ('/Users/owner/Functional_Connectivity/Results/Arrays/Subtract_Arrays/Lang_Domain_array/Lang_Mem_array.pck', 'rb'))\n",
    "arrayfile=Lang_Mem\n",
    "G_Lang_Mem=nx.from_numpy_matrix(arrayfile)\n",
    "G_binary_Lang_Mem=brainmap.build_binarized_graph(G_Lang_Mem)\n",
    "G_binary_Lang_Mem.remove_edges_from(G_binary_Lang_Mem.selfloop_edges())\n",
    "G_binary_Lang_Mem=nx.relabel_nodes(G_binary_Lang_Mem, relabel_dict)\n",
    "print nx.density (G_Lang_Mem)\n",
    "G_binary_Lang_Mem=brainmap._remove_edgeless_nodes(G_binary_Lang_Mem)\n",
    "basic_metrics_Lang_Mem=brainmap.run_basic_metrics(G_binary_Lang_Mem)"
   ]
  },
  {
   "cell_type": "code",
   "execution_count": 5,
   "metadata": {
    "collapsed": false
   },
   "outputs": [
    {
     "name": "stdout",
     "output_type": "stream",
     "text": [
      "0.377182539683\n"
     ]
    }
   ],
   "source": [
    "Lang_Vis=pickle.load (open ('/Users/owner/Functional_Connectivity/Results/Arrays/Subtract_Arrays/Lang_Domain_array/Lang_Vis_array.pck', 'rb'))\n",
    "arrayfile=Lang_Vis\n",
    "G_Lang_Vis=nx.from_numpy_matrix(arrayfile)\n",
    "G_binary_Lang_Vis=brainmap.build_binarized_graph(G_Lang_Vis)\n",
    "G_binary_Lang_Vis.remove_edges_from(G_binary_Lang_Vis.selfloop_edges())\n",
    "G_binary_Lang_Vis=nx.relabel_nodes(G_binary_Lang_Vis, relabel_dict)\n",
    "print nx.density (G_Lang_Vis)\n",
    "G_binary_Lang_Vis=brainmap._remove_edgeless_nodes(G_binary_Lang_Vis)\n",
    "basic_metrics_Lang_Vis=brainmap.run_basic_metrics(G_binary_Lang_Vis)"
   ]
  },
  {
   "cell_type": "code",
   "execution_count": 6,
   "metadata": {
    "collapsed": false
   },
   "outputs": [
    {
     "name": "stdout",
     "output_type": "stream",
     "text": [
      "0.408611111111\n"
     ]
    }
   ],
   "source": [
    "Lang_WM=pickle.load (open ('/Users/owner/Functional_Connectivity/Results/Arrays/Subtract_Arrays/Lang_Domain_array/Lang_WM_array.pck', 'rb'))\n",
    "arrayfile=Lang_WM\n",
    "G_Lang_WM=nx.from_numpy_matrix(arrayfile)\n",
    "G_binary_Lang_WM=brainmap.build_binarized_graph(G_Lang_WM)\n",
    "G_binary_Lang_WM.remove_edges_from(G_binary_Lang_WM.selfloop_edges())\n",
    "G_binary_Lang_WM=nx.relabel_nodes(G_binary_Lang_WM, relabel_dict)\n",
    "print nx.density (G_Lang_WM)\n",
    "G_binary_Lang_WM=brainmap._remove_edgeless_nodes(G_binary_Lang_WM)\n",
    "basic_metrics_Lang_WM=brainmap.run_basic_metrics(G_binary_Lang_WM)"
   ]
  },
  {
   "cell_type": "code",
   "execution_count": 7,
   "metadata": {
    "collapsed": false
   },
   "outputs": [
    {
     "name": "stdout",
     "output_type": "stream",
     "text": [
      "0.661111111111\n"
     ]
    }
   ],
   "source": [
    "Lang_B=pickle.load (open ('/Users/owner/Functional_Connectivity/Results/Arrays/Subtract_Arrays/Lang_Domain_array/Lang_Base_array', 'rb'))\n",
    "arrayfile=Lang_B\n",
    "G_Lang_B=nx.from_numpy_matrix(arrayfile)\n",
    "G_binary_Lang_B=brainmap.build_binarized_graph(G_Lang_B)\n",
    "G_binary_Lang_B.remove_edges_from(G_binary_Lang_B.selfloop_edges())\n",
    "G_binary_Lang_B=nx.relabel_nodes(G_binary_Lang_B, relabel_dict)\n",
    "print nx.density (G_Lang_B)\n",
    "G_binary_Lang_B=brainmap._remove_edgeless_nodes(G_binary_Lang_B)\n",
    "basic_metrics_Lang_B=brainmap.run_basic_metrics(G_binary_Lang_B)"
   ]
  },
  {
   "cell_type": "code",
   "execution_count": 13,
   "metadata": {
    "collapsed": false
   },
   "outputs": [
    {
     "name": "stdout",
     "output_type": "stream",
     "text": [
      "0.400198412698\n"
     ]
    }
   ],
   "source": [
    "Lang_Att=pickle.load (open ('/Users/owner/Functional_Connectivity/Results/Arrays/Subtract_Arrays/Lang_Domain_array/Lang_Att_array.pck', 'rb'))\n",
    "arrayfile=Lang_Att\n",
    "G_Lang_Att=nx.from_numpy_matrix(arrayfile)\n",
    "G_binary_Lang_Att=brainmap.build_binarized_graph(G_Lang_Att)\n",
    "G_binary_Lang_Att.remove_edges_from(G_binary_Lang_Att.selfloop_edges())\n",
    "G_binary_Lang_Att=nx.relabel_nodes(G_binary_Lang_Att, relabel_dict)\n",
    "print nx.density (G_Lang_Att)\n",
    "G_binary_Lang_Att=brainmap._remove_edgeless_nodes(G_binary_Lang_Att)\n",
    "basic_metrics_Lang_Att=brainmap.run_basic_metrics(G_binary_Lang_Att)"
   ]
  },
  {
   "cell_type": "code",
   "execution_count": 14,
   "metadata": {
    "collapsed": false
   },
   "outputs": [
    {
     "name": "stdout",
     "output_type": "stream",
     "text": [
      "0.42746031746\n"
     ]
    }
   ],
   "source": [
    "Lang_Em=pickle.load (open ('/Users/owner/Functional_Connectivity/Results/Arrays/Subtract_Arrays/Lang_Domain_array/Lang_Emo_array.pck', 'rb'))\n",
    "arrayfile=Lang_Em\n",
    "G_Lang_Em=nx.from_numpy_matrix(arrayfile)\n",
    "G_binary_Lang_Em=brainmap.build_binarized_graph(G_Lang_Em)\n",
    "G_binary_Lang_Em.remove_edges_from(G_binary_Lang_Em.selfloop_edges())\n",
    "G_binary_Lang_Em=nx.relabel_nodes(G_binary_Lang_Em, relabel_dict)\n",
    "print nx.density (G_Lang_Em)\n",
    "G_binary_Lang_Em=brainmap._remove_edgeless_nodes(G_binary_Lang_Em)\n",
    "basic_metrics_Lang_Em=brainmap.run_basic_metrics(G_binary_Lang_Em)"
   ]
  },
  {
   "cell_type": "code",
   "execution_count": 15,
   "metadata": {
    "collapsed": false
   },
   "outputs": [
    {
     "name": "stdout",
     "output_type": "stream",
     "text": [
      "0.575873015873\n"
     ]
    }
   ],
   "source": [
    "Lang_Aud=pickle.load (open ('/Users/owner/Functional_Connectivity/Results/Arrays/Subtract_Arrays/Lang_Domain_array/Lang_Aud_array.pck', 'rb'))\n",
    "arrayfile=Lang_Aud\n",
    "G_Lang_Aud=nx.from_numpy_matrix(arrayfile)\n",
    "G_binary_Lang_Aud=brainmap.build_binarized_graph(G_Lang_Aud)\n",
    "G_binary_Lang_Aud.remove_edges_from(G_binary_Lang_Aud.selfloop_edges())\n",
    "G_binary_Lang_Aud=nx.relabel_nodes(G_binary_Lang_Aud, relabel_dict)\n",
    "print nx.density (G_Lang_Aud)\n",
    "G_binary_Lang_Aud=brainmap._remove_edgeless_nodes(G_binary_Lang_Aud)\n",
    "basic_metrics_Lang_Aud=brainmap.run_basic_metrics(G_binary_Lang_Aud)"
   ]
  },
  {
   "cell_type": "markdown",
   "metadata": {},
   "source": [
    "# Top 5"
   ]
  },
  {
   "cell_type": "code",
   "execution_count": 62,
   "metadata": {
    "collapsed": false
   },
   "outputs": [
    {
     "data": {
      "text/plain": [
       "['Frontal_Inf_Tri_L_9',\n",
       " 'Frontal_Inf_Tri_L_2',\n",
       " 'Frontal_Inf_Oper_L_2',\n",
       " 'Frontal_Sup_Medial_L_6',\n",
       " 'Frontal_Inf_Oper_L_4']"
      ]
     },
     "execution_count": 62,
     "metadata": {},
     "output_type": "execute_result"
    }
   ],
   "source": [
    "sorted_x = sorted(basic_metrics_Lang_Vis['degrees'].items(), key=operator.itemgetter(1))\n",
    "top5=[]\n",
    "for x in range(5):\n",
    "    top5.append(sorted_x[-5:][x][0])\n",
    "    domain_top5=top5\n",
    "domain_top5"
   ]
  }
 ],
 "metadata": {
  "kernelspec": {
   "display_name": "Python 2",
   "language": "python",
   "name": "python2"
  },
  "language_info": {
   "codemirror_mode": {
    "name": "ipython",
    "version": 2
   },
   "file_extension": ".py",
   "mimetype": "text/x-python",
   "name": "python",
   "nbconvert_exporter": "python",
   "pygments_lexer": "ipython2",
   "version": "2.7.11"
  }
 },
 "nbformat": 4,
 "nbformat_minor": 0
}
