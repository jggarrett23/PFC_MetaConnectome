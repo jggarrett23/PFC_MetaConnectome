{
 "cells": [
  {
   "cell_type": "code",
   "execution_count": 1,
   "metadata": {
    "collapsed": false
   },
   "outputs": [
    {
     "name": "stderr",
     "output_type": "stream",
     "text": [
      "/Users/owner/Library/Enthought/Canopy_64bit/User/lib/python2.7/site-packages/brainx/__init__.py:30: UserWarning: Monkeypatching NetworkX's Watts-Strogatz routine\n",
      "  warnings.warn(\"Monkeypatching NetworkX's Watts-Strogatz routine\")\n"
     ]
    }
   ],
   "source": [
    "import pickle\n",
    "import numpy as np\n",
    "import networkx as nx\n",
    "import pandas as pd\n",
    "import brain_map_utils1 as brainmap\n",
    "import matplotlib.pyplot as plt\n",
    "import community\n",
    "import brainx.modularity as mod\n",
    "import operator\n",
    "import cfflib as cff\n",
    "%matplotlib inline"
   ]
  },
  {
   "cell_type": "code",
   "execution_count": 2,
   "metadata": {
    "collapsed": true
   },
   "outputs": [],
   "source": [
    "domainsfile=\"/Users/owner/Functional_Connectivity/Results/studies_filtered_by_domain.pck\"\n",
    "domaindata=pickle.load(open(domainsfile, \"rb\" ))\n",
    "relabel_dict_file='/Users/owner/Functional_Connectivity/Results/relabel_dict.pck'\n",
    "relabel_dict=pickle.load(open(relabel_dict_file,\"rb\"))\n",
    "txt='/Users/owner/Functional_Connectivity/Scripts/workspaces.txt'\n",
    "keycodesfile=\"/Users/owner/Functional_Connectivity/Results/crossPFC_keycodes.pck\"\n",
    "key_codes=pickle.load(open(keycodesfile, 'rb' ))"
   ]
  },
  {
   "cell_type": "code",
   "execution_count": 3,
   "metadata": {
    "collapsed": true
   },
   "outputs": [],
   "source": [
    "domains='Memory', 'Working Memory', 'Emotion', 'Attention', 'Language', 'Vision', 'Audition'"
   ]
  },
  {
   "cell_type": "code",
   "execution_count": 4,
   "metadata": {
    "collapsed": false
   },
   "outputs": [
    {
     "name": "stdout",
     "output_type": "stream",
     "text": [
      "0.695396825397\n"
     ]
    }
   ],
   "source": [
    "WM_B=pickle.load (open ('/Users/owner/Functional_Connectivity/Results/Arrays/Subtract_Arrays/WM_Domain_array/WM_Base_array.pck', 'rb'))\n",
    "arrayfile=WM_B\n",
    "G_WM_B=nx.from_numpy_matrix(arrayfile)\n",
    "G_binary_WM_B=brainmap.build_binarized_graph(G_WM_B)\n",
    "G_binary_WM_B.remove_edges_from(G_binary_WM_B.selfloop_edges())\n",
    "G_binary_WM_B=nx.relabel_nodes(G_binary_WM_B, relabel_dict)\n",
    "print nx.density (G_WM_B)\n",
    "G_binary_WM_B=brainmap._remove_edgeless_nodes(G_binary_WM_B)\n",
    "basic_metrics_WM_B=brainmap.run_basic_metrics(G_binary_WM_B)"
   ]
  },
  {
   "cell_type": "code",
   "execution_count": 5,
   "metadata": {
    "collapsed": false
   },
   "outputs": [
    {
     "name": "stdout",
     "output_type": "stream",
     "text": [
      "0.407420634921\n"
     ]
    }
   ],
   "source": [
    "WM_Att=pickle.load (open ('/Users/owner/Functional_Connectivity/Results/Arrays/Subtract_Arrays/WM_Domain_array/WM_Att_array.pck', 'rb'))\n",
    "arrayfile=WM_Att\n",
    "G_WM_Att=nx.from_numpy_matrix(arrayfile)\n",
    "G_binary_WM_Att=brainmap.build_binarized_graph(G_WM_Att)\n",
    "G_binary_WM_Att.remove_edges_from(G_binary_WM_Att.selfloop_edges())\n",
    "G_binary_WM_Att=nx.relabel_nodes(G_binary_WM_Att, relabel_dict)\n",
    "print nx.density (G_WM_Att)\n",
    "G_binary_WM_Att=brainmap._remove_edgeless_nodes(G_binary_WM_Att)\n",
    "basic_metrics_WM_Att=brainmap.run_basic_metrics(G_binary_WM_Att)"
   ]
  },
  {
   "cell_type": "code",
   "execution_count": 7,
   "metadata": {
    "collapsed": false
   },
   "outputs": [
    {
     "name": "stdout",
     "output_type": "stream",
     "text": [
      "0.561111111111\n"
     ]
    }
   ],
   "source": [
    "WM_Aud=pickle.load (open ('/Users/owner/Functional_Connectivity/Results/Arrays/Subtract_Arrays/WM_Domain_array/WM_Aud_array.pck', 'rb'))\n",
    "arrayfile=WM_Aud\n",
    "G_WM_Aud=nx.from_numpy_matrix(arrayfile)\n",
    "G_binary_WM_Aud=brainmap.build_binarized_graph(G_WM_Aud)\n",
    "G_binary_WM_Aud.remove_edges_from(G_binary_WM_Aud.selfloop_edges())\n",
    "G_binary_WM_Aud=nx.relabel_nodes(G_binary_WM_Aud, relabel_dict)\n",
    "print nx.density (G_WM_Aud)\n",
    "G_binary_WM_Aud=brainmap._remove_edgeless_nodes(G_binary_WM_Aud)\n",
    "basic_metrics_WM_Aud=brainmap.run_basic_metrics(G_binary_WM_Aud)"
   ]
  },
  {
   "cell_type": "code",
   "execution_count": 8,
   "metadata": {
    "collapsed": false
   },
   "outputs": [
    {
     "name": "stdout",
     "output_type": "stream",
     "text": [
      "0.443452380952\n"
     ]
    }
   ],
   "source": [
    "WM_Em=pickle.load (open ('/Users/owner/Functional_Connectivity/Results/Arrays/Subtract_Arrays/WM_Domain_array/WM_Emo_array.pck', 'rb'))\n",
    "arrayfile=WM_Em\n",
    "G_WM_Em=nx.from_numpy_matrix(arrayfile)\n",
    "G_binary_WM_Em=brainmap.build_binarized_graph(G_WM_Em)\n",
    "G_binary_WM_Em.remove_edges_from(G_binary_WM_Em.selfloop_edges())\n",
    "G_binary_WM_Em=nx.relabel_nodes(G_binary_WM_Em, relabel_dict)\n",
    "print nx.density (G_WM_Em)\n",
    "G_binary_WM_Em=brainmap._remove_edgeless_nodes(G_binary_WM_Em)\n",
    "basic_metrics_WM_Em=brainmap.run_basic_metrics(G_binary_WM_Em)"
   ]
  },
  {
   "cell_type": "code",
   "execution_count": 9,
   "metadata": {
    "collapsed": false
   },
   "outputs": [
    {
     "name": "stdout",
     "output_type": "stream",
     "text": [
      "0.408611111111\n"
     ]
    }
   ],
   "source": [
    "WM_Lang=pickle.load (open ('/Users/owner/Functional_Connectivity/Results/Arrays/Subtract_Arrays/WM_Domain_array/WM_Lang_array.pck', 'rb'))\n",
    "arrayfile=WM_Lang\n",
    "G_WM_Lang=nx.from_numpy_matrix(arrayfile)\n",
    "G_binary_WM_Lang=brainmap.build_binarized_graph(G_WM_Lang)\n",
    "G_binary_WM_Lang.remove_edges_from(G_binary_WM_Lang.selfloop_edges())\n",
    "G_binary_WM_Lang=nx.relabel_nodes(G_binary_WM_Lang, relabel_dict)\n",
    "print nx.density (G_WM_Lang)\n",
    "G_binary_WM_Lang=brainmap._remove_edgeless_nodes(G_binary_WM_Lang)\n",
    "basic_metrics_WM_Lang=brainmap.run_basic_metrics(G_binary_WM_Lang)"
   ]
  },
  {
   "cell_type": "code",
   "execution_count": 10,
   "metadata": {
    "collapsed": false
   },
   "outputs": [
    {
     "name": "stdout",
     "output_type": "stream",
     "text": [
      "0.383333333333\n"
     ]
    }
   ],
   "source": [
    "WM_Vis=pickle.load (open ('/Users/owner/Functional_Connectivity/Results/Arrays/Subtract_Arrays/WM_Domain_array/WM_Vis_array.pck', 'rb'))\n",
    "arrayfile=WM_Vis\n",
    "G_WM_Vis=nx.from_numpy_matrix(arrayfile)\n",
    "G_binary_WM_Vis=brainmap.build_binarized_graph(G_WM_Vis)\n",
    "G_binary_WM_Vis.remove_edges_from(G_binary_WM_Vis.selfloop_edges())\n",
    "G_binary_WM_Vis=nx.relabel_nodes(G_binary_WM_Vis, relabel_dict)\n",
    "print nx.density (G_WM_Vis)\n",
    "G_binary_WM_Vis=brainmap._remove_edgeless_nodes(G_binary_WM_Vis)\n",
    "basic_metrics_WM_Vis=brainmap.run_basic_metrics(G_binary_WM_Vis)"
   ]
  },
  {
   "cell_type": "code",
   "execution_count": 11,
   "metadata": {
    "collapsed": false
   },
   "outputs": [
    {
     "name": "stdout",
     "output_type": "stream",
     "text": [
      "0.357341269841\n"
     ]
    }
   ],
   "source": [
    "WM_Mem=pickle.load (open ('/Users/owner/Functional_Connectivity/Results/Arrays/Subtract_Arrays/WM_Domain_array/WM_Mem_array.pck', 'rb'))\n",
    "arrayfile=WM_Mem\n",
    "G_WM_Mem=nx.from_numpy_matrix(arrayfile)\n",
    "G_binary_WM_Mem=brainmap.build_binarized_graph(G_WM_Mem)\n",
    "G_binary_WM_Mem.remove_edges_from(G_binary_WM_Mem.selfloop_edges())\n",
    "G_binary_WM_Mem=nx.relabel_nodes(G_binary_WM_Mem, relabel_dict)\n",
    "print nx.density (G_WM_Mem)\n",
    "G_binary_WM_Mem=brainmap._remove_edgeless_nodes(G_binary_WM_Mem)\n",
    "basic_metrics_WM_Mem=brainmap.run_basic_metrics(G_binary_WM_Mem)"
   ]
  },
  {
   "cell_type": "markdown",
   "metadata": {},
   "source": [
    "# Top 5"
   ]
  },
  {
   "cell_type": "code",
   "execution_count": 75,
   "metadata": {
    "collapsed": false
   },
   "outputs": [
    {
     "data": {
      "text/plain": [
       "['Frontal_Mid_R_16',\n",
       " 'Supp_Motor_Area_R_2',\n",
       " 'Frontal_Mid_R_8',\n",
       " 'Frontal_Mid_L_1',\n",
       " 'Frontal_Inf_Oper_L_2']"
      ]
     },
     "execution_count": 75,
     "metadata": {},
     "output_type": "execute_result"
    }
   ],
   "source": [
    "sorted_x = sorted(basic_metrics_WM_Mem['degrees'].items(), key=operator.itemgetter(1))\n",
    "top5=[]\n",
    "for x in range(5):\n",
    "    top5.append(sorted_x[-5:][x][0])\n",
    "    domain_top5=top5\n",
    "domain_top5"
   ]
  },
  {
   "cell_type": "code",
   "execution_count": null,
   "metadata": {
    "collapsed": true
   },
   "outputs": [],
   "source": []
  }
 ],
 "metadata": {
  "kernelspec": {
   "display_name": "Python 2",
   "language": "python",
   "name": "python2"
  },
  "language_info": {
   "codemirror_mode": {
    "name": "ipython",
    "version": 2
   },
   "file_extension": ".py",
   "mimetype": "text/x-python",
   "name": "python",
   "nbconvert_exporter": "python",
   "pygments_lexer": "ipython2",
   "version": "2.7.11"
  }
 },
 "nbformat": 4,
 "nbformat_minor": 0
}
