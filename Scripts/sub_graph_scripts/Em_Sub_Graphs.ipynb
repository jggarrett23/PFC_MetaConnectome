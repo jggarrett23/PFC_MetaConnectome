{
 "cells": [
  {
   "cell_type": "code",
   "execution_count": 1,
   "metadata": {
    "collapsed": false
   },
   "outputs": [
    {
     "name": "stderr",
     "output_type": "stream",
     "text": [
      "/Users/owner/Library/Enthought/Canopy_64bit/User/lib/python2.7/site-packages/brainx/__init__.py:30: UserWarning: Monkeypatching NetworkX's Watts-Strogatz routine\n",
      "  warnings.warn(\"Monkeypatching NetworkX's Watts-Strogatz routine\")\n"
     ]
    }
   ],
   "source": [
    "import pickle\n",
    "import numpy as np\n",
    "import networkx as nx\n",
    "import pandas as pd\n",
    "import brain_map_utils1 as brainmap\n",
    "import matplotlib.pyplot as plt\n",
    "import community\n",
    "import brainx.modularity as mod\n",
    "import operator\n",
    "import cfflib as cff\n",
    "%matplotlib inline"
   ]
  },
  {
   "cell_type": "code",
   "execution_count": 2,
   "metadata": {
    "collapsed": true
   },
   "outputs": [],
   "source": [
    "domainsfile=\"/Users/owner/Functional_Connectivity/Results/studies_filtered_by_domain.pck\"\n",
    "domaindata=pickle.load(open(domainsfile, \"rb\" ))\n",
    "relabel_dict_file='/Users/owner/Functional_Connectivity/Results/relabel_dict.pck'\n",
    "relabel_dict=pickle.load(open(relabel_dict_file,\"rb\"))\n",
    "txt='/Users/owner/Functional_Connectivity/Scripts/workspaces.txt'\n",
    "keycodesfile=\"/Users/owner/Functional_Connectivity/Results/crossPFC_keycodes.pck\"\n",
    "key_codes=pickle.load(open(keycodesfile, 'rb' ))"
   ]
  },
  {
   "cell_type": "code",
   "execution_count": 3,
   "metadata": {
    "collapsed": true
   },
   "outputs": [],
   "source": [
    "domains='Memory', 'Working Memory', 'Emotion', 'Attention', 'Language', 'Vision', 'Audition'"
   ]
  },
  {
   "cell_type": "code",
   "execution_count": 4,
   "metadata": {
    "collapsed": false
   },
   "outputs": [
    {
     "name": "stdout",
     "output_type": "stream",
     "text": [
      "0.595396825397\n"
     ]
    }
   ],
   "source": [
    "Em_Aud_array=pickle.load (open ('/Users/owner/Functional_Connectivity/Results/Arrays/Subtract_Arrays/Emo_Domain_array/Em_Aud_array.pck', 'rb'))\n",
    "arrayfile=Em_Aud_array\n",
    "G_Em_Aud=nx.from_numpy_matrix(arrayfile)\n",
    "G_binary_Em_Aud=brainmap.build_binarized_graph(G_Em_Aud)\n",
    "G_binary_Em_Aud.remove_edges_from(G_binary_Em_Aud.selfloop_edges())\n",
    "G_binary_Em_Aud=nx.relabel_nodes(G_binary_Em_Aud, relabel_dict)\n",
    "print nx.density (G_Em_Aud)\n",
    "G_binary_Em_Aud=brainmap._remove_edgeless_nodes(G_binary_Em_Aud)\n",
    "basic_metrics_Em_Aud=brainmap.run_basic_metrics(G_binary_Em_Aud)"
   ]
  },
  {
   "cell_type": "code",
   "execution_count": 5,
   "metadata": {
    "collapsed": false
   },
   "outputs": [
    {
     "name": "stdout",
     "output_type": "stream",
     "text": [
      "0.412261904762\n"
     ]
    }
   ],
   "source": [
    "Em_Vis_array=pickle.load (open ('/Users/owner/Functional_Connectivity/Results/Arrays/Subtract_Arrays/Emo_Domain_array/Em_Vis_array.pck', 'rb'))\n",
    "arrayfile=Em_Vis_array\n",
    "G_Em_Vis=nx.from_numpy_matrix(arrayfile)\n",
    "G_binary_Em_Vis=brainmap.build_binarized_graph(G_Em_Vis)\n",
    "G_binary_Em_Vis.remove_edges_from(G_binary_Em_Vis.selfloop_edges())\n",
    "G_binary_Em_Vis=nx.relabel_nodes(G_binary_Em_Vis, relabel_dict)\n",
    "print nx.density (G_Em_Vis)\n",
    "G_binary_Em_Vis=brainmap._remove_edgeless_nodes(G_binary_Em_Vis)\n",
    "basic_metrics_Em_Vis=brainmap.run_basic_metrics(G_binary_Em_Vis)"
   ]
  },
  {
   "cell_type": "code",
   "execution_count": 6,
   "metadata": {
    "collapsed": false
   },
   "outputs": [
    {
     "name": "stdout",
     "output_type": "stream",
     "text": [
      "0.443452380952\n"
     ]
    }
   ],
   "source": [
    "Em_WM_array=pickle.load (open ('/Users/owner/Functional_Connectivity/Results/Arrays/Subtract_Arrays/Emo_Domain_array/Em_WM_array.pck', 'rb'))\n",
    "arrayfile=Em_WM_array\n",
    "G_Em_WM=nx.from_numpy_matrix(arrayfile)\n",
    "G_binary_Em_WM=brainmap.build_binarized_graph(G_Em_WM)\n",
    "G_binary_Em_WM.remove_edges_from(G_binary_Em_WM.selfloop_edges())\n",
    "G_binary_Em_WM=nx.relabel_nodes(G_binary_Em_WM, relabel_dict)\n",
    "print nx.density (G_Em_WM)\n",
    "G_binary_Em_WM=brainmap._remove_edgeless_nodes(G_binary_Em_WM)\n",
    "basic_metrics_Em_WM=brainmap.run_basic_metrics(G_binary_Em_WM)"
   ]
  },
  {
   "cell_type": "code",
   "execution_count": 22,
   "metadata": {
    "collapsed": false
   },
   "outputs": [
    {
     "name": "stdout",
     "output_type": "stream",
     "text": [
      "0.454484126984\n"
     ]
    }
   ],
   "source": [
    "Em_M_array=pickle.load (open ('/Users/owner/Functional_Connectivity/Results/Arrays/Subtract_Arrays/Emo_Domain_array/Em_Mem_array.pck', 'rb'))\n",
    "arrayfile=Em_M_array\n",
    "G_Em_M=nx.from_numpy_matrix(arrayfile)\n",
    "G_binary_Em_M=brainmap.build_binarized_graph(G_Em_M)\n",
    "G_binary_Em_M.remove_edges_from(G_binary_Em_M.selfloop_edges())\n",
    "G_binary_Em_M=nx.relabel_nodes(G_binary_Em_M, relabel_dict)\n",
    "print nx.density (G_Em_M)\n",
    "G_binary_Em_M=brainmap._remove_edgeless_nodes(G_binary_Em_M)\n",
    "basic_metrics_Em_M=brainmap.run_basic_metrics(G_binary_Em_M)"
   ]
  },
  {
   "cell_type": "code",
   "execution_count": 8,
   "metadata": {
    "collapsed": false
   },
   "outputs": [
    {
     "name": "stdout",
     "output_type": "stream",
     "text": [
      "0.65003968254\n"
     ]
    }
   ],
   "source": [
    "Em_B_array=pickle.load (open ('/Users/owner/Functional_Connectivity/Results/Arrays/Subtract_Arrays/Emo_Domain_array/Em_Base_array', 'rb'))\n",
    "arrayfile=Em_B_array\n",
    "G_Em_B=nx.from_numpy_matrix(arrayfile)\n",
    "G_binary_Em_B=brainmap.build_binarized_graph(G_Em_B)\n",
    "G_binary_Em_B.remove_edges_from(G_binary_Em_B.selfloop_edges())\n",
    "G_binary_Em_B=nx.relabel_nodes(G_binary_Em_B, relabel_dict)\n",
    "print nx.density (G_Em_B)\n",
    "G_binary_Em_B=brainmap._remove_edgeless_nodes(G_binary_Em_B)\n",
    "basic_metrics_Em_B=brainmap.run_basic_metrics(G_binary_Em_B)"
   ]
  },
  {
   "cell_type": "code",
   "execution_count": 9,
   "metadata": {
    "collapsed": false
   },
   "outputs": [
    {
     "name": "stdout",
     "output_type": "stream",
     "text": [
      "0.42746031746\n"
     ]
    }
   ],
   "source": [
    "Em_Lang_array=pickle.load (open ('/Users/owner/Functional_Connectivity/Results/Arrays/Subtract_Arrays/Emo_Domain_array/Em_Lang_array.pck', 'rb'))\n",
    "arrayfile=Em_Lang_array\n",
    "G_Em_Lang=nx.from_numpy_matrix(arrayfile)\n",
    "G_binary_Em_Lang=brainmap.build_binarized_graph(G_Em_Lang)\n",
    "G_binary_Em_Lang.remove_edges_from(G_binary_Em_Lang.selfloop_edges())\n",
    "G_binary_Em_Lang=nx.relabel_nodes(G_binary_Em_Lang, relabel_dict)\n",
    "print nx.density (G_Em_Lang)\n",
    "G_binary_Em_Lang=brainmap._remove_edgeless_nodes(G_binary_Em_Lang)\n",
    "basic_metrics_Em_Lang=brainmap.run_basic_metrics(G_binary_Em_Lang)"
   ]
  },
  {
   "cell_type": "code",
   "execution_count": 10,
   "metadata": {
    "collapsed": false
   },
   "outputs": [
    {
     "name": "stdout",
     "output_type": "stream",
     "text": [
      "0.420436507937\n"
     ]
    }
   ],
   "source": [
    "Em_Att_array=pickle.load (open ('/Users/owner/Functional_Connectivity/Results/Arrays/Subtract_Arrays/Emo_Domain_array/Em_Att_array.pck', 'rb'))\n",
    "arrayfile=Em_Att_array\n",
    "G_Em_Att=nx.from_numpy_matrix(arrayfile)\n",
    "G_binary_Em_Att=brainmap.build_binarized_graph(G_Em_Att)\n",
    "G_binary_Em_Att.remove_edges_from(G_binary_Em_Att.selfloop_edges())\n",
    "G_binary_Em_Att=nx.relabel_nodes(G_binary_Em_Att, relabel_dict)\n",
    "print nx.density (G_Em_Att)\n",
    "G_binary_Em_Att=brainmap._remove_edgeless_nodes(G_binary_Em_Att)\n",
    "basic_metrics_Em_Att=brainmap.run_basic_metrics(G_binary_Em_Att)"
   ]
  },
  {
   "cell_type": "markdown",
   "metadata": {},
   "source": [
    "# Top 5"
   ]
  },
  {
   "cell_type": "code",
   "execution_count": 11,
   "metadata": {
    "collapsed": true
   },
   "outputs": [],
   "source": [
    "#basic_metrics_Em_Att\n",
    "#basic_metrics_Em_Aud\n",
    "#basic_metrics_Em_B\n",
    "#basic_metrics_Em_Lang\n",
    "#basic_metrics_Em_M\n",
    "#basic_metrics_Em_Vis\n",
    "#basic_metrics_Em_WM"
   ]
  },
  {
   "cell_type": "code",
   "execution_count": 21,
   "metadata": {
    "collapsed": false
   },
   "outputs": [
    {
     "data": {
      "text/plain": [
       "['Frontal_Sup_Medial_R_5',\n",
       " 'Frontal_Inf_Orb_L_4',\n",
       " 'Frontal_Mid_L_1',\n",
       " 'Frontal_Mid_Orb_L_3',\n",
       " 'Frontal_Mid_Orb_R_3']"
      ]
     },
     "execution_count": 21,
     "metadata": {},
     "output_type": "execute_result"
    }
   ],
   "source": [
    "sorted_x = sorted(basic_metrics_Em_Att['degrees'].items(), key=operator.itemgetter(1))\n",
    "top5=[]\n",
    "for x in range(5):\n",
    "    top5.append(sorted_x[-5:][x][0])\n",
    "    domain_top5=top5\n",
    "domain_top5"
   ]
  },
  {
   "cell_type": "code",
   "execution_count": 27,
   "metadata": {
    "collapsed": false
   },
   "outputs": [
    {
     "data": {
      "text/plain": [
       "{'5 Cingulum_Ant_R_5': 0.23255813953488372,\n",
       " 'Cingulum_Ant_L_1': 0.19069767441860463,\n",
       " 'Cingulum_Ant_L_2': 0.3767441860465116,\n",
       " 'Cingulum_Ant_L_3': 0.24186046511627907,\n",
       " 'Cingulum_Ant_L_4': 0.39069767441860465,\n",
       " 'Cingulum_Ant_L_5': 0.16279069767441862,\n",
       " 'Cingulum_Ant_L_6': 0.3627906976744186,\n",
       " 'Cingulum_Ant_R_1': 0.3209302325581395,\n",
       " 'Cingulum_Ant_R_2': 0.20465116279069767,\n",
       " 'Cingulum_Ant_R_3': 0.2372093023255814,\n",
       " 'Cingulum_Ant_R_4': 0.31627906976744186,\n",
       " 'Frontal_Inf_Oper_L_1': 0.24651162790697673,\n",
       " 'Frontal_Inf_Oper_L_2': 0.20930232558139533,\n",
       " 'Frontal_Inf_Oper_L_3': 0.15813953488372093,\n",
       " 'Frontal_Inf_Oper_L_4': 0.22790697674418603,\n",
       " 'Frontal_Inf_Oper_R_1': 0.3395348837209302,\n",
       " 'Frontal_Inf_Oper_R_2': 0.22325581395348837,\n",
       " 'Frontal_Inf_Oper_R_3': 0.2372093023255814,\n",
       " 'Frontal_Inf_Oper_R_4': 0.3116279069767442,\n",
       " 'Frontal_Inf_Oper_R_5': 0.2372093023255814,\n",
       " 'Frontal_Inf_Oper_R_6': 0.3069767441860465,\n",
       " 'Frontal_Inf_Orb_L_1': 0.2651162790697674,\n",
       " 'Frontal_Inf_Orb_L_2': 0.32558139534883723,\n",
       " 'Frontal_Inf_Orb_L_3': 0.2837209302325581,\n",
       " 'Frontal_Inf_Orb_L_4': 0.37209302325581395,\n",
       " 'Frontal_Inf_Orb_L_5': 0.2744186046511628,\n",
       " 'Frontal_Inf_Orb_L_6': 0.21395348837209302,\n",
       " 'Frontal_Inf_Orb_L_7': 0.29767441860465116,\n",
       " 'Frontal_Inf_Orb_R_1': 0.24186046511627907,\n",
       " 'Frontal_Inf_Orb_R_2': 0.3627906976744186,\n",
       " 'Frontal_Inf_Orb_R_3': 0.3674418604651163,\n",
       " 'Frontal_Inf_Orb_R_4': 0.19069767441860463,\n",
       " 'Frontal_Inf_Orb_R_5': 0.3441860465116279,\n",
       " 'Frontal_Inf_Orb_R_6': 0.4418604651162791,\n",
       " 'Frontal_Inf_Orb_R_7': 0.10697674418604651,\n",
       " 'Frontal_Inf_Tri_L_1': 0.3441860465116279,\n",
       " 'Frontal_Inf_Tri_L_10': 0.2372093023255814,\n",
       " 'Frontal_Inf_Tri_L_2': 0.2186046511627907,\n",
       " 'Frontal_Inf_Tri_L_3': 0.2837209302325581,\n",
       " 'Frontal_Inf_Tri_L_4': 0.3488372093023256,\n",
       " 'Frontal_Inf_Tri_L_5': 0.2744186046511628,\n",
       " 'Frontal_Inf_Tri_L_6': 0.20465116279069767,\n",
       " 'Frontal_Inf_Tri_L_7': 0.28837209302325584,\n",
       " 'Frontal_Inf_Tri_L_8': 0.24651162790697673,\n",
       " 'Frontal_Inf_Tri_L_9': 0.26046511627906976,\n",
       " 'Frontal_Inf_Tri_R_1': 0.3023255813953488,\n",
       " 'Frontal_Inf_Tri_R_2': 0.3116279069767442,\n",
       " 'Frontal_Inf_Tri_R_3': 0.19534883720930232,\n",
       " 'Frontal_Inf_Tri_R_4 ': 0.33488372093023255,\n",
       " 'Frontal_Inf_Tri_R_5': 0.2837209302325581,\n",
       " 'Frontal_Inf_Tri_R_6': 0.2697674418604651,\n",
       " 'Frontal_Inf_Tri_R_7': 0.25116279069767444,\n",
       " 'Frontal_Inf_Tri_R_8': 0.2372093023255814,\n",
       " 'Frontal_Inf_Tri_R_9': 0.27906976744186046,\n",
       " 'Frontal_Mid_L_1': 0.49767441860465117,\n",
       " 'Frontal_Mid_L_10': 0.13023255813953488,\n",
       " 'Frontal_Mid_L_11': 0.17209302325581394,\n",
       " 'Frontal_Mid_L_13': 0.22790697674418603,\n",
       " 'Frontal_Mid_L_14': 0.2558139534883721,\n",
       " 'Frontal_Mid_L_15': 0.3069767441860465,\n",
       " 'Frontal_Mid_L_16': 0.32558139534883723,\n",
       " 'Frontal_Mid_L_17': 0.2837209302325581,\n",
       " 'Frontal_Mid_L_18': 0.17209302325581394,\n",
       " 'Frontal_Mid_L_19': 0.2744186046511628,\n",
       " 'Frontal_Mid_L_2': 0.17209302325581394,\n",
       " 'Frontal_Mid_L_3': 0.31627906976744186,\n",
       " 'Frontal_Mid_L_4': 0.15348837209302324,\n",
       " 'Frontal_Mid_L_5': 0.2186046511627907,\n",
       " 'Frontal_Mid_L_6': 0.13488372093023254,\n",
       " 'Frontal_Mid_L_7': 0.28837209302325584,\n",
       " 'Frontal_Mid_L_8': 0.22325581395348837,\n",
       " 'Frontal_Mid_L_9': 0.15813953488372093,\n",
       " 'Frontal_Mid_Orb_L_1': 0.3488372093023256,\n",
       " 'Frontal_Mid_Orb_L_2': 0.37209302325581395,\n",
       " 'Frontal_Mid_Orb_L_3': 0.4511627906976744,\n",
       " 'Frontal_Mid_Orb_L_4': 0.3441860465116279,\n",
       " 'Frontal_Mid_Orb_R_1': 0.3767441860465116,\n",
       " 'Frontal_Mid_Orb_R_2': 0.3488372093023256,\n",
       " 'Frontal_Mid_Orb_R_3': 0.5162790697674419,\n",
       " 'Frontal_Mid_Orb_R_4': 0.2372093023255814,\n",
       " 'Frontal_Mid_R_1': 0.2651162790697674,\n",
       " 'Frontal_Mid_R_10': 0.25116279069767444,\n",
       " 'Frontal_Mid_R_11': 0.24186046511627907,\n",
       " 'Frontal_Mid_R_12': 0.2372093023255814,\n",
       " 'Frontal_Mid_R_13': 0.11627906976744186,\n",
       " 'Frontal_Mid_R_14': 0.09302325581395349,\n",
       " 'Frontal_Mid_R_15': 0.24651162790697673,\n",
       " 'Frontal_Mid_R_16': 0.20465116279069767,\n",
       " 'Frontal_Mid_R_17': 0.10697674418604651,\n",
       " 'Frontal_Mid_R_18': 0.31627906976744186,\n",
       " 'Frontal_Mid_R_19': 0.16279069767441862,\n",
       " 'Frontal_Mid_R_2': 0.12558139534883722,\n",
       " 'Frontal_Mid_R_20': 0.16744186046511628,\n",
       " 'Frontal_Mid_R_3': 0.2837209302325581,\n",
       " 'Frontal_Mid_R_4': 0.27906976744186046,\n",
       " 'Frontal_Mid_R_5': 0.12558139534883722,\n",
       " 'Frontal_Mid_R_6': 0.20930232558139533,\n",
       " 'Frontal_Mid_R_7': 0.10697674418604651,\n",
       " 'Frontal_Mid_R_8': 0.25116279069767444,\n",
       " 'Frontal_Mid_R_9': 0.2372093023255814,\n",
       " 'Frontal_Sup_L_1': 0.17674418604651163,\n",
       " 'Frontal_Sup_L_10': 0.16279069767441862,\n",
       " 'Frontal_Sup_L_11': 0.07441860465116279,\n",
       " 'Frontal_Sup_L_12': 0.18604651162790697,\n",
       " 'Frontal_Sup_L_13': 0.15813953488372093,\n",
       " 'Frontal_Sup_L_14': 0.15813953488372093,\n",
       " 'Frontal_Sup_L_2': 0.16279069767441862,\n",
       " 'Frontal_Sup_L_3': 0.24651162790697673,\n",
       " 'Frontal_Sup_L_4': 0.1813953488372093,\n",
       " 'Frontal_Sup_L_5': 0.26046511627906976,\n",
       " 'Frontal_Sup_L_6': 0.046511627906976744,\n",
       " 'Frontal_Sup_L_7': 0.12558139534883722,\n",
       " 'Frontal_Sup_L_8': 0.21395348837209302,\n",
       " 'Frontal_Sup_L_9': 0.20465116279069767,\n",
       " 'Frontal_Sup_Medial_L_1': 0.3116279069767442,\n",
       " 'Frontal_Sup_Medial_L_10': 0.35348837209302325,\n",
       " 'Frontal_Sup_Medial_L_11': 0.27906976744186046,\n",
       " 'Frontal_Sup_Medial_L_12': 0.24651162790697673,\n",
       " 'Frontal_Sup_Medial_L_2': 0.22790697674418603,\n",
       " 'Frontal_Sup_Medial_L_3': 0.23255813953488372,\n",
       " 'Frontal_Sup_Medial_L_4': 0.20465116279069767,\n",
       " 'Frontal_Sup_Medial_L_5': 0.3581395348837209,\n",
       " 'Frontal_Sup_Medial_L_6': 0.2837209302325581,\n",
       " 'Frontal_Sup_Medial_L_7': 0.21395348837209302,\n",
       " 'Frontal_Sup_Medial_L_8': 0.1813953488372093,\n",
       " 'Frontal_Sup_Medial_L_9': 0.20465116279069767,\n",
       " 'Frontal_Sup_Medial_R_1': 0.07906976744186046,\n",
       " 'Frontal_Sup_Medial_R_2': 0.24651162790697673,\n",
       " 'Frontal_Sup_Medial_R_3': 0.15813953488372093,\n",
       " 'Frontal_Sup_Medial_R_4': 0.20465116279069767,\n",
       " 'Frontal_Sup_Medial_R_5': 0.3441860465116279,\n",
       " 'Frontal_Sup_Medial_R_6': 0.26046511627906976,\n",
       " 'Frontal_Sup_Medial_R_7': 0.3023255813953488,\n",
       " 'Frontal_Sup_Medial_R_8': 0.24651162790697673,\n",
       " 'Frontal_Sup_Medial_R_9': 0.3302325581395349,\n",
       " 'Frontal_Sup_Orb_L_1': 0.05581395348837209,\n",
       " 'Frontal_Sup_Orb_L_2': 0.2697674418604651,\n",
       " 'Frontal_Sup_Orb_L_3': 0.13953488372093023,\n",
       " 'Frontal_Sup_Orb_L_4': 0.2186046511627907,\n",
       " 'Frontal_Sup_Orb_R_1': 0.10697674418604651,\n",
       " 'Frontal_Sup_Orb_R_2': 0.13023255813953488,\n",
       " 'Frontal_Sup_Orb_R_3': 0.07906976744186046,\n",
       " 'Frontal_Sup_Orb_R_4': 0.20465116279069767,\n",
       " 'Frontal_Sup_R_1': 0.12093023255813953,\n",
       " 'Frontal_Sup_R_10': 0.09767441860465116,\n",
       " 'Frontal_Sup_R_11': 0.07441860465116279,\n",
       " 'Frontal_Sup_R_12': 0.06511627906976744,\n",
       " 'Frontal_Sup_R_13': 0.09302325581395349,\n",
       " 'Frontal_Sup_R_14': 0.22325581395348837,\n",
       " 'Frontal_Sup_R_15': 0.21395348837209302,\n",
       " 'Frontal_Sup_R_16': 0.13023255813953488,\n",
       " 'Frontal_Sup_R_2': 0.11162790697674418,\n",
       " 'Frontal_Sup_R_3': 0.1813953488372093,\n",
       " 'Frontal_Sup_R_4': 0.20465116279069767,\n",
       " 'Frontal_Sup_R_5': 0.19534883720930232,\n",
       " 'Frontal_Sup_R_6': 0.11162790697674418,\n",
       " 'Frontal_Sup_R_7': 0.20930232558139533,\n",
       " 'Frontal_Sup_R_8': 0.046511627906976744,\n",
       " 'Frontal_Sup_R_9': 0.11627906976744186,\n",
       " 'Precentral_L_1': 0.2186046511627907,\n",
       " 'Precentral_L_10': 0.25116279069767444,\n",
       " 'Precentral_L_11': 0.3581395348837209,\n",
       " 'Precentral_L_12': 0.17209302325581394,\n",
       " 'Precentral_L_13': 0.15348837209302324,\n",
       " 'Precentral_L_14': 0.13023255813953488,\n",
       " 'Precentral_L_2': 0.28837209302325584,\n",
       " 'Precentral_L_3': 0.14883720930232558,\n",
       " 'Precentral_L_4': 0.37209302325581395,\n",
       " 'Precentral_L_5': 0.24186046511627907,\n",
       " 'Precentral_L_6': 0.11627906976744186,\n",
       " 'Precentral_L_7': 0.12093023255813953,\n",
       " 'Precentral_L_8': 0.2,\n",
       " 'Precentral_L_9': 0.24651162790697673,\n",
       " 'Precentral_R_1': 0.21395348837209302,\n",
       " 'Precentral_R_10': 0.16279069767441862,\n",
       " 'Precentral_R_11': 0.3674418604651163,\n",
       " 'Precentral_R_13': 0.009302325581395349,\n",
       " 'Precentral_R_14': 0.013953488372093023,\n",
       " 'Precentral_R_2': 0.10697674418604651,\n",
       " 'Precentral_R_3': 0.013953488372093023,\n",
       " 'Precentral_R_4': 0.19069767441860463,\n",
       " 'Precentral_R_5': 0.08372093023255814,\n",
       " 'Precentral_R_6': 0.3023255813953488,\n",
       " 'Precentral_R_7': 0.12093023255813953,\n",
       " 'Precentral_R_8': 0.3209302325581395,\n",
       " 'Precentral_R_9': 0.14418604651162792,\n",
       " 'Rectus_L_2': 0.24651162790697673,\n",
       " 'Rectus_L_3': 0.20465116279069767,\n",
       " 'Rectus_R_1': 0.20930232558139533,\n",
       " 'Rectus_R_2': 0.17209302325581394,\n",
       " 'Rectus_R_3': 0.14883720930232558,\n",
       " 'Rolandic_Oper_L_3': 0.09302325581395349,\n",
       " 'Rolandic_Oper_L_4': 0.16744186046511628,\n",
       " 'Rolandic_Oper_R_1': 0.10697674418604651,\n",
       " 'Rolandic_Oper_R_2': 0.15348837209302324,\n",
       " 'Rolandic_Oper_R_3': 0.11162790697674418,\n",
       " 'Rolandic_Oper_R_4': 0.17209302325581394,\n",
       " 'Rolandic_Oper_R_5': 0.17674418604651163,\n",
       " 'Supp_Motor_Area_L_1': 0.3116279069767442,\n",
       " 'Supp_Motor_Area_L_2': 0.3023255813953488,\n",
       " 'Supp_Motor_Area_L_3': 0.15813953488372093,\n",
       " 'Supp_Motor_Area_L_4': 0.14418604651162792,\n",
       " 'Supp_Motor_Area_L_5': 0.3209302325581395,\n",
       " 'Supp_Motor_Area_L_6': 0.05116279069767442,\n",
       " 'Supp_Motor_Area_L_7': 0.14418604651162792,\n",
       " 'Supp_Motor_Area_L_8': 0.20465116279069767,\n",
       " 'Supp_Motor_Area_L_9': 0.13023255813953488,\n",
       " 'Supp_Motor_Area_R_1': 0.004651162790697674,\n",
       " 'Supp_Motor_Area_R_2': 0.3302325581395349,\n",
       " 'Supp_Motor_Area_R_3': 0.20465116279069767,\n",
       " 'Supp_Motor_Area_R_4': 0.2372093023255814,\n",
       " 'Supp_Motor_Area_R_5': 0.3023255813953488,\n",
       " 'Supp_Motor_Area_R_6': 0.15348837209302324,\n",
       " 'Supp_Motor_Area_R_7': 0.29767441860465116,\n",
       " 'Supp_Motor_Area_R_8': 0.20930232558139533,\n",
       " 'Supp_Motor_Area_R_9': 0.08837209302325581}"
      ]
     },
     "execution_count": 27,
     "metadata": {},
     "output_type": "execute_result"
    }
   ],
   "source": [
    "basic_metrics_Em_M['degree_cent']"
   ]
  },
  {
   "cell_type": "code",
   "execution_count": null,
   "metadata": {
    "collapsed": true
   },
   "outputs": [],
   "source": []
  }
 ],
 "metadata": {
  "kernelspec": {
   "display_name": "Python 2",
   "language": "python",
   "name": "python2"
  },
  "language_info": {
   "codemirror_mode": {
    "name": "ipython",
    "version": 2
   },
   "file_extension": ".py",
   "mimetype": "text/x-python",
   "name": "python",
   "nbconvert_exporter": "python",
   "pygments_lexer": "ipython2",
   "version": "2.7.11"
  }
 },
 "nbformat": 4,
 "nbformat_minor": 0
}
