{
 "cells": [
  {
   "cell_type": "code",
   "execution_count": 1,
   "metadata": {
    "collapsed": false
   },
   "outputs": [
    {
     "name": "stderr",
     "output_type": "stream",
     "text": [
      "/Users/owner/Library/Enthought/Canopy_64bit/User/lib/python2.7/site-packages/brainx/__init__.py:30: UserWarning: Monkeypatching NetworkX's Watts-Strogatz routine\n",
      "  warnings.warn(\"Monkeypatching NetworkX's Watts-Strogatz routine\")\n"
     ]
    }
   ],
   "source": [
    "import pickle\n",
    "import numpy as np\n",
    "import networkx as nx\n",
    "import pandas as pd\n",
    "import brain_map_utils1 as brainmap\n",
    "import matplotlib.pyplot as plt\n",
    "import community\n",
    "import brainx.modularity as mod\n",
    "import operator\n",
    "import cfflib as cff\n",
    "%matplotlib inline"
   ]
  },
  {
   "cell_type": "code",
   "execution_count": 2,
   "metadata": {
    "collapsed": true
   },
   "outputs": [],
   "source": [
    "domainsfile=\"/Users/owner/Functional_Connectivity/Results/studies_filtered_by_domain.pck\"\n",
    "domaindata=pickle.load(open(domainsfile, \"rb\" ))\n",
    "relabel_dict_file='/Users/owner/Functional_Connectivity/Results/relabel_dict.pck'\n",
    "relabel_dict=pickle.load(open(relabel_dict_file,\"rb\"))\n",
    "txt='/Users/owner/Functional_Connectivity/Scripts/workspaces.txt'\n",
    "keycodesfile=\"/Users/owner/Functional_Connectivity/Results/crossPFC_keycodes.pck\"\n",
    "key_codes=pickle.load(open(keycodesfile, 'rb' ))"
   ]
  },
  {
   "cell_type": "code",
   "execution_count": 3,
   "metadata": {
    "collapsed": true
   },
   "outputs": [],
   "source": [
    "domains='Memory', 'Working Memory', 'Emotion', 'Attention', 'Language', 'Vision', 'Audition'"
   ]
  },
  {
   "cell_type": "code",
   "execution_count": 5,
   "metadata": {
    "collapsed": false
   },
   "outputs": [
    {
     "name": "stdout",
     "output_type": "stream",
     "text": [
      "0.575873015873\n"
     ]
    }
   ],
   "source": [
    "Aud_Lang_array=pickle.load (open ('/Users/owner/Functional_Connectivity/Results/Arrays/Subtract_Arrays/Aud_Domain_array/Aud_Lang_array.pck', 'rb'))\n",
    "arrayfile=Aud_Lang_array\n",
    "G_Aud_Lang=nx.from_numpy_matrix(arrayfile)\n",
    "G_binary_Aud_Lang=brainmap.build_binarized_graph(G_Aud_Lang)\n",
    "G_binary_Aud_Lang.remove_edges_from(G_binary_Aud_Lang.selfloop_edges())\n",
    "G_binary_Aud_Lang=nx.relabel_nodes(G_binary_Aud_Lang, relabel_dict)\n",
    "print nx.density (G_Aud_Lang)\n",
    "G_binary_Aud_Lang=brainmap._remove_edgeless_nodes(G_binary_Aud_Lang)"
   ]
  },
  {
   "cell_type": "code",
   "execution_count": 7,
   "metadata": {
    "collapsed": false
   },
   "outputs": [
    {
     "data": {
      "text/plain": [
       "['Cingulum_Ant_L_5', 'Frontal_Mid_Orb_R_1']"
      ]
     },
     "execution_count": 7,
     "metadata": {},
     "output_type": "execute_result"
    }
   ],
   "source": [
    "subgraphs = [sbg for sbg in nx.connected_component_subgraphs(G_binary_Aud_Lang) if len(sbg) > 1]\n",
    "subgraphs[3].nodes()\n",
    "#G_binary_Aud_Lang.remove_nodes_from(subgraphs[1].nodes())"
   ]
  },
  {
   "cell_type": "code",
   "execution_count": 11,
   "metadata": {
    "collapsed": false
   },
   "outputs": [],
   "source": [
    "basic_metrics_Aud_Lang=brainmap.run_basic_metrics(G_binary_Aud_Lang)"
   ]
  },
  {
   "cell_type": "code",
   "execution_count": 12,
   "metadata": {
    "collapsed": false
   },
   "outputs": [
    {
     "name": "stdout",
     "output_type": "stream",
     "text": [
      "0.572777777778\n"
     ]
    }
   ],
   "source": [
    "Aud_Att_array=pickle.load (open ('/Users/owner/Functional_Connectivity/Results/Arrays/Subtract_Arrays/Aud_Domain_array/Aud_Att_array.pck', 'rb'))\n",
    "arrayfile=Aud_Att_array\n",
    "G_Aud_Att=nx.from_numpy_matrix(arrayfile)\n",
    "G_binary_Aud_Att=brainmap.build_binarized_graph(G_Aud_Att)\n",
    "G_binary_Aud_Att.remove_edges_from(G_binary_Aud_Att.selfloop_edges())\n",
    "G_binary_Aud_Att=nx.relabel_nodes(G_binary_Aud_Att, relabel_dict)\n",
    "print nx.density (G_Aud_Att)\n",
    "G_binary_Aud_Att=brainmap._remove_edgeless_nodes(G_binary_Aud_Att)"
   ]
  },
  {
   "cell_type": "code",
   "execution_count": 14,
   "metadata": {
    "collapsed": false
   },
   "outputs": [
    {
     "data": {
      "text/plain": [
       "['Cingulum_Ant_L_5', 'Frontal_Mid_Orb_R_1']"
      ]
     },
     "execution_count": 14,
     "metadata": {},
     "output_type": "execute_result"
    }
   ],
   "source": [
    "subgraphs = [sbg for sbg in nx.connected_component_subgraphs(G_binary_Aud_Att) if len(sbg) > 1]\n",
    "subgraphs[3].nodes()\n",
    "#G_binary_Aud_Att.remove_nodes_from(subgraphs[1].nodes())"
   ]
  },
  {
   "cell_type": "code",
   "execution_count": 18,
   "metadata": {
    "collapsed": false
   },
   "outputs": [],
   "source": [
    "basic_metrics_Aud_Att=brainmap.run_basic_metrics(G_binary_Aud_Att)"
   ]
  },
  {
   "cell_type": "code",
   "execution_count": 19,
   "metadata": {
    "collapsed": false
   },
   "outputs": [
    {
     "name": "stdout",
     "output_type": "stream",
     "text": [
      "0.595396825397\n"
     ]
    }
   ],
   "source": [
    "Aud_Em_array=pickle.load (open ('/Users/owner/Functional_Connectivity/Results/Arrays/Subtract_Arrays/Aud_Domain_array/Aud_Em_array.pck', 'rb'))\n",
    "arrayfile=Aud_Em_array\n",
    "G_Aud_Em=nx.from_numpy_matrix(arrayfile)\n",
    "G_binary_Aud_Em=brainmap.build_binarized_graph(G_Aud_Em)\n",
    "G_binary_Aud_Em.remove_edges_from(G_binary_Aud_Em.selfloop_edges())\n",
    "G_binary_Aud_Em=nx.relabel_nodes(G_binary_Aud_Em, relabel_dict)\n",
    "print nx.density (G_Aud_Em)\n",
    "G_binary_Aud_Em=brainmap._remove_edgeless_nodes(G_binary_Aud_Em)"
   ]
  },
  {
   "cell_type": "code",
   "execution_count": 21,
   "metadata": {
    "collapsed": false
   },
   "outputs": [
    {
     "data": {
      "text/plain": [
       "['Cingulum_Ant_L_5', 'Frontal_Mid_Orb_R_1']"
      ]
     },
     "execution_count": 21,
     "metadata": {},
     "output_type": "execute_result"
    }
   ],
   "source": [
    "subgraphs = [sbg for sbg in nx.connected_component_subgraphs(G_binary_Aud_Em) if len(sbg) > 1]\n",
    "subgraphs[3].nodes()\n",
    "#G_binary_Aud_Em.remove_nodes_from(subgraphs[1].nodes())"
   ]
  },
  {
   "cell_type": "code",
   "execution_count": 25,
   "metadata": {
    "collapsed": false
   },
   "outputs": [],
   "source": [
    "basic_metrics_Aud_Em=brainmap.run_basic_metrics(G_binary_Aud_Em)"
   ]
  },
  {
   "cell_type": "code",
   "execution_count": 42,
   "metadata": {
    "collapsed": false
   },
   "outputs": [
    {
     "name": "stdout",
     "output_type": "stream",
     "text": [
      "0.605119047619\n"
     ]
    }
   ],
   "source": [
    "Aud_Mem_array=pickle.load (open ('/Users/owner/Functional_Connectivity/Results/Arrays/Subtract_Arrays/Aud_Domain_array/Aud_Mem_array.pck', 'rb'))\n",
    "arrayfile=Aud_Mem_array\n",
    "G_Aud_Mem=nx.from_numpy_matrix(arrayfile)\n",
    "G_binary_Aud_Mem=brainmap.build_binarized_graph(G_Aud_Mem)\n",
    "G_binary_Aud_Mem.remove_edges_from(G_binary_Aud_Mem.selfloop_edges())\n",
    "G_binary_Aud_Mem=nx.relabel_nodes(G_binary_Aud_Mem, relabel_dict)\n",
    "print nx.density (G_Aud_Mem)\n",
    "G_binary_Aud_Mem=brainmap._remove_edgeless_nodes(G_binary_Aud_Mem)"
   ]
  },
  {
   "cell_type": "code",
   "execution_count": 27,
   "metadata": {
    "collapsed": false
   },
   "outputs": [
    {
     "data": {
      "text/plain": [
       "['Cingulum_Ant_L_5', 'Frontal_Mid_Orb_R_1']"
      ]
     },
     "execution_count": 27,
     "metadata": {},
     "output_type": "execute_result"
    }
   ],
   "source": [
    "subgraphs = [sbg for sbg in nx.connected_component_subgraphs(G_binary_Aud_Mem) if len(sbg) > 1]\n",
    "subgraphs[3].nodes()\n",
    "#G_binary_Aud_Mem.remove_nodes_from(subgraphs[1].nodes())"
   ]
  },
  {
   "cell_type": "code",
   "execution_count": 47,
   "metadata": {
    "collapsed": false
   },
   "outputs": [],
   "source": [
    "basic_metrics_Aud_Mem=brainmap.run_basic_metrics(G_binary_Aud_Mem)"
   ]
  },
  {
   "cell_type": "code",
   "execution_count": 32,
   "metadata": {
    "collapsed": false
   },
   "outputs": [
    {
     "name": "stdout",
     "output_type": "stream",
     "text": [
      "0.534801587302\n"
     ]
    }
   ],
   "source": [
    "Aud_Vis_array=pickle.load (open ('/Users/owner/Functional_Connectivity/Results/Arrays/Subtract_Arrays/Aud_Domain_array/Aud_Vis_array.pck', 'rb'))\n",
    "arrayfile=Aud_Vis_array\n",
    "G_Aud_Vis=nx.from_numpy_matrix(arrayfile)\n",
    "G_binary_Aud_Vis=brainmap.build_binarized_graph(G_Aud_Vis)\n",
    "G_binary_Aud_Vis.remove_edges_from(G_binary_Aud_Vis.selfloop_edges())\n",
    "G_binary_Aud_Vis=nx.relabel_nodes(G_binary_Aud_Vis, relabel_dict)\n",
    "print nx.density (G_Aud_Vis)\n",
    "G_binary_Aud_Vis=brainmap._remove_edgeless_nodes(G_binary_Aud_Vis)"
   ]
  },
  {
   "cell_type": "code",
   "execution_count": 33,
   "metadata": {
    "collapsed": false
   },
   "outputs": [
    {
     "data": {
      "text/plain": [
       "['Cingulum_Ant_L_5', 'Frontal_Mid_Orb_R_1']"
      ]
     },
     "execution_count": 33,
     "metadata": {},
     "output_type": "execute_result"
    }
   ],
   "source": [
    "subgraphs = [sbg for sbg in nx.connected_component_subgraphs(G_binary_Aud_Vis) if len(sbg) > 1]\n",
    "subgraphs[3].nodes()\n",
    "#G_binary_Aud_Vis.remove_nodes_from(subgraphs[1].nodes())"
   ]
  },
  {
   "cell_type": "code",
   "execution_count": 41,
   "metadata": {
    "collapsed": false
   },
   "outputs": [],
   "source": [
    "basic_metrics_Aud_Vis=brainmap.run_basic_metrics(G_binary_Aud_Vis)"
   ]
  },
  {
   "cell_type": "code",
   "execution_count": 48,
   "metadata": {
    "collapsed": false
   },
   "outputs": [
    {
     "name": "stdout",
     "output_type": "stream",
     "text": [
      "0.561111111111\n"
     ]
    }
   ],
   "source": [
    "Aud_WM_array=pickle.load (open ('/Users/owner/Functional_Connectivity/Results/Arrays/Subtract_Arrays/Aud_Domain_array/Aud_WM_array.pck', 'rb'))\n",
    "arrayfile=Aud_WM_array\n",
    "G_Aud_WM=nx.from_numpy_matrix(arrayfile)\n",
    "G_binary_Aud_WM=brainmap.build_binarized_graph(G_Aud_WM)\n",
    "G_binary_Aud_WM.remove_edges_from(G_binary_Aud_WM.selfloop_edges())\n",
    "G_binary_Aud_WM=nx.relabel_nodes(G_binary_Aud_WM, relabel_dict)\n",
    "print nx.density (G_Aud_WM)\n",
    "G_binary_Aud_WM=brainmap._remove_edgeless_nodes(G_binary_Aud_WM)"
   ]
  },
  {
   "cell_type": "code",
   "execution_count": 49,
   "metadata": {
    "collapsed": false
   },
   "outputs": [
    {
     "data": {
      "text/plain": [
       "['Cingulum_Ant_L_5', 'Frontal_Mid_Orb_R_1']"
      ]
     },
     "execution_count": 49,
     "metadata": {},
     "output_type": "execute_result"
    }
   ],
   "source": [
    "subgraphs = [sbg for sbg in nx.connected_component_subgraphs(G_binary_Aud_WM) if len(sbg) > 1]\n",
    "subgraphs[3].nodes()"
   ]
  },
  {
   "cell_type": "code",
   "execution_count": 52,
   "metadata": {
    "collapsed": true
   },
   "outputs": [],
   "source": [
    "G_binary_Aud_WM.remove_nodes_from(subgraphs[1].nodes())"
   ]
  },
  {
   "cell_type": "code",
   "execution_count": 53,
   "metadata": {
    "collapsed": true
   },
   "outputs": [],
   "source": [
    "basic_metrics_Aud_WM=brainmap.run_basic_metrics(G_binary_Aud_WM)"
   ]
  },
  {
   "cell_type": "code",
   "execution_count": 54,
   "metadata": {
    "collapsed": false
   },
   "outputs": [
    {
     "name": "stdout",
     "output_type": "stream",
     "text": [
      "0.823174603175\n"
     ]
    }
   ],
   "source": [
    "Aud_B_array=pickle.load (open ('/Users/owner/Functional_Connectivity/Results/Arrays/Subtract_Arrays/Aud_Domain_array/Aud_Base_array', 'rb'))\n",
    "arrayfile=Aud_B_array\n",
    "G_Aud_B=nx.from_numpy_matrix(arrayfile)\n",
    "G_binary_Aud_B=brainmap.build_binarized_graph(G_Aud_B)\n",
    "G_binary_Aud_B.remove_edges_from(G_binary_Aud_B.selfloop_edges())\n",
    "G_binary_Aud_B=nx.relabel_nodes(G_binary_Aud_B, relabel_dict)\n",
    "print nx.density (G_Aud_B)\n",
    "G_binary_Aud_B=brainmap._remove_edgeless_nodes(G_binary_Aud_B)"
   ]
  },
  {
   "cell_type": "code",
   "execution_count": 55,
   "metadata": {
    "collapsed": false
   },
   "outputs": [
    {
     "data": {
      "text/plain": [
       "['Cingulum_Ant_L_5', 'Frontal_Mid_Orb_R_1']"
      ]
     },
     "execution_count": 55,
     "metadata": {},
     "output_type": "execute_result"
    }
   ],
   "source": [
    "subgraphs = [sbg for sbg in nx.connected_component_subgraphs(G_binary_Aud_B) if len(sbg) > 1]\n",
    "subgraphs[3].nodes()"
   ]
  },
  {
   "cell_type": "code",
   "execution_count": 58,
   "metadata": {
    "collapsed": true
   },
   "outputs": [],
   "source": [
    "G_binary_Aud_B.remove_nodes_from(subgraphs[1].nodes())"
   ]
  },
  {
   "cell_type": "code",
   "execution_count": 59,
   "metadata": {
    "collapsed": true
   },
   "outputs": [],
   "source": [
    "basic_metrics_Aud_B=brainmap.run_basic_metrics(G_binary_Aud_B)"
   ]
  },
  {
   "cell_type": "markdown",
   "metadata": {},
   "source": [
    "# Top 5"
   ]
  },
  {
   "cell_type": "code",
   "execution_count": 97,
   "metadata": {
    "collapsed": false
   },
   "outputs": [
    {
     "data": {
      "text/plain": [
       "['Precentral_R_8',\n",
       " 'Frontal_Inf_Tri_L_1',\n",
       " 'Precentral_L_1',\n",
       " 'Frontal_Inf_Oper_R_5',\n",
       " 'Supp_Motor_Area_L_2']"
      ]
     },
     "execution_count": 97,
     "metadata": {},
     "output_type": "execute_result"
    }
   ],
   "source": [
    "sorted_x = sorted(basic_metrics_Aud_Vis['degrees'].items(), key=operator.itemgetter(1))\n",
    "top5=[]\n",
    "for x in range(5):\n",
    "    top5.append(sorted_x[-5:][x][0])\n",
    "    domain_top5=top5\n",
    "domain_top5"
   ]
  },
  {
   "cell_type": "code",
   "execution_count": null,
   "metadata": {
    "collapsed": true
   },
   "outputs": [],
   "source": []
  }
 ],
 "metadata": {
  "kernelspec": {
   "display_name": "Python 2",
   "language": "python",
   "name": "python2"
  },
  "language_info": {
   "codemirror_mode": {
    "name": "ipython",
    "version": 2
   },
   "file_extension": ".py",
   "mimetype": "text/x-python",
   "name": "python",
   "nbconvert_exporter": "python",
   "pygments_lexer": "ipython2",
   "version": "2.7.11"
  }
 },
 "nbformat": 4,
 "nbformat_minor": 0
}
