{
 "cells": [
  {
   "cell_type": "markdown",
   "metadata": {
    "deletable": true,
    "editable": true
   },
   "source": [
    "# Creating Network from Workspaces"
   ]
  },
  {
   "cell_type": "code",
   "execution_count": 1,
   "metadata": {
    "collapsed": false,
    "deletable": true,
    "editable": true
   },
   "outputs": [
    {
     "name": "stderr",
     "output_type": "stream",
     "text": [
      "/Users/owner/Library/Enthought/Canopy_64bit/User/lib/python2.7/site-packages/brainx/__init__.py:30: UserWarning: Monkeypatching NetworkX's Watts-Strogatz routine\n",
      "  warnings.warn(\"Monkeypatching NetworkX's Watts-Strogatz routine\")\n"
     ]
    }
   ],
   "source": [
    "import pickle\n",
    "import numpy as np\n",
    "import networkx as nx\n",
    "import pandas as pd\n",
    "import brainmaptools as brainmap\n",
    "import matplotlib.pyplot as plt\n",
    "import community\n",
    "import brainx.modularity as mod\n",
    "import operator\n",
    "%matplotlib inline\n",
    "import csv\n",
    "import scipy as scipy\n",
    "import scipy.io as io\n",
    "import scipy.stats as stats\n",
    "from scipy.cluster.hierarchy import dendrogram, linkage\n",
    "from scipy.cluster.hierarchy import cophenet\n",
    "from scipy.spatial.distance import pdist\n",
    "import math as math\n",
    "import pylab as pl\n",
    "import My_functions as myfunctions\n",
    "import progressbar as pb\n",
    "import time"
   ]
  },
  {
   "cell_type": "code",
   "execution_count": 2,
   "metadata": {
    "collapsed": true,
    "deletable": true,
    "editable": true
   },
   "outputs": [],
   "source": [
    "domains= ['Memory', 'Working Memory', 'Emotion', 'Attention', 'Language', 'Vision', 'Audition']\n",
    "domainsfile=\"/Users/owner/Functional_Connectivity/Results/studies_filtered_by_domain.pck\"\n",
    "domaindata=pickle.load(open(domainsfile, \"rb\" ))"
   ]
  },
  {
   "cell_type": "code",
   "execution_count": 3,
   "metadata": {
    "collapsed": true,
    "deletable": true,
    "editable": true
   },
   "outputs": [],
   "source": [
    "workspaces=['C1.csv\\n', 'C100.csv\\n', 'C101.csv\\n', 'C102.csv\\n', 'C103.csv\\n', 'C104.csv\\n', 'C105.csv\\n', 'C106.csv\\n', 'C107.csv\\n', 'C108.csv\\n', 'C109.csv\\n', 'C110.csv\\n', 'C111.csv\\n', 'C112.csv\\n', 'C113.csv\\n', 'C114.csv\\n', 'C115.csv\\n', 'C116.csv\\n', 'C117.csv\\n', 'C118.csv\\n', 'C119.csv\\n', 'C120.csv\\n', 'C121.csv\\n', 'C122.csv\\n', 'C123.csv\\n', 'C124.csv\\n', 'C125.csv\\n', 'C126.csv\\n', 'C127.csv\\n', 'C128.csv\\n', 'C129.csv\\n', 'C130.csv\\n', 'C131.csv\\n', 'C132.csv\\n', 'C133.csv\\n', 'C134.csv\\n', 'C135.csv\\n', 'C136.csv\\n', 'C137.csv\\n', 'C138.csv\\n', 'C139.csv\\n', 'C140.csv\\n', 'C141.csv\\n', 'C142.csv\\n', 'C143.csv\\n', 'C144.csv\\n', 'C145.csv\\n', 'C146.csv\\n', 'C147.csv\\n', 'C148.csv\\n', 'C150.csv\\n', 'C151.csv\\n', 'C152.csv\\n', 'C153.csv\\n', 'C154.csv\\n', 'C155.csv\\n', 'C156.csv\\n', 'C157.csv\\n', 'C158.csv\\n', 'C159.csv\\n', 'C160.csv\\n', 'C161.csv\\n', 'C162.csv\\n', 'C163.csv\\n', 'C164.csv\\n', 'C165.csv\\n', 'C166.csv\\n', 'C167.csv\\n', 'C168.csv\\n', 'C169.csv\\n', 'C170.csv\\n', 'C171.csv\\n', 'C172.csv\\n', 'C173.csv\\n', 'C174.csv\\n', 'C175.csv\\n', 'C176.csv\\n', 'C177.csv\\n', 'C178.csv\\n', 'C179.csv\\n', 'C180.csv\\n', 'C181.csv\\n', 'C182.csv\\n', 'C183.csv\\n', 'C184.csv\\n', 'C185.csv\\n', 'C186.csv\\n', 'C187.csv\\n', 'C188.csv\\n', 'C189.csv\\n', 'C190.csv\\n', 'C191.csv\\n', 'C192.csv\\n', 'C193.csv\\n', 'C194.csv\\n', 'C2.csv\\n', 'C3.csv\\n', 'C38.csv\\n', 'C39.csv\\n', 'C398.csv\\n', 'C399.csv\\n', 'C4.csv\\n', 'C40.csv\\n', 'C400.csv\\n', 'C401.csv\\n', 'C402.csv\\n', 'C403.csv\\n', 'C404.csv\\n', 'C405.csv\\n', 'C406.csv\\n', 'C407.csv\\n', 'C408.csv\\n', 'C409.csv\\n', 'C41.csv\\n', 'C410.csv\\n', 'C411.csv\\n', 'C412.csv\\n', 'C413.csv\\n', 'C414.csv\\n', 'C415.csv\\n', 'C416.csv\\n', 'C417.csv\\n', 'C418.csv\\n', 'C419.csv\\n', 'C42.csv\\n', 'C420.csv\\n', 'C421.csv\\n', 'C422.csv\\n', 'C423.csv\\n', 'C424.csv\\n', 'C425.csv\\n', 'C43.csv\\n', 'C44.csv\\n', 'C45.csv\\n', 'C46.csv\\n', 'C467.csv\\n', 'C468.csv\\n', 'C469.csv\\n', 'C47.csv\\n', 'C470.csv\\n', 'C471.csv\\n', 'C472.csv\\n', 'C475.csv\\n', 'C476.csv\\n', 'C477.csv\\n', 'C48.csv\\n', 'C480.csv\\n', 'C481.csv\\n', 'C482.csv\\n', 'C483.csv\\n', 'C484.csv\\n', 'C485.csv\\n', 'C486.csv\\n', 'C487.csv\\n', 'C488.csv\\n', 'C489.csv\\n', 'C49.csv\\n', 'C490.csv\\n', 'C491.csv\\n', 'C492.csv\\n', 'C493.csv\\n', 'C494.csv\\n', 'C495.csv\\n', 'C496.csv\\n', 'C497.csv\\n', 'C498.csv\\n', 'C499.csv\\n', 'C5.csv\\n', 'C50.csv\\n', 'C51.csv\\n', 'C52.csv\\n', 'C53.csv\\n', 'C54.csv\\n', 'C56.csv\\n', 'C57.csv\\n', 'C58.csv\\n', 'C59.csv\\n', 'C60.csv\\n', 'C61.csv\\n', 'C62.csv\\n', 'C63.csv\\n', 'C633.csv\\n', 'C634.csv\\n', 'C635.csv\\n', 'C636.csv\\n', 'C637.csv\\n', 'C638.csv\\n', 'C64.csv\\n', 'C65.csv\\n', 'C66.csv\\n', 'C67.csv\\n', 'C68.csv\\n', 'C69.csv\\n', 'C70.csv\\n', 'C71.csv\\n', 'C72.csv\\n', 'C73.csv\\n', 'C74.csv\\n', 'C75.csv\\n', 'C76.csv\\n', 'C77.csv\\n', 'C78.csv\\n', 'C79.csv\\n', 'C80.csv\\n', 'C81.csv\\n', 'C82.csv\\n', 'C83.csv\\n', 'C84.csv\\n', 'C85.csv\\n', 'C86.csv\\n', 'C87.csv\\n', 'C88.csv\\n', 'C89.csv\\n', 'C90.csv\\n', 'C91.csv\\n', 'C92.csv\\n', 'C93.csv\\n', 'C94.csv\\n', 'C95.csv\\n', 'C96.csv\\n', 'C97.csv\\n', 'C98.csv\\n', 'C99.csv\\n']"
   ]
  },
  {
   "cell_type": "code",
   "execution_count": 4,
   "metadata": {
    "collapsed": true,
    "deletable": true,
    "editable": true
   },
   "outputs": [],
   "source": [
    "datadir=\"/Users/owner/Functional_Connectivity/Data/Workspaces/PFC_Xcel/\""
   ]
  },
  {
   "cell_type": "code",
   "execution_count": 5,
   "metadata": {
    "collapsed": false,
    "deletable": true,
    "editable": true
   },
   "outputs": [],
   "source": [
    "relabel_dict_file='/Users/owner/Functional_Connectivity/Scripts/Label_dict.pck'\n",
    "relabel_dict=pickle.load(open(relabel_dict_file,\"rb\"))"
   ]
  },
  {
   "cell_type": "code",
   "execution_count": 6,
   "metadata": {
    "collapsed": true,
    "deletable": true,
    "editable": true
   },
   "outputs": [],
   "source": [
    "key_codes=brainmap.build_key_codes_from_workspaces(workspaces, datadir)\n",
    "#pickle.dump (key_codes, open ('new_keycodes.pck','wb'))"
   ]
  },
  {
   "cell_type": "code",
   "execution_count": 7,
   "metadata": {
    "collapsed": false,
    "deletable": true,
    "editable": true
   },
   "outputs": [],
   "source": [
    "domain_filtered_keycodes=dict()\n",
    "for x in domains:\n",
    "    domain_filtered_keycodes[x]=brainmap.domain_filter_keycodes(key_codes,domaindata,x)"
   ]
  },
  {
   "cell_type": "code",
   "execution_count": null,
   "metadata": {
    "collapsed": true,
    "deletable": true,
    "editable": true
   },
   "outputs": [],
   "source": [
    "ticks=[]\n",
    "bardata=[]\n",
    "for x in range(0,223):\n",
    "    bardata.append(len(key_codes[x]))\n",
    "    ticks.append(relabel_dict)\n",
    "fig=plt.figure(figsize=(20,8)); ax=fig.add_subplot(1,1,1)\n",
    "ax.bar(range(len(key_codes)), bardata, 1, align='edge')\n",
    "ax.set_xbound(0,222)\n",
    "#ax.set_xticklabels(relabel_dict.values(), rotation=90)\n",
    "#plt.xticks(range(0,223))\n",
    "plt.show()"
   ]
  },
  {
   "cell_type": "code",
   "execution_count": 8,
   "metadata": {
    "collapsed": false,
    "deletable": true,
    "editable": true
   },
   "outputs": [],
   "source": [
    "jaccard_matrix=brainmap.build_jaccard(key_codes)\n",
    "j_copy=jaccard_matrix.copy()\n",
    "jaccard_domain={ d_keys: brainmap.build_jaccard(domain_filtered_keycodes[d_keys]) for d_keys in domains}"
   ]
  },
  {
   "cell_type": "markdown",
   "metadata": {
    "deletable": true,
    "editable": true
   },
   "source": [
    "# Plot Arrays"
   ]
  },
  {
   "cell_type": "code",
   "execution_count": null,
   "metadata": {
    "collapsed": true,
    "deletable": true,
    "editable": true
   },
   "outputs": [],
   "source": [
    "fig=plt.figure(dpi=100); #ax=fig.add_subplot(111)\n",
    "np.fill_diagonal(thresh_jaccard,0)\n",
    "plt.matshow(thresh_jaccard)\n",
    "plt.xlabel('Base')\n",
    "plt.tick_params(axis='both',which='both',labelbottom='off',labeltop='on', bottom='off')\n",
    "plt.xticks((0,50,100,150,200),('Cingulum_Ant_1','Frontal_Inf_Orb_L_4','Frontal_Inf_Tri_R_5','Frontal_Mid_R_20','Frontal_Sup_Medial_L_12','Frontal_Sup_Orb_R_4','Precentral_L_4','Rectus_R_3','Supp_Motor_Area_R_9'), rotation=90)\n",
    "plt.yticks((0,50,100,150,200),('Cingulum_Ant_1','Frontal_Inf_Orb_L_4','Frontal_Inf_Tri_R_5','Frontal_Mid_R_20','Frontal_Sup_Medial_L_12','Frontal_Sup_Orb_R_4','Precentral_L_4','Rectus_R_3','Supp_Motor_Area_R_9'))\n",
    "plt.show()\n",
    "\n",
    "for x in domains:\n",
    "    fig=plt.figure(dpi=100); #ax=fig.add_subplot(111)\n",
    "    np.fill_diagonal(domain_thresh_jaccard[x],0)\n",
    "    plt.matshow(domain_thresh_jaccard[x])\n",
    "    plt.xlabel(x)\n",
    "    plt.tick_params(axis='both',which='both',labelbottom='off',labeltop='on', bottom='off')\n",
    "    plt.xticks((0,50,100,150,200),('Cingulum_Ant_1','Frontal_Inf_Orb_L_4','Frontal_Inf_Tri_R_5','Frontal_Mid_R_20','Frontal_Sup_Medial_L_12','Frontal_Sup_Orb_R_4','Precentral_L_4','Rectus_R_3','Supp_Motor_Area_R_9'), rotation=90)\n",
    "    plt.yticks((0,50,100,150,200),('Cingulum_Ant_1','Frontal_Inf_Orb_L_4','Frontal_Inf_Tri_R_5','Frontal_Mid_R_20','Frontal_Sup_Medial_L_12','Frontal_Sup_Orb_R_4','Precentral_L_4','Rectus_R_3','Supp_Motor_Area_R_9'))\n",
    "    #ax.set_xbound(0,223); ax.set_ybound(0,223)\n",
    "    #ax.set_yticklabels(['Cingulum_Ant_1','Frontal_Inf_Orb_L_4','Frontal_Inf_Tri_R_5','Frontal_Mid_R_20','Frontal_Sup_Medial_L_12','Frontal_Sup_Orb_R_4','Precentral_L_4','Rectus_R_3','Supp_Motor_Area_R_9'])\n",
    "    #ax.set_xticklabels(['Cingulum_Ant_1','Frontal_Inf_Orb_L_4','Frontal_Inf_Tri_R_5','Frontal_Mid_R_20','Frontal_Sup_Medial_L_12','Frontal_Sup_Orb_R_4','Precentral_L_4','Rectus_R_3','Supp_Motor_Area_R_9'], rotation=90)\n",
    "    plt.show()"
   ]
  },
  {
   "cell_type": "markdown",
   "metadata": {
    "deletable": true,
    "editable": true
   },
   "source": [
    "# Create Graph"
   ]
  },
  {
   "cell_type": "code",
   "execution_count": null,
   "metadata": {
    "collapsed": false,
    "deletable": true,
    "editable": true
   },
   "outputs": [],
   "source": [
    "G_nothresh={}\n",
    "for x in domains:\n",
    "    G_nothresh[x]=nx.from_numpy_matrix(jaccard_domain[x])\n",
    "    G_nothresh[x]=nx.relabel_nodes(G_nothresh[x],relabel_dict)\n",
    "    G_nothresh[x].remove_edges_from(G_nothresh[x].selfloop_edges())\n",
    "    G_nothresh[x]=brainmap.remove_edgeless_nodes(G_nothresh[x])"
   ]
  },
  {
   "cell_type": "code",
   "execution_count": null,
   "metadata": {
    "collapsed": true,
    "deletable": true,
    "editable": true
   },
   "outputs": [],
   "source": [
    "G_nothresh['Base']=nx.from_numpy_matrix(jaccard_matrix)\n",
    "G_nothresh['Base'].remove_nodes_from([223, 224])\n",
    "G_nothresh['Base']=nx.relabel_nodes(G_nothresh['Base'],relabel_dict)\n",
    "G_nothresh['Base'].remove_edges_from(G_nothresh['Base'].selfloop_edges())\n",
    "G_nothresh['Base']=brainmap.remove_edgeless_nodes(G_nothresh['Base'])"
   ]
  },
  {
   "cell_type": "code",
   "execution_count": 9,
   "metadata": {
    "collapsed": false,
    "deletable": true,
    "editable": true
   },
   "outputs": [],
   "source": [
    "domains.append('Base')"
   ]
  },
  {
   "cell_type": "code",
   "execution_count": 27,
   "metadata": {
    "collapsed": false,
    "deletable": true,
    "editable": true
   },
   "outputs": [],
   "source": [
    "G_nothresh={}\n",
    "for x in domains:\n",
    "    filename='G_nothresh_jaccard_'+x+'_.pck'\n",
    "    workdir='/Users/owner/Functional_Connectivity/Results/G_jaccard_graphs/Unthresholded_G_jaccard/'\n",
    "    output=workdir+filename\n",
    "    #pickle.dump(G_nothresh[x], open (output, 'wb'))\n",
    "    G_nothresh[x]=pickle.load(open (output, 'rb'))"
   ]
  },
  {
   "cell_type": "markdown",
   "metadata": {
    "deletable": true,
    "editable": true
   },
   "source": [
    "# Hierarchical Clustering"
   ]
  },
  {
   "cell_type": "code",
   "execution_count": null,
   "metadata": {
    "collapsed": false,
    "deletable": true,
    "editable": true
   },
   "outputs": [],
   "source": [
    "nodelist={x: sorted(G_nothresh[x].nodes()) for x in domains}\n",
    "adj={x: nx.to_numpy_matrix(G_nothresh[x], nodelist[x]) for x in domains}\n",
    "X={x: stats.spearmanr(adj[x])[0] for x in domains}"
   ]
  },
  {
   "cell_type": "code",
   "execution_count": null,
   "metadata": {
    "collapsed": true,
    "deletable": true,
    "editable": true
   },
   "outputs": [],
   "source": [
    "plt.figure(7)\n",
    "\n",
    "plt.subplot(331)\n",
    "plt.imshow(X['Base'], interpolation='nearest')\n",
    "plt.title('Base')\n",
    "\n",
    "plt.subplot(332)\n",
    "plt.imshow(X['Attention'], interpolation='nearest')\n",
    "plt.title('Attention')\n",
    "\n",
    "plt.subplot(333)\n",
    "plt.imshow(X['Emotion'], interpolation='nearest')\n",
    "plt.title('Emotion')\n",
    "\n",
    "plt.subplot(334)\n",
    "plt.imshow(X['Language'], interpolation='nearest')\n",
    "plt.title('Language')\n",
    "\n",
    "plt.subplot(335)\n",
    "plt.imshow(X['Audition'], interpolation='nearest')\n",
    "plt.title('Audition')\n",
    "\n",
    "plt.subplot(336)\n",
    "plt.imshow(X['Vision'], interpolation='nearest')\n",
    "plt.title('Vision')\n",
    "\n",
    "plt.subplot(337)\n",
    "plt.imshow(X['Memory'], interpolation='nearest')\n",
    "plt.title('Memory')\n",
    "\n",
    "plt.subplot(338)\n",
    "plt.imshow(X['Working Memory'], interpolation='nearest')\n",
    "plt.title('Working Memory')\n",
    "\n",
    "plt.subplots_adjust(top=1.05, bottom=0.08, left=0.10, right=0.95, hspace=0.50, wspace=0.35)\n",
    "\n",
    "plt.savefig('/Users/owner/Desktop/Spearman_Adj.png')"
   ]
  },
  {
   "cell_type": "code",
   "execution_count": null,
   "metadata": {
    "collapsed": true,
    "deletable": true,
    "editable": true
   },
   "outputs": [],
   "source": [
    "Z = {x: linkage(X[x], 'complete') for x in domains}"
   ]
  },
  {
   "cell_type": "code",
   "execution_count": null,
   "metadata": {
    "collapsed": false,
    "deletable": true,
    "editable": true
   },
   "outputs": [],
   "source": [
    "for x in domains:\n",
    "    c, coph_dists = cophenet(Z[x], pdist(X[x]))\n",
    "    print c, x"
   ]
  },
  {
   "cell_type": "code",
   "execution_count": null,
   "metadata": {
    "collapsed": true,
    "deletable": true,
    "editable": true
   },
   "outputs": [],
   "source": [
    "key='Working Memory'\n",
    "plt.figure(figsize=(25, 10))\n",
    "plt.title('Hierarchical Clustering Dendrogram')\n",
    "plt.xlabel('regions')\n",
    "plt.ylabel('distance')\n",
    "dendrogram(\n",
    "    Z[key],\n",
    "    leaf_rotation=90.,  # rotates the x axis labels\n",
    "    leaf_font_size=6.7,  # font size for the x axis labels\n",
    "    labels=nodelist[key]\n",
    ")\n",
    "plt.savefig('/Users/owner/Desktop/Hierarchical_nothresh_images/Hierarchical_'+key+'_Clustering Dendrogram')\n",
    "plt.show()\n"
   ]
  },
  {
   "cell_type": "markdown",
   "metadata": {
    "collapsed": true,
    "deletable": true,
    "editable": true
   },
   "source": [
    "# Basic Metrics"
   ]
  },
  {
   "cell_type": "code",
   "execution_count": 28,
   "metadata": {
    "collapsed": false,
    "deletable": true,
    "editable": true
   },
   "outputs": [],
   "source": [
    "resting_pfc=pickle.load (open ('/Users/owner/Functional_Connectivity/Results/G_jaccard_graphs/PFC_rstate_weighted.pck','rb'))\n",
    "domains.append('Rest')\n",
    "G_nothresh['Rest']=resting_pfc"
   ]
  },
  {
   "cell_type": "code",
   "execution_count": 29,
   "metadata": {
    "collapsed": false,
    "deletable": true,
    "editable": true
   },
   "outputs": [],
   "source": [
    "rest_relabel=dict(zip(range(G_nothresh['Rest'].number_of_nodes()),G_nothresh['Rest'].nodes()))"
   ]
  },
  {
   "cell_type": "code",
   "execution_count": 30,
   "metadata": {
    "collapsed": false,
    "deletable": true,
    "editable": true
   },
   "outputs": [],
   "source": [
    "rest_relabel[39]='Frontal_Mid_Orb_L_2'\n",
    "rest_relabel[55]='Frontal_Mid_Orb_R_1'\n",
    "rest_relabel[57]='Frontal_Mid_Orb_R_3'\n",
    "rest_relabel[58]='Frontal_Mid_Orb_R_2'\n",
    "rest_relabel[59]='Frontal_Mid_Orb_R_4'\n",
    "rest_relabel[71]='Frontal_Med_Orb_L_1'\n",
    "rest_relabel[74]='Frontal_Med_Orb_L_3'\n",
    "rest_relabel[96]='Frontal_Med_Orb_R_2'\n",
    "rest_relabel[97]='Frontal_Med_Orb_R_3'\n",
    "rest_relabel[98]='Frontal_Med_Orb_R_1'\n",
    "rest_relabel[99]='Frontal_Mid_Orb_L_3'\n",
    "rest_relabel[101]='Frontal_Mid_Orb_L_1'\n",
    "rest_relabel[102]='Frontal_Mid_Orb_L_4'\n",
    "rest_relabel[109]='Frontal_Med_Orb_L_2'\n",
    "G_nothresh['Rest']=nx.relabel_nodes((nx.convert_node_labels_to_integers(G_nothresh['Rest'])), rest_relabel)"
   ]
  },
  {
   "cell_type": "code",
   "execution_count": 31,
   "metadata": {
    "collapsed": false,
    "deletable": true,
    "editable": true
   },
   "outputs": [],
   "source": [
    "relabel_dict[223]='Rolandic_Oper_R_1'\n",
    "relabel_dict[224]='Rolandic_Oper_R_2'"
   ]
  },
  {
   "cell_type": "code",
   "execution_count": null,
   "metadata": {
    "collapsed": false,
    "deletable": true,
    "editable": true
   },
   "outputs": [],
   "source": [
    "basic_metrics={x: brainmap.run_weighted_metrics(G_nothresh[x], 12, comm=False) for x in domains}"
   ]
  },
  {
   "cell_type": "markdown",
   "metadata": {
    "deletable": true,
    "editable": true
   },
   "source": [
    "Singificant Nodes in One Domain"
   ]
  },
  {
   "cell_type": "code",
   "execution_count": null,
   "metadata": {
    "collapsed": false,
    "deletable": true,
    "editable": true
   },
   "outputs": [],
   "source": [
    "significant_nodes, z_overall=myfunctions.significant_regions(basic_metrics, domains, 'between_cent', relabel_dict, 1.96)"
   ]
  },
  {
   "cell_type": "markdown",
   "metadata": {
    "deletable": true,
    "editable": true
   },
   "source": [
    "Probabilistically Significant Betweeness Centrality Nodes"
   ]
  },
  {
   "cell_type": "code",
   "execution_count": null,
   "metadata": {
    "collapsed": false,
    "deletable": true,
    "editable": true
   },
   "outputs": [],
   "source": [
    "N={x: float(G_nothresh[x].number_of_nodes()) for x in domains}\n",
    "P={}\n",
    "spots=len(basic_metrics[x]['topbetween_cent'])\n",
    "for x in domains:\n",
    "    P[x]=(spots/N[x])*((spots-1)/(N[x]-1))*((spots-2)/(N[x]-2))*((spots-3)/(N[x]-3))*((spots-4)/(N[x]-4))*((spots-5)/(N[x]-5))*((spots-6)/(N[x]-6))*((spots-7)/(N[x]-7))*((spots-8)/(N[x]-8))*((spots-9)/(N[x]-9))*((spots-10)/(N[x]-10))*((spots-11)/(N[x]-11))\n",
    "    #P[x]=\"{:.0%}\".format(P[x])"
   ]
  },
  {
   "cell_type": "code",
   "execution_count": null,
   "metadata": {
    "collapsed": false,
    "deletable": true,
    "editable": true
   },
   "outputs": [],
   "source": [
    "P['Base']*P['Memory']*P['Working Memory']*P['Language']*P['Audition']*P['Attention']"
   ]
  },
  {
   "cell_type": "code",
   "execution_count": null,
   "metadata": {
    "collapsed": false,
    "deletable": true,
    "editable": true
   },
   "outputs": [],
   "source": [
    "top_freq=[(basic_metrics[x]['topbetween_cent']) for x in domains]"
   ]
  },
  {
   "cell_type": "code",
   "execution_count": null,
   "metadata": {
    "collapsed": false,
    "deletable": true,
    "editable": true
   },
   "outputs": [],
   "source": [
    "top_list=[item for sublist in top_freq for item in sublist]"
   ]
  },
  {
   "cell_type": "code",
   "execution_count": null,
   "metadata": {
    "collapsed": false,
    "deletable": true,
    "editable": true
   },
   "outputs": [],
   "source": [
    "for x in domains:\n",
    "    for n in range(len(significant_nodes[x])):\n",
    "        if significant_nodes[x][n][0] not in top_list:\n",
    "            print significant_nodes[x][n][0], x"
   ]
  },
  {
   "cell_type": "code",
   "execution_count": null,
   "metadata": {
    "collapsed": false,
    "deletable": true,
    "editable": true
   },
   "outputs": [],
   "source": [
    "from collections import Counter"
   ]
  },
  {
   "cell_type": "code",
   "execution_count": null,
   "metadata": {
    "collapsed": false,
    "deletable": true,
    "editable": true
   },
   "outputs": [],
   "source": [
    "top_freq_dict=Counter(top_list)"
   ]
  },
  {
   "cell_type": "code",
   "execution_count": null,
   "metadata": {
    "collapsed": true,
    "deletable": true,
    "editable": true
   },
   "outputs": [],
   "source": [
    "sorted_top_freq=sorted(top_freq_dict.items(), key=operator.itemgetter(1), reverse=True)"
   ]
  },
  {
   "cell_type": "code",
   "execution_count": null,
   "metadata": {
    "collapsed": false,
    "deletable": true,
    "editable": true
   },
   "outputs": [],
   "source": [
    "degree_specialized_regions=[]\n",
    "for part in range(len(sorted_top_freq)):\n",
    "    for section in range(len(top_freq)):\n",
    "        for x in domains:\n",
    "            for n in range(len(significant_nodes[x])):\n",
    "                if sorted_top_freq[part][0] == significant_nodes[x][n][0]:\n",
    "                    if sorted_top_freq[part][1] < 2:\n",
    "                        degree_specialized_regions.append(sorted_top_freq[part][0])\n",
    "degree_specialized_regions=set(degree_specialized_regions)"
   ]
  },
  {
   "cell_type": "code",
   "execution_count": null,
   "metadata": {
    "collapsed": false,
    "deletable": true,
    "editable": true
   },
   "outputs": [],
   "source": [
    "between_specialized_regions=[]\n",
    "for part in range(len(sorted_top_freq)):\n",
    "    for section in range(len(top_freq)):\n",
    "        for x in domains:\n",
    "            for n in range(len(significant_nodes[x])):\n",
    "                if sorted_top_freq[part][0] == significant_nodes[x][n][0]:\n",
    "                    if sorted_top_freq[part][1] < 2:\n",
    "                        between_specialized_regions.append((x,sorted_top_freq[part][0]))\n",
    "between_specialized_regions=set(between_specialized_regions)"
   ]
  },
  {
   "cell_type": "code",
   "execution_count": null,
   "metadata": {
    "collapsed": false,
    "deletable": true,
    "editable": true
   },
   "outputs": [],
   "source": [
    "specialized_regions=[]\n",
    "for region in degree_specialized_regions:\n",
    "    for reg in between_specialized_regions:\n",
    "        if region == reg:\n",
    "            specialized_regions.append(region)"
   ]
  },
  {
   "cell_type": "code",
   "execution_count": null,
   "metadata": {
    "collapsed": false,
    "deletable": true,
    "editable": true
   },
   "outputs": [],
   "source": [
    "stable_regions=[]\n",
    "for n in range(len(sorted_top_freq)):\n",
    "    if sorted_top_freq[n][1] > 5:\n",
    "        stable_regions.append(sorted_top_freq[n][0])"
   ]
  },
  {
   "cell_type": "code",
   "execution_count": null,
   "metadata": {
    "collapsed": true,
    "deletable": true,
    "editable": true
   },
   "outputs": [],
   "source": [
    "import random"
   ]
  },
  {
   "cell_type": "markdown",
   "metadata": {
    "deletable": true,
    "editable": true
   },
   "source": [
    "Centrality Fingerprints"
   ]
  },
  {
   "cell_type": "code",
   "execution_count": null,
   "metadata": {
    "collapsed": false,
    "deletable": true,
    "editable": true
   },
   "outputs": [],
   "source": [
    "metric_l=('between_cent','degree_cent','eigenvector_cent','degrees','ccoeff')"
   ]
  },
  {
   "cell_type": "code",
   "execution_count": null,
   "metadata": {
    "collapsed": true,
    "deletable": true,
    "editable": true
   },
   "outputs": [],
   "source": [
    "from matplotlib.path import Path\n",
    "from matplotlib.spines import Spine\n",
    "from matplotlib.projections.polar import PolarAxes\n",
    "from matplotlib.projections import register_projection\n",
    "\n",
    "regionlist=['Frontal_Inf_Oper_R_3', 'Frontal_Inf_Oper_R_1', 'Supp_Motor_Area_R_2', 'Precentral_L_8', 'Frontal_Inf_Orb_L_5', 'Precentral_L_11', 'Precentral_R_14']\n",
    "if __name__ == '__main__':\n",
    "    N = 9\n",
    "    theta = brainmap.radar_factory(N, frame='polygon')\n",
    "\n",
    "    data = brainmap.make_fingerprint_data(regionlist, domains, basic_metrics, metric_l)\n",
    "    spoke_labels = data.pop(0)\n",
    "\n",
    "    fig, axes = plt.subplots(figsize=(15, 15), nrows=1, ncols=2,\n",
    "                             subplot_kw=dict(projection='radar'))\n",
    "    fig.subplots_adjust(wspace=0.3, hspace=0.10, top=0.55, bottom=0.05)\n",
    "\n",
    "    colors = ['tab:blue', 'tab:orange', 'tab:green', 'tab:red', 'tab:purple', 'tab:brown', \n",
    "              'tab:pink', 'tab:gray', 'tab:cyan']\n",
    "    # Plot the four cases from the example data on separate axes\n",
    "    for ax, (title, case_data) in zip(axes.flatten(), data):\n",
    "        ax.set_rgrids(np.arange(0.05, 1.0, 0.15))\n",
    "        ax.set_title(title, weight='bold', size='medium', position=(0.5, 1.08),\n",
    "                     horizontalalignment='center', verticalalignment='center')\n",
    "        for d, color in zip(case_data, colors):\n",
    "            ax.plot(theta, d, color=color)\n",
    "            ax.fill(theta, d, facecolor=color, alpha=0.25)\n",
    "        ax.set_varlabels(spoke_labels)\n",
    "        # add legend relative to top-left plot\n",
    "    ax = axes[0]\n",
    "    labels = (regionlist)\n",
    "    legend = ax.legend(labels, loc=(2.0, .98),\n",
    "                       labelspacing=0.2, title='Regions', fontsize='large')\n",
    "\n",
    "    #fig.text(0.5, 0.55, 'Specialized Regions Across Domains',\n",
    "             #horizontalalignment='center', color='black', weight='bold',\n",
    "             #size='large')\n",
    "    #fig.savefig('/Users/owner/Desktop/Special_Regions(Paper)(B).png')\n",
    "\n",
    "    plt.show()"
   ]
  },
  {
   "cell_type": "markdown",
   "metadata": {
    "deletable": true,
    "editable": true
   },
   "source": [
    "# Modularity"
   ]
  },
  {
   "cell_type": "markdown",
   "metadata": {
    "deletable": true,
    "editable": true
   },
   "source": [
    "Random Graphs"
   ]
  },
  {
   "cell_type": "code",
   "execution_count": 32,
   "metadata": {
    "collapsed": false,
    "deletable": true,
    "editable": true
   },
   "outputs": [],
   "source": [
    "import os"
   ]
  },
  {
   "cell_type": "code",
   "execution_count": 33,
   "metadata": {
    "collapsed": false,
    "deletable": true,
    "editable": true
   },
   "outputs": [],
   "source": [
    "%load_ext Cython"
   ]
  },
  {
   "cell_type": "markdown",
   "metadata": {
    "deletable": true,
    "editable": true
   },
   "source": [
    "BCTPY Newman"
   ]
  },
  {
   "cell_type": "code",
   "execution_count": 34,
   "metadata": {
    "collapsed": true,
    "deletable": true,
    "editable": true
   },
   "outputs": [],
   "source": [
    "import bct"
   ]
  },
  {
   "cell_type": "code",
   "execution_count": 41,
   "metadata": {
    "collapsed": false,
    "deletable": true,
    "editable": true
   },
   "outputs": [],
   "source": [
    "%%cython\n",
    "cpdef random_graphs(G, list domain_list):\n",
    "    from __main__ import nx\n",
    "    from __main__ import time\n",
    "    cdef int iterations = 1000\n",
    "    cdef int nodes= G.number_of_nodes()\n",
    "    cdef int edges = G.number_of_edges()\n",
    "    cdef int n\n",
    "    cdef dict rand_graph_dict={}\n",
    "    for n in range(iterations):\n",
    "        rand_graph_dict[n]=nx.gnm_random_graph(nodes, edges)\n",
    "\n",
    "    return rand_graph_dict"
   ]
  },
  {
   "cell_type": "code",
   "execution_count": 44,
   "metadata": {
    "collapsed": false,
    "deletable": true,
    "editable": true
   },
   "outputs": [
    {
     "name": "stderr",
     "output_type": "stream",
     "text": [
      "  0% (5 of 1000) |                       | Elapsed Time: 0:05:44 ETA:  22:16:29"
     ]
    },
    {
     "ename": "KeyboardInterrupt",
     "evalue": "",
     "output_type": "error",
     "traceback": [
      "\u001b[0;31m---------------------------------------------------------------------------\u001b[0m",
      "\u001b[0;31mKeyboardInterrupt\u001b[0m                         Traceback (most recent call last)",
      "\u001b[0;32m<ipython-input-44-36be408eb5fe>\u001b[0m in \u001b[0;36m<module>\u001b[0;34m()\u001b[0m\n\u001b[0;32m----> 1\u001b[0;31m \u001b[0mG_random\u001b[0m\u001b[0;34m=\u001b[0m\u001b[0;34m{\u001b[0m\u001b[0mx\u001b[0m\u001b[0;34m:\u001b[0m \u001b[0mrandom_graphs\u001b[0m\u001b[0;34m(\u001b[0m\u001b[0mG_nothresh\u001b[0m\u001b[0;34m[\u001b[0m\u001b[0mx\u001b[0m\u001b[0;34m]\u001b[0m\u001b[0;34m,\u001b[0m \u001b[0mdomains\u001b[0m\u001b[0;34m)\u001b[0m \u001b[0;32mfor\u001b[0m \u001b[0mx\u001b[0m \u001b[0;32min\u001b[0m \u001b[0mdomains\u001b[0m \u001b[0;32mfor\u001b[0m \u001b[0mi\u001b[0m \u001b[0;32min\u001b[0m \u001b[0mpb\u001b[0m\u001b[0;34m.\u001b[0m\u001b[0mprogressbar\u001b[0m\u001b[0;34m(\u001b[0m\u001b[0mrange\u001b[0m\u001b[0;34m(\u001b[0m\u001b[0;36m1000\u001b[0m\u001b[0;34m)\u001b[0m\u001b[0;34m)\u001b[0m\u001b[0;34m}\u001b[0m\u001b[0;34m\u001b[0m\u001b[0m\n\u001b[0m",
      "\u001b[0;32m<ipython-input-44-36be408eb5fe>\u001b[0m in \u001b[0;36m<dictcomp>\u001b[0;34m((x,))\u001b[0m\n\u001b[0;32m----> 1\u001b[0;31m \u001b[0mG_random\u001b[0m\u001b[0;34m=\u001b[0m\u001b[0;34m{\u001b[0m\u001b[0mx\u001b[0m\u001b[0;34m:\u001b[0m \u001b[0mrandom_graphs\u001b[0m\u001b[0;34m(\u001b[0m\u001b[0mG_nothresh\u001b[0m\u001b[0;34m[\u001b[0m\u001b[0mx\u001b[0m\u001b[0;34m]\u001b[0m\u001b[0;34m,\u001b[0m \u001b[0mdomains\u001b[0m\u001b[0;34m)\u001b[0m \u001b[0;32mfor\u001b[0m \u001b[0mx\u001b[0m \u001b[0;32min\u001b[0m \u001b[0mdomains\u001b[0m \u001b[0;32mfor\u001b[0m \u001b[0mi\u001b[0m \u001b[0;32min\u001b[0m \u001b[0mpb\u001b[0m\u001b[0;34m.\u001b[0m\u001b[0mprogressbar\u001b[0m\u001b[0;34m(\u001b[0m\u001b[0mrange\u001b[0m\u001b[0;34m(\u001b[0m\u001b[0;36m1000\u001b[0m\u001b[0;34m)\u001b[0m\u001b[0;34m)\u001b[0m\u001b[0;34m}\u001b[0m\u001b[0;34m\u001b[0m\u001b[0m\n\u001b[0m",
      "\u001b[0;32m_cython_magic_7a08bb4e2c6c64154d709f6dcae58a1b.pyx\u001b[0m in \u001b[0;36m_cython_magic_7a08bb4e2c6c64154d709f6dcae58a1b.random_graphs (/Users/owner/.ipython/cython/_cython_magic_7a08bb4e2c6c64154d709f6dcae58a1b.c:1193)\u001b[0;34m()\u001b[0m\n",
      "\u001b[0;32m_cython_magic_7a08bb4e2c6c64154d709f6dcae58a1b.pyx\u001b[0m in \u001b[0;36m_cython_magic_7a08bb4e2c6c64154d709f6dcae58a1b.random_graphs (/Users/owner/.ipython/cython/_cython_magic_7a08bb4e2c6c64154d709f6dcae58a1b.c:1048)\u001b[0;34m()\u001b[0m\n",
      "\u001b[0;32m/Users/owner/Library/Enthought/Canopy_64bit/User/lib/python2.7/site-packages/networkx/generators/random_graphs.pyc\u001b[0m in \u001b[0;36mgnm_random_graph\u001b[0;34m(n, m, seed, directed)\u001b[0m\n\u001b[1;32m    299\u001b[0m             \u001b[0;32mcontinue\u001b[0m\u001b[0;34m\u001b[0m\u001b[0m\n\u001b[1;32m    300\u001b[0m         \u001b[0;32melse\u001b[0m\u001b[0;34m:\u001b[0m\u001b[0;34m\u001b[0m\u001b[0m\n\u001b[0;32m--> 301\u001b[0;31m             \u001b[0mG\u001b[0m\u001b[0;34m.\u001b[0m\u001b[0madd_edge\u001b[0m\u001b[0;34m(\u001b[0m\u001b[0mu\u001b[0m\u001b[0;34m,\u001b[0m\u001b[0mv\u001b[0m\u001b[0;34m)\u001b[0m\u001b[0;34m\u001b[0m\u001b[0m\n\u001b[0m\u001b[1;32m    302\u001b[0m             \u001b[0medge_count\u001b[0m\u001b[0;34m=\u001b[0m\u001b[0medge_count\u001b[0m\u001b[0;34m+\u001b[0m\u001b[0;36m1\u001b[0m\u001b[0;34m\u001b[0m\u001b[0m\n\u001b[1;32m    303\u001b[0m     \u001b[0;32mreturn\u001b[0m \u001b[0mG\u001b[0m\u001b[0;34m\u001b[0m\u001b[0m\n",
      "\u001b[0;32m/Users/owner/Library/Enthought/Canopy_64bit/User/lib/python2.7/site-packages/networkx/classes/graph.pyc\u001b[0m in \u001b[0;36madd_edge\u001b[0;34m(self, u, v, attr_dict, **attr)\u001b[0m\n\u001b[1;32m    799\u001b[0m         \u001b[0mdatadict\u001b[0m\u001b[0;34m.\u001b[0m\u001b[0mupdate\u001b[0m\u001b[0;34m(\u001b[0m\u001b[0mattr_dict\u001b[0m\u001b[0;34m)\u001b[0m\u001b[0;34m\u001b[0m\u001b[0m\n\u001b[1;32m    800\u001b[0m         \u001b[0mself\u001b[0m\u001b[0;34m.\u001b[0m\u001b[0madj\u001b[0m\u001b[0;34m[\u001b[0m\u001b[0mu\u001b[0m\u001b[0;34m]\u001b[0m\u001b[0;34m[\u001b[0m\u001b[0mv\u001b[0m\u001b[0;34m]\u001b[0m \u001b[0;34m=\u001b[0m \u001b[0mdatadict\u001b[0m\u001b[0;34m\u001b[0m\u001b[0m\n\u001b[0;32m--> 801\u001b[0;31m         \u001b[0mself\u001b[0m\u001b[0;34m.\u001b[0m\u001b[0madj\u001b[0m\u001b[0;34m[\u001b[0m\u001b[0mv\u001b[0m\u001b[0;34m]\u001b[0m\u001b[0;34m[\u001b[0m\u001b[0mu\u001b[0m\u001b[0;34m]\u001b[0m \u001b[0;34m=\u001b[0m \u001b[0mdatadict\u001b[0m\u001b[0;34m\u001b[0m\u001b[0m\n\u001b[0m\u001b[1;32m    802\u001b[0m \u001b[0;34m\u001b[0m\u001b[0m\n\u001b[1;32m    803\u001b[0m     \u001b[0;32mdef\u001b[0m \u001b[0madd_edges_from\u001b[0m\u001b[0;34m(\u001b[0m\u001b[0mself\u001b[0m\u001b[0;34m,\u001b[0m \u001b[0mebunch\u001b[0m\u001b[0;34m,\u001b[0m \u001b[0mattr_dict\u001b[0m\u001b[0;34m=\u001b[0m\u001b[0mNone\u001b[0m\u001b[0;34m,\u001b[0m \u001b[0;34m**\u001b[0m\u001b[0mattr\u001b[0m\u001b[0;34m)\u001b[0m\u001b[0;34m:\u001b[0m\u001b[0;34m\u001b[0m\u001b[0m\n",
      "\u001b[0;31mKeyboardInterrupt\u001b[0m: "
     ]
    }
   ],
   "source": [
    "G_random={x: random_graphs(G_nothresh[x], domains) for x in domains for i in pb.progressbar(range(1000))}"
   ]
  },
  {
   "cell_type": "code",
   "execution_count": 39,
   "metadata": {
    "collapsed": true,
    "deletable": true,
    "editable": true
   },
   "outputs": [],
   "source": [
    "%%cython\n",
    "cpdef bct_mod_dict(G, list domain_list):\n",
    "    from __main__ import nx\n",
    "    from __main__ import bct\n",
    "    from __main__ import np\n",
    "    cdef dict bct_rand={}\n",
    "    cdef int n\n",
    "    cdef str x\n",
    "    bct_rand={x: {n: bct.modularity_und(np.squeeze(np.asarray(nx.to_numpy_matrix(G[x][n])))) for n in range(len(G[x]))} for x in domain_list}\n",
    "    \n",
    "    return bct_rand"
   ]
  },
  {
   "cell_type": "code",
   "execution_count": 40,
   "metadata": {
    "collapsed": false,
    "deletable": true,
    "editable": true
   },
   "outputs": [
    {
     "name": "stdout",
     "output_type": "stream",
     "text": [
      "CPU times: user 48min 15s, sys: 1min 6s, total: 49min 22s\n",
      "Wall time: 25min 47s\n"
     ]
    }
   ],
   "source": [
    "%%time\n",
    "bct_rand_mod=bct_mod_dict(G_random, domains)"
   ]
  },
  {
   "cell_type": "code",
   "execution_count": 42,
   "metadata": {
    "collapsed": false,
    "deletable": true,
    "editable": true
   },
   "outputs": [],
   "source": [
    "os.system('say \"Code complete.\"');"
   ]
  },
  {
   "cell_type": "code",
   "execution_count": 50,
   "metadata": {
    "collapsed": false,
    "deletable": true,
    "editable": true
   },
   "outputs": [],
   "source": [
    "from numba import jit"
   ]
  },
  {
   "cell_type": "code",
   "execution_count": 56,
   "metadata": {
    "collapsed": false,
    "deletable": true,
    "editable": true
   },
   "outputs": [],
   "source": [
    "@jit\n",
    "def bct_mod_list(mod_dict, domain_list):\n",
    "    bct_list={}\n",
    "    for x in domain_list:\n",
    "        bct_list[x]=[mod_dict[x][n][1] for n in range(len(mod_dict[x]))]\n",
    "    return bct_list"
   ]
  },
  {
   "cell_type": "code",
   "execution_count": 57,
   "metadata": {
    "collapsed": false,
    "deletable": true,
    "editable": true
   },
   "outputs": [],
   "source": [
    "bct_rand_mod_list=bct_mod_list(bct_rand_mod, domains)"
   ]
  },
  {
   "cell_type": "code",
   "execution_count": 64,
   "metadata": {
    "collapsed": false,
    "deletable": true,
    "editable": true
   },
   "outputs": [],
   "source": [
    "domain_filtered_keycodes['Base']=jaccard_matrix"
   ]
  },
  {
   "cell_type": "code",
   "execution_count": 34,
   "metadata": {
    "collapsed": false,
    "deletable": true,
    "editable": true
   },
   "outputs": [],
   "source": [
    "bct_mod={}\n",
    "bct_part={}\n",
    "bct_partition={}\n",
    "for x in domains:\n",
    "    bct_mod[x]=bct.modularity_und(np.squeeze(np.asarray(nx.to_numpy_matrix(G_nothresh[x]))))\n",
    "    bct_part[x]=dict(zip(G_nothresh[x].nodes(), bct_mod[x][0]))\n",
    "    bct_partition[x]=brainmap.make_brainx_style_partition(bct_part[x])"
   ]
  },
  {
   "cell_type": "code",
   "execution_count": null,
   "metadata": {
    "collapsed": false,
    "deletable": true,
    "editable": true
   },
   "outputs": [],
   "source": [
    "for x in domains:\n",
    "    print x, '|', bct_mod[x][1]"
   ]
  },
  {
   "cell_type": "code",
   "execution_count": null,
   "metadata": {
    "collapsed": false,
    "deletable": true,
    "editable": true
   },
   "outputs": [],
   "source": [
    "mutual_matrix_bct_new=np.zeros([len(domains),len(domains)])\n",
    "for x,y in enumerate(domains):\n",
    "    for a,b in enumerate(domains):\n",
    "        mutual_matrix_bct_new[x][a]=mod.mutual_information(bct_partition[y],bct_partition[b])\n",
    "np.fill_diagonal(mutual_matrix_bct_new,0)\n",
    "plt.matshow(mutual_matrix_bct_new)        \n",
    "plt.xticks(range(len(domains)), domains, rotation='90')\n",
    "plt.yticks(range(len(domains)), domains)\n",
    "plt.colorbar()"
   ]
  },
  {
   "cell_type": "code",
   "execution_count": null,
   "metadata": {
    "collapsed": false,
    "deletable": true,
    "editable": true
   },
   "outputs": [],
   "source": [
    "for x in domains:\n",
    "    myfunctions.node_file(bct_part[x], y=basic_metrics[x]['between_cent'], filename='bct_nothresh_'+x+'_node.csv')\n",
    "    csv_file = '/Users/owner/Desktop/BrainImagingViewer/BrainNetViewer_20171031/Data/NodeFiles/bct_nothresh_'+x+'_node.csv'\n",
    "    txt_file = '/Users/owner/Desktop/BrainImagingViewer/BrainNetViewer_20171031/Data/NodeFiles/Nothresh/bct_nothresh_'+x+'_node.node'\n",
    "    with open(txt_file, \"w\") as my_output_file:\n",
    "        with open(csv_file, \"r\") as my_input_file:\n",
    "            [ my_output_file.write(\" \".join(row)+'\\n') for row in csv.reader(my_input_file)]\n",
    "        my_output_file.close()"
   ]
  },
  {
   "cell_type": "code",
   "execution_count": null,
   "metadata": {
    "collapsed": false,
    "deletable": true,
    "editable": true
   },
   "outputs": [],
   "source": [
    "for x in domains:\n",
    "    myfunctions.node_file(bct_lou_part[x], y=basic_metrics[x]['between_cent'], filename='bct_lou_nothresh_'+x+'_node.csv')\n",
    "    csv_file = '/Users/owner/Desktop/BrainImagingViewer/BrainNetViewer_20171031/Data/NodeFiles/bct_lou_nothresh_'+x+'_node.csv'\n",
    "    txt_file = '/Users/owner/Desktop/BrainImagingViewer/BrainNetViewer_20171031/Data/NodeFiles/Nothresh/bct_lou_nothresh_'+x+'_node.node'\n",
    "    with open(txt_file, \"w\") as my_output_file:\n",
    "        with open(csv_file, \"r\") as my_input_file:\n",
    "            [ my_output_file.write(\" \".join(row)+'\\n') for row in csv.reader(my_input_file)]\n",
    "        my_output_file.close()"
   ]
  },
  {
   "cell_type": "code",
   "execution_count": 68,
   "metadata": {
    "collapsed": false,
    "deletable": true,
    "editable": true
   },
   "outputs": [
    {
     "name": "stdout",
     "output_type": "stream",
     "text": [
      "Memory | Q = 0.175464615461 | Z = 27.2511168901 | M = 0.072404597435\n",
      "Working Memory | Q = 0.222097379566 | Z = 23.3112897623 | M = 0.100161019405\n",
      "Emotion | Q = 0.162290264322 | Z = 22.6909019593 | M = 0.0746559599416\n",
      "Attention | Q = 0.189318595584 | Z = 24.2143577862 | M = 0.0830444586383\n",
      "Language | Q = 0.248974168101 | Z = 36.5277192851 | M = 0.0856019880802\n",
      "Vision | Q = 0.302636385616 | Z = 30.4841138687 | M = 0.1209369489\n",
      "Audition | Q = 0.436937697958 | Z = 34.1968678962 | M = 0.156049350678\n",
      "Base | Q = 0.165184025669 | Z = 90.3668963135 | M = 0.0310065101029\n",
      "Rest | Q = 0.519053198028 | Z = 58.1194877413 | M = 0.139723772588\n"
     ]
    }
   ],
   "source": [
    "mean={}\n",
    "std={}\n",
    "z={}\n",
    "for x in domains:\n",
    "    mean[x]=np.mean(bct_rand_mod_list[x])\n",
    "    std[x]=np.std(bct_rand_mod_list[x])\n",
    "    z[x]=((bct_mod[x][1]-mean[x])/std[x])\n",
    "    if z[x] > 1.96:\n",
    "        print x, '| Q =', bct_mod[x][1], '| Z =', z[x], '| M =', mean[x]"
   ]
  },
  {
   "cell_type": "markdown",
   "metadata": {
    "deletable": true,
    "editable": true
   },
   "source": [
    "Unweight Network"
   ]
  },
  {
   "cell_type": "code",
   "execution_count": 23,
   "metadata": {
    "collapsed": false,
    "deletable": true,
    "editable": true
   },
   "outputs": [],
   "source": [
    "G_noweight={x: brainmap.remove_weight_edge_attribute(G_nothresh[x]) for x in domains }"
   ]
  },
  {
   "cell_type": "code",
   "execution_count": null,
   "metadata": {
    "collapsed": false,
    "deletable": true,
    "editable": true
   },
   "outputs": [],
   "source": [
    "distrib=np.asanyarray(rand_parts)\n",
    "z,pval=scipy.stats.normaltest(distrib)\n",
    "np.all(pval < 0.05)"
   ]
  },
  {
   "cell_type": "code",
   "execution_count": null,
   "metadata": {
    "collapsed": true,
    "deletable": true,
    "editable": true
   },
   "outputs": [],
   "source": [
    "nx.is_weighted(G_random['Attention'][0])"
   ]
  },
  {
   "cell_type": "markdown",
   "metadata": {
    "deletable": true,
    "editable": true
   },
   "source": [
    "Louvain"
   ]
  },
  {
   "cell_type": "code",
   "execution_count": 24,
   "metadata": {
    "collapsed": false,
    "deletable": true,
    "editable": true
   },
   "outputs": [],
   "source": [
    "%%cython\n",
    "from __main__ import community\n",
    "from __main__ import nx\n",
    "from __main__ import G_random\n",
    "from __main__ import domains\n",
    "cpdef lou_mod_dict(G, list domain_list):\n",
    "    cdef str x\n",
    "    cdef int n\n",
    "    lou_rand={x: {n: community.best_partition(G[x][n]) for n in range(len(G[x]))} for x in domain_list}\n",
    "    return lou_rand"
   ]
  },
  {
   "cell_type": "code",
   "execution_count": 25,
   "metadata": {
    "collapsed": false,
    "deletable": true,
    "editable": true
   },
   "outputs": [],
   "source": [
    "rand_part=lou_mod_dict(G_random, domains)"
   ]
  },
  {
   "cell_type": "code",
   "execution_count": 28,
   "metadata": {
    "collapsed": false,
    "deletable": true,
    "editable": true
   },
   "outputs": [],
   "source": [
    "@jit\n",
    "def lou_rand_list(G, lou_dict, domain_list):\n",
    "    lou_list={}\n",
    "    for x in domain_list:\n",
    "        lou_list[x]=[community.modularity(lou_dict[x][n], G[x][n]) for n in range(len(G[x]))]\n",
    "    return lou_list"
   ]
  },
  {
   "cell_type": "code",
   "execution_count": 29,
   "metadata": {
    "collapsed": true,
    "deletable": true,
    "editable": true
   },
   "outputs": [],
   "source": [
    "lou_rand_mod_list=lou_rand_list(G_random, rand_part, domains)"
   ]
  },
  {
   "cell_type": "code",
   "execution_count": 30,
   "metadata": {
    "collapsed": false,
    "deletable": true,
    "editable": true
   },
   "outputs": [
    {
     "name": "stdout",
     "output_type": "stream",
     "text": [
      "Louvain Modularity:  Memory | 0.191723025044 : 5\n",
      "Louvain Modularity:  Working Memory | 0.255494678067 : 9\n",
      "Louvain Modularity:  Emotion | 0.202194555414 : 7\n",
      "Louvain Modularity:  Attention | 0.231477208761 : 6\n",
      "Louvain Modularity:  Language | 0.288068236851 : 6\n",
      "Louvain Modularity:  Vision | 0.348872960647 : 8\n",
      "Louvain Modularity:  Audition | 0.486049183231 : 13\n",
      "Louvain Modularity:  Base | 0.181669234392 : 3\n",
      "Louvain Modularity:  Rest | 0.529476588096 : 14\n"
     ]
    }
   ],
   "source": [
    "Louvain_part={}\n",
    "Dendogram={}\n",
    "G_part={}\n",
    "for x in domains:\n",
    "    #G_part[x]=community.best_partition(G_nothresh[x])\n",
    "    #Dendogram[x]=community.generate_dendrogram(G_nothresh[x])\n",
    "    workdir='/Users/owner/Functional_Connectivity/Results/Modularity_nothresh/Louvain/'\n",
    "    filename='Louvain_part_'+x+'_nothresh.pck'\n",
    "    output=workdir+filename\n",
    "    #pickle.dump (G_part[x], open(output, 'wb'))\n",
    "    G_part[x]=pickle.load(open(output, 'rb'))\n",
    "    Louvain_part[x]=brainmap.make_brainx_style_partition(G_part[x])\n",
    "    print \"Louvain Modularity: \", x, '|', community.modularity(G_part[x], G_nothresh[x]),':', len(Louvain_part[x])"
   ]
  },
  {
   "cell_type": "code",
   "execution_count": 32,
   "metadata": {
    "collapsed": false,
    "deletable": true,
    "editable": true
   },
   "outputs": [
    {
     "name": "stdout",
     "output_type": "stream",
     "text": [
      "Memory | Q = 0.191723025044 | Z = 40.0626180188 | M = 0.0871460232522\n",
      "Working Memory | Q = 0.255494678067 | Z = 37.3343877474 | M = 0.119308668088\n",
      "Emotion | Q = 0.202194555414 | Z = 41.7539735797 | M = 0.0899575405548\n",
      "Attention | Q = 0.231477208761 | Z = 44.4400921384 | M = 0.0995497008583\n",
      "Language | Q = 0.288068236851 | Z = 59.4389001631 | M = 0.102249980015\n",
      "Vision | Q = 0.348872960647 | Z = 53.3688729305 | M = 0.143127057013\n",
      "Audition | Q = 0.486049183231 | Z = 60.4705196025 | M = 0.183098143901\n",
      "Base | Q = 0.181669234392 | Z = 119.517127733 | M = 0.0377766225272\n",
      "Rest | Q = 0.529476588096 | Z = 84.8903910069 | M = 0.163659614726\n"
     ]
    }
   ],
   "source": [
    "mean={}\n",
    "std={}\n",
    "z={}\n",
    "for x in domains:\n",
    "    mean[x]=np.mean(lou_rand_mod_list[x])\n",
    "    std[x]=np.std(lou_rand_mod_list[x])\n",
    "    z[x]=((community.modularity(G_part[x], G_nothresh[x]))-mean[x])/std[x]\n",
    "    if z[x] > 1.96:\n",
    "        print x, '| Q =', community.modularity(G_part[x], G_nothresh[x]), '| Z =', z[x], '| M =', mean[x]"
   ]
  },
  {
   "cell_type": "code",
   "execution_count": null,
   "metadata": {
    "collapsed": true,
    "deletable": true,
    "editable": true
   },
   "outputs": [],
   "source": [
    "distrib_list=[]\n",
    "n_it=1000\n",
    "for n in range (n_it):\n",
    "    random_G={x: nx.gnm_random_graph(G_nothresh[x].number_of_nodes(), G_nothresh[x].number_of_edges()) for x in domains}\n",
    "    random_part={x: community.best_partition(random_G[x]) for x in domains}\n",
    "    distrib_list.append(community.modularity(random_part[x], random_G[x]))\n",
    "    distr={x: distrib_list for x in domains}\n",
    "rand_arry={x: np.asanyarray(distr[x]) for x in domains}\n",
    "for x in domains:\n",
    "    z, pval=scipy.stats.normaltest(rand_arry[x])\n",
    "    if pval < 0.05:\n",
    "        print 'Normal Distribution', x\n",
    "    else:\n",
    "        print 'Not Normal Distribution', x"
   ]
  },
  {
   "cell_type": "code",
   "execution_count": null,
   "metadata": {
    "collapsed": false,
    "deletable": true,
    "editable": true
   },
   "outputs": [],
   "source": [
    "mutual_matrix_lou=np.zeros([len(domains),len(domains)])\n",
    "for x,y in enumerate(domains):\n",
    "    for a,b in enumerate(domains):\n",
    "        mutual_matrix_lou[x][a]=mod.mutual_information(Louvain_part[y],Louvain_part[b])\n",
    "np.fill_diagonal(mutual_matrix_lou,0)\n",
    "plt.matshow(mutual_matrix_lou)        \n",
    "plt.xticks(range(len(domains)), domains, rotation='90')\n",
    "plt.yticks(range(len(domains)), domains)\n",
    "plt.colorbar()"
   ]
  },
  {
   "cell_type": "code",
   "execution_count": null,
   "metadata": {
    "collapsed": false,
    "deletable": true,
    "editable": true
   },
   "outputs": [],
   "source": [
    "nodes=['Cingulum_Ant_R_1','Cingulum_Ant_L_1','Cingulum_Ant_L_2','Cingulum_Ant_L_3','Cingulum_Ant_L_4','Cingulum_Ant_L_5','Cingulum_Ant_L_6','Cingulum_Ant_R_2','Cingulum_Ant_R_3','Cingulum_Ant_R_4','Cingulum_Ant_R_5','Frontal_Inf_Oper_L_1','Frontal_Inf_Oper_L_2','Frontal_Inf_Oper_L_3','Frontal_Inf_Oper_L_4','Frontal_Inf_Oper_R_1','Frontal_Inf_Oper_R_2','Frontal_Inf_Oper_R_3','Frontal_Inf_Oper_R_4','Frontal_Inf_Oper_R_5','Frontal_Inf_Oper_R_6','Frontal_Inf_Orb_L_1','Frontal_Inf_Orb_L_2','Frontal_Inf_Orb_L_3','Frontal_Inf_Orb_L_4','Frontal_Inf_Orb_L_5','Frontal_Inf_Orb_L_6','Frontal_Inf_Orb_L_7','Frontal_Inf_Orb_R_1','Frontal_Inf_Orb_R_2','Frontal_Inf_Orb_R_3','Frontal_Inf_Orb_R_4','Frontal_Inf_Orb_R_5','Frontal_Inf_Orb_R_6','Frontal_Inf_Orb_R_7','Frontal_Inf_Tri_L_1','Frontal_Inf_Tri_L_10','Frontal_Inf_Tri_L_2','Frontal_Inf_Tri_L_3','Frontal_Inf_Tri_L_4','Frontal_Inf_Tri_L_5','Frontal_Inf_Tri_L_6','Frontal_Inf_Tri_L_7','Frontal_Inf_Tri_L_8','Frontal_Inf_Tri_L_9','Frontal_Inf_Tri_R_1','Frontal_Inf_Tri_R_2','Frontal_Inf_Tri_R_3','Frontal_Inf_Tri_R_4','Frontal_Inf_Tri_R_5','Frontal_Inf_Tri_R_6','Frontal_Inf_Tri_R_7','Frontal_Inf_Tri_R_8','Frontal_Inf_Tri_R_9','Frontal_Mid_L_1','Frontal_Mid_L_10','Frontal_Mid_L_11','Frontal_Mid_L_12','Frontal_Mid_L_13','Frontal_Mid_L_14','Frontal_Mid_L_15','Frontal_Mid_L_16','Frontal_Mid_L_17','Frontal_Mid_L_18','Frontal_Mid_L_19','Frontal_Mid_L_2','Frontal_Mid_L_3','Frontal_Mid_L_4','Frontal_Mid_L_5','Frontal_Mid_L_6','Frontal_Mid_L_7','Frontal_Mid_L_8','Frontal_Mid_L_9','Frontal_Mid_Orb_L_1','Frontal_Mid_Orb_L_2','Frontal_Mid_Orb_L_3','Frontal_Mid_Orb_R_1','Frontal_Mid_Orb_R_2','Frontal_Mid_Orb_R_3','Frontal_Mid_Orbb_L_1','Frontal_Mid_Orbb_L_2','Frontal_Mid_Orbb_L_3','Frontal_Mid_Orbb_L_4','Frontal_Mid_Orbb_R_1','Frontal_Mid_Orbb_R_2','Frontal_Mid_Orbb_R_3','Frontal_Mid_Orbb_R_4','Frontal_Mid_R_1','Frontal_Mid_R_10','Frontal_Mid_R_11','Frontal_Mid_R_12','Frontal_Mid_R_13','Frontal_Mid_R_14','Frontal_Mid_R_15','Frontal_Mid_R_16','Frontal_Mid_R_17','Frontal_Mid_R_18','Frontal_Mid_R_19','Frontal_Mid_R_2','Frontal_Mid_R_20','Frontal_Mid_R_3','Frontal_Mid_R_4','Frontal_Mid_R_5','Frontal_Mid_R_6','Frontal_Mid_R_7','Frontal_Mid_R_8','Frontal_Mid_R_9','Frontal_Sup_L_1','Frontal_Sup_L_10','Frontal_Sup_L_11','Frontal_Sup_L_12','Frontal_Sup_L_13','Frontal_Sup_L_14','Frontal_Sup_L_2','Frontal_Sup_L_3','Frontal_Sup_L_4','Frontal_Sup_L_5','Frontal_Sup_L_6','Frontal_Sup_L_7','Frontal_Sup_L_8','Frontal_Sup_L_9','Frontal_Sup_Medial_L_1','Frontal_Sup_Medial_L_10','Frontal_Sup_Medial_L_11','Frontal_Sup_Medial_L_12','Frontal_Sup_Medial_L_2','Frontal_Sup_Medial_L_3','Frontal_Sup_Medial_L_4','Frontal_Sup_Medial_L_5','Frontal_Sup_Medial_L_6','Frontal_Sup_Medial_L_7','Frontal_Sup_Medial_L_8','Frontal_Sup_Medial_L_9','Frontal_Sup_Medial_R_1','Frontal_Sup_Medial_R_2','Frontal_Sup_Medial_R_3','Frontal_Sup_Medial_R_4','Frontal_Sup_Medial_R_5','Frontal_Sup_Medial_R_6','Frontal_Sup_Medial_R_7','Frontal_Sup_Medial_R_8','Frontal_Sup_Medial_R_9','Frontal_Sup_Orb_L_1','Frontal_Sup_Orb_L_2','Frontal_Sup_Orb_L_3','Frontal_Sup_Orb_L_4','Frontal_Sup_Orb_R_1','Frontal_Sup_Orb_R_2','Frontal_Sup_Orb_R_3','Frontal_Sup_Orb_R_4','Frontal_Sup_R_1','Frontal_Sup_R_10','Frontal_Sup_R_11','Frontal_Sup_R_12','Frontal_Sup_R_13','Frontal_Sup_R_14','Frontal_Sup_R_15','Frontal_Sup_R_16','Frontal_Sup_R_2','Frontal_Sup_R_3','Frontal_Sup_R_4','Frontal_Sup_R_5','Frontal_Sup_R_6','Frontal_Sup_R_7','Frontal_Sup_R_8','Frontal_Sup_R_9','Precentral_L_1','Precentral_L_10','Precentral_L_11','Precentral_L_12','Precentral_L_13','Precentral_L_14','Precentral_L_2','Precentral_L_3','Precentral_L_4','Precentral_L_5','Precentral_L_6','Precentral_L_7','Precentral_L_8','Precentral_L_9','Precentral_R_1','Precentral_R_10','Precentral_R_11','Precentral_R_12','Precentral_R_13','Precentral_R_14','Precentral_R_2','Precentral_R_3','Precentral_R_4','Precentral_R_5','Precentral_R_6','Precentral_R_7','Precentral_R_8','Precentral_R_9','Rectus_L_1','Rectus_L_2','Rectus_L_3','Rectus_R_1','Rectus_R_2','Rectus_R_3','Rolandic_Oper_L_3','Rolandic_Oper_L_4','Rolandic_Oper_R_3','Rolandic_Oper_R_4','Rolandic_Oper_R_5','Supp_Motor_Area_L_1','Supp_Motor_Area_L_2','Supp_Motor_Area_L_3','Supp_Motor_Area_L_4','Supp_Motor_Area_L_5','Supp_Motor_Area_L_6','Supp_Motor_Area_L_7','Supp_Motor_Area_L_8','Supp_Motor_Area_L_9','Supp_Motor_Area_R_1','Supp_Motor_Area_R_2','Supp_Motor_Area_R_3','Supp_Motor_Area_R_4','Supp_Motor_Area_R_5','Supp_Motor_Area_R_6','Supp_Motor_Area_R_7','Supp_Motor_Area_R_8','Supp_Motor_Area_R_9']"
   ]
  },
  {
   "cell_type": "code",
   "execution_count": null,
   "metadata": {
    "collapsed": true,
    "deletable": true,
    "editable": true
   },
   "outputs": [],
   "source": [
    "modular_freq=np.zeros([223,223])\n",
    "for x in domains:\n",
    "        for h,n in enumerate(nodes):\n",
    "            if n in G_part[x].keys():\n",
    "                for f,m in enumerate(nodes):\n",
    "                    if m in G_part[x].keys():\n",
    "                        if n != m:\n",
    "                            if G_part[x][n]==G_part[x][m]:\n",
    "                                modular_freq[h][f]=modular_freq[h][f]+1\n",
    "                            if modular_freq[h][f]==9:\n",
    "                                print n, m, modular_freq[h][f]"
   ]
  },
  {
   "cell_type": "code",
   "execution_count": null,
   "metadata": {
    "collapsed": false,
    "deletable": true,
    "editable": true
   },
   "outputs": [],
   "source": [
    "figu=plt.figure(dpi=100)\n",
    "plt.imshow(modular_freq, interpolation='nearest')\n",
    "plt.colorbar()"
   ]
  },
  {
   "cell_type": "code",
   "execution_count": null,
   "metadata": {
    "collapsed": false,
    "deletable": true,
    "editable": true
   },
   "outputs": [],
   "source": [
    "mean={}\n",
    "std={}\n",
    "z={}\n",
    "for x in domains:\n",
    "    mean[x]=np.mean(rand_lou_list[x])\n",
    "    std[x]=np.std(rand_lou_list[x])\n",
    "    z[x]=((community.modularity(G_part[x], G_nothresh[x])-mean[x])/std[x])\n",
    "    if z[x] > 1.96:\n",
    "        print x, '| Q =', community.modularity(G_part[x], G_nothresh[x]), '| Z =', z[x], '| M =', mean[x]"
   ]
  },
  {
   "cell_type": "markdown",
   "metadata": {
    "deletable": true,
    "editable": true
   },
   "source": [
    "Simmulated Annealing"
   ]
  },
  {
   "cell_type": "code",
   "execution_count": null,
   "metadata": {
    "collapsed": true,
    "deletable": true,
    "editable": true
   },
   "outputs": [],
   "source": [
    "Sim_part={}"
   ]
  },
  {
   "cell_type": "code",
   "execution_count": null,
   "metadata": {
    "collapsed": true,
    "deletable": true,
    "editable": true
   },
   "outputs": [],
   "source": [
    "Sim_part['Working Memory']=mod.simulated_annealing(G_noweight['Working Memory'])"
   ]
  },
  {
   "cell_type": "code",
   "execution_count": null,
   "metadata": {
    "collapsed": false,
    "deletable": true,
    "editable": true
   },
   "outputs": [],
   "source": [
    "for x in domains:\n",
    "    workdir='/Users/owner/Functional_Connectivity/Results/Modularity_nothresh/Bilatera_Sim/'\n",
    "    output=workdir+'Sim_'+x+'_part_nothresh.pck'\n",
    "    pickle.dump (Sim_part[x], open (output, 'wb') )"
   ]
  },
  {
   "cell_type": "code",
   "execution_count": null,
   "metadata": {
    "collapsed": false,
    "deletable": true,
    "editable": true
   },
   "outputs": [],
   "source": [
    "for x in domains:\n",
    "    print 'Simulated Annealing:', Sim_part[x][1], x"
   ]
  },
  {
   "cell_type": "code",
   "execution_count": null,
   "metadata": {
    "collapsed": true,
    "deletable": true,
    "editable": true
   },
   "outputs": [],
   "source": [
    "mutual_matrix_sim=np.zeros([len(domains),len(domains)])\n",
    "mutual={}\n",
    "mutual_sim={}\n",
    "for x,y in enumerate(domains):\n",
    "    for a,b in enumerate(domains):\n",
    "        mutual_matrix_sim[x][a]=mod.mutual_information(Sim_part[y][0].index,Sim_part[b][0].index)\n",
    "fig=plt.figure(); ax=fig.add_subplot(111)\n",
    "np.fill_diagonal(mutual_matrix_sim,0)\n",
    "fig.subplots_adjust(right=5)\n",
    "plt.imshow(np.tril(mutual_matrix_sim), interpolation='nearest')\n",
    "plt.xticks([0,1,2,3,4,5,6,7,8,9,10])\n",
    "plt.colorbar()\n",
    "ax.set_xbound(0,8.5); ax.set_ybound(0,8.5)\n",
    "ax.set_xticklabels(domains, rotation='90')\n",
    "ax.set_yticklabels(domains)\n",
    "plt.figure()"
   ]
  },
  {
   "cell_type": "markdown",
   "metadata": {
    "deletable": true,
    "editable": true
   },
   "source": [
    "Modularity Graphs"
   ]
  },
  {
   "cell_type": "code",
   "execution_count": null,
   "metadata": {
    "collapsed": true,
    "deletable": true,
    "editable": true
   },
   "outputs": [],
   "source": [
    "number_mods_sim=[(len(Sim_part[x][0].index)) for x in domains]\n",
    "number_mods_lou=[(len(Louvain_part[x])) for x in domains]\n",
    "number_mods_new=[(len(G_new[x])) for x in domains]\n",
    "number_mods_con_lou=[(len(con_lou_G[x])) for x in domains]"
   ]
  },
  {
   "cell_type": "code",
   "execution_count": null,
   "metadata": {
    "collapsed": false,
    "deletable": true,
    "editable": true
   },
   "outputs": [],
   "source": [
    "a=[(0,5),(1,6),(2,6),(3,7),(4,7),(5,6),(6,5),(7,8),(8,14)]\n",
    "b=[(a[y][0],(a[y][1])+0.5) for y in range(len(a))]"
   ]
  },
  {
   "cell_type": "code",
   "execution_count": null,
   "metadata": {
    "collapsed": true,
    "deletable": true,
    "editable": true
   },
   "outputs": [],
   "source": [
    "plt.figure(1, dpi=100)\n",
    "\n",
    "plt.subplot(411)\n",
    "plt.bar(range(len(domains)), number_mods_lou, align='center', color='orange')\n",
    "plt.yticks(pl.frange(0, 18, 6))\n",
    "plt.tick_params(axis='x', which='both', labelbottom='off')\n",
    "plt.ylabel('Louvain')\n",
    "plt.xticks(range(len(domains)))\n",
    "plt.title('Comparison of Modularity Algorithms: Number of Modules and Q')\n",
    "for n in range(len(xy)):\n",
    "    plt.annotate((round(q_val_lou[n],3)), a[n], b[n], horizontalalignment='center')\n",
    "\n",
    "plt.subplot(412)\n",
    "plt.bar(range(len(domains)), number_mods_sim, align='center', color='orange')\n",
    "plt.yticks(pl.frange(0, 18, 6))\n",
    "plt.xticks(range(len(domains)))\n",
    "plt.tick_params(axis='x', which='both', labelbottom='off')\n",
    "plt.ylabel('SA')\n",
    "for n in range(len(xy)):\n",
    "    plt.annotate((round(q_val_sim[n],3)), a[n], b[n], horizontalalignment='center')\n",
    "\n",
    "plt.subplot(413)\n",
    "plt.bar(range(len(domains)), number_mods_new, align='center', color='orange')\n",
    "plt.tick_params(axis='x', which='both', labelbottom='off')\n",
    "plt.yticks(pl.frange(0, 18, 6))\n",
    "plt.xticks(range(len(domains)))\n",
    "plt.ylabel('Newman')\n",
    "for n in range(len(xy)):\n",
    "    plt.annotate((round(q_val_new[n],3)), a[n], b[n], horizontalalignment='center')\n",
    "\n",
    "plt.subplot(414)\n",
    "plt.bar(range(len(domains)), number_mods_con_lou, align='center', color='blue')\n",
    "plt.xticks(range(len(domains)), domains, rotation=80)\n",
    "plt.yticks(pl.frange(0, 18, 6))\n",
    "plt.xlabel('Domain')\n",
    "plt.ylabel('Consensus')\n",
    "for n in range(len(xy)):\n",
    "    plt.annotate((round(q_val_con_lou[n],3)), a[n], b[n], horizontalalignment='center')\n",
    "\n",
    "plt.subplots_adjust(top=0.92, bottom=0.08, left=0.10, right=0.95, hspace=0.50, wspace=0.35)\n",
    "plt.show()\n"
   ]
  },
  {
   "cell_type": "code",
   "execution_count": null,
   "metadata": {
    "collapsed": false,
    "deletable": true,
    "editable": true
   },
   "outputs": [],
   "source": [
    "q_val_lou=[(community.modularity(G_part[x], G_nothresh[x])) for x in domains] \n",
    "q_val_sim=[(Sim_part[x][1]) for x in domains]\n",
    "q_val_new=[(Mod[x].modularity_newman()) for x in domains]\n",
    "q_val_con_lou=[(community.modularity(con_lou[x], G_nothresh[x])) for x in domains]"
   ]
  },
  {
   "cell_type": "code",
   "execution_count": null,
   "metadata": {
    "collapsed": false,
    "deletable": true,
    "editable": true
   },
   "outputs": [],
   "source": [
    "xy=[(0,0.25),(1,0.3),(2,0.25),(3,0.3),(4,0.25),(5,0.35),(6,0.35),(7,0.2),(8,0.55)]\n",
    "xytext=[(0,0.37),(1,0.36),(2,0.31),(3,0.38),(4,0.33),(5,0.39),(6,0.39),(7,0.19),(8,0.57)]"
   ]
  },
  {
   "cell_type": "code",
   "execution_count": null,
   "metadata": {
    "collapsed": false,
    "deletable": true,
    "editable": true
   },
   "outputs": [],
   "source": [
    "plt.figure(1, dpi=100)\n",
    "\n",
    "plt.subplot(411)\n",
    "plt.bar(range(len(domains)), q_val_lou, align='center', color='teal')\n",
    "plt.yticks(pl.frange(0.0, 0.7, 0.25))\n",
    "plt.tick_params(axis='x', which='both', labelbottom='off')\n",
    "plt.xticks(range(len(domains)))\n",
    "plt.ylabel('Louvain')\n",
    "for n in range(len(xy)):\n",
    "    plt.annotate(number_mods_lou[n], xy[n], xytext[n], horizontalalignment='center')\n",
    "plt.title('Comparison of Modularity Algorithms: Q and Number of Modules')\n",
    "\n",
    "plt.subplot(412)\n",
    "plt.bar(range(len(domains)), q_val_sim, align='center', color='teal')\n",
    "plt.xticks(range(len(domains)))\n",
    "plt.yticks(pl.frange(0.0, 0.7, 0.25))\n",
    "plt.tick_params(axis='x', which='both', labelbottom='off')\n",
    "plt.ylabel('SA')\n",
    "for n in range(len(xy)):\n",
    "    plt.annotate(number_mods_sim[n], xy[n], xytext[n], horizontalalignment='center')\n",
    "\n",
    "plt.subplot(413)\n",
    "plt.bar(range(len(domains)), q_val_new, align='center', color='teal')\n",
    "plt.xticks(range(len(domains)))\n",
    "plt.tick_params(axis='x', which='both', labelbottom='off')\n",
    "plt.yticks(pl.frange(0.0, 0.7, 0.25))\n",
    "plt.ylabel('Newman')\n",
    "for n in range(len(xy)):\n",
    "    plt.annotate(number_mods_new[n], xy[n], xytext[n], horizontalalignment='center')\n",
    "\n",
    "\n",
    "plt.subplot(414)\n",
    "plt.bar(range(len(domains)), q_val_con_lou, align='center', color='red')\n",
    "plt.xticks(range(len(domains)), domains, rotation=80)\n",
    "plt.yticks(pl.frange(0.0, 0.7, 0.25))\n",
    "plt.xlabel('Domain')\n",
    "plt.ylabel('Consensus')\n",
    "for n in range(len(xy)):\n",
    "    plt.annotate(number_mods_con_lou[n], xy[n], xytext[n], horizontalalignment='center')\n",
    "\n",
    "plt.subplots_adjust(top=0.92, bottom=0.08, left=0.10, right=0.95, hspace=0.50, wspace=0.35)\n",
    "plt.show()"
   ]
  },
  {
   "cell_type": "markdown",
   "metadata": {
    "deletable": true,
    "editable": true
   },
   "source": [
    "# Creating BrainNet Viewer Files"
   ]
  },
  {
   "cell_type": "code",
   "execution_count": null,
   "metadata": {
    "collapsed": false,
    "deletable": true,
    "editable": true
   },
   "outputs": [],
   "source": [
    "Sim_part={x: pickle.load(open('/Users/owner/Functional_Connectivity/Results/Modularity_nothresh/Bilatera_Sim/Sim_'+x+'_part_nothresh.pck','rb')) for x in domains}\n",
    "Newman_part={x: pickle.load(open('/Users/owner/Functional_Connectivity/Results/Modularity_nothresh/Newman/Newman_partition_'+x+'_nothresh.pck', 'rb')) for x in domains}\n",
    "G_part={x: pickle.load(open('/Users/owner/Functional_Connectivity/Results/Modularity_nothresh/Louvain/Louvain_part_'+x+'_nothresh.pck','rb')) for x in domains}"
   ]
  },
  {
   "cell_type": "code",
   "execution_count": null,
   "metadata": {
    "collapsed": false,
    "deletable": true,
    "editable": true
   },
   "outputs": [],
   "source": [
    "G_new={x: Newman_part[x].index_as_node_names() for x in domains}"
   ]
  },
  {
   "cell_type": "code",
   "execution_count": null,
   "metadata": {
    "collapsed": false,
    "deletable": true,
    "editable": true
   },
   "outputs": [],
   "source": [
    "Sim_partition={x: Sim_part[x][0].index_as_node_names() for x in domains}"
   ]
  },
  {
   "cell_type": "code",
   "execution_count": null,
   "metadata": {
    "collapsed": false,
    "deletable": true,
    "editable": true
   },
   "outputs": [],
   "source": [
    "for x in domains:\n",
    "    myfunctions.node_file(G_part[x], y=basic_metrics[x]['between_cent'], filename='Bilateral_Lou_nothresh_'+x+'_node.csv')\n",
    "    myfunctions.sim_node_file(Sim_partition[x], y=basic_metrics[x]['between_cent'], filename='Bilateral_Sim_nothresh_'+x+'_node.csv')"
   ]
  },
  {
   "cell_type": "code",
   "execution_count": null,
   "metadata": {
    "collapsed": false,
    "deletable": true,
    "editable": true
   },
   "outputs": [],
   "source": [
    "for x in domains:\n",
    "    myfunctions.sim_node_file(G_new[x], y=basic_metrics[x]['between_cent'], filename='Bilateral_New_nothresh_'+x+'_node.csv')\n",
    "for x in domains:    \n",
    "    csv_file = '/Users/owner/Desktop/BrainImagingViewer/BrainNetViewer_20171031/Data/NodeFiles/Nothresh/CSV/Bilateral/Bilateral_New_nothresh_'+x+'_node.csv'\n",
    "    txt_file = '/Users/owner/Desktop/BrainImagingViewer/BrainNetViewer_20171031/Data/NodeFiles/Nothresh/Bilateral/New/Bilateral_New_nothresh_'+x+'_node.node'\n",
    "    with open(txt_file, \"w\") as my_output_file:\n",
    "        with open(csv_file, \"r\") as my_input_file:\n",
    "            [ my_output_file.write(\" \".join(row)+'\\n') for row in csv.reader(my_input_file)]\n",
    "        my_output_file.close()"
   ]
  },
  {
   "cell_type": "code",
   "execution_count": null,
   "metadata": {
    "collapsed": false,
    "deletable": true,
    "editable": true
   },
   "outputs": [],
   "source": [
    "for x in domains:\n",
    "    csv_file = '/Users/owner/Desktop/BrainImagingViewer/BrainNetViewer_20171031/Data/NodeFiles/Nothresh/CSV/Bilateral/Bilateral_Sim_nothresh_'+x+'_node.csv'\n",
    "    txt_file = '/Users/owner/Desktop/BrainImagingViewer/BrainNetViewer_20171031/Data/NodeFiles/Nothresh/Bilateral/Sim/Bilateral_Sim_nothresh_'+x+'_node.node'\n",
    "    with open(txt_file, \"w\") as my_output_file:\n",
    "        with open(csv_file, \"r\") as my_input_file:\n",
    "            [ my_output_file.write(\" \".join(row)+'\\n') for row in csv.reader(my_input_file)]\n",
    "        my_output_file.close()"
   ]
  },
  {
   "cell_type": "code",
   "execution_count": null,
   "metadata": {
    "collapsed": true,
    "deletable": true,
    "editable": true
   },
   "outputs": [],
   "source": [
    "for x in domains:\n",
    "    csv_file = '/Users/owner/Desktop/BrainImagingViewer/BrainNetViewer_20171031/Data/NodeFiles/Nothresh/CSV/Bilateral/Bilateral_Lou_nothresh_'+x+'_node.csv'\n",
    "    txt_file = '/Users/owner/Desktop/BrainImagingViewer/BrainNetViewer_20171031/Data/NodeFiles/Nothresh/Bilateral/Lou/Bilateral_Lou_nothresh_'+x+'_node.node'\n",
    "    with open(txt_file, \"w\") as my_output_file:\n",
    "        with open(csv_file, \"r\") as my_input_file:\n",
    "            [ my_output_file.write(\" \".join(row)+'\\n') for row in csv.reader(my_input_file)]\n",
    "        my_output_file.close()"
   ]
  },
  {
   "cell_type": "code",
   "execution_count": null,
   "metadata": {
    "collapsed": true,
    "deletable": true,
    "editable": true
   },
   "outputs": [],
   "source": [
    "edge={}\n",
    "for x in domains:\n",
    "    edge[x]=pd.DataFrame(nx.to_numpy_matrix(G_nothresh[x]))\n",
    "    edge[x].to_csv('/Users/owner/Desktop/BrainImagingViewer/BrainNetViewer_20171031/Data/NodeFiles/Nothresh/CSV/Bilateral/Bilateral_nothresh_'+x+'_edge.csv', header=False, index=False, index_label=False)"
   ]
  },
  {
   "cell_type": "code",
   "execution_count": null,
   "metadata": {
    "collapsed": false,
    "deletable": true,
    "editable": true
   },
   "outputs": [],
   "source": [
    "for x in domains:\n",
    "    csv_file = '/Users/owner/Desktop/BrainImagingViewer/BrainNetViewer_20171031/Data/NodeFiles/Nothresh/CSV/Bilateral/Bilateral_nothresh_'+x+'_edge.csv'\n",
    "    txt_file = '/Users/owner/Desktop/BrainImagingViewer/BrainNetViewer_20171031/Data/EdgeFiles/Nothresh/Bilateral_nothresh_'+x+'_edge.edge'\n",
    "    with open(txt_file, \"w\") as my_output_file:\n",
    "        with open(csv_file, \"r\") as my_input_file:\n",
    "            [ my_output_file.write(\" \".join(row)+'\\n') for row in csv.reader(my_input_file)]\n",
    "        my_output_file.close()"
   ]
  },
  {
   "cell_type": "markdown",
   "metadata": {
    "deletable": true,
    "editable": true
   },
   "source": [
    "# Consensus Modularity"
   ]
  },
  {
   "cell_type": "markdown",
   "metadata": {
    "deletable": true,
    "editable": true
   },
   "source": [
    "Consensus Modularity Matrix"
   ]
  },
  {
   "cell_type": "code",
   "execution_count": null,
   "metadata": {
    "collapsed": false,
    "deletable": true,
    "editable": true
   },
   "outputs": [],
   "source": [
    "random_array={x: myfunctions.random_modular_matrix(G_nothresh[x], iterations=10) for x in domains}"
   ]
  },
  {
   "cell_type": "code",
   "execution_count": null,
   "metadata": {
    "collapsed": false,
    "deletable": true,
    "editable": true
   },
   "outputs": [],
   "source": [
    "for x in domains:\n",
    "    pickle.dump(random_array[x], open ('/Users/owner/Functional_Connectivity/Results/Modularity_nothresh/Random_matrix/Random_'+x+'_modular_matrix_nothresh.pck','wb'))"
   ]
  },
  {
   "cell_type": "code",
   "execution_count": 35,
   "metadata": {
    "collapsed": false,
    "deletable": true,
    "editable": true
   },
   "outputs": [
    {
     "name": "stdout",
     "output_type": "stream",
     "text": [
      "Louvain Modularity:  Memory | 0.428652525967 : 3\n",
      "Louvain Modularity:  Working Memory | 0.561950777887 : 5\n",
      "Louvain Modularity:  Emotion | 0.488740825528 : 4\n",
      "Louvain Modularity:  Attention | 0.407144227041 : 3\n",
      "Louvain Modularity:  Language | 0.34149189454 : 3\n",
      "Louvain Modularity:  Vision | 0.445558377449 : 5\n",
      "Louvain Modularity:  Audition | 0.500779216704 : 12\n",
      "Louvain Modularity:  Base | 0.454706535584 : 3\n",
      "Louvain Modularity:  Rest | 0.56416697045 : 4\n"
     ]
    }
   ],
   "source": [
    "random_array={x: pickle.load(open ('/Users/owner/Functional_Connectivity/Results/Modularity_nothresh/Random_matrix/Random_'+x+'_modular_matrix_nothresh.pck','rb')) for x in domains}\n",
    "consensus_array={x: myfunctions.consensus_modular_matrix(G_nothresh[x], G_part[x], bct_partition[x], random_array[x][1]) for x in domains}\n",
    "n_nodes={x: len(range(nx.number_of_nodes(G_nothresh[x]))) for x in domains}\n",
    "nodes={x: dict(zip(range(n_nodes[x]), G_nothresh[x].nodes())) for x in domains}\n",
    "con_G={x: nx.from_numpy_matrix(consensus_array[x]) for x in domains}\n",
    "con_G={x: nx.relabel_nodes(con_G[x], nodes[x]) for x in domains}\n",
    "con_lou={x: community.best_partition(con_G[x]) for x in domains}\n",
    "con_lou_G={x: brainmap.make_brainx_style_partition(con_lou[x]) for x in domains}\n",
    "for x in domains:\n",
    "    print \"Louvain Modularity: \", x, '|', community.modularity(con_lou[x], con_G[x]),':', len(con_lou_G[x])"
   ]
  },
  {
   "cell_type": "code",
   "execution_count": 38,
   "metadata": {
    "collapsed": false,
    "deletable": true,
    "editable": true
   },
   "outputs": [],
   "source": [
    "%%cython\n",
    "from __main__ import nx\n",
    "from __main__ import brainmap\n",
    "cpdef bct_rand_g_partition(G, dict bct_dict, list domain_list):\n",
    "    cdef dict bct_rand_part\n",
    "    cdef str x\n",
    "    cdef int n\n",
    "    bct_rand_part={x: {n: dict(zip(G[x][n].nodes(), bct_dict[x][n][0])) for n in range(len(G[x]))} for x in domain_list}\n",
    "    bct_rand_partition={x: {n: brainmap.make_brainx_style_partition (bct_rand_part[x][n]) for n in range(len(bct_rand_part[x]))} for x in domain_list}\n",
    "    return bct_rand_partition"
   ]
  },
  {
   "cell_type": "code",
   "execution_count": 43,
   "metadata": {
    "collapsed": false,
    "deletable": true,
    "editable": true
   },
   "outputs": [
    {
     "name": "stdout",
     "output_type": "stream",
     "text": [
      "CPU times: user 3.01 s, sys: 5.31 s, total: 8.32 s\n",
      "Wall time: 34.4 s\n"
     ]
    }
   ],
   "source": [
    "%%time\n",
    "rand_bct_part=bct_rand_g_partition(G_random, bct_rand_mod, domains)"
   ]
  },
  {
   "cell_type": "code",
   "execution_count": 61,
   "metadata": {
    "collapsed": false,
    "deletable": true,
    "editable": true,
    "scrolled": true
   },
   "outputs": [],
   "source": [
    "%%cython\n",
    "from __main__ import nx\n",
    "from __main__ import np\n",
    "cpdef consen_rand_array(G, lou_part, bct_part, list domain_list):\n",
    "    cdef dict random_matrixs\n",
    "    cdef dict sum_matrix\n",
    "    cdef dict avg_rand_matrix\n",
    "    cdef str x\n",
    "    cdef int n\n",
    "    cdef int r\n",
    "    cdef int d\n",
    "    cdef int k\n",
    "    cdef int b\n",
    "    cdef int v\n",
    "    random_matrixs={x: {n: np.zeros([G[x][n].number_of_nodes(),G[x][n].number_of_nodes()]) for n in range(len(G[x]))} for x in domain_list}\n",
    "    sum_matrix={x: {n: np.zeros([G[x][n].number_of_nodes(),G[x][n].number_of_nodes()]) for n in range(len(G[x]))} for x in domain_list}\n",
    "    for x in domain_list:\n",
    "        for n in range(len(G[x])):\n",
    "            for r,k in enumerate (G[x][n].nodes()):\n",
    "                for d,b in enumerate (G[x][n].nodes()):\n",
    "                    if k != b:\n",
    "                        if lou_part[x][n][k] == lou_part[x][n][b]:\n",
    "                            random_matrixs[x][n][r][d] += 1\n",
    "                        for v in range (len(bct_part[x][n])):\n",
    "                            if k in bct_part[x][n][v]:\n",
    "                                if b in bct_part[x][n][v]:\n",
    "                                    random_matrixs[x][n][r][d] += 1\n",
    "    sum_matrix={x: {n: random_matrixs[x][n]+sum_matrix[x][n] for n in range(len(G[x]))} for x in domain_list}\n",
    "    avg_rand_matrix={x: {n: sum_matrix[x][n]/2 for n in range(len(G[x]))} for x in domain_list}\n",
    "    return avg_rand_matrix"
   ]
  },
  {
   "cell_type": "code",
   "execution_count": 62,
   "metadata": {
    "collapsed": false,
    "deletable": true,
    "editable": true
   },
   "outputs": [
    {
     "name": "stdout",
     "output_type": "stream",
     "text": [
      "CPU times: user 35min 32s, sys: 29.9 s, total: 36min 2s\n",
      "Wall time: 36min 8s\n"
     ]
    }
   ],
   "source": [
    "%%time\n",
    "rand_consensus_array=consen_rand_array(G_random, rand_part, rand_bct_part, domains)"
   ]
  },
  {
   "cell_type": "code",
   "execution_count": 78,
   "metadata": {
    "collapsed": false,
    "deletable": true,
    "editable": true
   },
   "outputs": [],
   "source": [
    "%%cython\n",
    "from __main__ import np\n",
    "from __main__ import nx\n",
    "cpdef random_consensus_G (G, dict rand_con_array, list domain_list):\n",
    "    cdef str x\n",
    "    cdef int n\n",
    "    cdef dict n_nodes = {}\n",
    "    cdef dict nodes = {}\n",
    "    cdef dict con_G = {}\n",
    "    for x in domain_list:\n",
    "        n_nodes[x]={n: len(range(nx.number_of_nodes(G[x][n]))) for n in range(len(G[x]))}\n",
    "        nodes[x]={n: dict(zip(range(n_nodes[x][n]), G[x][n].nodes())) for n in range(len(G[x]))}\n",
    "        con_G[x]={n: nx.from_numpy_matrix(rand_con_array[x][n]) for n in range(len(G[x]))}\n",
    "        con_G[x]={n: nx.relabel_nodes(con_G[x][n], nodes[x][n]) for n in range(len(G[x]))}"
   ]
  },
  {
   "cell_type": "code",
   "execution_count": null,
   "metadata": {
    "collapsed": false,
    "deletable": true,
    "editable": true
   },
   "outputs": [],
   "source": [
    "random_con_G_dict=random_consensus_G(G_random, rand_consensus_array, domains)"
   ]
  },
  {
   "cell_type": "code",
   "execution_count": 72,
   "metadata": {
    "collapsed": false,
    "deletable": true,
    "editable": true
   },
   "outputs": [],
   "source": [
    "@jit\n",
    "def com_rand_list(G, random_dict, domain_list):\n",
    "    com_mod_list={}\n",
    "    for x in domains:\n",
    "        com_mod_list[x]=[community.modularity(random_dict[x][n], G[x][n]) for n in range(len(G[x]))]\n",
    "    return com_mod_list"
   ]
  },
  {
   "cell_type": "code",
   "execution_count": 73,
   "metadata": {
    "collapsed": false,
    "deletable": true,
    "editable": true
   },
   "outputs": [
    {
     "ename": "TypeError",
     "evalue": "unhashable type: 'numpy.ndarray'",
     "output_type": "error",
     "traceback": [
      "\u001b[0;31m---------------------------------------------------------------------------\u001b[0m",
      "\u001b[0;31mTypeError\u001b[0m                                 Traceback (most recent call last)",
      "\u001b[0;32m<ipython-input-73-3d26698450d7>\u001b[0m in \u001b[0;36m<module>\u001b[0;34m()\u001b[0m\n\u001b[0;32m----> 1\u001b[0;31m \u001b[0mrand_com_lou\u001b[0m\u001b[0;34m=\u001b[0m\u001b[0mcom_rand_list\u001b[0m\u001b[0;34m(\u001b[0m\u001b[0mG_random\u001b[0m\u001b[0;34m,\u001b[0m \u001b[0mrand_consensus_array\u001b[0m\u001b[0;34m,\u001b[0m \u001b[0mdomains\u001b[0m\u001b[0;34m)\u001b[0m\u001b[0;34m\u001b[0m\u001b[0m\n\u001b[0m",
      "\u001b[0;32m/Users/owner/Library/Enthought/Canopy_64bit/User/lib/python2.7/site-packages/python_louvain-0.4-py2.7.egg/community/community_louvain.pyc\u001b[0m in \u001b[0;36mmodularity\u001b[0;34m(partition, graph, weight)\u001b[0m\n\u001b[1;32m    115\u001b[0m     \u001b[0;32mfor\u001b[0m \u001b[0mnode\u001b[0m \u001b[0;32min\u001b[0m \u001b[0mgraph\u001b[0m\u001b[0;34m:\u001b[0m\u001b[0;34m\u001b[0m\u001b[0m\n\u001b[1;32m    116\u001b[0m         \u001b[0mcom\u001b[0m \u001b[0;34m=\u001b[0m \u001b[0mpartition\u001b[0m\u001b[0;34m[\u001b[0m\u001b[0mnode\u001b[0m\u001b[0;34m]\u001b[0m\u001b[0;34m\u001b[0m\u001b[0m\n\u001b[0;32m--> 117\u001b[0;31m         \u001b[0mdeg\u001b[0m\u001b[0;34m[\u001b[0m\u001b[0mcom\u001b[0m\u001b[0;34m]\u001b[0m \u001b[0;34m=\u001b[0m \u001b[0mdeg\u001b[0m\u001b[0;34m.\u001b[0m\u001b[0mget\u001b[0m\u001b[0;34m(\u001b[0m\u001b[0mcom\u001b[0m\u001b[0;34m,\u001b[0m \u001b[0;36m0.\u001b[0m\u001b[0;34m)\u001b[0m \u001b[0;34m+\u001b[0m \u001b[0mgraph\u001b[0m\u001b[0;34m.\u001b[0m\u001b[0mdegree\u001b[0m\u001b[0;34m(\u001b[0m\u001b[0mnode\u001b[0m\u001b[0;34m,\u001b[0m \u001b[0mweight\u001b[0m\u001b[0;34m=\u001b[0m\u001b[0mweight\u001b[0m\u001b[0;34m)\u001b[0m\u001b[0;34m\u001b[0m\u001b[0m\n\u001b[0m\u001b[1;32m    118\u001b[0m         \u001b[0;32mfor\u001b[0m \u001b[0mneighbor\u001b[0m\u001b[0;34m,\u001b[0m \u001b[0mdatas\u001b[0m \u001b[0;32min\u001b[0m \u001b[0mgraph\u001b[0m\u001b[0;34m[\u001b[0m\u001b[0mnode\u001b[0m\u001b[0;34m]\u001b[0m\u001b[0;34m.\u001b[0m\u001b[0mitems\u001b[0m\u001b[0;34m(\u001b[0m\u001b[0;34m)\u001b[0m\u001b[0;34m:\u001b[0m\u001b[0;34m\u001b[0m\u001b[0m\n\u001b[1;32m    119\u001b[0m             \u001b[0medge_weight\u001b[0m \u001b[0;34m=\u001b[0m \u001b[0mdatas\u001b[0m\u001b[0;34m.\u001b[0m\u001b[0mget\u001b[0m\u001b[0;34m(\u001b[0m\u001b[0mweight\u001b[0m\u001b[0;34m,\u001b[0m \u001b[0;36m1\u001b[0m\u001b[0;34m)\u001b[0m\u001b[0;34m\u001b[0m\u001b[0m\n",
      "\u001b[0;31mTypeError\u001b[0m: unhashable type: 'numpy.ndarray'"
     ]
    }
   ],
   "source": [
    "rand_com_lou=com_rand_list(G_random, rand_consensus_array, domains)"
   ]
  },
  {
   "cell_type": "code",
   "execution_count": null,
   "metadata": {
    "collapsed": true,
    "deletable": true,
    "editable": true
   },
   "outputs": [],
   "source": [
    "os.system(\"say 'Code complete.'\");"
   ]
  },
  {
   "cell_type": "code",
   "execution_count": null,
   "metadata": {
    "collapsed": false,
    "deletable": true,
    "editable": true
   },
   "outputs": [],
   "source": [
    "for x in domains:\n",
    "    myfunctions.node_file(con_lou[x], y=basic_metrics[x]['between_cent'], filename='Consensus_nothresh_nosim_'+x+'.csv' )\n",
    "    csv_file = '/Users/owner/Desktop/BrainImagingViewer/BrainNetViewer_20171031/Data/NodeFiles/Consensus_nothresh_nosim_'+x+'.csv' \n",
    "    txt_file = '/Users/owner/Desktop/BrainImagingViewer/BrainNetViewer_20171031/Data/NodeFiles/Consensus/Consensus_nothresh_nosim_'+x+'.node'\n",
    "    with open(txt_file, \"w\") as my_output_file:\n",
    "        with open(csv_file, \"r\") as my_input_file:\n",
    "            [ my_output_file.write(\" \".join(row)+'\\n') for row in csv.reader(my_input_file)]\n",
    "        my_output_file.close()"
   ]
  },
  {
   "cell_type": "code",
   "execution_count": null,
   "metadata": {
    "collapsed": true,
    "deletable": true,
    "editable": true
   },
   "outputs": [],
   "source": [
    "mutual_matrix_con=np.zeros([len(domains),len(domains)])\n",
    "for x,y in enumerate(domains):\n",
    "    for a,b in enumerate(domains):\n",
    "        mutual_matrix_con[x][a]=mod.mutual_information(con_lou_G[y],con_lou_G[b])\n",
    "np.fill_diagonal(mutual_matrix_con,0)\n",
    "plt.matshow(mutual_matrix_con)        \n",
    "plt.xticks(range(len(domains)), domains, rotation='90')\n",
    "plt.yticks(range(len(domains)), domains)\n",
    "plt.colorbar()\n",
    "#plt.savefig('/Users/owner/Desktop/Consensus_mutual_info.png')"
   ]
  },
  {
   "cell_type": "markdown",
   "metadata": {
    "deletable": true,
    "editable": true
   },
   "source": [
    "# Node & Module Specialization"
   ]
  },
  {
   "cell_type": "code",
   "execution_count": null,
   "metadata": {
    "collapsed": false,
    "deletable": true,
    "editable": true
   },
   "outputs": [],
   "source": [
    "domains='Memory','Working Memory','Emotion','Attention','Language','Vision','Audition'"
   ]
  },
  {
   "cell_type": "code",
   "execution_count": null,
   "metadata": {
    "collapsed": false,
    "deletable": true,
    "editable": true
   },
   "outputs": [],
   "source": [
    "region_all_keycodes=dict(zip(relabel_dict.values(), key_codes))\n",
    "node_all_keys={region: len(region_all_keycodes[region]) for region in G_nothresh['Base'].nodes()}\n",
    "region_all_domainkeys={}\n",
    "node_all_domainkeys={}\n",
    "for x in domains:\n",
    "    region_all_domainkeys[x]=dict(zip(relabel_dict.values(), domain_filtered_keycodes[x]))\n",
    "    node_all_domainkeys[x]={region: (region_all_domainkeys[x][region]) for region in G_nothresh['Base'].nodes()}"
   ]
  },
  {
   "cell_type": "code",
   "execution_count": null,
   "metadata": {
    "collapsed": false,
    "deletable": true,
    "editable": true
   },
   "outputs": [],
   "source": [
    "module_keys={module: {node: node_all_keys[node] for node in node_all_keys.keys() if node in con_lou_G['Base'][module]} for module in range(len(con_lou_G['Base']))}"
   ]
  },
  {
   "cell_type": "code",
   "execution_count": null,
   "metadata": {
    "collapsed": true,
    "deletable": true,
    "editable": true
   },
   "outputs": [],
   "source": [
    "module_domain_keys={x: {module: {region: node_all_domainkeys[x][region] for region in node_all_domainkeys[x].keys() if region in con_lou_G['Base'][module]} for module in range(len(con_lou_G['Base']))} for x in domains}"
   ]
  },
  {
   "cell_type": "code",
   "execution_count": null,
   "metadata": {
    "collapsed": false,
    "deletable": true,
    "editable": true
   },
   "outputs": [],
   "source": [
    "for region in node_all_domainkeys[x].keys():\n",
    "    \n",
    "    if region in con_lou_G['Base'][module]: \n",
    "zfoo={x: {module: node_all_domainkeys[x][region] for module in range(len(con_lou_G['Base']))} for x in domains}"
   ]
  },
  {
   "cell_type": "code",
   "execution_count": null,
   "metadata": {
    "collapsed": true,
    "deletable": true,
    "editable": true
   },
   "outputs": [],
   "source": [
    "#For each DMN region, a χ2 test was performed to evaluate the regional distribution vs overall database distribution.  \n",
    "#If the region's distribution was significantly different, a binomial test was performed to determine \n",
    "#which individual domains were over- or under-represented. When a significant domain was observed, the test was repeated \n",
    "#on the corresponding subcategories of that domain, yielding a hierarchical analysis of BD profiles that identifies the \n",
    "#neural processes associated with activation of the default mode regions."
   ]
  },
  {
   "cell_type": "code",
   "execution_count": null,
   "metadata": {
    "collapsed": true,
    "deletable": true,
    "editable": true
   },
   "outputs": [],
   "source": [
    "chi2_module={}\n",
    "chi2_module_expected={}\n",
    "for domain in domains:    \n",
    "    for module in range(len(module_domain_keys[domain])):\n",
    "        chi2_region={region: np.zeros([len(domains), 2]) for region in module_domain_keys[domain][module].keys()}\n",
    "        chi2_module[module]=np.zeros([len(domains), 2])\n",
    "        chi2_region_expected={region: np.copy(chi2_region[region]) for region in module_domain_keys[domain][module].keys()}\n",
    "        chi2_module_expected[module]=np.copy(chi2_module[module])\n",
    "for x, m in enumerate(domains):\n",
    "    for module in range(len(module_domain_keys[m])):\n",
    "        chi2_module[module][x][1]=brainmap.number_of_contrasts(domain_filtered_keycodes[m])\n",
    "        chi2_module[module][x][0]=sum(module_domain_keys[m][module].values())\n",
    "        for region in module_domain_keys[m][module]:\n",
    "            if region in chi2_region.keys():\n",
    "                chi2_region[region][x][0]=module_domain_keys[m][module][region]\n",
    "                chi2_region[region][x][1]=brainmap.number_of_contrasts(domain_filtered_keycodes[m])"
   ]
  },
  {
   "cell_type": "code",
   "execution_count": null,
   "metadata": {
    "collapsed": false,
    "deletable": true,
    "editable": true
   },
   "outputs": [],
   "source": [
    "col_sum={}\n",
    "row_sum={}\n",
    "exp={}\n",
    "obs={}\n",
    "differences={}\n",
    "X2={}\n",
    "for module in range(len(chi2_module.keys())):\n",
    "    for region in chi2_region.keys():\n",
    "        for col in range(2):\n",
    "            for rw in range(len(domains)):\n",
    "                col_sum[region]={col: chi2_region[region].sum(axis=0)[col] for col in range(2)}\n",
    "                row_sum[region]={rw: chi2_region[region].sum(axis=1)[rw] for rw in range(len(domains))}\n",
    "                N=chi2_region[region].sum()\n",
    "                exp[region]={col: {rw: (col_sum[region][col]/N)*row_sum[region][rw] for rw in range(len(domains))} for col in range(2)}\n",
    "                chi2_region_expected[region][rw][col]=exp[region][col][rw]\n",
    "                obs[region]={col: {rw: chi2_region[region][rw][col] for rw in range(len(domains))} for col in range(2)}\n",
    "                differences[region]={col: {rw: ((obs[region][col][rw]-exp[region][col][rw])**2/exp[region][col][rw]) for rw in range(len(domains))} for col in range(2)}\n",
    "                X2[region]=sum(differences[region][0].values())+sum(differences[region][1].values())"
   ]
  },
  {
   "cell_type": "code",
   "execution_count": null,
   "metadata": {
    "collapsed": false,
    "deletable": true,
    "editable": true
   },
   "outputs": [],
   "source": [
    "for region in chi2_region.keys():            \n",
    "    if X2[region] < 1.635:\n",
    "        print region"
   ]
  },
  {
   "cell_type": "code",
   "execution_count": null,
   "metadata": {
    "collapsed": true,
    "deletable": true,
    "editable": true
   },
   "outputs": [],
   "source": [
    "col_s={}\n",
    "row_s={}\n",
    "exp_mod={}\n",
    "obs_mod={}\n",
    "difference_mod={}\n",
    "X2_mod={}\n",
    "for module in range(len(chi2_module.keys())):\n",
    "    for region in chi2_region.keys():\n",
    "        for col in range(2):\n",
    "            for rw in range(len(domains)):\n",
    "                col_sum[region]={col: chi2_module[region].sum(axis=0)[col] for col in range(2)}\n",
    "                row_sum[region]={rw: chi2_region[region].sum(axis=1)[rw] for rw in range(len(domains))}\n",
    "                N=chi2_region[region].sum()\n",
    "                exp[region]={col: {rw: (col_sum[region][col]/N)*row_sum[region][rw] for rw in range(len(domains))} for col in range(2)}\n",
    "                chi2_region_expected[region][rw][col]=exp[region][col][rw]\n",
    "                obs[region]={col: {rw: chi2_region[region][rw][col] for rw in range(len(domains))} for col in range(2)}\n",
    "                differences[region]={col: {rw: ((obs[region][col][rw]-exp[region][col][rw])**2/exp[region][col][rw]) for rw in range(len(domains))} for col in range(2)}\n",
    "                X2[region]=sum(differences[region][0].values())+sum(differences[region][1].values())"
   ]
  },
  {
   "cell_type": "code",
   "execution_count": null,
   "metadata": {
    "collapsed": false,
    "deletable": true,
    "editable": true
   },
   "outputs": [],
   "source": [
    "if X2 < 1.635:\n",
    "    print 'Cingulum_Ant_L_2:','Reject null'\n",
    "else:\n",
    "    print 'Cingulum_Ant_L_2:','Do not reject null'"
   ]
  },
  {
   "cell_type": "code",
   "execution_count": null,
   "metadata": {
    "collapsed": false,
    "deletable": true,
    "editable": true
   },
   "outputs": [],
   "source": [
    "test={}\n",
    "for x in domains:\n",
    "    for region in region_all_domainkeys[x].keys():\n",
    "        test[x]={module: module_domain_keys[x][module].values() }\n",
    "        #test[x]=(brainmap.number_of_contrasts(region_all_domainkeys[x].values()))"
   ]
  },
  {
   "cell_type": "code",
   "execution_count": null,
   "metadata": {
    "collapsed": false,
    "deletable": true,
    "editable": true
   },
   "outputs": [],
   "source": [
    "region_all_domainkeys[x].values()"
   ]
  },
  {
   "cell_type": "code",
   "execution_count": null,
   "metadata": {
    "collapsed": false,
    "deletable": true,
    "editable": true
   },
   "outputs": [],
   "source": [
    "len(set(test))"
   ]
  },
  {
   "cell_type": "code",
   "execution_count": null,
   "metadata": {
    "collapsed": true,
    "deletable": true,
    "editable": true
   },
   "outputs": [],
   "source": [
    "foo=[]\n",
    "for v in range(len(module_domain_keys['Attention'][0].values())):\n",
    "    foo.append(module_domain_keys['Attention'][0].values()[v][z])"
   ]
  },
  {
   "cell_type": "code",
   "execution_count": null,
   "metadata": {
    "collapsed": true,
    "deletable": true,
    "editable": true
   },
   "outputs": [],
   "source": [
    "module_domain_keys"
   ]
  },
  {
   "cell_type": "code",
   "execution_count": null,
   "metadata": {
    "collapsed": true,
    "deletable": true,
    "editable": true
   },
   "outputs": [],
   "source": [
    "x='C1.csv\\n'\n",
    "dkey_codes=[]\n",
    "fil =datadir+x[:-1]\n",
    "df = pd.read_csv(fil, names = ['zero','one','two', 'three','four','five','six','seven','eight', 'nine'])\n",
    "true_only= df[df['zero']>0]\n",
    "one_col = true_only['one']\n",
    "five_col = true_only['five']\n",
    "dkey_codes.append(one_col.map(str).values + five_col.map(str).values)"
   ]
  },
  {
   "cell_type": "markdown",
   "metadata": {
    "deletable": true,
    "editable": true
   },
   "source": [
    "# Influence Graph"
   ]
  },
  {
   "cell_type": "code",
   "execution_count": 17,
   "metadata": {
    "collapsed": false,
    "deletable": true,
    "editable": true
   },
   "outputs": [],
   "source": [
    "domain_filtered_keycodes['Base']=key_codes"
   ]
  },
  {
   "cell_type": "code",
   "execution_count": 18,
   "metadata": {
    "collapsed": true,
    "deletable": true,
    "editable": true
   },
   "outputs": [],
   "source": [
    "domains.remove('Rest')"
   ]
  },
  {
   "cell_type": "code",
   "execution_count": 19,
   "metadata": {
    "collapsed": false,
    "deletable": true,
    "editable": true
   },
   "outputs": [
    {
     "name": "stderr",
     "output_type": "stream",
     "text": [
      "brainmaptools.py:312: RuntimeWarning: invalid value encountered in divide\n",
      "  a=n_coactive_mat/diagonal[:, np.newaxis] #dividing by row\n",
      "brainmaptools.py:313: RuntimeWarning: invalid value encountered in divide\n",
      "  b=n_coactive_mat/diagonal #dividing by column\n",
      "brainmaptools.py:320: RuntimeWarning: invalid value encountered in greater\n",
      "  influence_di_mat=influence_mat*(influence_mat>0)\n"
     ]
    }
   ],
   "source": [
    "influence_G={}\n",
    "influence_matrix={}\n",
    "for x in domains: \n",
    "    influence_matrix[x]=brainmap.build_influence_digraph(brainmap.build_n_coactives_array(domain_filtered_keycodes[x]))\n",
    "    influence_G[x]=nx.relabel_nodes(influence_matrix[x],relabel_dict)"
   ]
  },
  {
   "cell_type": "code",
   "execution_count": null,
   "metadata": {
    "collapsed": false,
    "deletable": true,
    "editable": true
   },
   "outputs": [],
   "source": [
    "directed_edge=pd.DataFrame(nx.to_numpy_matrix(influence_G['Base']))\n",
    "directed_edge.to_csv('/Users/owner/Desktop/BrainImagingViewer/BrainNetViewer_20171031/Data/EdgeFiles/Influence/CSV/Influence_edge.csv', header=False, index=False, index_label=False)\n",
    "csv_file = '/Users/owner/Desktop/BrainImagingViewer/BrainNetViewer_20171031/Data/EdgeFiles/Influence/CSV/Influence_edge.csv'\n",
    "txt_file = '/Users/owner/Desktop/BrainImagingViewer/BrainNetViewer_20171031/Data/EdgeFiles/Influence/Edges/Influence_edge.edge'\n",
    "with open(txt_file, \"w\") as my_output_file:\n",
    "    with open(csv_file, \"r\") as my_input_file:\n",
    "        [ my_output_file.write(\" \".join(row)+'\\n') for row in csv.reader(my_input_file)]\n",
    "    my_output_file.close()"
   ]
  },
  {
   "cell_type": "code",
   "execution_count": 20,
   "metadata": {
    "collapsed": true,
    "deletable": true,
    "editable": true
   },
   "outputs": [],
   "source": [
    "number_influencers={node: len(influence_G['Base'].predecessors(node)) for node in influence_G['Base'].nodes()}"
   ]
  },
  {
   "cell_type": "code",
   "execution_count": 21,
   "metadata": {
    "collapsed": false,
    "deletable": true,
    "editable": true
   },
   "outputs": [],
   "source": [
    "number_successors={node: len(influence_G['Base'].successors(node)) for node in influence_G['Base'].nodes()}"
   ]
  },
  {
   "cell_type": "code",
   "execution_count": 22,
   "metadata": {
    "collapsed": true,
    "deletable": true,
    "editable": true
   },
   "outputs": [
    {
     "name": "stdout",
     "output_type": "stream",
     "text": [
      "Precentral_R_3 : 23\n",
      "Frontal_Sup_L_6 : 37\n",
      "Precentral_R_12 : 46\n",
      "Frontal_Mid_Orb_R_1 : 84\n",
      "Frontal_Sup_R_10 : 84\n",
      "Frontal_Sup_R_11 : 63\n",
      "Frontal_Mid_L_1 : 45\n"
     ]
    }
   ],
   "source": [
    "for key in number_influencers:\n",
    "    if number_influencers[key] == 0:\n",
    "        print key,':', number_successors[key]"
   ]
  },
  {
   "cell_type": "code",
   "execution_count": 23,
   "metadata": {
    "collapsed": true,
    "deletable": true,
    "editable": true
   },
   "outputs": [
    {
     "name": "stdout",
     "output_type": "stream",
     "text": [
      "Frontal_Mid_L_6\n"
     ]
    }
   ],
   "source": [
    "for node in number_successors:\n",
    "    if number_successors[node] == 124:\n",
    "        print node"
   ]
  },
  {
   "cell_type": "code",
   "execution_count": 24,
   "metadata": {
    "collapsed": false,
    "deletable": true,
    "editable": true
   },
   "outputs": [],
   "source": [
    "compiled_list=[]\n",
    "for region in relabel_dict.values():\n",
    "    compiled_list.append(region[:-1])\n",
    "compiled_list=set(compiled_list)\n",
    "compiled_list=[x for x in compiled_list if not any(c.isdigit() for c in x)]\n",
    "compiled_list=sorted(compiled_list)"
   ]
  },
  {
   "cell_type": "code",
   "execution_count": 25,
   "metadata": {
    "collapsed": false,
    "deletable": true,
    "editable": true
   },
   "outputs": [],
   "source": [
    "compiled_region_dict={}\n",
    "for substring in compiled_list:\n",
    "    for region in relabel_dict.values():\n",
    "        if substring in region:\n",
    "            compiled_region_dict.setdefault(substring, []).append(region)"
   ]
  },
  {
   "cell_type": "code",
   "execution_count": 26,
   "metadata": {
    "collapsed": false,
    "deletable": true,
    "editable": true
   },
   "outputs": [],
   "source": [
    "successor_dict={node: influence_G['Base'].successors(node) for node in influence_G['Base'].nodes()}"
   ]
  },
  {
   "cell_type": "code",
   "execution_count": 27,
   "metadata": {
    "collapsed": false,
    "deletable": true,
    "editable": true
   },
   "outputs": [],
   "source": [
    "for influencer in successor_dict.keys():\n",
    "    successor_dict[influencer].append(influencer)"
   ]
  },
  {
   "cell_type": "code",
   "execution_count": 28,
   "metadata": {
    "collapsed": true,
    "deletable": true,
    "editable": true
   },
   "outputs": [],
   "source": [
    "parent_region_dict={}\n",
    "for key in compiled_region_dict.keys():\n",
    "    for subregion in successor_dict.keys():\n",
    "        if key in subregion:\n",
    "            parent_region_dict.setdefault(key, []).append(successor_dict[subregion])"
   ]
  },
  {
   "cell_type": "code",
   "execution_count": 29,
   "metadata": {
    "collapsed": true,
    "deletable": true,
    "editable": true
   },
   "outputs": [],
   "source": [
    "parent_final ={parent: [item for sublist in parent_region_dict[parent] for item in sublist] for parent in parent_region_dict.keys()}"
   ]
  },
  {
   "cell_type": "code",
   "execution_count": 47,
   "metadata": {
    "collapsed": false,
    "deletable": true,
    "editable": true
   },
   "outputs": [],
   "source": [
    "subnetwork={parent: influence_G['Base'].subgraph(set(parent_final[parent])) for parent in parent_final.keys()}"
   ]
  },
  {
   "cell_type": "code",
   "execution_count": 56,
   "metadata": {
    "collapsed": false,
    "deletable": true,
    "editable": true,
    "scrolled": true
   },
   "outputs": [],
   "source": [
    "for parent in compiled_region_dict.keys():\n",
    "    for edge in subnetwork[parent].edges():\n",
    "        if parent not in edge[0] and parent not in edge[1]:\n",
    "            subnetwork[parent].remove_edge(edge[0], edge[1])\n",
    "            brainmap.remove_edgeless_nodes(subnetwork[parent])\n",
    "        for subregion in subnetwork[parent].nodes():\n",
    "            if parent in subregion:\n",
    "                for pred in subnetwork[parent].predecessors(subregion):\n",
    "                    subnetwork[parent].remove_edge(pred, subregion)\n",
    "                    brainmap.remove_edgeless_nodes(subnetwork[parent])"
   ]
  },
  {
   "cell_type": "code",
   "execution_count": 149,
   "metadata": {
    "collapsed": false,
    "deletable": true,
    "editable": true
   },
   "outputs": [],
   "source": [
    "thresh=[0.06, 0.07, 0.08, 0.09, 0.1]"
   ]
  },
  {
   "cell_type": "code",
   "execution_count": 150,
   "metadata": {
    "collapsed": false,
    "deletable": true,
    "editable": true
   },
   "outputs": [],
   "source": [
    "subnet_cost={parent: {cost: brainmap.applycost_to_g(influence_G['Base'], cost) for cost in thresh} for parent in subnetwork.keys()}"
   ]
  },
  {
   "cell_type": "code",
   "execution_count": 151,
   "metadata": {
    "collapsed": false,
    "deletable": true,
    "editable": true
   },
   "outputs": [],
   "source": [
    "for parent in subnet_cost.keys():\n",
    "    for cost in subnet_cost[parent].keys():\n",
    "        for edge in subnet_cost[parent][cost].edges():\n",
    "            if parent not in edge[0] and parent not in edge[1]:\n",
    "                subnet_cost[parent][cost].remove_edge(edge[0], edge[1])\n",
    "                brainmap.remove_edgeless_nodes(subnet_cost[parent][cost])\n",
    "            for subregion in subnet_cost[parent][cost].nodes():\n",
    "                if parent in subregion:\n",
    "                    for pred in subnet_cost[parent][cost].predecessors(subregion):\n",
    "                        subnet_cost[parent][cost].remove_edge(pred, subregion)\n",
    "                        brainmap.remove_edgeless_nodes(subnet_cost[parent][cost])"
   ]
  },
  {
   "cell_type": "code",
   "execution_count": 152,
   "metadata": {
    "collapsed": false,
    "deletable": true,
    "editable": true
   },
   "outputs": [],
   "source": [
    "dataf=pd.read_csv('/Users/owner/Desktop/BrainImagingViewer/BrainNetViewer_20171031/Data/NodeFiles/CSV/Label_coordinates.csv', header=None, names=['x','y','z','regions'])\n",
    "dataf.insert(4,'type',0,True)\n",
    "dataf.insert(5,'size',0,True)\n",
    "dataf.insert(6,'nodes',0,True)\n",
    "dataf=dataf[['x','y','z','type','size','regions','nodes']]"
   ]
  },
  {
   "cell_type": "code",
   "execution_count": 178,
   "metadata": {
    "collapsed": false,
    "deletable": true,
    "editable": true
   },
   "outputs": [
    {
     "name": "stdout",
     "output_type": "stream",
     "text": [
      "Rolandic_Oper_L_ Dataframe at 0.06 is empty.\n"
     ]
    }
   ],
   "source": [
    "influencedf={parent: {cost: pd.read_csv('/Users/owner/Desktop/BrainImagingViewer/BrainNetViewer_20171031/Data/NodeFiles/CSV/Label_coordinates.csv', header=None, names=['x','y','z','regions']) for cost in subnet_cost[parent].keys()} for parent in subnet_cost.keys()}\n",
    "sortnodes={parent: {cost: dict(zip(subnet_cost[parent][cost].nodes(),range(subnet_cost[parent][cost].number_of_nodes()))) for cost in subnet_cost[parent].keys()} for parent in subnet_cost.keys()}\n",
    "for parent in subnet_cost.keys():\n",
    "    for cost in subnet_cost[parent].keys():\n",
    "        influencedf[parent][cost]=pd.read_csv('/Users/owner/Desktop/BrainImagingViewer/BrainNetViewer_20171031/Data/NodeFiles/CSV/Label_coordinates.csv', header=None, names=['x','y','z','regions'])\n",
    "        influencedf[parent][cost].insert(4,'type',0,True)\n",
    "        influencedf[parent][cost].insert(5,'size',0,True)\n",
    "        influencedf[parent][cost].insert(6,'nodes',0,True)\n",
    "        influencedf[parent][cost]=influencedf[parent][cost][['x','y','z','type','size','regions','nodes']]\n",
    "        for region in subnet_cost[parent][cost].nodes():\n",
    "            for n in range(len(influencedf[parent][cost])):\n",
    "                if region == influencedf[parent][cost].loc[n,'regions']:\n",
    "                    influencedf[parent][cost].loc[n,'nodes']=region\n",
    "                    influencedf[parent][cost].loc[n, 'size']=0\n",
    "                    if parent in region:\n",
    "                        influencedf[parent][cost].loc[n, 'type']=1\n",
    "        influencedf[parent][cost]=influencedf[parent][cost][['x','y','z','type','size','nodes']]\n",
    "        influencedf[parent][cost]=influencedf[parent][cost][influencedf[parent][cost].nodes != 0]\n",
    "        influencedf[parent][cost]['sorted_nodes']=influencedf[parent][cost]['nodes'].map(sortnodes[parent][cost])\n",
    "        influencedf[parent][cost].sort_values(['sorted_nodes'], ascending=True, inplace=True)\n",
    "        influencedf[parent][cost].drop('sorted_nodes', 1, inplace=True)\n",
    "        influencedf[parent][cost].index=range(len(influencedf[parent][cost]))\n",
    "        outdir='/Users/owner/Desktop/BrainImagingViewer/BrainNetViewer_20171031/Data/NodeFiles/Influence/CSV/'\n",
    "        if influencedf[parent][cost].empty == True:\n",
    "            print ('{} Dataframe at cost {} is empty.'.format(parent, cost))\n",
    "        else:\n",
    "            filename=parent+str(cost)+'_Influences.csv'\n",
    "            influencedf[parent][cost].to_csv(outdir+filename, header=False, index=False, index_label=False)"
   ]
  },
  {
   "cell_type": "code",
   "execution_count": 179,
   "metadata": {
    "collapsed": false,
    "deletable": true,
    "editable": true
   },
   "outputs": [],
   "source": [
    "for parent in subnet_cost.keys():\n",
    "    for cost in subnet_cost[parent].keys():\n",
    "        csv_file ='/Users/owner/Desktop/BrainImagingViewer/BrainNetViewer_20171031/Data/NodeFiles/Influence/CSV/'+parent+str(cost)+'_Influences.csv'\n",
    "        if os.path.isfile(csv_file):\n",
    "            txt_file = '/Users/owner/Desktop/BrainImagingViewer/BrainNetViewer_20171031/Data/NodeFiles/Influence/'+parent+str(cost)+'_Influences.node'\n",
    "            with open(txt_file, \"w\") as my_output_file:\n",
    "                with open(csv_file, \"r\") as my_input_file:\n",
    "                    [ my_output_file.write(\" \".join(row)+'\\n') for row in csv.reader(my_input_file)]\n",
    "                my_output_file.close()"
   ]
  },
  {
   "cell_type": "code",
   "execution_count": 181,
   "metadata": {
    "collapsed": false,
    "deletable": true,
    "editable": true
   },
   "outputs": [
    {
     "name": "stdout",
     "output_type": "stream",
     "text": [
      "Rolandic_Oper_L_ Dataframe at cost 0.06 is empty.\n"
     ]
    }
   ],
   "source": [
    "for parent in subnet_cost.keys():\n",
    "    for cost in subnet_cost[parent].keys():\n",
    "        if influencedf[parent][cost].empty == True:\n",
    "            print ('{} Dataframe at cost {} is empty.'.format(parent, cost))\n",
    "        else:\n",
    "            outdir='/Users/owner/Desktop/BrainImagingViewer/BrainNetViewer_20171031/Data/EdgeFiles/Influence/Edges/'\n",
    "            filename=parent+str(cost)+'_Influence.edge'\n",
    "            np.savetxt(outdir+filename, np.rot90(nx.to_numpy_matrix(subnet_cost[parent][cost])), delimiter=\" \" )"
   ]
  }
 ],
 "metadata": {
  "kernelspec": {
   "display_name": "Python 2",
   "language": "python",
   "name": "python2"
  },
  "language_info": {
   "codemirror_mode": {
    "name": "ipython",
    "version": 2
   },
   "file_extension": ".py",
   "mimetype": "text/x-python",
   "name": "python",
   "nbconvert_exporter": "python",
   "pygments_lexer": "ipython2",
   "version": "2.7.11"
  }
 },
 "nbformat": 4,
 "nbformat_minor": 0
}
